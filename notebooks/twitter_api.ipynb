{
 "cells": [
  {
   "attachments": {},
   "cell_type": "markdown",
   "metadata": {},
   "source": [
    "# Twitter API test"
   ]
  },
  {
   "cell_type": "code",
   "execution_count": 1,
   "metadata": {},
   "outputs": [],
   "source": [
    "import os\n",
    "import requests\n",
    "from pathlib import Path\n",
    "import json\n",
    "import tomllib\n",
    "from dotenv import load_dotenv"
   ]
  },
  {
   "cell_type": "code",
   "execution_count": 2,
   "metadata": {},
   "outputs": [
    {
     "data": {
      "text/plain": [
       "True"
      ]
     },
     "execution_count": 2,
     "metadata": {},
     "output_type": "execute_result"
    }
   ],
   "source": [
    "dotenv_file = Path('../.env')\n",
    "load_dotenv(dotenv_file)"
   ]
  },
  {
   "cell_type": "code",
   "execution_count": 3,
   "metadata": {},
   "outputs": [],
   "source": [
    "TWITTER_API_KEY = os.getenv('TWITTER_API_KEY')\n",
    "TWITTER_API_SECRET = os.getenv('TWITTER_API_SECRET')\n",
    "TWITTER_BEARER_TOKEN = os.getenv('TWITTER_BEARER_TOKEN')\n",
    "TWITTER_ACCESS_TOKEN = os.getenv('TWITTER_ACCESS_TOKEN')\n",
    "TWITTER_ACCESS_SECRET = os.getenv('TWITTER_ACCESS_SECRET')"
   ]
  },
  {
   "attachments": {},
   "cell_type": "markdown",
   "metadata": {},
   "source": [
    "## via HTTP request\n",
    "\n",
    "### with cURL\n",
    "\n",
    "```bash\n",
    "curl \\\n",
    "    --request GET 'https://api.twitter.com/2/tweets/search/recent?query=from:twitterdev' \\\n",
    "    --header 'Authorization: Bearer $BEARER_TOKEN'\n",
    "```"
   ]
  },
  {
   "cell_type": "code",
   "execution_count": 5,
   "metadata": {},
   "outputs": [
    {
     "name": "stdout",
     "output_type": "stream",
     "text": [
      "{\n",
      "    \"client_id\": \"27669589\",\n",
      "    \"detail\": \"When authenticating requests to the Twitter API v2 endpoints, you must use keys and tokens from a Twitter developer App that is attached to a Project. You can create a project via the developer portal.\",\n",
      "    \"reason\": \"client-not-enrolled\",\n",
      "    \"registration_url\": \"https://developer.twitter.com/en/docs/projects/overview\",\n",
      "    \"required_enrollment\": \"Appropriate Level of API Access\",\n",
      "    \"title\": \"Client Forbidden\",\n",
      "    \"type\": \"https://api.twitter.com/2/problems/client-forbidden\"\n",
      "}\n"
     ]
    }
   ],
   "source": [
    "def bearer_oauth(request):\n",
    "    \"\"\"\n",
    "    Callable method required by bearer token auth\n",
    "    \"\"\"\n",
    "    request.headers['Authorization'] = f'Bearer {TWITTER_BEARER_TOKEN}'\n",
    "    request.headers['User-Agent'] = \"v2RecentSearchPython\"\n",
    "    return request\n",
    "\n",
    "search_url = \"https://api.twitter.com/2/tweets/search/recent\"\n",
    "# Optional params: start_time,end_time,since_id,until_id,max_results,next_token,\n",
    "# expansions,tweet.fields,media.fields,poll.fields,place.fields,user.fields\n",
    "query_params = {'query': '(from:twitterdev -is:retweet) OR #twitterdev','tweet.fields': 'author_id'}\n",
    "\n",
    "response = requests.get(\n",
    "    url=search_url,\n",
    "    auth=bearer_oauth,\n",
    "    params=query_params,\n",
    ")\n",
    "\n",
    "json_response = response.json()\n",
    "print(json.dumps(json_response, indent=4, sort_keys=True))"
   ]
  },
  {
   "attachments": {},
   "cell_type": "markdown",
   "metadata": {},
   "source": [
    "### Posting with OAuth1\n",
    "\n",
    "[Link to sample code](https://github.com/twitterdev/Twitter-API-v2-sample-code/blob/main/Manage-Tweets/create_tweet.py)"
   ]
  },
  {
   "cell_type": "code",
   "execution_count": null,
   "metadata": {},
   "outputs": [],
   "source": []
  },
  {
   "attachments": {},
   "cell_type": "markdown",
   "metadata": {},
   "source": [
    "### Python Wrappers for Twitter API v2\n",
    "\n",
    "- [tweepy](https://github.com/tweepy/tweepy)\n",
    "  - docs for OAuth2\n",
    "- [python-twitter](https://github.com/sns-sdks/python-twitter)"
   ]
  }
 ],
 "metadata": {
  "kernelspec": {
   "display_name": "asean-flight-logs-S6It3xvH-py3.11",
   "language": "python",
   "name": "python3"
  },
  "language_info": {
   "codemirror_mode": {
    "name": "ipython",
    "version": 3
   },
   "file_extension": ".py",
   "mimetype": "text/x-python",
   "name": "python",
   "nbconvert_exporter": "python",
   "pygments_lexer": "ipython3",
   "version": "3.11.4"
  },
  "orig_nbformat": 4
 },
 "nbformat": 4,
 "nbformat_minor": 2
}
