{
 "cells": [
  {
   "cell_type": "markdown",
   "id": "2c54e427-dfa8-4241-9213-b448f2611de8",
   "metadata": {},
   "source": [
    "# Jinja2 Templating and SQL Queries\n",
    "\n",
    "Parcel out the SQL from our python modules and import them as a templatable query using jinja. Also used in terraform and dbt "
   ]
  },
  {
   "cell_type": "code",
   "execution_count": 3,
   "id": "fc2c3a23-b5b9-4989-b421-3232014c2781",
   "metadata": {},
   "outputs": [],
   "source": [
    "from jinja2 import Template\n",
    "import sqlite3\n",
    "from pathlib import Path"
   ]
  },
  {
   "cell_type": "code",
   "execution_count": 5,
   "id": "226806af-21e2-4000-8259-027367c00a10",
   "metadata": {},
   "outputs": [],
   "source": [
    "data_dir = Path(\"../data\")\n",
    "db_conn = sqlite3.connect(data_dir / \"flights.db\")"
   ]
  },
  {
   "cell_type": "markdown",
   "id": "6f11f502-84d5-4bc3-8d15-ea669e7ab03c",
   "metadata": {},
   "source": [
    "## Feeding string directly to `Template`"
   ]
  },
  {
   "cell_type": "code",
   "execution_count": 21,
   "id": "84a6d2bc-1529-470f-a37b-2bf6033626d6",
   "metadata": {},
   "outputs": [
    {
     "name": "stdout",
     "output_type": "stream",
     "text": [
      "\n",
      "        SELECT \n",
      "            ROW_NUMBER() OVER (ORDER BY CAST(arrival__delay AS INTEGER) DESC) delay_rank,\n",
      "            flight__iata,\n",
      "            REPLACE(\n",
      "            REPLACE(\n",
      "            REPLACE(arrival__airport, ' International Airport', ''), \n",
      "            ' International', ''),\n",
      "            ' Airport', '') AS arrival__airport,\n",
      "            REPLACE(\n",
      "            REPLACE(\n",
      "            REPLACE(departure__airport, ' International Airport', ''),\n",
      "            ' International', ''),\n",
      "            ' Airport', '') AS departure__airport,\n",
      "            arrival__delay\n",
      "        FROM import_flight_records\n",
      "        WHERE DATE(arrival__scheduled) = '2023-09-24'\n",
      "        ORDER BY delay_rank\n",
      "        LIMIT 3;\n",
      "    \n"
     ]
    }
   ],
   "source": [
    "sql = \"\"\"\n",
    "        SELECT \n",
    "            ROW_NUMBER() OVER (ORDER BY CAST({{a_delay}} AS INTEGER) DESC) delay_rank,\n",
    "            {{flight_num}},\n",
    "            REPLACE(\n",
    "            REPLACE(\n",
    "            REPLACE({{a_port}}, ' International Airport', ''), \n",
    "            ' International', ''),\n",
    "            ' Airport', '') AS {{a_port}},\n",
    "            REPLACE(\n",
    "            REPLACE(\n",
    "            REPLACE({{d_port}}, ' International Airport', ''),\n",
    "            ' International', ''),\n",
    "            ' Airport', '') AS {{d_port}},\n",
    "            {{a_delay}}\n",
    "        FROM {{tbl_name}}\n",
    "        WHERE DATE({{a_sched}}) = '{{str_date}}'\n",
    "        ORDER BY delay_rank\n",
    "        LIMIT {{num_delay}};\n",
    "    \"\"\"\n",
    "sep = \"__\"\n",
    "params = dict(\n",
    "    flight_num=f\"flight{sep}iata\",\n",
    "    a_port=f\"arrival{sep}airport\",\n",
    "    a_delay=f\"arrival{sep}delay\",\n",
    "    a_sched=f\"arrival{sep}scheduled\",\n",
    "    d_port=f\"departure{sep}airport\",\n",
    "    num_delay=3,\n",
    "    str_date=\"2023-09-24\",\n",
    "    tbl_name=\"import_flight_records\",\n",
    "    not_used=\"not used\",\n",
    ")\n",
    "rendered_sql = Template(sql).render(params)\n",
    "print(rendered_sql)"
   ]
  },
  {
   "cell_type": "code",
   "execution_count": 14,
   "id": "84424e22-b5c1-4c2a-8985-45e00874d17a",
   "metadata": {},
   "outputs": [
    {
     "data": {
      "text/plain": [
       "[(1, 'MH9663', 'Los Angeles', \"Chicago O'hare\", '197'),\n",
       " (2, 'MH9506', 'John F Kennedy', 'Dallas/Fort Worth', '134'),\n",
       " (3, 'MH9110', \"Chicago O'hare\", 'Haneda', '131')]"
      ]
     },
     "execution_count": 14,
     "metadata": {},
     "output_type": "execute_result"
    }
   ],
   "source": [
    "curs = db_conn.execute(rendered_sql)\n",
    "curs.fetchall()"
   ]
  },
  {
   "cell_type": "markdown",
   "id": "d89d6243-062a-4add-9cd0-df777411d9db",
   "metadata": {},
   "source": [
    "## Importing from template\n",
    "\n",
    "Best practice is to create an `environment` and call `env.get_template('query.sql')`"
   ]
  },
  {
   "cell_type": "code",
   "execution_count": 18,
   "id": "beb109cb-a207-4755-a6d5-9593c6654944",
   "metadata": {},
   "outputs": [],
   "source": [
    "from jinja2 import Environment, FileSystemLoader"
   ]
  },
  {
   "cell_type": "code",
   "execution_count": 19,
   "id": "c02d76bb-9ccf-4b07-beb1-f9b1a99b8926",
   "metadata": {},
   "outputs": [
    {
     "name": "stdout",
     "output_type": "stream",
     "text": [
      "SELECT \n",
      "            ROW_NUMBER() OVER (ORDER BY CAST(arrival__delay AS INTEGER) DESC) delay_rank,\n",
      "            flight__iata,\n",
      "            REPLACE(\n",
      "            REPLACE(\n",
      "            REPLACE(arrival__airport, ' International Airport', ''), \n",
      "            ' International', ''),\n",
      "            ' Airport', '') AS arrival__airport,\n",
      "            REPLACE(\n",
      "            REPLACE(\n",
      "            REPLACE(departure__airport, ' International Airport', ''),\n",
      "            ' International', ''),\n",
      "            ' Airport', '') AS departure__airport,\n",
      "            arrival__delay\n",
      "        FROM import_flight_records\n",
      "        WHERE DATE(arrival__scheduled) = '2023-09-24'\n",
      "        ORDER BY delay_rank\n",
      "        LIMIT 3;\n"
     ]
    }
   ],
   "source": [
    "env = Environment(loader=FileSystemLoader(\"../sql_templates\"))\n",
    "template = env.get_template(\"delayed.sql\")\n",
    "rendered_temp = template.render(params)\n",
    "print(rendered_temp)"
   ]
  },
  {
   "cell_type": "code",
   "execution_count": 20,
   "id": "9decf6c4-8c65-4f2c-b8a3-41bb83366580",
   "metadata": {},
   "outputs": [
    {
     "data": {
      "text/plain": [
       "[(1, 'MH9663', 'Los Angeles', \"Chicago O'hare\", '197'),\n",
       " (2, 'MH9506', 'John F Kennedy', 'Dallas/Fort Worth', '134'),\n",
       " (3, 'MH9110', \"Chicago O'hare\", 'Haneda', '131')]"
      ]
     },
     "execution_count": 20,
     "metadata": {},
     "output_type": "execute_result"
    }
   ],
   "source": [
    "curs = db_conn.execute(rendered_temp)\n",
    "curs.fetchall()"
   ]
  },
  {
   "cell_type": "markdown",
   "id": "579fd126-eb0b-4fae-9f5a-41638dc798eb",
   "metadata": {},
   "source": [
    "## Flow control with jinja\n",
    "\n",
    "[for loop and if/else showcased here](https://geoffruddock.com/sql-jinja-templating/#a-usecase-for-templating-your-sql-queries)"
   ]
  },
  {
   "cell_type": "code",
   "execution_count": null,
   "id": "32942fdc-62dc-4a16-9594-a5ee45d7b8a0",
   "metadata": {},
   "outputs": [],
   "source": []
  }
 ],
 "metadata": {
  "kernelspec": {
   "display_name": "Python 3 (ipykernel)",
   "language": "python",
   "name": "python3"
  },
  "language_info": {
   "codemirror_mode": {
    "name": "ipython",
    "version": 3
   },
   "file_extension": ".py",
   "mimetype": "text/x-python",
   "name": "python",
   "nbconvert_exporter": "python",
   "pygments_lexer": "ipython3",
   "version": "3.11.4"
  }
 },
 "nbformat": 4,
 "nbformat_minor": 5
}
