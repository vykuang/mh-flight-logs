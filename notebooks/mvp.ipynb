{
 "cells": [
  {
   "cell_type": "markdown",
   "id": "db42be09-cd56-4bf3-90ba-3a304c00b545",
   "metadata": {},
   "source": [
    "# Putting it all together\n",
    "\n",
    "1. call aviationstack API\n",
    "2. save json response to sqlite3 db\n",
    "3. extract data from response\n",
    "4. tweet data"
   ]
  },
  {
   "cell_type": "markdown",
   "id": "4f6c70dc-38cf-43dc-b4d0-16c0c0fbeb9f",
   "metadata": {},
   "source": [
    "## Calling `aviationstack` API"
   ]
  },
  {
   "cell_type": "code",
   "execution_count": 4,
   "id": "17f33330-3fe1-436c-af7b-cdc4e7510b6d",
   "metadata": {},
   "outputs": [],
   "source": [
    "import os\n",
    "import requests\n",
    "import sqlite3\n",
    "import json\n",
    "from pathlib import Path\n",
    "from dotenv import load_dotenv\n",
    "from datetime import date\n",
    "from time import sleep"
   ]
  },
  {
   "cell_type": "code",
   "execution_count": 7,
   "id": "3ac62800-824a-42e3-8ad3-58f6d83e72a0",
   "metadata": {},
   "outputs": [
    {
     "data": {
      "text/plain": [
       "'2023-09-16'"
      ]
     },
     "execution_count": 7,
     "metadata": {},
     "output_type": "execute_result"
    }
   ],
   "source": [
    "str(date.today())"
   ]
  },
  {
   "cell_type": "code",
   "execution_count": null,
   "id": "626b3e8f-8e43-47aa-92f7-c7401a66ad86",
   "metadata": {},
   "outputs": [],
   "source": [
    "env_path = Path(\"../.env\")\n",
    "load_dotenv(env_path)\n",
    "av_api_key = os.getenv(\"AVIATION_API_KEY\", \"\")\n",
    "av_api_url = \"http://api.aviationstack.com/v1/\"\n",
    "flight_api_url = av_api_url + \"flights\"\n",
    "params = {\n",
    "    \"access_key\": av_api_key,\n",
    "    \"airline_name\": \"Malaysia Airlines\",\n",
    "    \"min_delay_arr\": 1,\n",
    "    # \"flight_date\": \"2023-08-22\",\n",
    "}\n",
    "api_result = requests.get(flight_api_url, params)\n",
    "api_response = api_result.json()"
   ]
  },
  {
   "cell_type": "code",
   "execution_count": 10,
   "id": "c3c9a186-7ed4-4486-bc58-636d71efb4b7",
   "metadata": {},
   "outputs": [],
   "source": [
    "# saving api response locally\n",
    "local_json_path = Path(f\"../data/responses/avstack-{str(date.today())}.json\")\n",
    "with open(local_json_path, \"w\") as j:\n",
    "    j.write(json.dumps(api_response))"
   ]
  },
  {
   "cell_type": "code",
   "execution_count": 11,
   "id": "fea4828e-3f68-4bb1-9966-220c79fed8ce",
   "metadata": {},
   "outputs": [
    {
     "data": {
      "text/plain": [
       "593"
      ]
     },
     "execution_count": 11,
     "metadata": {},
     "output_type": "execute_result"
    }
   ],
   "source": [
    "api_response[\"pagination\"][\"total\"]"
   ]
  },
  {
   "cell_type": "code",
   "execution_count": 12,
   "id": "ae6b399d-b85b-4ef2-8514-222cf4d73904",
   "metadata": {},
   "outputs": [],
   "source": [
    "def get_flight_api(\n",
    "    offset: int = 0,\n",
    "    limit: int = 100,\n",
    "    airline: str = \"Malaysia Airlines\",\n",
    "    min_delay: int = 1,\n",
    "    flight_api_url=\"http://api.aviationstack.com/v1/flights\",\n",
    ") -> dict:\n",
    "    params = {\n",
    "        \"access_key\": av_api_key,  # retrieved from .env, global scope\n",
    "        \"offset\": offset,\n",
    "        \"limit\": limit,\n",
    "        \"airline_name\": airline,\n",
    "        \"min_delay_arr\": min_delay,\n",
    "    }\n",
    "    result = requests.get(flight_api_url, params, timeout=5)\n",
    "    return result.json()\n",
    "\n",
    "\n",
    "def write_local_json(api_response: dict, offset: int = 0, limit: int = 100):\n",
    "    local_json_path = Path(\n",
    "        f\"../data/responses/flight-{str(date.today())}-{offset}-{offset+limit}.json\"\n",
    "    )\n",
    "    with open(local_json_path, \"w\") as j:\n",
    "        j.write(json.dumps(api_response))\n",
    "        print(f\"saved to {local_json_path}\")\n",
    "    return local_json_path\n",
    "\n",
    "\n",
    "def get_all_delays(\n",
    "    limit: int = 100,\n",
    "    airline: str = \"Malaysia Airlines\",\n",
    "    min_delay: int = 1,\n",
    "    flight_api_url=\"http://api.aviationstack.com/v1/flights\",\n",
    "):\n",
    "    print(f\"retrieving 0th to {limit}th records\")\n",
    "    first = get_flight_api()\n",
    "    write_local_json(first)\n",
    "    retrieved = limit\n",
    "    total = first[\"pagination\"][\"total\"]\n",
    "    print(f\"total: {total}\")\n",
    "    while retrieved < total:\n",
    "        sleep(0.5)\n",
    "        print(f\"retrieving {retrieved}th to {retrieved + limit}th\")\n",
    "        response = get_flight_api(offset=retrieved, limit=limit)\n",
    "        # save response\n",
    "        json_path = write_local_json(response, offset=retrieved)\n",
    "        retrieved += response[\"pagination\"][\"count\"]\n",
    "    return retrieved"
   ]
  },
  {
   "cell_type": "markdown",
   "id": "f42645da-aa92-4d4b-bbc8-c3dee32d90f0",
   "metadata": {},
   "source": [
    "## Insert response into sqlite\n",
    "\n",
    "1. Flatten the json response \n",
    "1. create a table if it doesn't already exist.\n",
    "    - primary keys:\n",
    "      - `flight__iata` \n",
    "      - `departure__iata`\n",
    "      - `departure__scheduled`\n",
    "      - `arrival__iata`\n",
    "      - `arrival__scheduled`\n",
    "    - Create schema by comparing the keys of all the entries\n",
    "1. Upsert entries into the database\n",
    "    "
   ]
  },
  {
   "cell_type": "code",
   "execution_count": 15,
   "id": "23408950-41ab-4d1c-acc3-3635912ea5c8",
   "metadata": {},
   "outputs": [],
   "source": [
    "from collections.abc import MutableMapping\n",
    "\n",
    "\n",
    "def json_flatten(data: dict, parent_key=\"\", sep=\"_\"):\n",
    "    \"\"\"\n",
    "    Normalizes json, if nested\n",
    "    \"\"\"\n",
    "    items = []\n",
    "    for key, val in data.items():\n",
    "        new_key = parent_key + sep + key if parent_key else key\n",
    "        if isinstance(val, MutableMapping):\n",
    "            items.extend(json_flatten(val, parent_key=new_key, sep=sep).items())\n",
    "        else:\n",
    "            items.append((new_key, val))\n",
    "\n",
    "    # creates {key: val} from (key, val) tuple\n",
    "    return dict(items)\n",
    "\n",
    "\n",
    "def issubstring(text: str, checklist, sep=\"__\") -> bool:\n",
    "    \"\"\"\n",
    "    Returns True for overlapped keys\n",
    "    \"\"\"\n",
    "    for check in checklist:\n",
    "        if text + sep in check:\n",
    "            return True\n",
    "    return False\n",
    "\n",
    "\n",
    "def find_json_schema(entries: list[dict]) -> list:\n",
    "    fields = set()\n",
    "    for entry in entries:\n",
    "        fields.update(entry.keys())\n",
    "\n",
    "    fields_uniq = [field for field in fields if not issubstring(field, fields)]\n",
    "    return fields_uniq"
   ]
  },
  {
   "cell_type": "markdown",
   "id": "249b2b31-8b38-49be-9133-a2c2920b3245",
   "metadata": {},
   "source": [
    "Find schema by comparing keys from all entries"
   ]
  },
  {
   "cell_type": "code",
   "execution_count": 32,
   "id": "46f217af-a1ef-45d1-998c-2c8473e30897",
   "metadata": {},
   "outputs": [],
   "source": [
    "json_paths = Path(\"../data/responses\").glob(\"flight-2023-09-16-*.json\")\n",
    "entries = []\n",
    "for json_file in json_paths:\n",
    "    with open(json_file) as j:\n",
    "        flight_page = json.loads(j.read())\n",
    "        json_flat = [json_flatten(nested, sep=\"__\") for nested in flight_page[\"data\"]]\n",
    "        entries.extend(json_flat)\n",
    "\n",
    "schema = find_json_schema(entries)"
   ]
  },
  {
   "cell_type": "code",
   "execution_count": 33,
   "id": "48c66b77-3e07-48ee-a347-f53c8d728b29",
   "metadata": {},
   "outputs": [
    {
     "name": "stdout",
     "output_type": "stream",
     "text": [
      "num cols: 51\n",
      "['live__altitude', 'departure__scheduled', 'flight__number', 'aircraft__icao24', 'departure__terminal', 'live__is_ground', 'live__longitude', 'live__speed_vertical', 'departure__gate', 'arrival__estimated', 'arrival__delay', 'flight__codeshared__airline_iata', 'arrival__icao', 'flight_status', 'arrival__actual_runway', 'flight__codeshared__flight_icao', 'flight__codeshared__flight_number', 'departure__delay', 'arrival__airport', 'departure__estimated_runway', 'flight__codeshared__airline_icao', 'departure__estimated', 'live__speed_horizontal', 'arrival__estimated_runway', 'arrival__terminal', 'flight__codeshared__flight_iata', 'airline__icao', 'departure__airport', 'airline__name', 'arrival__gate', 'flight_date', 'departure__icao', 'departure__actual', 'flight__iata', 'live__latitude', 'flight__icao', 'live__direction', 'live__updated', 'arrival__timezone', 'departure__actual_runway', 'aircraft__icao', 'arrival__scheduled', 'arrival__baggage', 'departure__iata', 'departure__timezone', 'flight__codeshared__airline_name', 'arrival__actual', 'aircraft__registration', 'arrival__iata', 'aircraft__iata', 'airline__iata']\n"
     ]
    }
   ],
   "source": [
    "print(f\"num cols: {len(schema)}\\n{schema}\")"
   ]
  },
  {
   "cell_type": "code",
   "execution_count": null,
   "id": "af7d41d4-64ed-40e0-bbe3-83de5ad984b7",
   "metadata": {},
   "outputs": [],
   "source": []
  }
 ],
 "metadata": {
  "kernelspec": {
   "display_name": "Python 3 (ipykernel)",
   "language": "python",
   "name": "python3"
  },
  "language_info": {
   "codemirror_mode": {
    "name": "ipython",
    "version": 3
   },
   "file_extension": ".py",
   "mimetype": "text/x-python",
   "name": "python",
   "nbconvert_exporter": "python",
   "pygments_lexer": "ipython3",
   "version": "3.11.4"
  }
 },
 "nbformat": 4,
 "nbformat_minor": 5
}
