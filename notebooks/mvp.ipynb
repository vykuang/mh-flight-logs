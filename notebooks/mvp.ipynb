{
 "cells": [
  {
   "cell_type": "markdown",
   "id": "db42be09-cd56-4bf3-90ba-3a304c00b545",
   "metadata": {},
   "source": [
    "# Putting it all together\n",
    "\n",
    "1. call aviationstack API\n",
    "2. save json response to sqlite3 db\n",
    "3. extract data from response\n",
    "4. tweet data"
   ]
  },
  {
   "cell_type": "markdown",
   "id": "4f6c70dc-38cf-43dc-b4d0-16c0c0fbeb9f",
   "metadata": {},
   "source": [
    "## Calling `aviationstack` API"
   ]
  },
  {
   "cell_type": "code",
   "execution_count": 1,
   "id": "17f33330-3fe1-436c-af7b-cdc4e7510b6d",
   "metadata": {},
   "outputs": [],
   "source": [
    "import os\n",
    "import requests\n",
    "import sqlite3\n",
    "import json\n",
    "from pathlib import Path\n",
    "from dotenv import load_dotenv\n",
    "from datetime import date\n",
    "from time import sleep"
   ]
  },
  {
   "cell_type": "code",
   "execution_count": 2,
   "id": "626b3e8f-8e43-47aa-92f7-c7401a66ad86",
   "metadata": {},
   "outputs": [],
   "source": [
    "env_path = Path(\"../.env\")\n",
    "load_dotenv(env_path)\n",
    "av_api_key = os.getenv(\"AVIATION_API_KEY\", \"\")\n",
    "av_api_url = \"http://api.aviationstack.com/v1/\"\n",
    "flight_api_url = av_api_url + \"flights\""
   ]
  },
  {
   "cell_type": "code",
   "execution_count": 12,
   "id": "ae6b399d-b85b-4ef2-8514-222cf4d73904",
   "metadata": {},
   "outputs": [],
   "source": [
    "def get_flight_api(\n",
    "    offset: int = 0,\n",
    "    limit: int = 100,\n",
    "    airline: str = \"Malaysia Airlines\",\n",
    "    min_delay: int = 1,\n",
    "    flight_api_url = \"http://api.aviationstack.com/v1/flights\",\n",
    ") -> dict:\n",
    "    \"\"\"\n",
    "    Requests aviationstack API for flight data\n",
    "    Returns responses in a dict\n",
    "    \"\"\"\n",
    "    params = {\n",
    "        \"access_key\": av_api_key,  # retrieved from .env, global scope\n",
    "        \"offset\": offset,\n",
    "        \"limit\": limit,\n",
    "        \"airline_name\": airline,\n",
    "        \"min_delay_arr\": min_delay,\n",
    "    }\n",
    "    result = requests.get(flight_api_url, params, timeout=5)\n",
    "    return result.json()\n",
    "\n",
    "\n",
    "def write_local_json(api_response: dict, offset: int = 0, limit: int = 100):\n",
    "    \"\"\"\n",
    "    Saves the flight api response as json, to be uploaded to a data lake\n",
    "    \"\"\"\n",
    "    local_json_path = Path(\n",
    "        f\"../data/responses/flight-{str(date.today())}-{offset}-{offset+limit}.json\"\n",
    "    )\n",
    "    with open(local_json_path, \"w\") as j:\n",
    "        json.dump(api_response, j)\n",
    "        print(f\"saved to {local_json_path}\")\n",
    "    return local_json_path\n",
    "\n",
    "\n",
    "def get_all_delays(\n",
    "    limit: int = 100,\n",
    "    airline: str = \"Malaysia Airlines\",\n",
    "    min_delay: int = 1,\n",
    "    flight_api_url=\"http://api.aviationstack.com/v1/flights\",\n",
    "):\n",
    "    responses = []\n",
    "    retrieved = total = 0\n",
    "    while not total or retrieved < total:\n",
    "        sleep(0.5)\n",
    "        print(f\"retrieving {retrieved}th to {retrieved + limit}th\")\n",
    "        responses.append(get_flight_api(offset=retrieved, limit=limit))\n",
    "        # save response\n",
    "        json_path = write_local_json(responses[-1], offset=retrieved)\n",
    "        retrieved += responses[-1][\"pagination\"][\"count\"]\n",
    "        if not total:\n",
    "            total = responses[0]['pagination']['total']\n",
    "            print(f'Total records count: {total}')\n",
    "    return responses"
   ]
  },
  {
   "cell_type": "markdown",
   "id": "2b94694b-7995-4cf2-9dca-c0d2d18eb4e8",
   "metadata": {},
   "source": [
    "## 1. Fetch the responses"
   ]
  },
  {
   "cell_type": "code",
   "execution_count": null,
   "id": "779d70d5-927a-4b60-994a-dd9b4e8022ed",
   "metadata": {},
   "outputs": [],
   "source": [
    "responses = get_all_delays() "
   ]
  },
  {
   "cell_type": "markdown",
   "id": "f42645da-aa92-4d4b-bbc8-c3dee32d90f0",
   "metadata": {},
   "source": [
    "## Insert response into sqlite\n",
    "\n",
    "1. Flatten the json response \n",
    "1. create a table if it doesn't already exist.\n",
    "    - primary keys:\n",
    "      - `flight__iata` \n",
    "      - `departure__iata`\n",
    "      - `departure__scheduled`\n",
    "      - `arrival__iata`\n",
    "    - considered `hashlib.sha` for generating a unique ID from the entire entry, but if the above fields are enough, then let's just use the built-in `PRIMARY KEY` function\n",
    "      - downside is that we're now presuming the fields and separator in our fields\n",
    "      - perhaps just force sep as `__`\n",
    "    - Create schema by comparing the keys of all the entries\n",
    "1. Upsert entries into the database\n",
    "    "
   ]
  },
  {
   "cell_type": "code",
   "execution_count": 4,
   "id": "23408950-41ab-4d1c-acc3-3635912ea5c8",
   "metadata": {},
   "outputs": [],
   "source": [
    "from collections.abc import MutableMapping\n",
    "\n",
    "\n",
    "def json_flatten(data: dict, parent_key=\"\", sep=\"_\"):\n",
    "    \"\"\"\n",
    "    Normalizes json, if nested\n",
    "    \"\"\"\n",
    "    items = []\n",
    "    for key, val in data.items():\n",
    "        new_key = parent_key + sep + key if parent_key else key\n",
    "        if isinstance(val, MutableMapping):\n",
    "            items.extend(json_flatten(val, parent_key=new_key, sep=sep).items())\n",
    "        else:\n",
    "            items.append((new_key, val))\n",
    "\n",
    "    # creates {key: val} from (key, val) tuple\n",
    "    return dict(items)\n",
    "\n",
    "\n",
    "def issubstring(text: str, checklist, sep=\"__\") -> bool:\n",
    "    \"\"\"\n",
    "    Returns True for overlapped keys\n",
    "    \"\"\"\n",
    "    for check in checklist:\n",
    "        if text + sep in check:\n",
    "            return True\n",
    "    return False\n",
    "\n",
    "\n",
    "def find_json_schema(entries: list[dict]) -> list:\n",
    "    fields = set()\n",
    "    for entry in entries:\n",
    "        fields.update(entry.keys())\n",
    "\n",
    "    fields_uniq = [field for field in fields if not issubstring(field, fields)]\n",
    "    return fields_uniq"
   ]
  },
  {
   "cell_type": "markdown",
   "id": "8737ac38-d53b-4f72-a0ed-d327c0ea83ee",
   "metadata": {},
   "source": [
    "## 2 Insert to sqlite db\n",
    "\n",
    "### 2.1 flatten responses"
   ]
  },
  {
   "cell_type": "code",
   "execution_count": 15,
   "id": "46f217af-a1ef-45d1-998c-2c8473e30897",
   "metadata": {},
   "outputs": [],
   "source": [
    "# load previously saved local json\n",
    "json_paths = Path(\"../data/responses\").glob(\"flight-2023-09-16-*.json\")\n",
    "\n",
    "# flatten the nested dicts in the response jsons\n",
    "entries = []\n",
    "for json_file in json_paths:\n",
    "    with open(json_file) as j:\n",
    "        flight_page = json.load(j)\n",
    "        flat = [json_flatten(nested, sep=\"__\") for nested in flight_page[\"data\"]]\n",
    "        entries.extend(flat)\n",
    "\n"
   ]
  },
  {
   "cell_type": "code",
   "execution_count": 62,
   "id": "b4d35e32-f9f9-43a1-857d-c6c65778e9bb",
   "metadata": {},
   "outputs": [],
   "source": [
    "def create_table(\n",
    "    schema: list, \n",
    "    db_conn: sqlite3.Connection,\n",
    "    tbl_name: str = 'import_flight_records', sep = '__'):\n",
    "    \"\"\"\n",
    "    Creates the table in sqlite if it doesn't already exist\n",
    "    \"\"\"\n",
    "    pk = [[\"flight\", \"iata\"],\n",
    "          [\"departure\", \"iata\"],\n",
    "          [\"departure\", \"scheduled\"],\n",
    "          [\"arrival\", \"iata\"]]\n",
    "    pk = [sep.join(field) for field in pk]\n",
    "    if not all([key in schema for key in pk]):\n",
    "        raise ValueError(f\"one of primary keys: {pk} not in schema list\")\n",
    "\n",
    "    ddl = f\"\"\"\n",
    "    CREATE TABLE IF NOT EXISTS {tbl_name} (\n",
    "        {\", \".join([f\"{field} TEXT DEFAULT NULL\" for field in schema])},\n",
    "        PRIMARY KEY ({\", \".join(pk)})\n",
    "    )\"\"\"\n",
    "    db_conn.execute(ddl)\n"
   ]
  },
  {
   "cell_type": "markdown",
   "id": "a4a90be0-5799-4242-8bde-3ecd25641669",
   "metadata": {},
   "source": [
    "### 2.2 Create table [optional]"
   ]
  },
  {
   "cell_type": "code",
   "execution_count": 63,
   "id": "2a56df24-7aa5-4ea5-b298-922721419e56",
   "metadata": {
    "scrolled": true
   },
   "outputs": [],
   "source": [
    "# create table if not exists\n",
    "# find schema\n",
    "schema = find_json_schema(entries)\n",
    "db_conn = sqlite3.connect(\"../data/flights.db\")\n",
    "\n",
    "create_table(schema, db_conn)"
   ]
  },
  {
   "cell_type": "code",
   "execution_count": 61,
   "id": "6b747922-5fc2-4db1-8c72-1e53aa995969",
   "metadata": {},
   "outputs": [
    {
     "data": {
      "text/plain": [
       "[True, True, True, True]"
      ]
     },
     "execution_count": 61,
     "metadata": {},
     "output_type": "execute_result"
    }
   ],
   "source": [
    "sep = '__'\n",
    "pk = [[\"flight\", \"iata\"],\n",
    "          [\"departure\", \"iata\"],\n",
    "          [\"departure\", \"scheduled\"],\n",
    "          [\"arrival\", \"iata\"]]\n",
    "pk = [sep.join(field) for field in pk]\n",
    "[key in schema for key in pk]"
   ]
  },
  {
   "cell_type": "code",
   "execution_count": 40,
   "id": "ea8663f6-19b3-4749-ab47-c4770969d8a4",
   "metadata": {},
   "outputs": [],
   "source": [
    "%load_ext sql"
   ]
  },
  {
   "cell_type": "code",
   "execution_count": 41,
   "id": "139623f1-108e-4bb6-94d6-7801ab5e0c38",
   "metadata": {},
   "outputs": [],
   "source": [
    "%sql sqlite:///../data/flights.db"
   ]
  },
  {
   "cell_type": "code",
   "execution_count": 42,
   "id": "9cc80019-d104-43fb-9252-c4ab65d4b95a",
   "metadata": {
    "scrolled": true
   },
   "outputs": [
    {
     "name": "stdout",
     "output_type": "stream",
     "text": [
      " * sqlite:///../data/flights.db\n",
      "Done.\n"
     ]
    },
    {
     "data": {
      "text/html": [
       "<table>\n",
       "    <thead>\n",
       "        <tr>\n",
       "            <th>type</th>\n",
       "            <th>name</th>\n",
       "            <th>tbl_name</th>\n",
       "            <th>rootpage</th>\n",
       "            <th>sql</th>\n",
       "        </tr>\n",
       "    </thead>\n",
       "    <tbody>\n",
       "        <tr>\n",
       "            <td>table</td>\n",
       "            <td>import_flight_records</td>\n",
       "            <td>import_flight_records</td>\n",
       "            <td>2</td>\n",
       "            <td>CREATE TABLE import_flight_records (<br>        arrival__scheduled TEXT DEFAULT NULL, arrival__iata TEXT DEFAULT NULL, live__speed_horizontal TEXT DEFAULT NULL, flight__codeshared__flight_iata TEXT DEFAULT NULL, departure__delay TEXT DEFAULT NULL, departure__estimated_runway TEXT DEFAULT NULL, arrival__actual TEXT DEFAULT NULL, flight__number TEXT DEFAULT NULL, arrival__baggage TEXT DEFAULT NULL, departure__terminal TEXT DEFAULT NULL, departure__actual TEXT DEFAULT NULL, live__speed_vertical TEXT DEFAULT NULL, flight__codeshared__airline_icao TEXT DEFAULT NULL, departure__icao TEXT DEFAULT NULL, flight__icao TEXT DEFAULT NULL, airline__name TEXT DEFAULT NULL, flight__codeshared__airline_name TEXT DEFAULT NULL, departure__estimated TEXT DEFAULT NULL, departure__gate TEXT DEFAULT NULL, arrival__gate TEXT DEFAULT NULL, departure__actual_runway TEXT DEFAULT NULL, flight_status TEXT DEFAULT NULL, departure__timezone TEXT DEFAULT NULL, arrival__airport TEXT DEFAULT NULL, aircraft__icao TEXT DEFAULT NULL, live__latitude TEXT DEFAULT NULL, arrival__icao TEXT DEFAULT NULL, aircraft__iata TEXT DEFAULT NULL, flight__codeshared__flight_icao TEXT DEFAULT NULL, flight__codeshared__flight_number TEXT DEFAULT NULL, flight__codeshared__airline_iata TEXT DEFAULT NULL, departure__iata TEXT DEFAULT NULL, departure__scheduled TEXT DEFAULT NULL, arrival__estimated_runway TEXT DEFAULT NULL, airline__iata TEXT DEFAULT NULL, live__altitude TEXT DEFAULT NULL, live__direction TEXT DEFAULT NULL, arrival__delay TEXT DEFAULT NULL, flight__iata TEXT DEFAULT NULL, live__longitude TEXT DEFAULT NULL, arrival__terminal TEXT DEFAULT NULL, arrival__estimated TEXT DEFAULT NULL, airline__icao TEXT DEFAULT NULL, arrival__actual_runway TEXT DEFAULT NULL, live__updated TEXT DEFAULT NULL, live__is_ground TEXT DEFAULT NULL, arrival__timezone TEXT DEFAULT NULL, aircraft__icao24 TEXT DEFAULT NULL, aircraft__registration TEXT DEFAULT NULL, flight_date TEXT DEFAULT NULL, departure__airport TEXT DEFAULT NULL,<br>        PRIMARY KEY (<br>            flight__iata,<br>            departure__iata,<br>            departure__scheduled,<br>            arrival__iata<br>        )<br>    )</td>\n",
       "        </tr>\n",
       "        <tr>\n",
       "            <td>index</td>\n",
       "            <td>sqlite_autoindex_import_flight_records_1</td>\n",
       "            <td>import_flight_records</td>\n",
       "            <td>3</td>\n",
       "            <td>None</td>\n",
       "        </tr>\n",
       "    </tbody>\n",
       "</table>"
      ],
      "text/plain": [
       "[('table', 'import_flight_records', 'import_flight_records', 2, 'CREATE TABLE import_flight_records (\\n        arrival__scheduled TEXT DEFAULT NULL, arrival__iata TEXT DEFAULT NULL, live__speed_horizontal TEXT DEFA ... (1855 characters truncated) ... RIMARY KEY (\\n            flight__iata,\\n            departure__iata,\\n            departure__scheduled,\\n            arrival__iata\\n        )\\n    )'),\n",
       " ('index', 'sqlite_autoindex_import_flight_records_1', 'import_flight_records', 3, None)]"
      ]
     },
     "execution_count": 42,
     "metadata": {},
     "output_type": "execute_result"
    }
   ],
   "source": [
    "%%sql\n",
    "select * from sqlite_master;"
   ]
  },
  {
   "cell_type": "code",
   "execution_count": 73,
   "id": "016ba397-2e80-47ec-8ee1-973bf5d91e3f",
   "metadata": {},
   "outputs": [],
   "source": [
    "from sqlite3 import ProgrammingError\n",
    "\n",
    "def upsert_entries(\n",
    "    entries: dict, \n",
    "    schema: list,\n",
    "    db_conn: sqlite3.Connection,\n",
    "    tbl_name: str = \"import_flight_records\"\n",
    "):\n",
    "    \"\"\"\n",
    "    UPSERT data into the import table\n",
    "    \"\"\"\n",
    "    entries_expanded = [\n",
    "        {field: entry.get(field) for field in schema} \n",
    "        for entry in entries\n",
    "    ]\n",
    "    vals_placeholder = \", \".join(len(schema) * \"?\")\n",
    "    try:\n",
    "        with db_conn:\n",
    "            db_conn.executemany(\n",
    "                f\"INSERT INTO {tbl_name} VALUES({vals_placeholder})\", entries_expanded.values()\n",
    "            )\n",
    "    except ProgrammingError as e:\n",
    "        print(e)    "
   ]
  },
  {
   "cell_type": "code",
   "execution_count": 56,
   "id": "3c41c93f-f9ee-4b54-b00c-6cd707fbe9bb",
   "metadata": {},
   "outputs": [
    {
     "data": {
      "text/plain": [
       "714"
      ]
     },
     "execution_count": 56,
     "metadata": {},
     "output_type": "execute_result"
    }
   ],
   "source": [
    "len(entries)"
   ]
  },
  {
   "cell_type": "markdown",
   "id": "f6dc7dc3-75ef-4541-93f9-2f16a9ae2a15",
   "metadata": {},
   "source": [
    "### 2.3 UPSERT into table"
   ]
  },
  {
   "cell_type": "code",
   "execution_count": 74,
   "id": "dbff67a9-f8bb-44b2-b8e2-0a2fd9f3c90c",
   "metadata": {},
   "outputs": [
    {
     "ename": "AttributeError",
     "evalue": "'list' object has no attribute 'values'",
     "output_type": "error",
     "traceback": [
      "\u001b[0;31m---------------------------------------------------------------------------\u001b[0m",
      "\u001b[0;31mAttributeError\u001b[0m                            Traceback (most recent call last)",
      "Cell \u001b[0;32mIn[74], line 1\u001b[0m\n\u001b[0;32m----> 1\u001b[0m \u001b[43mupsert_entries\u001b[49m\u001b[43m(\u001b[49m\u001b[43mentries\u001b[49m\u001b[43m,\u001b[49m\u001b[43mschema\u001b[49m\u001b[43m,\u001b[49m\u001b[43m \u001b[49m\u001b[43mdb_conn\u001b[49m\u001b[43m)\u001b[49m\n",
      "Cell \u001b[0;32mIn[73], line 20\u001b[0m, in \u001b[0;36mupsert_entries\u001b[0;34m(entries, schema, db_conn, tbl_name)\u001b[0m\n\u001b[1;32m     17\u001b[0m \u001b[38;5;28;01mtry\u001b[39;00m:\n\u001b[1;32m     18\u001b[0m     \u001b[38;5;28;01mwith\u001b[39;00m db_conn:\n\u001b[1;32m     19\u001b[0m         db_conn\u001b[38;5;241m.\u001b[39mexecutemany(\n\u001b[0;32m---> 20\u001b[0m             \u001b[38;5;124mf\u001b[39m\u001b[38;5;124m\"\u001b[39m\u001b[38;5;124mINSERT INTO \u001b[39m\u001b[38;5;132;01m{\u001b[39;00mtbl_name\u001b[38;5;132;01m}\u001b[39;00m\u001b[38;5;124m VALUES(\u001b[39m\u001b[38;5;132;01m{\u001b[39;00mvals_placeholder\u001b[38;5;132;01m}\u001b[39;00m\u001b[38;5;124m)\u001b[39m\u001b[38;5;124m\"\u001b[39m, \u001b[43mentries_expanded\u001b[49m\u001b[38;5;241;43m.\u001b[39;49m\u001b[43mvalues\u001b[49m()\n\u001b[1;32m     21\u001b[0m         )\n\u001b[1;32m     22\u001b[0m \u001b[38;5;28;01mexcept\u001b[39;00m ProgrammingError \u001b[38;5;28;01mas\u001b[39;00m e:\n\u001b[1;32m     23\u001b[0m     \u001b[38;5;28mprint\u001b[39m(e)\n",
      "\u001b[0;31mAttributeError\u001b[0m: 'list' object has no attribute 'values'"
     ]
    }
   ],
   "source": [
    "upsert_entries(entries,schema, db_conn)"
   ]
  },
  {
   "cell_type": "code",
   "execution_count": null,
   "id": "3d6ec9ac-ffbb-4765-bf3f-8c8953b6e459",
   "metadata": {},
   "outputs": [],
   "source": []
  }
 ],
 "metadata": {
  "kernelspec": {
   "display_name": "Python 3 (ipykernel)",
   "language": "python",
   "name": "python3"
  },
  "language_info": {
   "codemirror_mode": {
    "name": "ipython",
    "version": 3
   },
   "file_extension": ".py",
   "mimetype": "text/x-python",
   "name": "python",
   "nbconvert_exporter": "python",
   "pygments_lexer": "ipython3",
   "version": "3.11.4"
  }
 },
 "nbformat": 4,
 "nbformat_minor": 5
}
