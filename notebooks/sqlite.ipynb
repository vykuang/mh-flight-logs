{
 "cells": [
  {
   "attachments": {},
   "cell_type": "markdown",
   "metadata": {},
   "source": [
    "# sqlite3\n",
    "\n",
    "## Basics - creating and writing to db\n",
    "\n",
    "`sqlite3.connect` implicitly creates a .db file if not existent"
   ]
  },
  {
   "cell_type": "code",
   "execution_count": 4,
   "metadata": {},
   "outputs": [],
   "source": [
    "import sqlite3\n",
    "\n",
    "con = sqlite3.connect(\"../tests/data/tutorial.db\")"
   ]
  },
  {
   "attachments": {},
   "cell_type": "markdown",
   "metadata": {},
   "source": [
    "from the `con` object we create a cursor with which to execute our statements"
   ]
  },
  {
   "cell_type": "code",
   "execution_count": 5,
   "metadata": {},
   "outputs": [],
   "source": [
    "cur = con.cursor()"
   ]
  },
  {
   "cell_type": "code",
   "execution_count": 8,
   "metadata": {},
   "outputs": [
    {
     "data": {
      "text/plain": [
       "<sqlite3.Cursor at 0x7fd030284840>"
      ]
     },
     "execution_count": 8,
     "metadata": {},
     "output_type": "execute_result"
    }
   ],
   "source": [
    "cols = [\n",
    "    \"flight_date\",\n",
    "    \"flight_status\",\n",
    "    \"departure\",\n",
    "    \"arrival\",\n",
    "    \"airline\",\n",
    "    \"flight\",\n",
    "    \"aircraft\",\n",
    "    \"live\",\n",
    "]\n",
    "cols = \", \".join(cols)\n",
    "cols\n",
    "create_table = f\"CREATE TABLE flights({cols})\"\n",
    "cur.execute(create_table)"
   ]
  },
  {
   "cell_type": "code",
   "execution_count": 9,
   "metadata": {},
   "outputs": [
    {
     "data": {
      "text/plain": [
       "('flights',)"
      ]
     },
     "execution_count": 9,
     "metadata": {},
     "output_type": "execute_result"
    }
   ],
   "source": [
    "res = cur.execute(\"SELECT name FROM sqlite_master\")\n",
    "res.fetchone()"
   ]
  },
  {
   "attachments": {},
   "cell_type": "markdown",
   "metadata": {},
   "source": [
    "When inserting `VALUES`, data must be in a list, with the number of items corresponding exactly to number of columns.\n",
    "\n",
    "Alternatively we can supply a `dict`, with the keys mapped to column names"
   ]
  },
  {
   "cell_type": "code",
   "execution_count": 17,
   "metadata": {},
   "outputs": [],
   "source": [
    "data = [\n",
    "    (\n",
    "        \"2000-01-01\",\n",
    "        \"active\",\n",
    "        \"{'airport': 'KLIA'}\",\n",
    "        \"{'airport': 'Seeb'}\",\n",
    "        \"Malaysian Airlines\",\n",
    "        None,\n",
    "        None,\n",
    "        None,\n",
    "    ),\n",
    "    (\n",
    "        \"2023-08-23\",\n",
    "        \"scheduled\",\n",
    "        \"{'airport': 'KIX'}\",\n",
    "        \"{'airport': 'HND'}\",\n",
    "        \"Malaysian AIrlines\",\n",
    "        None,\n",
    "        None,\n",
    "        None,\n",
    "    ),\n",
    "]\n",
    "placeholders = \", \".join(len(cols.split(\",\")) * \"?\")\n",
    "cur.executemany(f\"INSERT INTO flights VALUES({placeholders})\", data)\n",
    "con.commit()"
   ]
  },
  {
   "cell_type": "code",
   "execution_count": 19,
   "metadata": {},
   "outputs": [
    {
     "name": "stdout",
     "output_type": "stream",
     "text": [
      "('2000-01-01', \"{'airport': 'KLIA'}\")\n",
      "('2023-08-23', \"{'airport': 'KIX'}\")\n"
     ]
    }
   ],
   "source": [
    "for row in cur.execute(\n",
    "    \"SELECT flight_date, departure FROM flights order by flight_date\"\n",
    "):\n",
    "    print(row)"
   ]
  },
  {
   "cell_type": "code",
   "execution_count": 42,
   "metadata": {},
   "outputs": [
    {
     "data": {
      "text/plain": [
       "<sqlite3.Cursor at 0x7fd030284840>"
      ]
     },
     "execution_count": 42,
     "metadata": {},
     "output_type": "execute_result"
    }
   ],
   "source": [
    "cur.execute(\"DROP TABLE flights_json\")"
   ]
  },
  {
   "cell_type": "code",
   "execution_count": 43,
   "metadata": {},
   "outputs": [
    {
     "data": {
      "text/plain": [
       "<sqlite3.Cursor at 0x7fd030284840>"
      ]
     },
     "execution_count": 43,
     "metadata": {},
     "output_type": "execute_result"
    }
   ],
   "source": [
    "cur.execute(\"CREATE TABLE flights_json(flights_response json)\")"
   ]
  },
  {
   "cell_type": "code",
   "execution_count": 44,
   "metadata": {},
   "outputs": [
    {
     "data": {
      "text/plain": [
       "[('flights',), ('flights_json',)]"
      ]
     },
     "execution_count": 44,
     "metadata": {},
     "output_type": "execute_result"
    }
   ],
   "source": [
    "res = cur.execute(\"SELECT name FROM sqlite_master\")\n",
    "res.fetchall()"
   ]
  },
  {
   "attachments": {},
   "cell_type": "markdown",
   "metadata": {},
   "source": [
    "## Import json into sqlite3\n",
    "\n",
    "Using the sample response json to insert into our sample db. Sqlite3 does have a built-in json function, but it still treats it as a simple string, with unnecessary whitespaces removed to preserve storage"
   ]
  },
  {
   "cell_type": "code",
   "execution_count": 24,
   "metadata": {},
   "outputs": [],
   "source": [
    "import json"
   ]
  },
  {
   "cell_type": "code",
   "execution_count": 25,
   "metadata": {},
   "outputs": [
    {
     "name": "stdout",
     "output_type": "stream",
     "text": [
      "dict_keys(['pagination', 'data'])\n"
     ]
    }
   ],
   "source": [
    "with open(\"../tests/data/sample_flight_response.json\", \"r\") as j:\n",
    "    response = json.loads(j.read())\n",
    "\n",
    "print(response.keys())"
   ]
  },
  {
   "cell_type": "code",
   "execution_count": 48,
   "metadata": {},
   "outputs": [],
   "source": [
    "# dumping into a json str, and putting it into a list\n",
    "cur.execute(\n",
    "    \"INSERT INTO flights_json VALUES( ? )\",\n",
    "    [json.dumps(response)],\n",
    ")\n",
    "con.commit()"
   ]
  },
  {
   "cell_type": "code",
   "execution_count": 49,
   "metadata": {},
   "outputs": [],
   "source": [
    "# convert dict to str, then put into a tuple\n",
    "# result is a list of tuple, where each tuple is one json str\n",
    "flights = [(json.dumps(flight),) for flight in response[\"data\"]]\n",
    "cur.executemany(\"INSERT INTO flights_json VALUES( ? )\", flights)\n",
    "con.commit()"
   ]
  },
  {
   "cell_type": "code",
   "execution_count": 50,
   "metadata": {},
   "outputs": [
    {
     "data": {
      "text/plain": [
       "('{\"flight_date\": \"2023-08-29\", \"flight_status\": \"scheduled\", \"departure\": {\"airport\": \"Doha International\", \"timezone\": \"Asia/Qatar\", \"iata\": \"DOH\", \"icao\": \"OTHH\", \"terminal\": null, \"gate\": \"C37\", \"delay\": 25, \"scheduled\": \"2023-08-29T02:05:00+00:00\", \"estimated\": \"2023-08-29T02:05:00+00:00\", \"actual\": \"2023-08-29T03:10:00+00:00\", \"estimated_runway\": \"2023-08-29T03:10:00+00:00\", \"actual_runway\": \"2023-08-29T03:10:00+00:00\"}, \"arrival\": {\"airport\": \"Cape Town International\", \"timezone\": \"Africa/Johannesburg\", \"iata\": \"CPT\", \"icao\": \"FACT\", \"terminal\": \"B\", \"gate\": \"A5\", \"baggage\": \"1.4\", \"delay\": 31, \"scheduled\": \"2023-08-29T10:50:00+00:00\", \"estimated\": \"2023-08-29T10:50:00+00:00\", \"actual\": null, \"estimated_runway\": null, \"actual_runway\": null}, \"airline\": {\"name\": \"Malaysia Airlines\", \"iata\": \"MH\", \"icao\": \"MAS\"}, \"flight\": {\"number\": \"9305\", \"iata\": \"MH9305\", \"icao\": \"MAS9305\", \"codeshared\": {\"airline_name\": \"qatar airways\", \"airline_iata\": \"qr\", \"airline_icao\": \"qtr\", \"flight_number\": \"1369\", \"flight_iata\": \"qr1369\", \"flight_icao\": \"qtr1369\"}}, \"aircraft\": null, \"live\": null}',)"
      ]
     },
     "execution_count": 50,
     "metadata": {},
     "output_type": "execute_result"
    }
   ],
   "source": [
    "res = cur.execute(\"SELECT * FROM flights_json\")\n",
    "read_flights = res.fetchall()[1:]\n",
    "read_flights[0]"
   ]
  },
  {
   "attachments": {},
   "cell_type": "markdown",
   "metadata": {},
   "source": [
    "first `[0]` retrieves first row;\n",
    "each row is a list of values from all columns. \n",
    "we pick `[0]` again to retrieve the first (and only) column which contains our json"
   ]
  },
  {
   "cell_type": "code",
   "execution_count": 52,
   "metadata": {},
   "outputs": [
    {
     "data": {
      "text/plain": [
       "{'flight_date': '2023-08-29',\n",
       " 'flight_status': 'scheduled',\n",
       " 'departure': {'airport': 'Doha International',\n",
       "  'timezone': 'Asia/Qatar',\n",
       "  'iata': 'DOH',\n",
       "  'icao': 'OTHH',\n",
       "  'terminal': None,\n",
       "  'gate': 'C37',\n",
       "  'delay': 25,\n",
       "  'scheduled': '2023-08-29T02:05:00+00:00',\n",
       "  'estimated': '2023-08-29T02:05:00+00:00',\n",
       "  'actual': '2023-08-29T03:10:00+00:00',\n",
       "  'estimated_runway': '2023-08-29T03:10:00+00:00',\n",
       "  'actual_runway': '2023-08-29T03:10:00+00:00'},\n",
       " 'arrival': {'airport': 'Cape Town International',\n",
       "  'timezone': 'Africa/Johannesburg',\n",
       "  'iata': 'CPT',\n",
       "  'icao': 'FACT',\n",
       "  'terminal': 'B',\n",
       "  'gate': 'A5',\n",
       "  'baggage': '1.4',\n",
       "  'delay': 31,\n",
       "  'scheduled': '2023-08-29T10:50:00+00:00',\n",
       "  'estimated': '2023-08-29T10:50:00+00:00',\n",
       "  'actual': None,\n",
       "  'estimated_runway': None,\n",
       "  'actual_runway': None},\n",
       " 'airline': {'name': 'Malaysia Airlines', 'iata': 'MH', 'icao': 'MAS'},\n",
       " 'flight': {'number': '9305',\n",
       "  'iata': 'MH9305',\n",
       "  'icao': 'MAS9305',\n",
       "  'codeshared': {'airline_name': 'qatar airways',\n",
       "   'airline_iata': 'qr',\n",
       "   'airline_icao': 'qtr',\n",
       "   'flight_number': '1369',\n",
       "   'flight_iata': 'qr1369',\n",
       "   'flight_icao': 'qtr1369'}},\n",
       " 'aircraft': None,\n",
       " 'live': None}"
      ]
     },
     "execution_count": 52,
     "metadata": {},
     "output_type": "execute_result"
    }
   ],
   "source": [
    "read_flights_dict = json.loads(read_flights[0][0])\n",
    "read_flights_dict"
   ]
  },
  {
   "cell_type": "code",
   "execution_count": 53,
   "metadata": {},
   "outputs": [
    {
     "data": {
      "text/plain": [
       "{'airport': 'Doha International',\n",
       " 'timezone': 'Asia/Qatar',\n",
       " 'iata': 'DOH',\n",
       " 'icao': 'OTHH',\n",
       " 'terminal': None,\n",
       " 'gate': 'C37',\n",
       " 'delay': 25,\n",
       " 'scheduled': '2023-08-29T02:05:00+00:00',\n",
       " 'estimated': '2023-08-29T02:05:00+00:00',\n",
       " 'actual': '2023-08-29T03:10:00+00:00',\n",
       " 'estimated_runway': '2023-08-29T03:10:00+00:00',\n",
       " 'actual_runway': '2023-08-29T03:10:00+00:00'}"
      ]
     },
     "execution_count": 53,
     "metadata": {},
     "output_type": "execute_result"
    }
   ],
   "source": [
    "read_flights_dict[\"departure\"]"
   ]
  },
  {
   "cell_type": "code",
   "execution_count": 54,
   "metadata": {},
   "outputs": [],
   "source": [
    "cur.close()\n",
    "con.close()"
   ]
  },
  {
   "cell_type": "code",
   "execution_count": null,
   "metadata": {},
   "outputs": [],
   "source": []
  }
 ],
 "metadata": {
  "kernelspec": {
   "display_name": "asean-flight-logs-S6It3xvH-py3.11",
   "language": "python",
   "name": "python3"
  },
  "language_info": {
   "codemirror_mode": {
    "name": "ipython",
    "version": 3
   },
   "file_extension": ".py",
   "mimetype": "text/x-python",
   "name": "python",
   "nbconvert_exporter": "python",
   "pygments_lexer": "ipython3",
   "version": "3.11.4"
  },
  "orig_nbformat": 4
 },
 "nbformat": 4,
 "nbformat_minor": 2
}
