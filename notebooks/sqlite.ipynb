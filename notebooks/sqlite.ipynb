{
 "cells": [
  {
   "attachments": {},
   "cell_type": "markdown",
   "metadata": {},
   "source": [
    "# sqlite3\n",
    "\n",
    "## Basics - creating and writing to db\n",
    "\n",
    "`sqlite3.connect` implicitly creates a .db file if not existent"
   ]
  },
  {
   "cell_type": "code",
   "execution_count": 19,
   "metadata": {},
   "outputs": [],
   "source": [
    "import sqlite3\n",
    "import json\n",
    "from itertools import chain\n",
    "from pprint import pprint\n",
    "from collections.abc import MutableMapping"
   ]
  },
  {
   "cell_type": "code",
   "execution_count": 20,
   "metadata": {},
   "outputs": [
    {
     "name": "stdout",
     "output_type": "stream",
     "text": [
      "dict_keys(['pagination', 'data'])\n"
     ]
    }
   ],
   "source": [
    "with open(\"../tests/data/sample_flight_response.json\", \"r\") as j:\n",
    "    response = json.load(j)\n",
    "\n",
    "print(response.keys())"
   ]
  },
  {
   "cell_type": "code",
   "execution_count": 58,
   "metadata": {},
   "outputs": [],
   "source": [
    "con = sqlite3.connect(\"../tests/sample.db\")"
   ]
  },
  {
   "attachments": {},
   "cell_type": "markdown",
   "metadata": {},
   "source": [
    "from the `con` object we create a cursor with which to execute our statements"
   ]
  },
  {
   "cell_type": "code",
   "execution_count": 59,
   "metadata": {},
   "outputs": [],
   "source": [
    "cur = con.cursor()"
   ]
  },
  {
   "cell_type": "code",
   "execution_count": 8,
   "metadata": {},
   "outputs": [
    {
     "data": {
      "text/plain": [
       "<sqlite3.Cursor at 0x7fd030284840>"
      ]
     },
     "execution_count": 8,
     "metadata": {},
     "output_type": "execute_result"
    }
   ],
   "source": [
    "cols = [\n",
    "    \"flight_date\",\n",
    "    \"flight_status\",\n",
    "    \"departure\",\n",
    "    \"arrival\",\n",
    "    \"airline\",\n",
    "    \"flight\",\n",
    "    \"aircraft\",\n",
    "    \"live\",\n",
    "]\n",
    "cols = \", \".join(cols)\n",
    "cols\n",
    "create_table = f\"CREATE TABLE flights({cols})\"\n",
    "cur.execute(create_table)"
   ]
  },
  {
   "cell_type": "code",
   "execution_count": 9,
   "metadata": {},
   "outputs": [
    {
     "data": {
      "text/plain": [
       "('flights',)"
      ]
     },
     "execution_count": 9,
     "metadata": {},
     "output_type": "execute_result"
    }
   ],
   "source": [
    "res = cur.execute(\"SELECT name FROM sqlite_master\")\n",
    "res.fetchone()"
   ]
  },
  {
   "attachments": {},
   "cell_type": "markdown",
   "metadata": {},
   "source": [
    "When inserting `VALUES`, data must be in a list, with the number of items corresponding exactly to number of columns.\n",
    "\n",
    "Alternatively we can supply a `dict`, with the keys mapped to column names"
   ]
  },
  {
   "cell_type": "code",
   "execution_count": 17,
   "metadata": {},
   "outputs": [],
   "source": [
    "data = [\n",
    "    (\n",
    "        \"2000-01-01\",\n",
    "        \"active\",\n",
    "        \"{'airport': 'KLIA'}\",\n",
    "        \"{'airport': 'Seeb'}\",\n",
    "        \"Malaysian Airlines\",\n",
    "        None,\n",
    "        None,\n",
    "        None,\n",
    "    ),\n",
    "    (\n",
    "        \"2023-08-23\",\n",
    "        \"scheduled\",\n",
    "        \"{'airport': 'KIX'}\",\n",
    "        \"{'airport': 'HND'}\",\n",
    "        \"Malaysian AIrlines\",\n",
    "        None,\n",
    "        None,\n",
    "        None,\n",
    "    ),\n",
    "]\n",
    "placeholders = \", \".join(len(cols.split(\",\")) * \"?\")\n",
    "cur.executemany(f\"INSERT INTO flights VALUES({placeholders})\", data)\n",
    "con.commit()"
   ]
  },
  {
   "cell_type": "code",
   "execution_count": 19,
   "metadata": {},
   "outputs": [
    {
     "name": "stdout",
     "output_type": "stream",
     "text": [
      "('2000-01-01', \"{'airport': 'KLIA'}\")\n",
      "('2023-08-23', \"{'airport': 'KIX'}\")\n"
     ]
    }
   ],
   "source": [
    "for row in cur.execute(\n",
    "    \"SELECT flight_date, departure FROM flights order by flight_date\"\n",
    "):\n",
    "    print(row)"
   ]
  },
  {
   "cell_type": "code",
   "execution_count": 64,
   "metadata": {},
   "outputs": [
    {
     "data": {
      "text/plain": [
       "<sqlite3.Cursor at 0x7f14542623c0>"
      ]
     },
     "execution_count": 64,
     "metadata": {},
     "output_type": "execute_result"
    }
   ],
   "source": [
    "cur.execute(\"DROP TABLE IF EXISTS flights_json\")"
   ]
  },
  {
   "cell_type": "code",
   "execution_count": 65,
   "metadata": {},
   "outputs": [
    {
     "data": {
      "text/plain": [
       "<sqlite3.Cursor at 0x7f14542623c0>"
      ]
     },
     "execution_count": 65,
     "metadata": {},
     "output_type": "execute_result"
    }
   ],
   "source": [
    "cur.execute(\"CREATE TABLE flights_json(id INTEGER PRIMARY KEY, flights_response JSON)\")"
   ]
  },
  {
   "attachments": {},
   "cell_type": "markdown",
   "metadata": {},
   "source": [
    "## Import json into sqlite3\n",
    "\n",
    "Using the sample response json to insert into our sample db. Sqlite3 does have a built-in json function, but it still treats it as a simple string, with unnecessary whitespaces removed to preserve storage"
   ]
  },
  {
   "cell_type": "code",
   "execution_count": 67,
   "metadata": {},
   "outputs": [],
   "source": [
    "# dumping into a json str, and putting it into a list\n",
    "cur.execute(\n",
    "    \"INSERT INTO flights_json (flights_response) VALUES( ? )\",\n",
    "    [json.dumps(response['data'][0])],\n",
    ")\n",
    "con.commit()"
   ]
  },
  {
   "cell_type": "code",
   "execution_count": 70,
   "metadata": {},
   "outputs": [],
   "source": [
    "# convert dict to str, then put into a tuple\n",
    "# result is a list of tuple, where each tuple is one json str\n",
    "flights = [(json.dumps(flight),) for flight in response[\"data\"]]\n",
    "cur.executemany(\"INSERT INTO flights_json (flights_response) VALUES( ? )\", flights)\n",
    "con.commit()"
   ]
  },
  {
   "cell_type": "code",
   "execution_count": 71,
   "metadata": {},
   "outputs": [
    {
     "data": {
      "text/plain": [
       "(100,\n",
       " '{\"flight_date\": \"2023-08-28\", \"flight_status\": \"scheduled\", \"departure\": {\"airport\": \"Kuala Lumpur International Airport (klia)\", \"timezone\": \"Asia/Kuala_Lumpur\", \"iata\": \"KUL\", \"icao\": \"WMKK\", \"terminal\": \"1\", \"gate\": null, \"delay\": 65, \"scheduled\": \"2023-08-28T14:55:00+00:00\", \"estimated\": \"2023-08-28T14:55:00+00:00\", \"actual\": \"2023-08-28T15:59:00+00:00\", \"estimated_runway\": \"2023-08-28T15:59:00+00:00\", \"actual_runway\": \"2023-08-28T15:59:00+00:00\"}, \"arrival\": {\"airport\": null, \"timezone\": null, \"iata\": \"KNO\", \"icao\": \"WIMM\", \"terminal\": \"1\", \"gate\": null, \"baggage\": null, \"delay\": 40, \"scheduled\": \"2023-08-28T15:00:00+00:00\", \"estimated\": \"2023-08-28T15:00:00+00:00\", \"actual\": null, \"estimated_runway\": null, \"actual_runway\": null}, \"airline\": {\"name\": \"Malaysia Airlines\", \"iata\": \"MH\", \"icao\": \"MAS\"}, \"flight\": {\"number\": \"864\", \"iata\": \"MH864\", \"icao\": \"MAS864\", \"codeshared\": null}, \"aircraft\": null, \"live\": null}')"
      ]
     },
     "execution_count": 71,
     "metadata": {},
     "output_type": "execute_result"
    }
   ],
   "source": [
    "res = cur.execute(\"SELECT * FROM flights_json\")\n",
    "read_flights = res.fetchall()\n",
    "read_flights[99]"
   ]
  },
  {
   "cell_type": "code",
   "execution_count": 77,
   "metadata": {},
   "outputs": [
    {
     "data": {
      "text/plain": [
       "(40,)"
      ]
     },
     "execution_count": 77,
     "metadata": {},
     "output_type": "execute_result"
    }
   ],
   "source": [
    "res = cur.execute(\"SELECT json_extract(flights_response,'$.arrival.delay') from flights_json\")\n",
    "dates = res.fetchall()\n",
    "dates[99]"
   ]
  },
  {
   "attachments": {},
   "cell_type": "markdown",
   "metadata": {},
   "source": [
    "Doesn't look like `->` operator is available here.\n",
    "\n",
    "For below:\n",
    "\n",
    "first `[0]` retrieves first row;\n",
    "each row is a list of values from all columns. \n",
    "we pick `[0]` again to retrieve the first (and only) column which contains our json"
   ]
  },
  {
   "cell_type": "code",
   "execution_count": 52,
   "metadata": {
    "scrolled": true
   },
   "outputs": [
    {
     "data": {
      "text/plain": [
       "{'flight_date': '2023-08-29',\n",
       " 'flight_status': 'scheduled',\n",
       " 'departure': {'airport': 'Doha International',\n",
       "  'timezone': 'Asia/Qatar',\n",
       "  'iata': 'DOH',\n",
       "  'icao': 'OTHH',\n",
       "  'terminal': None,\n",
       "  'gate': 'C37',\n",
       "  'delay': 25,\n",
       "  'scheduled': '2023-08-29T02:05:00+00:00',\n",
       "  'estimated': '2023-08-29T02:05:00+00:00',\n",
       "  'actual': '2023-08-29T03:10:00+00:00',\n",
       "  'estimated_runway': '2023-08-29T03:10:00+00:00',\n",
       "  'actual_runway': '2023-08-29T03:10:00+00:00'},\n",
       " 'arrival': {'airport': 'Cape Town International',\n",
       "  'timezone': 'Africa/Johannesburg',\n",
       "  'iata': 'CPT',\n",
       "  'icao': 'FACT',\n",
       "  'terminal': 'B',\n",
       "  'gate': 'A5',\n",
       "  'baggage': '1.4',\n",
       "  'delay': 31,\n",
       "  'scheduled': '2023-08-29T10:50:00+00:00',\n",
       "  'estimated': '2023-08-29T10:50:00+00:00',\n",
       "  'actual': None,\n",
       "  'estimated_runway': None,\n",
       "  'actual_runway': None},\n",
       " 'airline': {'name': 'Malaysia Airlines', 'iata': 'MH', 'icao': 'MAS'},\n",
       " 'flight': {'number': '9305',\n",
       "  'iata': 'MH9305',\n",
       "  'icao': 'MAS9305',\n",
       "  'codeshared': {'airline_name': 'qatar airways',\n",
       "   'airline_iata': 'qr',\n",
       "   'airline_icao': 'qtr',\n",
       "   'flight_number': '1369',\n",
       "   'flight_iata': 'qr1369',\n",
       "   'flight_icao': 'qtr1369'}},\n",
       " 'aircraft': None,\n",
       " 'live': None}"
      ]
     },
     "execution_count": 52,
     "metadata": {},
     "output_type": "execute_result"
    }
   ],
   "source": [
    "read_flights_dict = json.loads(read_flights[0][0])\n",
    "read_flights_dict"
   ]
  },
  {
   "cell_type": "code",
   "execution_count": 53,
   "metadata": {},
   "outputs": [
    {
     "data": {
      "text/plain": [
       "{'airport': 'Doha International',\n",
       " 'timezone': 'Asia/Qatar',\n",
       " 'iata': 'DOH',\n",
       " 'icao': 'OTHH',\n",
       " 'terminal': None,\n",
       " 'gate': 'C37',\n",
       " 'delay': 25,\n",
       " 'scheduled': '2023-08-29T02:05:00+00:00',\n",
       " 'estimated': '2023-08-29T02:05:00+00:00',\n",
       " 'actual': '2023-08-29T03:10:00+00:00',\n",
       " 'estimated_runway': '2023-08-29T03:10:00+00:00',\n",
       " 'actual_runway': '2023-08-29T03:10:00+00:00'}"
      ]
     },
     "execution_count": 53,
     "metadata": {},
     "output_type": "execute_result"
    }
   ],
   "source": [
    "read_flights_dict[\"departure\"]"
   ]
  },
  {
   "cell_type": "code",
   "execution_count": 54,
   "metadata": {},
   "outputs": [],
   "source": [
    "cur.close()\n",
    "con.close()"
   ]
  },
  {
   "cell_type": "markdown",
   "metadata": {},
   "source": [
    "## Using %sql magic\n",
    "\n",
    "requires `ipython-sql` module"
   ]
  },
  {
   "cell_type": "code",
   "execution_count": 1,
   "metadata": {},
   "outputs": [],
   "source": [
    "%load_ext sql"
   ]
  },
  {
   "cell_type": "code",
   "execution_count": 30,
   "metadata": {},
   "outputs": [],
   "source": [
    "%sql sqlite:///../tests/data/tutorial.db"
   ]
  },
  {
   "cell_type": "code",
   "execution_count": 5,
   "metadata": {},
   "outputs": [
    {
     "name": "stdout",
     "output_type": "stream",
     "text": [
      " * sqlite:///../tests/data/tutorial.db\n",
      "Done.\n"
     ]
    },
    {
     "data": {
      "text/html": [
       "<table>\n",
       "    <thead>\n",
       "        <tr>\n",
       "            <th>type</th>\n",
       "            <th>name</th>\n",
       "            <th>tbl_name</th>\n",
       "            <th>rootpage</th>\n",
       "            <th>sql</th>\n",
       "        </tr>\n",
       "    </thead>\n",
       "    <tbody>\n",
       "        <tr>\n",
       "            <td>table</td>\n",
       "            <td>flights</td>\n",
       "            <td>flights</td>\n",
       "            <td>2</td>\n",
       "            <td>CREATE TABLE flights(flight_date, flight_status, departure, arrival, airline, flight, aircraft, live)</td>\n",
       "        </tr>\n",
       "        <tr>\n",
       "            <td>table</td>\n",
       "            <td>flights_json</td>\n",
       "            <td>flights_json</td>\n",
       "            <td>3</td>\n",
       "            <td>CREATE TABLE flights_json(flights_response json)</td>\n",
       "        </tr>\n",
       "    </tbody>\n",
       "</table>"
      ],
      "text/plain": [
       "[('table', 'flights', 'flights', 2, 'CREATE TABLE flights(flight_date, flight_status, departure, arrival, airline, flight, aircraft, live)'),\n",
       " ('table', 'flights_json', 'flights_json', 3, 'CREATE TABLE flights_json(flights_response json)')]"
      ]
     },
     "execution_count": 5,
     "metadata": {},
     "output_type": "execute_result"
    }
   ],
   "source": [
    "%%sql\n",
    "select * from sqlite_master;"
   ]
  },
  {
   "cell_type": "code",
   "execution_count": 6,
   "metadata": {
    "collapsed": true,
    "jupyter": {
     "outputs_hidden": true
    }
   },
   "outputs": [
    {
     "name": "stdout",
     "output_type": "stream",
     "text": [
      " * sqlite:///../tests/data/tutorial.db\n",
      "Done.\n"
     ]
    },
    {
     "data": {
      "text/html": [
       "<table>\n",
       "    <thead>\n",
       "        <tr>\n",
       "            <th>flights_response</th>\n",
       "        </tr>\n",
       "    </thead>\n",
       "    <tbody>\n",
       "        <tr>\n",
       "            <td>{&quot;pagination&quot;: {&quot;limit&quot;: 100, &quot;offset&quot;: 0, &quot;count&quot;: 100, &quot;total&quot;: 130}, &quot;data&quot;: [{&quot;flight_date&quot;: &quot;2023-08-29&quot;, &quot;flight_status&quot;: &quot;scheduled&quot;, &quot;departure&quot;: {&quot;airport&quot;: &quot;Doha International&quot;, &quot;timezone&quot;: &quot;Asia/Qatar&quot;, &quot;iata&quot;: &quot;DOH&quot;, &quot;icao&quot;: &quot;OTHH&quot;, &quot;terminal&quot;: null, &quot;gate&quot;: &quot;C37&quot;, &quot;delay&quot;: 25, &quot;scheduled&quot;: &quot;2023-08-29T02:05:00+00:00&quot;, &quot;estimated&quot;: &quot;2023-08-29T02:05:00+00:00&quot;, &quot;actual&quot;: &quot;2023-08-29T03:10:00+00:00&quot;, &quot;estimated_runway&quot;: &quot;2023-08-29T03:10:00+00:00&quot;, &quot;actual_runway&quot;: &quot;2023-08-29T03:10:00+00:00&quot;}, &quot;arrival&quot;: {&quot;airport&quot;: &quot;Cape Town International&quot;, &quot;timezone&quot;: &quot;Africa/Johannesburg&quot;, &quot;iata&quot;: &quot;CPT&quot;, &quot;icao&quot;: &quot;FACT&quot;, &quot;terminal&quot;: &quot;B&quot;, &quot;gate&quot;: &quot;A5&quot;, &quot;baggage&quot;: &quot;1.4&quot;, &quot;delay&quot;: 31, &quot;scheduled&quot;: &quot;2023-08-29T10:50:00+00:00&quot;, &quot;estimated&quot;: &quot;2023-08-29T10:50:00+00:00&quot;, &quot;actual&quot;: null, &quot;estimated_runway&quot;: null, &quot;actual_runway&quot;: null}, &quot;airline&quot;: {&quot;name&quot;: &quot;Malaysia Airlines&quot;, &quot;iata&quot;: &quot;MH&quot;, &quot;icao&quot;: &quot;MAS&quot;}, &quot;flight&quot;: {&quot;number&quot;: &quot;9305&quot;, &quot;iata&quot;: &quot;MH9305&quot;, &quot;icao&quot;: &quot;MAS9305&quot;, &quot;codeshared&quot;: {&quot;airline_name&quot;: &quot;qatar airways&quot;, &quot;airline_iata&quot;: &quot;qr&quot;, &quot;airline_icao&quot;: &quot;qtr&quot;, &quot;flight_number&quot;: &quot;1369&quot;, &quot;flight_iata&quot;: &quot;qr1369&quot;, &quot;flight_icao&quot;: &quot;qtr1369&quot;}}, &quot;aircraft&quot;: null, &quot;live&quot;: null}, {&quot;flight_date&quot;: &quot;2023-08-29&quot;, &quot;flight_status&quot;: &quot;active&quot;, &quot;departure&quot;: {&quot;airport&quot;: &quot;Doha International&quot;, &quot;timezone&quot;: &quot;Asia/Qatar&quot;, &quot;iata&quot;: &quot;DOH&quot;, &quot;icao&quot;: &quot;OTHH&quot;, &quot;terminal&quot;: null, &quot;gate&quot;: null, &quot;delay&quot;: null, &quot;scheduled&quot;: &quot;2023-08-29T01:53:00+00:00&quot;, &quot;estimated&quot;: &quot;2023-08-29T01:53:00+00:00&quot;, &quot;actual&quot;: &quot;2023-08-29T01:53:00+00:00&quot;, &quot;estimated_runway&quot;: &quot;2023-08-29T01:53:00+00:00&quot;, &quot;actual_runway&quot;: &quot;2023-08-29T01:53:00+00:00&quot;}, &quot;arrival&quot;: {&quot;airport&quot;: null, &quot;timezone&quot;: null, &quot;iata&quot;: &quot;DWC&quot;, &quot;icao&quot;: &quot;OMDW&quot;, &quot;terminal&quot;: null, &quot;gate&quot;: null, &quot;baggage&quot;: null, &quot;delay&quot;: 35, &quot;scheduled&quot;: &quot;2023-08-29T03:26:00+00:00&quot;, &quot;estimated&quot;: &quot;2023-08-29T03:26:00+00:00&quot;, &quot;actual&quot;: null, &quot;estimated_runway&quot;: null, &quot;actual_runway&quot;: null}, &quot;airline&quot;: {&quot;name&quot;: &quot;Malaysia Airlines&quot;, &quot;iata&quot;: &quot;MH&quot;, &quot;icao&quot;: &quot;MAS&quot;}, &quot;flight&quot;: {&quot;number&quot;: &quot;6127&quot;, &quot;iata&quot;: &quot;MH6127&quot;, &quot;icao&quot;: &quot;MAS6127&quot;, &quot;codeshared&quot;: null}, &quot;aircraft&quot;: null, &quot;live&quot;: null}, {&quot;flight_date&quot;: &quot;2023-08-29&quot;, &quot;flight_status&quot;: &quot;scheduled&quot;, &quot;departure&quot;: {&quot;airport&quot;: &quot;Guangzhou Baiyun International&quot;, &quot;timezone&quot;: &quot;Asia/Shanghai&quot;, &quot;iata&quot;: &quot;CAN&quot;, &quot;icao&quot;: &quot;ZGGG&quot;, &quot;terminal&quot;: &quot;2&quot;, &quot;gate&quot;: null, &quot;delay&quot;: 45, &quot;scheduled&quot;: &quot;2023-08-29T08:15:00+00:00&quot;, &quot;estimated&quot;: &quot;2023-08-29T08:15:00+00:00&quot;, &quot;actual&quot;: &quot;2023-08-29T09:36:00+00:00&quot;, &quot;estimated_runway&quot;: &quot;2023-08-29T09:36:00+00:00&quot;, &quot;actual_runway&quot;: &quot;2023-08-29T09:36:00+00:00&quot;}, &quot;arrival&quot;: {&quot;airport&quot;: &quot;Kuala Lumpur International Airport (klia)&quot;, &quot;timezone&quot;: &quot;Asia/Kuala_Lumpur&quot;, &quot;iata&quot;: &quot;KUL&quot;, &quot;icao&quot;: &quot;WMKK&quot;, &quot;terminal&quot;: &quot;1&quot;, &quot;gate&quot;: null, &quot;baggage&quot;: null, &quot;delay&quot;: 54, &quot;scheduled&quot;: &quot;2023-08-29T12:00:00+00:00&quot;, &quot;estimated&quot;: &quot;2023-08-29T12:00:00+00:00&quot;, &quot;actual&quot;: null, &quot;estimated_runway&quot;: null, &quot;actual_runway&quot;: null}, &quot;airline&quot;: {&quot;name&quot;: &quot;Malaysia Airlines&quot;, &quot;iata&quot;: &quot;MH&quot;, &quot;icao&quot;: &quot;MAS&quot;}, &quot;flight&quot;: {&quot;number&quot;: &quot;4481&quot;, &quot;iata&quot;: &quot;MH4481&quot;, &quot;icao&quot;: &quot;MAS4481&quot;, &quot;codeshared&quot;: {&quot;airline_name&quot;: &quot;china southern airlines&quot;, &quot;airline_iata&quot;: &quot;cz&quot;, &quot;airline_icao&quot;: &quot;csn&quot;, &quot;flight_number&quot;: &quot;349&quot;, &quot;flight_iata&quot;: &quot;cz349&quot;, &quot;flight_icao&quot;: &quot;csn349&quot;}}, &quot;aircraft&quot;: null, &quot;live&quot;: null}, {&quot;flight_date&quot;: &quot;2023-08-29&quot;, &quot;flight_status&quot;: &quot;scheduled&quot;, &quot;departure&quot;: {&quot;airport&quot;: &quot;Doha International&quot;, &quot;timezone&quot;: &quot;Asia/Qatar&quot;, &quot;iata&quot;: &quot;DOH&quot;, &quot;icao&quot;: &quot;OTHH&quot;, &quot;terminal&quot;: null, &quot;gate&quot;: &quot;C36&quot;, &quot;delay&quot;: 22, &quot;scheduled&quot;: &quot;2023-08-29T02:10:00+00:00&quot;, &quot;estimated&quot;: &quot;2023-08-29T02:10:00+00:00&quot;, &quot;actual&quot;: &quot;2023-08-29T05:18:00+00:00&quot;, &quot;estimated_runway&quot;: &quot;2023-08-29T05:18:00+00:00&quot;, &quot;actual_runway&quot;: &quot;2023-08-29T05:18:00+00:00&quot;}, &quot;arrival&quot;: {&quot;airport&quot;: &quot;Leonardo Da Vinci (Fiumicino)&quot;, &quot;timezone&quot;: &quot;Europe/Rome&quot;, &quot;iata&quot;: &quot;FCO&quot;, &quot;icao&quot;: &quot;LIRF&quot;, &quot;terminal&quot;: &quot;3&quot;, &quot;gate&quot;: null, &quot;baggage&quot;: &quot;12&quot;, &quot;delay&quot;: 131, &quot;scheduled&quot;: &quot;2023-08-29T07:15:00+00:00&quot;, &quot;estimated&quot;: &quot;2023-08-29T07:15:00+00:00&quot;, &quot;actual&quot;: null, &quot;estimated_runway&quot;: null, &quot;actual_runway&quot;: null}, &quot;airline&quot;: {&quot;name&quot;: &quot;Malaysia Airlines&quot;, &quot;iata&quot;: &quot;MH&quot;, &quot;icao&quot;: &quot;MAS&quot;}, &quot;flight&quot;: {&quot;number&quot;: &quot;9237&quot;, &quot;iata&quot;: &quot;MH9237&quot;, &quot;icao&quot;: &quot;MAS9237&quot;, &quot;codeshared&quot;: {&quot;airline_name&quot;: &quot;qatar airways&quot;, &quot;airline_iata&quot;: &quot;qr&quot;, &quot;airline_icao&quot;: &quot;qtr&quot;, &quot;flight_number&quot;: &quot;115&quot;, &quot;flight_iata&quot;: &quot;qr115&quot;, &quot;flight_icao&quot;: &quot;qtr115&quot;}}, &quot;aircraft&quot;: null, &quot;live&quot;: null}, {&quot;flight_date&quot;: &quot;2023-08-29&quot;, &quot;flight_status&quot;: &quot;scheduled&quot;, &quot;departure&quot;: {&quot;airport&quot;: &quot;Sultan Abdul Aziz Shah&quot;, &quot;timezone&quot;: &quot;Asia/Kuala_Lumpur&quot;, &quot;iata&quot;: &quot;SZB&quot;, &quot;icao&quot;: &quot;WMSA&quot;, &quot;terminal&quot;: null, &quot;gate&quot;: null, &quot;delay&quot;: 32, &quot;scheduled&quot;: &quot;2023-08-29T10:10:00+00:00&quot;, &quot;estimated&quot;: &quot;2023-08-29T10:10:00+00:00&quot;, &quot;actual&quot;: &quot;2023-08-29T10:41:00+00:00&quot;, &quot;estimated_runway&quot;: &quot;2023-08-29T10:41:00+00:00&quot;, &quot;actual_runway&quot;: &quot;2023-08-29T10:41:00+00:00&quot;}, &quot;arrival&quot;: {&quot;airport&quot;: &quot;Sultan Ismail International&quot;, &quot;timezone&quot;: &quot;Asia/Kuala_Lumpur&quot;, &quot;iata&quot;: &quot;JHB&quot;, &quot;icao&quot;: &quot;WMKJ&quot;, &quot;terminal&quot;: &quot;2&quot;, &quot;gate&quot;: null, &quot;baggage&quot;: null, &quot;delay&quot;: 38, &quot;scheduled&quot;: &quot;2023-08-29T11:15:00+00:00&quot;, &quot;estimated&quot;: &quot;2023-08-29T11:15:00+00:00&quot;, &quot;actual&quot;: null, &quot;estimated_runway&quot;: null, &quot;actual_runway&quot;: null}, &quot;airline&quot;: {&quot;name&quot;: &quot;Malaysia Airlines&quot;, &quot;iata&quot;: &quot;MH&quot;, &quot;icao&quot;: &quot;MAS&quot;}, &quot;flight&quot;: {&quot;number&quot;: &quot;5337&quot;, &quot;iata&quot;: &quot;MH5337&quot;, &quot;icao&quot;: &quot;MAS5337&quot;, &quot;codeshared&quot;: {&quot;airline_name&quot;: &quot;firefly&quot;, &quot;airline_iata&quot;: &quot;fy&quot;, &quot;airline_icao&quot;: &quot;ffm&quot;, &quot;flight_number&quot;: &quot;1338&quot;, &quot;flight_iata&quot;: &quot;fy1338&quot;, &quot;flight_icao&quot;: &quot;ffm1338&quot;}}, &quot;aircraft&quot;: null, &quot;live&quot;: null}, {&quot;flight_date&quot;: &quot;2023-08-29&quot;, &quot;flight_status&quot;: &quot;scheduled&quot;, &quot;departure&quot;: {&quot;airport&quot;: &quot;Kuala Lumpur International Airport (klia)&quot;, &quot;timezone&quot;: &quot;Asia/Kuala_Lumpur&quot;, &quot;iata&quot;: &quot;KUL&quot;, &quot;icao&quot;: &quot;WMKK&quot;, &quot;terminal&quot;: &quot;1&quot;, &quot;gate&quot;: null, &quot;delay&quot;: 85, &quot;scheduled&quot;: &quot;2023-08-29T09:40:00+00:00&quot;, &quot;estimated&quot;: &quot;2023-08-29T09:40:00+00:00&quot;, &quot;actual&quot;: &quot;2023-08-29T11:05:00+00:00&quot;, &quot;estimated_runway&quot;: &quot;2023-08-29T11:05:00+00:00&quot;, &quot;actual_runway&quot;: &quot;2023-08-29T11:05:00+00:00&quot;}, &quot;arrival&quot;: {&quot;airport&quot;: &quot;Singapore Changi&quot;, &quot;timezone&quot;: &quot;Asia/Singapore&quot;, &quot;iata&quot;: &quot;SIN&quot;, &quot;icao&quot;: &quot;WSSS&quot;, &quot;terminal&quot;: &quot;2&quot;, &quot;gate&quot;: null, &quot;baggage&quot;: &quot;37&quot;, &quot;delay&quot;: 56, &quot;scheduled&quot;: &quot;2023-08-29T10:55:00+00:00&quot;, &quot;estimated&quot;: &quot;2023-08-29T10:55:00+00:00&quot;, &quot;actual&quot;: null, &quot;estimated_runway&quot;: null, &quot;actual_runway&quot;: null}, &quot;airline&quot;: {&quot;name&quot;: &quot;Malaysia Airlines&quot;, &quot;iata&quot;: &quot;MH&quot;, &quot;icao&quot;: &quot;MAS&quot;}, &quot;flight&quot;: {&quot;number&quot;: &quot;627&quot;, &quot;iata&quot;: &quot;MH627&quot;, &quot;icao&quot;: &quot;MAS627&quot;, &quot;codeshared&quot;: null}, &quot;aircraft&quot;: null, &quot;live&quot;: null}, {&quot;flight_date&quot;: &quot;2023-08-29&quot;, &quot;flight_status&quot;: &quot;scheduled&quot;, &quot;departure&quot;: {&quot;airport&quot;: &quot;Kuala Lumpur International Airport (klia)&quot;, &quot;timezone&quot;: &quot;Asia/Kuala_Lumpur&quot;, &quot;iata&quot;: &quot;KUL&quot;, &quot;icao&quot;: &quot;WMKK&quot;, &quot;terminal&quot;: &quot;1&quot;, &quot;gate&quot;: null, &quot;delay&quot;: 77, &quot;scheduled&quot;: &quot;2023-08-29T09:25:00+00:00&quot;, &quot;estimated&quot;: &quot;2023-08-29T09:25:00+00:00&quot;, &quot;actual&quot;: &quot;2023-08-29T10:42:00+00:00&quot;, &quot;estimated_runway&quot;: &quot;2023-08-29T10:42:00+00:00&quot;, &quot;actual_runway&quot;: &quot;2023-08-29T10:42:00+00:00&quot;}, &quot;arrival&quot;: {&quot;airport&quot;: &quot;Madras International (Meenambakkam)&quot;, &quot;timezone&quot;: &quot;Asia/Kolkata&quot;, &quot;iata&quot;: &quot;MAA&quot;, &quot;icao&quot;: &quot;VOMM&quot;, &quot;terminal&quot;: &quot;2&quot;, &quot;gate&quot;: null, &quot;baggage&quot;: null, &quot;delay&quot;: 50, &quot;scheduled&quot;: &quot;2023-08-29T10:45:00+00:00&quot;, &quot;estimated&quot;: &quot;2023-08-29T10:45:00+00:00&quot;, &quot;actual&quot;: null, &quot;estimated_runway&quot;: null, &quot;actual_runway&quot;: null}, &quot;airline&quot;: {&quot;name&quot;: &quot;Malaysia Airlines&quot;, &quot;iata&quot;: &quot;MH&quot;, &quot;icao&quot;: &quot;MAS&quot;}, &quot;flight&quot;: {&quot;number&quot;: &quot;182&quot;, &quot;iata&quot;: &quot;MH182&quot;, &quot;icao&quot;: &quot;MAS182&quot;, &quot;codeshared&quot;: null}, &quot;aircraft&quot;: null, &quot;live&quot;: null}, {&quot;flight_date&quot;: &quot;2023-08-29&quot;, &quot;flight_status&quot;: &quot;scheduled&quot;, &quot;departure&quot;: {&quot;airport&quot;: &quot;Kuala Lumpur International Airport (klia)&quot;, &quot;timezone&quot;: &quot;Asia/Kuala_Lumpur&quot;, &quot;iata&quot;: &quot;KUL&quot;, &quot;icao&quot;: &quot;WMKK&quot;, &quot;terminal&quot;: &quot;1&quot;, &quot;gate&quot;: null, &quot;delay&quot;: 76, &quot;scheduled&quot;: &quot;2023-08-29T09:15:00+00:00&quot;, &quot;estimated&quot;: &quot;2023-08-29T09:15:00+00:00&quot;, &quot;actual&quot;: &quot;2023-08-29T10:30:00+00:00&quot;, &quot;estimated_runway&quot;: &quot;2023-08-29T10:30:00+00:00&quot;, &quot;actual_runway&quot;: &quot;2023-08-29T10:30:00+00:00&quot;}, &quot;arrival&quot;: {&quot;airport&quot;: &quot;Kota-Kinabalu International Airport&quot;, &quot;timezone&quot;: &quot;Asia/Kuching&quot;, &quot;iata&quot;: &quot;BKI&quot;, &quot;icao&quot;: &quot;WBKK&quot;, &quot;terminal&quot;: &quot;1&quot;, &quot;gate&quot;: null, &quot;baggage&quot;: null, &quot;delay&quot;: 55, &quot;scheduled&quot;: &quot;2023-08-29T11:55:00+00:00&quot;, &quot;estimated&quot;: &quot;2023-08-29T11:55:00+00:00&quot;, &quot;actual&quot;: null, &quot;estimated_runway&quot;: null, &quot;actual_runway&quot;: null}, &quot;airline&quot;: {&quot;name&quot;: &quot;Malaysia Airlines&quot;, &quot;iata&quot;: &quot;MH&quot;, &quot;icao&quot;: &quot;MAS&quot;}, &quot;flight&quot;: {&quot;number&quot;: &quot;2610&quot;, &quot;iata&quot;: &quot;MH2610&quot;, &quot;icao&quot;: &quot;MAS2610&quot;, &quot;codeshared&quot;: null}, &quot;aircraft&quot;: null, &quot;live&quot;: null}, {&quot;flight_date&quot;: &quot;2023-08-29&quot;, &quot;flight_status&quot;: &quot;scheduled&quot;, &quot;departure&quot;: {&quot;airport&quot;: &quot;Kuala Lumpur International Airport (klia)&quot;, &quot;timezone&quot;: &quot;Asia/Kuala_Lumpur&quot;, &quot;iata&quot;: &quot;KUL&quot;, &quot;icao&quot;: &quot;WMKK&quot;, &quot;terminal&quot;: &quot;1&quot;, &quot;gate&quot;: null, &quot;delay&quot;: 84, &quot;scheduled&quot;: &quot;2023-08-29T09:15:00+00:00&quot;, &quot;estimated&quot;: &quot;2023-08-29T09:15:00+00:00&quot;, &quot;actual&quot;: &quot;2023-08-29T10:39:00+00:00&quot;, &quot;estimated_runway&quot;: &quot;2023-08-29T10:39:00+00:00&quot;, &quot;actual_runway&quot;: &quot;2023-08-29T10:39:00+00:00&quot;}, &quot;arrival&quot;: {&quot;airport&quot;: &quot;Taiwan Taoyuan International (Chiang Kai Shek International)&quot;, &quot;timezone&quot;: &quot;Asia/Taipei&quot;, &quot;iata&quot;: &quot;TPE&quot;, &quot;icao&quot;: &quot;RCTP&quot;, &quot;terminal&quot;: &quot;1&quot;, &quot;gate&quot;: &quot;A2&quot;, &quot;baggage&quot;: &quot;3B&quot;, &quot;delay&quot;: 61, &quot;scheduled&quot;: &quot;2023-08-29T14:10:00+00:00&quot;, &quot;estimated&quot;: &quot;2023-08-29T14:10:00+00:00&quot;, &quot;actual&quot;: null, &quot;estimated_runway&quot;: null, &quot;actual_runway&quot;: null}, &quot;airline&quot;: {&quot;name&quot;: &quot;Malaysia Airlines&quot;, &quot;iata&quot;: &quot;MH&quot;, &quot;icao&quot;: &quot;MAS&quot;}, &quot;flight&quot;: {&quot;number&quot;: &quot;366&quot;, &quot;iata&quot;: &quot;MH366&quot;, &quot;icao&quot;: &quot;MAS366&quot;, &quot;codeshared&quot;: null}, &quot;aircraft&quot;: null, &quot;live&quot;: null}, {&quot;flight_date&quot;: &quot;2023-08-29&quot;, &quot;flight_status&quot;: &quot;scheduled&quot;, &quot;departure&quot;: {&quot;airport&quot;: &quot;Kuala Lumpur International Airport (klia)&quot;, &quot;timezone&quot;: &quot;Asia/Kuala_Lumpur&quot;, &quot;iata&quot;: &quot;KUL&quot;, &quot;icao&quot;: &quot;WMKK&quot;, &quot;terminal&quot;: &quot;1&quot;, &quot;gate&quot;: null, &quot;delay&quot;: 87, &quot;scheduled&quot;: &quot;2023-08-29T09:10:00+00:00&quot;, &quot;estimated&quot;: &quot;2023-08-29T09:10:00+00:00&quot;, &quot;actual&quot;: &quot;2023-08-29T10:37:00+00:00&quot;, &quot;estimated_runway&quot;: &quot;2023-08-29T10:37:00+00:00&quot;, &quot;actual_runway&quot;: &quot;2023-08-29T10:37:00+00:00&quot;}, &quot;arrival&quot;: {&quot;airport&quot;: &quot;Zia International&quot;, &quot;timezone&quot;: &quot;Asia/Dhaka&quot;, &quot;iata&quot;: &quot;DAC&quot;, &quot;icao&quot;: &quot;VGHS&quot;, &quot;terminal&quot;: &quot;1&quot;, &quot;gate&quot;: null, &quot;baggage&quot;: null, &quot;delay&quot;: 62, &quot;scheduled&quot;: &quot;2023-08-29T11:05:00+00:00&quot;, &quot;estimated&quot;: &quot;2023-08-29T11:05:00+00:00&quot;, &quot;actual&quot;: null, &quot;estimated_runway&quot;: null, &quot;actual_runway&quot;: null}, &quot;airline&quot;: {&quot;name&quot;: &quot;Malaysia Airlines&quot;, &quot;iata&quot;: &quot;MH&quot;, &quot;icao&quot;: &quot;MAS&quot;}, &quot;flight&quot;: {&quot;number&quot;: &quot;102&quot;, &quot;iata&quot;: &quot;MH102&quot;, &quot;icao&quot;: &quot;MAS102&quot;, &quot;codeshared&quot;: null}, &quot;aircraft&quot;: null, &quot;live&quot;: null}, {&quot;flight_date&quot;: &quot;2023-08-29&quot;, &quot;flight_status&quot;: &quot;scheduled&quot;, &quot;departure&quot;: {&quot;airport&quot;: &quot;Singapore Changi&quot;, &quot;timezone&quot;: &quot;Asia/Singapore&quot;, &quot;iata&quot;: &quot;SIN&quot;, &quot;icao&quot;: &quot;WSSS&quot;, &quot;terminal&quot;: &quot;2&quot;, &quot;gate&quot;: &quot;F37&quot;, &quot;delay&quot;: 34, &quot;scheduled&quot;: &quot;2023-08-29T09:55:00+00:00&quot;, &quot;estimated&quot;: &quot;2023-08-29T09:55:00+00:00&quot;, &quot;actual&quot;: &quot;2023-08-29T10:29:00+00:00&quot;, &quot;estimated_runway&quot;: &quot;2023-08-29T10:29:00+00:00&quot;, &quot;actual_runway&quot;: &quot;2023-08-29T10:29:00+00:00&quot;}, &quot;arrival&quot;: {&quot;airport&quot;: &quot;Kuala Lumpur International Airport (klia)&quot;, &quot;timezone&quot;: &quot;Asia/Kuala_Lumpur&quot;, &quot;iata&quot;: &quot;KUL&quot;, &quot;icao&quot;: &quot;WMKK&quot;, &quot;terminal&quot;: &quot;1&quot;, &quot;gate&quot;: null, &quot;baggage&quot;: null, &quot;delay&quot;: 35, &quot;scheduled&quot;: &quot;2023-08-29T10:55:00+00:00&quot;, &quot;estimated&quot;: &quot;2023-08-29T10:55:00+00:00&quot;, &quot;actual&quot;: null, &quot;estimated_runway&quot;: null, &quot;actual_runway&quot;: null}, &quot;airline&quot;: {&quot;name&quot;: &quot;Malaysia Airlines&quot;, &quot;iata&quot;: &quot;MH&quot;, &quot;icao&quot;: &quot;MAS&quot;}, &quot;flight&quot;: {&quot;number&quot;: &quot;604&quot;, &quot;iata&quot;: &quot;MH604&quot;, &quot;icao&quot;: &quot;MAS604&quot;, &quot;codeshared&quot;: null}, &quot;aircraft&quot;: null, &quot;live&quot;: null}, {&quot;flight_date&quot;: &quot;2023-08-29&quot;, &quot;flight_status&quot;: &quot;scheduled&quot;, &quot;departure&quot;: {&quot;airport&quot;: &quot;Kuala Lumpur International Airport (klia)&quot;, &quot;timezone&quot;: &quot;Asia/Kuala_Lumpur&quot;, &quot;iata&quot;: &quot;KUL&quot;, &quot;icao&quot;: &quot;WMKK&quot;, &quot;terminal&quot;: &quot;1&quot;, &quot;gate&quot;: null, &quot;delay&quot;: 95, &quot;scheduled&quot;: &quot;2023-08-29T09:00:00+00:00&quot;, &quot;estimated&quot;: &quot;2023-08-29T09:00:00+00:00&quot;, &quot;actual&quot;: &quot;2023-08-29T10:35:00+00:00&quot;, &quot;estimated_runway&quot;: &quot;2023-08-29T10:35:00+00:00&quot;, &quot;actual_runway&quot;: &quot;2023-08-29T10:35:00+00:00&quot;}, &quot;arrival&quot;: {&quot;airport&quot;: &quot;Suvarnabhumi International&quot;, &quot;timezone&quot;: &quot;Asia/Bangkok&quot;, &quot;iata&quot;: &quot;BKK&quot;, &quot;icao&quot;: &quot;VTBS&quot;, &quot;terminal&quot;: &quot;D&quot;, &quot;gate&quot;: null, &quot;baggage&quot;: null, &quot;delay&quot;: 72, &quot;scheduled&quot;: &quot;2023-08-29T10:15:00+00:00&quot;, &quot;estimated&quot;: &quot;2023-08-29T10:15:00+00:00&quot;, &quot;actual&quot;: null, &quot;estimated_runway&quot;: null, &quot;actual_runway&quot;: null}, &quot;airline&quot;: {&quot;name&quot;: &quot;Malaysia Airlines&quot;, &quot;iata&quot;: &quot;MH&quot;, &quot;icao&quot;: &quot;MAS&quot;}, &quot;flight&quot;: {&quot;number&quot;: &quot;784&quot;, &quot;iata&quot;: &quot;MH784&quot;, &quot;icao&quot;: &quot;MAS784&quot;, &quot;codeshared&quot;: null}, &quot;aircraft&quot;: null, &quot;live&quot;: null}, {&quot;flight_date&quot;: &quot;2023-08-29&quot;, &quot;flight_status&quot;: &quot;landed&quot;, &quot;departure&quot;: {&quot;airport&quot;: &quot;Sultan Ismail Petra&quot;, &quot;timezone&quot;: &quot;Asia/Kuala_Lumpur&quot;, &quot;iata&quot;: &quot;KBR&quot;, &quot;icao&quot;: &quot;WMKC&quot;, &quot;terminal&quot;: null, &quot;gate&quot;: null, &quot;delay&quot;: 40, &quot;scheduled&quot;: &quot;2023-08-29T08:50:00+00:00&quot;, &quot;estimated&quot;: &quot;2023-08-29T08:50:00+00:00&quot;, &quot;actual&quot;: &quot;2023-08-29T09:30:00+00:00&quot;, &quot;estimated_runway&quot;: &quot;2023-08-29T09:30:00+00:00&quot;, &quot;actual_runway&quot;: &quot;2023-08-29T09:30:00+00:00&quot;}, &quot;arrival&quot;: {&quot;airport&quot;: &quot;Sultan Abdul Aziz Shah&quot;, &quot;timezone&quot;: &quot;Asia/Kuala_Lumpur&quot;, &quot;iata&quot;: &quot;SZB&quot;, &quot;icao&quot;: &quot;WMSA&quot;, &quot;terminal&quot;: null, &quot;gate&quot;: null, &quot;baggage&quot;: null, &quot;delay&quot;: 31, &quot;scheduled&quot;: &quot;2023-08-29T09:55:00+00:00&quot;, &quot;estimated&quot;: &quot;2023-08-29T09:55:00+00:00&quot;, &quot;actual&quot;: &quot;2023-08-29T10:25:00+00:00&quot;, &quot;estimated_runway&quot;: &quot;2023-08-29T10:25:00+00:00&quot;, &quot;actual_runway&quot;: &quot;2023-08-29T10:25:00+00:00&quot;}, &quot;airline&quot;: {&quot;name&quot;: &quot;Malaysia Airlines&quot;, &quot;iata&quot;: &quot;MH&quot;, &quot;icao&quot;: &quot;MAS&quot;}, &quot;flight&quot;: {&quot;number&quot;: &quot;5301&quot;, &quot;iata&quot;: &quot;MH5301&quot;, &quot;icao&quot;: &quot;MAS5301&quot;, &quot;codeshared&quot;: {&quot;airline_name&quot;: &quot;firefly&quot;, &quot;airline_iata&quot;: &quot;fy&quot;, &quot;airline_icao&quot;: &quot;ffm&quot;, &quot;flight_number&quot;: &quot;1145&quot;, &quot;flight_iata&quot;: &quot;fy1145&quot;, &quot;flight_icao&quot;: &quot;ffm1145&quot;}}, &quot;aircraft&quot;: null, &quot;live&quot;: null}, {&quot;flight_date&quot;: &quot;2023-08-29&quot;, &quot;flight_status&quot;: &quot;landed&quot;, &quot;departure&quot;: {&quot;airport&quot;: &quot;Singapore Changi&quot;, &quot;timezone&quot;: &quot;Asia/Singapore&quot;, &quot;iata&quot;: &quot;SIN&quot;, &quot;icao&quot;: &quot;WSSS&quot;, &quot;terminal&quot;: &quot;2&quot;, &quot;gate&quot;: &quot;F35&quot;, &quot;delay&quot;: 45, &quot;scheduled&quot;: &quot;2023-08-29T06:40:00+00:00&quot;, &quot;estimated&quot;: &quot;2023-08-29T06:40:00+00:00&quot;, &quot;actual&quot;: &quot;2023-08-29T07:24:00+00:00&quot;, &quot;estimated_runway&quot;: &quot;2023-08-29T07:24:00+00:00&quot;, &quot;actual_runway&quot;: &quot;2023-08-29T07:24:00+00:00&quot;}, &quot;arrival&quot;: {&quot;airport&quot;: &quot;Kuala Lumpur International Airport (klia)&quot;, &quot;timezone&quot;: &quot;Asia/Kuala_Lumpur&quot;, &quot;iata&quot;: &quot;KUL&quot;, &quot;icao&quot;: &quot;WMKK&quot;, &quot;terminal&quot;: &quot;1&quot;, &quot;gate&quot;: null, &quot;baggage&quot;: null, &quot;delay&quot;: 30, &quot;scheduled&quot;: &quot;2023-08-29T07:40:00+00:00&quot;, &quot;estimated&quot;: &quot;2023-08-29T07:40:00+00:00&quot;, &quot;actual&quot;: &quot;2023-08-29T08:09:00+00:00&quot;, &quot;estimated_runway&quot;: &quot;2023-08-29T08:09:00+00:00&quot;, &quot;actual_runway&quot;: &quot;2023-08-29T08:09:00+00:00&quot;}, &quot;airline&quot;: {&quot;name&quot;: &quot;Malaysia Airlines&quot;, &quot;iata&quot;: &quot;MH&quot;, &quot;icao&quot;: &quot;MAS&quot;}, &quot;flight&quot;: {&quot;number&quot;: &quot;602&quot;, &quot;iata&quot;: &quot;MH602&quot;, &quot;icao&quot;: &quot;MAS602&quot;, &quot;codeshared&quot;: null}, &quot;aircraft&quot;: null, &quot;live&quot;: null}, {&quot;flight_date&quot;: &quot;2023-08-29&quot;, &quot;flight_status&quot;: &quot;scheduled&quot;, &quot;departure&quot;: {&quot;airport&quot;: &quot;Puerto Princesa&quot;, &quot;timezone&quot;: &quot;Asia/Manila&quot;, &quot;iata&quot;: &quot;PPS&quot;, &quot;icao&quot;: &quot;RPVP&quot;, &quot;terminal&quot;: null, &quot;gate&quot;: null, &quot;delay&quot;: 108, &quot;scheduled&quot;: &quot;2023-08-29T06:00:00+00:00&quot;, &quot;estimated&quot;: &quot;2023-08-29T06:00:00+00:00&quot;, &quot;actual&quot;: &quot;2023-08-29T07:47:00+00:00&quot;, &quot;estimated_runway&quot;: &quot;2023-08-29T07:47:00+00:00&quot;, &quot;actual_runway&quot;: &quot;2023-08-29T07:47:00+00:00&quot;}, &quot;arrival&quot;: {&quot;airport&quot;: &quot;Ninoy Aquino International&quot;, &quot;timezone&quot;: &quot;Asia/Manila&quot;, &quot;iata&quot;: &quot;MNL&quot;, &quot;icao&quot;: &quot;RPLL&quot;, &quot;terminal&quot;: &quot;2&quot;, &quot;gate&quot;: null, &quot;baggage&quot;: null, &quot;delay&quot;: 95, &quot;scheduled&quot;: &quot;2023-08-29T07:20:00+00:00&quot;, &quot;estimated&quot;: &quot;2023-08-29T07:20:00+00:00&quot;, &quot;actual&quot;: null, &quot;estimated_runway&quot;: null, &quot;actual_runway&quot;: null}, &quot;airline&quot;: {&quot;name&quot;: &quot;Malaysia Airlines&quot;, &quot;iata&quot;: &quot;MH&quot;, &quot;icao&quot;: &quot;MAS&quot;}, &quot;flight&quot;: {&quot;number&quot;: &quot;5964&quot;, &quot;iata&quot;: &quot;MH5964&quot;, &quot;icao&quot;: &quot;MAS5964&quot;, &quot;codeshared&quot;: {&quot;airline_name&quot;: &quot;philippine airlines&quot;, &quot;airline_iata&quot;: &quot;pr&quot;, &quot;airline_icao&quot;: &quot;pal&quot;, &quot;flight_number&quot;: &quot;2782&quot;, &quot;flight_iata&quot;: &quot;pr2782&quot;, &quot;flight_icao&quot;: &quot;pal2782&quot;}}, &quot;aircraft&quot;: null, &quot;live&quot;: null}, {&quot;flight_date&quot;: &quot;2023-08-29&quot;, &quot;flight_status&quot;: &quot;scheduled&quot;, &quot;departure&quot;: {&quot;airport&quot;: &quot;Ninoy Aquino International&quot;, &quot;timezone&quot;: &quot;Asia/Manila&quot;, &quot;iata&quot;: &quot;MNL&quot;, &quot;icao&quot;: &quot;RPLL&quot;, &quot;terminal&quot;: &quot;2&quot;, &quot;gate&quot;: null, &quot;delay&quot;: 110, &quot;scheduled&quot;: &quot;2023-08-29T04:00:00+00:00&quot;, &quot;estimated&quot;: &quot;2023-08-29T04:00:00+00:00&quot;, &quot;actual&quot;: &quot;2023-08-29T05:49:00+00:00&quot;, &quot;estimated_runway&quot;: &quot;2023-08-29T05:49:00+00:00&quot;, &quot;actual_runway&quot;: &quot;2023-08-29T05:49:00+00:00&quot;}, &quot;arrival&quot;: {&quot;airport&quot;: &quot;Puerto Princesa&quot;, &quot;timezone&quot;: &quot;Asia/Manila&quot;, &quot;iata&quot;: &quot;PPS&quot;, &quot;icao&quot;: &quot;RPVP&quot;, &quot;terminal&quot;: &quot;3&quot;, &quot;gate&quot;: null, &quot;baggage&quot;: null, &quot;delay&quot;: 87, &quot;scheduled&quot;: &quot;2023-08-29T05:20:00+00:00&quot;, &quot;estimated&quot;: &quot;2023-08-29T05:20:00+00:00&quot;, &quot;actual&quot;: null, &quot;estimated_runway&quot;: null, &quot;actual_runway&quot;: null}, &quot;airline&quot;: {&quot;name&quot;: &quot;Malaysia Airlines&quot;, &quot;iata&quot;: &quot;MH&quot;, &quot;icao&quot;: &quot;MAS&quot;}, &quot;flight&quot;: {&quot;number&quot;: &quot;5997&quot;, &quot;iata&quot;: &quot;MH5997&quot;, &quot;icao&quot;: &quot;MAS5997&quot;, &quot;codeshared&quot;: {&quot;airline_name&quot;: &quot;philippine airlines&quot;, &quot;airline_iata&quot;: &quot;pr&quot;, &quot;airline_icao&quot;: &quot;pal&quot;, &quot;flight_number&quot;: &quot;2781&quot;, &quot;flight_iata&quot;: &quot;pr2781&quot;, &quot;flight_icao&quot;: &quot;pal2781&quot;}}, &quot;aircraft&quot;: null, &quot;live&quot;: null}, {&quot;flight_date&quot;: &quot;2023-08-29&quot;, &quot;flight_status&quot;: &quot;scheduled&quot;, &quot;departure&quot;: {&quot;airport&quot;: &quot;Kuala Lumpur International Airport (klia)&quot;, &quot;timezone&quot;: &quot;Asia/Kuala_Lumpur&quot;, &quot;iata&quot;: &quot;KUL&quot;, &quot;icao&quot;: &quot;WMKK&quot;, &quot;terminal&quot;: &quot;1&quot;, &quot;gate&quot;: null, &quot;delay&quot;: 105, &quot;scheduled&quot;: &quot;2023-08-29T02:55:00+00:00&quot;, &quot;estimated&quot;: &quot;2023-08-29T02:55:00+00:00&quot;, &quot;actual&quot;: &quot;2023-08-29T04:39:00+00:00&quot;, &quot;estimated_runway&quot;: &quot;2023-08-29T04:39:00+00:00&quot;, &quot;actual_runway&quot;: &quot;2023-08-29T04:39:00+00:00&quot;}, &quot;arrival&quot;: {&quot;airport&quot;: &quot;Doha International&quot;, &quot;timezone&quot;: &quot;Asia/Qatar&quot;, &quot;iata&quot;: &quot;DOH&quot;, &quot;icao&quot;: &quot;OTHH&quot;, &quot;terminal&quot;: &quot;1&quot;, &quot;gate&quot;: null, &quot;baggage&quot;: &quot;4&quot;, &quot;delay&quot;: 78, &quot;scheduled&quot;: &quot;2023-08-29T05:15:00+00:00&quot;, &quot;estimated&quot;: &quot;2023-08-29T05:15:00+00:00&quot;, &quot;actual&quot;: null, &quot;estimated_runway&quot;: null, &quot;actual_runway&quot;: null}, &quot;airline&quot;: {&quot;name&quot;: &quot;Malaysia Airlines&quot;, &quot;iata&quot;: &quot;MH&quot;, &quot;icao&quot;: &quot;MAS&quot;}, &quot;flight&quot;: {&quot;number&quot;: &quot;164&quot;, &quot;iata&quot;: &quot;MH164&quot;, &quot;icao&quot;: &quot;MAS164&quot;, &quot;codeshared&quot;: null}, &quot;aircraft&quot;: null, &quot;live&quot;: null}, {&quot;flight_date&quot;: &quot;2023-08-29&quot;, &quot;flight_status&quot;: &quot;scheduled&quot;, &quot;departure&quot;: {&quot;airport&quot;: &quot;Auckland International&quot;, &quot;timezone&quot;: &quot;Pacific/Auckland&quot;, &quot;iata&quot;: &quot;AKL&quot;, &quot;icao&quot;: &quot;NZAA&quot;, &quot;terminal&quot;: &quot;I&quot;, &quot;gate&quot;: &quot;2&quot;, &quot;delay&quot;: 123, &quot;scheduled&quot;: &quot;2023-08-29T00:15:00+00:00&quot;, &quot;estimated&quot;: &quot;2023-08-29T00:15:00+00:00&quot;, &quot;actual&quot;: &quot;2023-08-29T02:17:00+00:00&quot;, &quot;estimated_runway&quot;: &quot;2023-08-29T02:17:00+00:00&quot;, &quot;actual_runway&quot;: &quot;2023-08-29T02:17:00+00:00&quot;}, &quot;arrival&quot;: {&quot;airport&quot;: &quot;Kuala Lumpur International Airport (klia)&quot;, &quot;timezone&quot;: &quot;Asia/Kuala_Lumpur&quot;, &quot;iata&quot;: &quot;KUL&quot;, &quot;icao&quot;: &quot;WMKK&quot;, &quot;terminal&quot;: &quot;1&quot;, &quot;gate&quot;: null, &quot;baggage&quot;: null, &quot;delay&quot;: 72, &quot;scheduled&quot;: &quot;2023-08-29T07:40:00+00:00&quot;, &quot;estimated&quot;: &quot;2023-08-29T07:40:00+00:00&quot;, &quot;actual&quot;: null, &quot;estimated_runway&quot;: null, &quot;actual_runway&quot;: null}, &quot;airline&quot;: {&quot;name&quot;: &quot;Malaysia Airlines&quot;, &quot;iata&quot;: &quot;MH&quot;, &quot;icao&quot;: &quot;MAS&quot;}, &quot;flight&quot;: {&quot;number&quot;: &quot;132&quot;, &quot;iata&quot;: &quot;MH132&quot;, &quot;icao&quot;: &quot;MAS132&quot;, &quot;codeshared&quot;: null}, &quot;aircraft&quot;: {&quot;registration&quot;: &quot;9M-MTW&quot;, &quot;iata&quot;: &quot;A332&quot;, &quot;icao&quot;: &quot;A332&quot;, &quot;icao24&quot;: &quot;75046C&quot;}, &quot;live&quot;: {&quot;updated&quot;: &quot;2023-08-28T22:21:02+00:00&quot;, &quot;latitude&quot;: -6.12, &quot;longitude&quot;: 118.43, &quot;altitude&quot;: 12192, &quot;direction&quot;: 296, &quot;speed_horizontal&quot;: 918.592, &quot;speed_vertical&quot;: 0, &quot;is_ground&quot;: false}}, {&quot;flight_date&quot;: &quot;2023-08-28&quot;, &quot;flight_status&quot;: &quot;scheduled&quot;, &quot;departure&quot;: {&quot;airport&quot;: &quot;Hartsfield-jackson Atlanta International&quot;, &quot;timezone&quot;: &quot;America/New_York&quot;, &quot;iata&quot;: &quot;ATL&quot;, &quot;icao&quot;: &quot;KATL&quot;, &quot;terminal&quot;: &quot;N&quot;, &quot;gate&quot;: &quot;T9&quot;, &quot;delay&quot;: 133, &quot;scheduled&quot;: &quot;2023-08-28T18:24:00+00:00&quot;, &quot;estimated&quot;: &quot;2023-08-28T18:24:00+00:00&quot;, &quot;actual&quot;: &quot;2023-08-28T20:36:00+00:00&quot;, &quot;estimated_runway&quot;: &quot;2023-08-28T20:36:00+00:00&quot;, &quot;actual_runway&quot;: &quot;2023-08-28T20:36:00+00:00&quot;}, &quot;arrival&quot;: {&quot;airport&quot;: &quot;Chicago O&#x27;hare International&quot;, &quot;timezone&quot;: &quot;America/Chicago&quot;, &quot;iata&quot;: &quot;ORD&quot;, &quot;icao&quot;: &quot;KORD&quot;, &quot;terminal&quot;: &quot;3&quot;, &quot;gate&quot;: &quot;L10A&quot;, &quot;baggage&quot;: null, &quot;delay&quot;: 79, &quot;scheduled&quot;: &quot;2023-08-28T19:43:00+00:00&quot;, &quot;estimated&quot;: &quot;2023-08-28T19:43:00+00:00&quot;, &quot;actual&quot;: null, &quot;estimated_runway&quot;: null, &quot;actual_runway&quot;: null}, &quot;airline&quot;: {&quot;name&quot;: &quot;Malaysia Airlines&quot;, &quot;iata&quot;: &quot;MH&quot;, &quot;icao&quot;: &quot;MAS&quot;}, &quot;flight&quot;: {&quot;number&quot;: &quot;9456&quot;, &quot;iata&quot;: &quot;MH9456&quot;, &quot;icao&quot;: &quot;MAS9456&quot;, &quot;codeshared&quot;: {&quot;airline_name&quot;: &quot;american airlines&quot;, &quot;airline_iata&quot;: &quot;aa&quot;, &quot;airline_icao&quot;: &quot;aal&quot;, &quot;flight_number&quot;: &quot;4621&quot;, &quot;flight_iata&quot;: &quot;aa4621&quot;, &quot;flight_icao&quot;: &quot;aal4621&quot;}}, &quot;aircraft&quot;: null, &quot;live&quot;: null}, {&quot;flight_date&quot;: &quot;2023-08-28&quot;, &quot;flight_status&quot;: &quot;scheduled&quot;, &quot;departure&quot;: {&quot;airport&quot;: &quot;Logan International&quot;, &quot;timezone&quot;: &quot;America/New_York&quot;, &quot;iata&quot;: &quot;BOS&quot;, &quot;icao&quot;: &quot;KBOS&quot;, &quot;terminal&quot;: &quot;B&quot;, &quot;gate&quot;: &quot;B12&quot;, &quot;delay&quot;: 81, &quot;scheduled&quot;: &quot;2023-08-28T18:33:00+00:00&quot;, &quot;estimated&quot;: &quot;2023-08-28T18:33:00+00:00&quot;, &quot;actual&quot;: &quot;2023-08-28T19:59:00+00:00&quot;, &quot;estimated_runway&quot;: &quot;2023-08-28T19:59:00+00:00&quot;, &quot;actual_runway&quot;: &quot;2023-08-28T19:59:00+00:00&quot;}, &quot;arrival&quot;: {&quot;airport&quot;: &quot;John F Kennedy International&quot;, &quot;timezone&quot;: &quot;America/New_York&quot;, &quot;iata&quot;: &quot;JFK&quot;, &quot;icao&quot;: &quot;KJFK&quot;, &quot;terminal&quot;: &quot;8&quot;, &quot;gate&quot;: &quot;37&quot;, &quot;baggage&quot;: &quot;9&quot;, &quot;delay&quot;: 46, &quot;scheduled&quot;: &quot;2023-08-28T19:59:00+00:00&quot;, &quot;estimated&quot;: &quot;2023-08-28T19:59:00+00:00&quot;, &quot;actual&quot;: null, &quot;estimated_runway&quot;: null, &quot;actual_runway&quot;: null}, &quot;airline&quot;: {&quot;name&quot;: &quot;Malaysia Airlines&quot;, &quot;iata&quot;: &quot;MH&quot;, &quot;icao&quot;: &quot;MAS&quot;}, &quot;flight&quot;: {&quot;number&quot;: &quot;9340&quot;, &quot;iata&quot;: &quot;MH9340&quot;, &quot;icao&quot;: &quot;MAS9340&quot;, &quot;codeshared&quot;: {&quot;airline_name&quot;: &quot;american airlines&quot;, &quot;airline_iata&quot;: &quot;aa&quot;, &quot;airline_icao&quot;: &quot;aal&quot;, &quot;flight_number&quot;: &quot;4294&quot;, &quot;flight_iata&quot;: &quot;aa4294&quot;, &quot;flight_icao&quot;: &quot;aal4294&quot;}}, &quot;aircraft&quot;: null, &quot;live&quot;: null}, {&quot;flight_date&quot;: &quot;2023-08-28&quot;, &quot;flight_status&quot;: &quot;scheduled&quot;, &quot;departure&quot;: {&quot;airport&quot;: &quot;Chicago O&#x27;hare International&quot;, &quot;timezone&quot;: &quot;America/Chicago&quot;, &quot;iata&quot;: &quot;ORD&quot;, &quot;icao&quot;: &quot;KORD&quot;, &quot;terminal&quot;: &quot;3&quot;, &quot;gate&quot;: &quot;K16&quot;, &quot;delay&quot;: 164, &quot;scheduled&quot;: &quot;2023-08-28T16:55:00+00:00&quot;, &quot;estimated&quot;: &quot;2023-08-28T16:55:00+00:00&quot;, &quot;actual&quot;: &quot;2023-08-28T19:46:00+00:00&quot;, &quot;estimated_runway&quot;: &quot;2023-08-28T19:46:00+00:00&quot;, &quot;actual_runway&quot;: &quot;2023-08-28T19:46:00+00:00&quot;}, &quot;arrival&quot;: {&quot;airport&quot;: &quot;Los Angeles International&quot;, &quot;timezone&quot;: &quot;America/Los_Angeles&quot;, &quot;iata&quot;: &quot;LAX&quot;, &quot;icao&quot;: &quot;KLAX&quot;, &quot;terminal&quot;: &quot;5&quot;, &quot;gate&quot;: &quot;53A&quot;, &quot;baggage&quot;: &quot;T5C5&quot;, &quot;delay&quot;: 137, &quot;scheduled&quot;: &quot;2023-08-28T19:12:00+00:00&quot;, &quot;estimated&quot;: &quot;2023-08-28T19:12:00+00:00&quot;, &quot;actual&quot;: null, &quot;estimated_runway&quot;: null, &quot;actual_runway&quot;: null}, &quot;airline&quot;: {&quot;name&quot;: &quot;Malaysia Airlines&quot;, &quot;iata&quot;: &quot;MH&quot;, &quot;icao&quot;: &quot;MAS&quot;}, &quot;flight&quot;: {&quot;number&quot;: &quot;9455&quot;, &quot;iata&quot;: &quot;MH9455&quot;, &quot;icao&quot;: &quot;MAS9455&quot;, &quot;codeshared&quot;: {&quot;airline_name&quot;: &quot;american airlines&quot;, &quot;airline_iata&quot;: &quot;aa&quot;, &quot;airline_icao&quot;: &quot;aal&quot;, &quot;flight_number&quot;: &quot;2364&quot;, &quot;flight_iata&quot;: &quot;aa2364&quot;, &quot;flight_icao&quot;: &quot;aal2364&quot;}}, &quot;aircraft&quot;: null, &quot;live&quot;: null}, {&quot;flight_date&quot;: &quot;2023-08-28&quot;, &quot;flight_status&quot;: &quot;scheduled&quot;, &quot;departure&quot;: {&quot;airport&quot;: &quot;Charlotte Douglas&quot;, &quot;timezone&quot;: &quot;America/New_York&quot;, &quot;iata&quot;: &quot;CLT&quot;, &quot;icao&quot;: &quot;KCLT&quot;, &quot;terminal&quot;: null, &quot;gate&quot;: &quot;B13&quot;, &quot;delay&quot;: 96, &quot;scheduled&quot;: &quot;2023-08-28T18:09:00+00:00&quot;, &quot;estimated&quot;: &quot;2023-08-28T18:09:00+00:00&quot;, &quot;actual&quot;: &quot;2023-08-28T19:45:00+00:00&quot;, &quot;estimated_runway&quot;: &quot;2023-08-28T19:45:00+00:00&quot;, &quot;actual_runway&quot;: &quot;2023-08-28T19:45:00+00:00&quot;}, &quot;arrival&quot;: {&quot;airport&quot;: &quot;La Guardia&quot;, &quot;timezone&quot;: &quot;America/New_York&quot;, &quot;iata&quot;: &quot;LGA&quot;, &quot;icao&quot;: &quot;KLGA&quot;, &quot;terminal&quot;: &quot;B&quot;, &quot;gate&quot;: &quot;17&quot;, &quot;baggage&quot;: &quot;3&quot;, &quot;delay&quot;: 60, &quot;scheduled&quot;: &quot;2023-08-28T20:00:00+00:00&quot;, &quot;estimated&quot;: &quot;2023-08-28T20:00:00+00:00&quot;, &quot;actual&quot;: null, &quot;estimated_runway&quot;: null, &quot;actual_runway&quot;: null}, &quot;airline&quot;: {&quot;name&quot;: &quot;Malaysia Airlines&quot;, &quot;iata&quot;: &quot;MH&quot;, &quot;icao&quot;: &quot;MAS&quot;}, &quot;flight&quot;: {&quot;number&quot;: &quot;9604&quot;, &quot;iata&quot;: &quot;MH9604&quot;, &quot;icao&quot;: &quot;MAS9604&quot;, &quot;codeshared&quot;: {&quot;airline_name&quot;: &quot;american airlines&quot;, &quot;airline_iata&quot;: &quot;aa&quot;, &quot;airline_icao&quot;: &quot;aal&quot;, &quot;flight_number&quot;: &quot;1893&quot;, &quot;flight_iata&quot;: &quot;aa1893&quot;, &quot;flight_icao&quot;: &quot;aal1893&quot;}}, &quot;aircraft&quot;: null, &quot;live&quot;: null}, {&quot;flight_date&quot;: &quot;2023-08-28&quot;, &quot;flight_status&quot;: &quot;scheduled&quot;, &quot;departure&quot;: {&quot;airport&quot;: &quot;Charlotte Douglas&quot;, &quot;timezone&quot;: &quot;America/New_York&quot;, &quot;iata&quot;: &quot;CLT&quot;, &quot;icao&quot;: &quot;KCLT&quot;, &quot;terminal&quot;: null, &quot;gate&quot;: &quot;C12&quot;, &quot;delay&quot;: 133, &quot;scheduled&quot;: &quot;2023-08-28T18:05:00+00:00&quot;, &quot;estimated&quot;: &quot;2023-08-28T18:05:00+00:00&quot;, &quot;actual&quot;: &quot;2023-08-28T20:17:00+00:00&quot;, &quot;estimated_runway&quot;: &quot;2023-08-28T20:17:00+00:00&quot;, &quot;actual_runway&quot;: &quot;2023-08-28T20:17:00+00:00&quot;}, &quot;arrival&quot;: {&quot;airport&quot;: &quot;Dallas/Fort Worth International&quot;, &quot;timezone&quot;: &quot;America/Chicago&quot;, &quot;iata&quot;: &quot;DFW&quot;, &quot;icao&quot;: &quot;KDFW&quot;, &quot;terminal&quot;: &quot;C&quot;, &quot;gate&quot;: &quot;C36&quot;, &quot;baggage&quot;: &quot;C26&quot;, &quot;delay&quot;: 91, &quot;scheduled&quot;: &quot;2023-08-28T19:54:00+00:00&quot;, &quot;estimated&quot;: &quot;2023-08-28T19:54:00+00:00&quot;, &quot;actual&quot;: null, &quot;estimated_runway&quot;: null, &quot;actual_runway&quot;: null}, &quot;airline&quot;: {&quot;name&quot;: &quot;Malaysia Airlines&quot;, &quot;iata&quot;: &quot;MH&quot;, &quot;icao&quot;: &quot;MAS&quot;}, &quot;flight&quot;: {&quot;number&quot;: &quot;9505&quot;, &quot;iata&quot;: &quot;MH9505&quot;, &quot;icao&quot;: &quot;MAS9505&quot;, &quot;codeshared&quot;: {&quot;airline_name&quot;: &quot;american airlines&quot;, &quot;airline_iata&quot;: &quot;aa&quot;, &quot;airline_icao&quot;: &quot;aal&quot;, &quot;flight_number&quot;: &quot;1571&quot;, &quot;flight_iata&quot;: &quot;aa1571&quot;, &quot;flight_icao&quot;: &quot;aal1571&quot;}}, &quot;aircraft&quot;: null, &quot;live&quot;: null}, {&quot;flight_date&quot;: &quot;2023-08-28&quot;, &quot;flight_status&quot;: &quot;scheduled&quot;, &quot;departure&quot;: {&quot;airport&quot;: &quot;Miami International Airport&quot;, &quot;timezone&quot;: &quot;America/New_York&quot;, &quot;iata&quot;: &quot;MIA&quot;, &quot;icao&quot;: &quot;KMIA&quot;, &quot;terminal&quot;: &quot;N&quot;, &quot;gate&quot;: &quot;D4&quot;, &quot;delay&quot;: 115, &quot;scheduled&quot;: &quot;2023-08-28T17:30:00+00:00&quot;, &quot;estimated&quot;: &quot;2023-08-28T17:30:00+00:00&quot;, &quot;actual&quot;: &quot;2023-08-28T19:22:00+00:00&quot;, &quot;estimated_runway&quot;: &quot;2023-08-28T19:22:00+00:00&quot;, &quot;actual_runway&quot;: &quot;2023-08-28T19:22:00+00:00&quot;}, &quot;arrival&quot;: {&quot;airport&quot;: &quot;Los Angeles International&quot;, &quot;timezone&quot;: &quot;America/Los_Angeles&quot;, &quot;iata&quot;: &quot;LAX&quot;, &quot;icao&quot;: &quot;KLAX&quot;, &quot;terminal&quot;: &quot;4&quot;, &quot;gate&quot;: &quot;47A&quot;, &quot;baggage&quot;: &quot;T4A&quot;, &quot;delay&quot;: 65, &quot;scheduled&quot;: &quot;2023-08-28T19:56:00+00:00&quot;, &quot;estimated&quot;: &quot;2023-08-28T19:56:00+00:00&quot;, &quot;actual&quot;: null, &quot;estimated_runway&quot;: null, &quot;actual_runway&quot;: null}, &quot;airline&quot;: {&quot;name&quot;: &quot;Malaysia Airlines&quot;, &quot;iata&quot;: &quot;MH&quot;, &quot;icao&quot;: &quot;MAS&quot;}, &quot;flight&quot;: {&quot;number&quot;: &quot;9409&quot;, &quot;iata&quot;: &quot;MH9409&quot;, &quot;icao&quot;: &quot;MAS9409&quot;, &quot;codeshared&quot;: {&quot;airline_name&quot;: &quot;american airlines&quot;, &quot;airline_iata&quot;: &quot;aa&quot;, &quot;airline_icao&quot;: &quot;aal&quot;, &quot;flight_number&quot;: &quot;1998&quot;, &quot;flight_iata&quot;: &quot;aa1998&quot;, &quot;flight_icao&quot;: &quot;aal1998&quot;}}, &quot;aircraft&quot;: null, &quot;live&quot;: null}, {&quot;flight_date&quot;: &quot;2023-08-28&quot;, &quot;flight_status&quot;: &quot;landed&quot;, &quot;departure&quot;: {&quot;airport&quot;: &quot;Charlotte Douglas&quot;, &quot;timezone&quot;: &quot;America/New_York&quot;, &quot;iata&quot;: &quot;CLT&quot;, &quot;icao&quot;: &quot;KCLT&quot;, &quot;terminal&quot;: null, &quot;gate&quot;: &quot;C8&quot;, &quot;delay&quot;: 70, &quot;scheduled&quot;: &quot;2023-08-28T17:31:00+00:00&quot;, &quot;estimated&quot;: &quot;2023-08-28T17:31:00+00:00&quot;, &quot;actual&quot;: &quot;2023-08-28T18:41:00+00:00&quot;, &quot;estimated_runway&quot;: &quot;2023-08-28T18:41:00+00:00&quot;, &quot;actual_runway&quot;: &quot;2023-08-28T18:41:00+00:00&quot;}, &quot;arrival&quot;: {&quot;airport&quot;: &quot;Logan International&quot;, &quot;timezone&quot;: &quot;America/New_York&quot;, &quot;iata&quot;: &quot;BOS&quot;, &quot;icao&quot;: &quot;KBOS&quot;, &quot;terminal&quot;: &quot;B&quot;, &quot;gate&quot;: &quot;B21&quot;, &quot;baggage&quot;: &quot;1&quot;, &quot;delay&quot;: 34, &quot;scheduled&quot;: &quot;2023-08-28T19:42:00+00:00&quot;, &quot;estimated&quot;: &quot;2023-08-28T19:42:00+00:00&quot;, &quot;actual&quot;: &quot;2023-08-28T20:16:00+00:00&quot;, &quot;estimated_runway&quot;: &quot;2023-08-28T20:16:00+00:00&quot;, &quot;actual_runway&quot;: &quot;2023-08-28T20:16:00+00:00&quot;}, &quot;airline&quot;: {&quot;name&quot;: &quot;Malaysia Airlines&quot;, &quot;iata&quot;: &quot;MH&quot;, &quot;icao&quot;: &quot;MAS&quot;}, &quot;flight&quot;: {&quot;number&quot;: &quot;9462&quot;, &quot;iata&quot;: &quot;MH9462&quot;, &quot;icao&quot;: &quot;MAS9462&quot;, &quot;codeshared&quot;: {&quot;airline_name&quot;: &quot;american airlines&quot;, &quot;airline_iata&quot;: &quot;aa&quot;, &quot;airline_icao&quot;: &quot;aal&quot;, &quot;flight_number&quot;: &quot;1978&quot;, &quot;flight_iata&quot;: &quot;aa1978&quot;, &quot;flight_icao&quot;: &quot;aal1978&quot;}}, &quot;aircraft&quot;: null, &quot;live&quot;: null}, {&quot;flight_date&quot;: &quot;2023-08-28&quot;, &quot;flight_status&quot;: &quot;scheduled&quot;, &quot;departure&quot;: {&quot;airport&quot;: &quot;John F Kennedy International&quot;, &quot;timezone&quot;: &quot;America/New_York&quot;, &quot;iata&quot;: &quot;JFK&quot;, &quot;icao&quot;: &quot;KJFK&quot;, &quot;terminal&quot;: &quot;8&quot;, &quot;gate&quot;: &quot;35&quot;, &quot;delay&quot;: 150, &quot;scheduled&quot;: &quot;2023-08-28T15:55:00+00:00&quot;, &quot;estimated&quot;: &quot;2023-08-28T15:55:00+00:00&quot;, &quot;actual&quot;: &quot;2023-08-28T18:25:00+00:00&quot;, &quot;estimated_runway&quot;: &quot;2023-08-28T18:25:00+00:00&quot;, &quot;actual_runway&quot;: &quot;2023-08-28T18:25:00+00:00&quot;}, &quot;arrival&quot;: {&quot;airport&quot;: &quot;Miami International Airport&quot;, &quot;timezone&quot;: &quot;America/New_York&quot;, &quot;iata&quot;: &quot;MIA&quot;, &quot;icao&quot;: &quot;KMIA&quot;, &quot;terminal&quot;: &quot;N&quot;, &quot;gate&quot;: &quot;D1&quot;, &quot;baggage&quot;: &quot;27&quot;, &quot;delay&quot;: 107, &quot;scheduled&quot;: &quot;2023-08-28T19:17:00+00:00&quot;, &quot;estimated&quot;: &quot;2023-08-28T19:17:00+00:00&quot;, &quot;actual&quot;: null, &quot;estimated_runway&quot;: null, &quot;actual_runway&quot;: null}, &quot;airline&quot;: {&quot;name&quot;: &quot;Malaysia Airlines&quot;, &quot;iata&quot;: &quot;MH&quot;, &quot;icao&quot;: &quot;MAS&quot;}, &quot;flight&quot;: {&quot;number&quot;: &quot;9377&quot;, &quot;iata&quot;: &quot;MH9377&quot;, &quot;icao&quot;: &quot;MAS9377&quot;, &quot;codeshared&quot;: {&quot;airline_name&quot;: &quot;american airlines&quot;, &quot;airline_iata&quot;: &quot;aa&quot;, &quot;airline_icao&quot;: &quot;aal&quot;, &quot;flight_number&quot;: &quot;320&quot;, &quot;flight_iata&quot;: &quot;aa320&quot;, &quot;flight_icao&quot;: &quot;aal320&quot;}}, &quot;aircraft&quot;: null, &quot;live&quot;: null}, {&quot;flight_date&quot;: &quot;2023-08-28&quot;, &quot;flight_status&quot;: &quot;scheduled&quot;, &quot;departure&quot;: {&quot;airport&quot;: &quot;Los Angeles International&quot;, &quot;timezone&quot;: &quot;America/Los_Angeles&quot;, &quot;iata&quot;: &quot;LAX&quot;, &quot;icao&quot;: &quot;KLAX&quot;, &quot;terminal&quot;: &quot;5&quot;, &quot;gate&quot;: &quot;53A&quot;, &quot;delay&quot;: 87, &quot;scheduled&quot;: &quot;2023-08-28T15:22:00+00:00&quot;, &quot;estimated&quot;: &quot;2023-08-28T15:22:00+00:00&quot;, &quot;actual&quot;: &quot;2023-08-28T16:48:00+00:00&quot;, &quot;estimated_runway&quot;: &quot;2023-08-28T16:48:00+00:00&quot;, &quot;actual_runway&quot;: &quot;2023-08-28T16:48:00+00:00&quot;}, &quot;arrival&quot;: {&quot;airport&quot;: &quot;Nashville International&quot;, &quot;timezone&quot;: &quot;America/Chicago&quot;, &quot;iata&quot;: &quot;BNA&quot;, &quot;icao&quot;: &quot;KBNA&quot;, &quot;terminal&quot;: null, &quot;gate&quot;: &quot;C18&quot;, &quot;baggage&quot;: null, &quot;delay&quot;: 55, &quot;scheduled&quot;: &quot;2023-08-28T21:27:00+00:00&quot;, &quot;estimated&quot;: &quot;2023-08-28T21:27:00+00:00&quot;, &quot;actual&quot;: null, &quot;estimated_runway&quot;: null, &quot;actual_runway&quot;: null}, &quot;airline&quot;: {&quot;name&quot;: &quot;Malaysia Airlines&quot;, &quot;iata&quot;: &quot;MH&quot;, &quot;icao&quot;: &quot;MAS&quot;}, &quot;flight&quot;: {&quot;number&quot;: &quot;9419&quot;, &quot;iata&quot;: &quot;MH9419&quot;, &quot;icao&quot;: &quot;MAS9419&quot;, &quot;codeshared&quot;: {&quot;airline_name&quot;: &quot;american airlines&quot;, &quot;airline_iata&quot;: &quot;aa&quot;, &quot;airline_icao&quot;: &quot;aal&quot;, &quot;flight_number&quot;: &quot;1287&quot;, &quot;flight_iata&quot;: &quot;aa1287&quot;, &quot;flight_icao&quot;: &quot;aal1287&quot;}}, &quot;aircraft&quot;: null, &quot;live&quot;: null}, {&quot;flight_date&quot;: &quot;2023-08-28&quot;, &quot;flight_status&quot;: &quot;scheduled&quot;, &quot;departure&quot;: {&quot;airport&quot;: &quot;Charlotte Douglas&quot;, &quot;timezone&quot;: &quot;America/New_York&quot;, &quot;iata&quot;: &quot;CLT&quot;, &quot;icao&quot;: &quot;KCLT&quot;, &quot;terminal&quot;: null, &quot;gate&quot;: &quot;C11&quot;, &quot;delay&quot;: 126, &quot;scheduled&quot;: &quot;2023-08-28T14:59:00+00:00&quot;, &quot;estimated&quot;: &quot;2023-08-28T14:59:00+00:00&quot;, &quot;actual&quot;: &quot;2023-08-28T17:04:00+00:00&quot;, &quot;estimated_runway&quot;: &quot;2023-08-28T17:04:00+00:00&quot;, &quot;actual_runway&quot;: &quot;2023-08-28T17:04:00+00:00&quot;}, &quot;arrival&quot;: {&quot;airport&quot;: &quot;Logan International&quot;, &quot;timezone&quot;: &quot;America/New_York&quot;, &quot;iata&quot;: &quot;BOS&quot;, &quot;icao&quot;: &quot;KBOS&quot;, &quot;terminal&quot;: &quot;B&quot;, &quot;gate&quot;: &quot;B20&quot;, &quot;baggage&quot;: &quot;1&quot;, &quot;delay&quot;: 92, &quot;scheduled&quot;: &quot;2023-08-28T17:11:00+00:00&quot;, &quot;estimated&quot;: &quot;2023-08-28T17:11:00+00:00&quot;, &quot;actual&quot;: null, &quot;estimated_runway&quot;: null, &quot;actual_runway&quot;: null}, &quot;airline&quot;: {&quot;name&quot;: &quot;Malaysia Airlines&quot;, &quot;iata&quot;: &quot;MH&quot;, &quot;icao&quot;: &quot;MAS&quot;}, &quot;flight&quot;: {&quot;number&quot;: &quot;9549&quot;, &quot;iata&quot;: &quot;MH9549&quot;, &quot;icao&quot;: &quot;MAS9549&quot;, &quot;codeshared&quot;: {&quot;airline_name&quot;: &quot;american airlines&quot;, &quot;airline_iata&quot;: &quot;aa&quot;, &quot;airline_icao&quot;: &quot;aal&quot;, &quot;flight_number&quot;: &quot;806&quot;, &quot;flight_iata&quot;: &quot;aa806&quot;, &quot;flight_icao&quot;: &quot;aal806&quot;}}, &quot;aircraft&quot;: null, &quot;live&quot;: null}, {&quot;flight_date&quot;: &quot;2023-08-28&quot;, &quot;flight_status&quot;: &quot;scheduled&quot;, &quot;departure&quot;: {&quot;airport&quot;: &quot;Heathrow&quot;, &quot;timezone&quot;: &quot;Europe/London&quot;, &quot;iata&quot;: &quot;LHR&quot;, &quot;icao&quot;: &quot;EGLL&quot;, &quot;terminal&quot;: &quot;5&quot;, &quot;gate&quot;: &quot;A11&quot;, &quot;delay&quot;: 130, &quot;scheduled&quot;: &quot;2023-08-28T19:25:00+00:00&quot;, &quot;estimated&quot;: &quot;2023-08-28T19:25:00+00:00&quot;, &quot;actual&quot;: &quot;2023-08-28T21:34:00+00:00&quot;, &quot;estimated_runway&quot;: &quot;2023-08-28T21:34:00+00:00&quot;, &quot;actual_runway&quot;: &quot;2023-08-28T21:34:00+00:00&quot;}, &quot;arrival&quot;: {&quot;airport&quot;: &quot;El Prat De Llobregat&quot;, &quot;timezone&quot;: &quot;Europe/Madrid&quot;, &quot;iata&quot;: &quot;BCN&quot;, &quot;icao&quot;: &quot;LEBL&quot;, &quot;terminal&quot;: &quot;1&quot;, &quot;gate&quot;: null, &quot;baggage&quot;: &quot;13&quot;, &quot;delay&quot;: 97, &quot;scheduled&quot;: &quot;2023-08-28T22:30:00+00:00&quot;, &quot;estimated&quot;: &quot;2023-08-28T22:30:00+00:00&quot;, &quot;actual&quot;: null, &quot;estimated_runway&quot;: null, &quot;actual_runway&quot;: null}, &quot;airline&quot;: {&quot;name&quot;: &quot;Malaysia Airlines&quot;, &quot;iata&quot;: &quot;MH&quot;, &quot;icao&quot;: &quot;MAS&quot;}, &quot;flight&quot;: {&quot;number&quot;: &quot;9704&quot;, &quot;iata&quot;: &quot;MH9704&quot;, &quot;icao&quot;: &quot;MAS9704&quot;, &quot;codeshared&quot;: {&quot;airline_name&quot;: &quot;british airways&quot;, &quot;airline_iata&quot;: &quot;ba&quot;, &quot;airline_icao&quot;: &quot;baw&quot;, &quot;flight_number&quot;: &quot;482&quot;, &quot;flight_iata&quot;: &quot;ba482&quot;, &quot;flight_icao&quot;: &quot;baw482&quot;}}, &quot;aircraft&quot;: null, &quot;live&quot;: null}, {&quot;flight_date&quot;: &quot;2023-08-28&quot;, &quot;flight_status&quot;: &quot;landed&quot;, &quot;departure&quot;: {&quot;airport&quot;: &quot;Charlotte Douglas&quot;, &quot;timezone&quot;: &quot;America/New_York&quot;, &quot;iata&quot;: &quot;CLT&quot;, &quot;icao&quot;: &quot;KCLT&quot;, &quot;terminal&quot;: null, &quot;gate&quot;: &quot;D13&quot;, &quot;delay&quot;: 92, &quot;scheduled&quot;: &quot;2023-08-28T14:31:00+00:00&quot;, &quot;estimated&quot;: &quot;2023-08-28T14:31:00+00:00&quot;, &quot;actual&quot;: &quot;2023-08-28T16:02:00+00:00&quot;, &quot;estimated_runway&quot;: &quot;2023-08-28T16:02:00+00:00&quot;, &quot;actual_runway&quot;: &quot;2023-08-28T16:02:00+00:00&quot;}, &quot;arrival&quot;: {&quot;airport&quot;: &quot;Dallas/Fort Worth International&quot;, &quot;timezone&quot;: &quot;America/Chicago&quot;, &quot;iata&quot;: &quot;DFW&quot;, &quot;icao&quot;: &quot;KDFW&quot;, &quot;terminal&quot;: &quot;C&quot;, &quot;gate&quot;: &quot;C19&quot;, &quot;baggage&quot;: &quot;C15&quot;, &quot;delay&quot;: 51, &quot;scheduled&quot;: &quot;2023-08-28T16:21:00+00:00&quot;, &quot;estimated&quot;: &quot;2023-08-28T16:21:00+00:00&quot;, &quot;actual&quot;: &quot;2023-08-28T17:11:00+00:00&quot;, &quot;estimated_runway&quot;: &quot;2023-08-28T17:11:00+00:00&quot;, &quot;actual_runway&quot;: &quot;2023-08-28T17:11:00+00:00&quot;}, &quot;airline&quot;: {&quot;name&quot;: &quot;Malaysia Airlines&quot;, &quot;iata&quot;: &quot;MH&quot;, &quot;icao&quot;: &quot;MAS&quot;}, &quot;flight&quot;: {&quot;number&quot;: &quot;9518&quot;, &quot;iata&quot;: &quot;MH9518&quot;, &quot;icao&quot;: &quot;MAS9518&quot;, &quot;codeshared&quot;: {&quot;airline_name&quot;: &quot;american airlines&quot;, &quot;airline_iata&quot;: &quot;aa&quot;, &quot;airline_icao&quot;: &quot;aal&quot;, &quot;flight_number&quot;: &quot;877&quot;, &quot;flight_iata&quot;: &quot;aa877&quot;, &quot;flight_icao&quot;: &quot;aal877&quot;}}, &quot;aircraft&quot;: null, &quot;live&quot;: null}, {&quot;flight_date&quot;: &quot;2023-08-28&quot;, &quot;flight_status&quot;: &quot;scheduled&quot;, &quot;departure&quot;: {&quot;airport&quot;: &quot;Charlotte Douglas&quot;, &quot;timezone&quot;: &quot;America/New_York&quot;, &quot;iata&quot;: &quot;CLT&quot;, &quot;icao&quot;: &quot;KCLT&quot;, &quot;terminal&quot;: null, &quot;gate&quot;: &quot;B12&quot;, &quot;delay&quot;: 69, &quot;scheduled&quot;: &quot;2023-08-28T15:00:00+00:00&quot;, &quot;estimated&quot;: &quot;2023-08-28T15:00:00+00:00&quot;, &quot;actual&quot;: &quot;2023-08-28T16:09:00+00:00&quot;, &quot;estimated_runway&quot;: &quot;2023-08-28T16:09:00+00:00&quot;, &quot;actual_runway&quot;: &quot;2023-08-28T16:09:00+00:00&quot;}, &quot;arrival&quot;: {&quot;airport&quot;: &quot;Baltimore/Washington International Thurgood Marshall&quot;, &quot;timezone&quot;: &quot;America/New_York&quot;, &quot;iata&quot;: &quot;BWI&quot;, &quot;icao&quot;: &quot;KBWI&quot;, &quot;terminal&quot;: &quot;E&quot;, &quot;gate&quot;: &quot;C5&quot;, &quot;baggage&quot;: &quot;9&quot;, &quot;delay&quot;: 43, &quot;scheduled&quot;: &quot;2023-08-28T16:26:00+00:00&quot;, &quot;estimated&quot;: &quot;2023-08-28T16:26:00+00:00&quot;, &quot;actual&quot;: null, &quot;estimated_runway&quot;: null, &quot;actual_runway&quot;: null}, &quot;airline&quot;: {&quot;name&quot;: &quot;Malaysia Airlines&quot;, &quot;iata&quot;: &quot;MH&quot;, &quot;icao&quot;: &quot;MAS&quot;}, &quot;flight&quot;: {&quot;number&quot;: &quot;9517&quot;, &quot;iata&quot;: &quot;MH9517&quot;, &quot;icao&quot;: &quot;MAS9517&quot;, &quot;codeshared&quot;: {&quot;airline_name&quot;: &quot;american airlines&quot;, &quot;airline_iata&quot;: &quot;aa&quot;, &quot;airline_icao&quot;: &quot;aal&quot;, &quot;flight_number&quot;: &quot;1232&quot;, &quot;flight_iata&quot;: &quot;aa1232&quot;, &quot;flight_icao&quot;: &quot;aal1232&quot;}}, &quot;aircraft&quot;: null, &quot;live&quot;: null}, {&quot;flight_date&quot;: &quot;2023-08-28&quot;, &quot;flight_status&quot;: &quot;scheduled&quot;, &quot;departure&quot;: {&quot;airport&quot;: &quot;Baltimore/Washington International Thurgood Marshall&quot;, &quot;timezone&quot;: &quot;America/New_York&quot;, &quot;iata&quot;: &quot;BWI&quot;, &quot;icao&quot;: &quot;KBWI&quot;, &quot;terminal&quot;: null, &quot;gate&quot;: &quot;C5&quot;, &quot;delay&quot;: 63, &quot;scheduled&quot;: &quot;2023-08-28T17:16:00+00:00&quot;, &quot;estimated&quot;: &quot;2023-08-28T17:16:00+00:00&quot;, &quot;actual&quot;: &quot;2023-08-28T18:40:00+00:00&quot;, &quot;estimated_runway&quot;: &quot;2023-08-28T18:40:00+00:00&quot;, &quot;actual_runway&quot;: &quot;2023-08-28T18:40:00+00:00&quot;}, &quot;arrival&quot;: {&quot;airport&quot;: &quot;Charlotte Douglas&quot;, &quot;timezone&quot;: &quot;America/New_York&quot;, &quot;iata&quot;: &quot;CLT&quot;, &quot;icao&quot;: &quot;KCLT&quot;, &quot;terminal&quot;: &quot;3&quot;, &quot;gate&quot;: &quot;B14&quot;, &quot;baggage&quot;: &quot;C3&quot;, &quot;delay&quot;: 53, &quot;scheduled&quot;: &quot;2023-08-28T18:46:00+00:00&quot;, &quot;estimated&quot;: &quot;2023-08-28T18:46:00+00:00&quot;, &quot;actual&quot;: null, &quot;estimated_runway&quot;: null, &quot;actual_runway&quot;: null}, &quot;airline&quot;: {&quot;name&quot;: &quot;Malaysia Airlines&quot;, &quot;iata&quot;: &quot;MH&quot;, &quot;icao&quot;: &quot;MAS&quot;}, &quot;flight&quot;: {&quot;number&quot;: &quot;9606&quot;, &quot;iata&quot;: &quot;MH9606&quot;, &quot;icao&quot;: &quot;MAS9606&quot;, &quot;codeshared&quot;: {&quot;airline_name&quot;: &quot;american airlines&quot;, &quot;airline_iata&quot;: &quot;aa&quot;, &quot;airline_icao&quot;: &quot;aal&quot;, &quot;flight_number&quot;: &quot;1232&quot;, &quot;flight_iata&quot;: &quot;aa1232&quot;, &quot;flight_icao&quot;: &quot;aal1232&quot;}}, &quot;aircraft&quot;: null, &quot;live&quot;: null}, {&quot;flight_date&quot;: &quot;2023-08-28&quot;, &quot;flight_status&quot;: &quot;scheduled&quot;, &quot;departure&quot;: {&quot;airport&quot;: &quot;Heathrow&quot;, &quot;timezone&quot;: &quot;Europe/London&quot;, &quot;iata&quot;: &quot;LHR&quot;, &quot;icao&quot;: &quot;EGLL&quot;, &quot;terminal&quot;: &quot;3&quot;, &quot;gate&quot;: &quot;3A&quot;, &quot;delay&quot;: 89, &quot;scheduled&quot;: &quot;2023-08-28T19:20:00+00:00&quot;, &quot;estimated&quot;: &quot;2023-08-28T19:20:00+00:00&quot;, &quot;actual&quot;: &quot;2023-08-28T20:48:00+00:00&quot;, &quot;estimated_runway&quot;: &quot;2023-08-28T20:48:00+00:00&quot;, &quot;actual_runway&quot;: &quot;2023-08-28T20:48:00+00:00&quot;}, &quot;arrival&quot;: {&quot;airport&quot;: &quot;Vienna International&quot;, &quot;timezone&quot;: &quot;Europe/Vienna&quot;, &quot;iata&quot;: &quot;VIE&quot;, &quot;icao&quot;: &quot;LOWW&quot;, &quot;terminal&quot;: &quot;3&quot;, &quot;gate&quot;: null, &quot;baggage&quot;: null, &quot;delay&quot;: 65, &quot;scheduled&quot;: &quot;2023-08-28T22:40:00+00:00&quot;, &quot;estimated&quot;: &quot;2023-08-28T22:40:00+00:00&quot;, &quot;actual&quot;: null, &quot;estimated_runway&quot;: null, &quot;actual_runway&quot;: null}, &quot;airline&quot;: {&quot;name&quot;: &quot;Malaysia Airlines&quot;, &quot;iata&quot;: &quot;MH&quot;, &quot;icao&quot;: &quot;MAS&quot;}, &quot;flight&quot;: {&quot;number&quot;: &quot;9920&quot;, &quot;iata&quot;: &quot;MH9920&quot;, &quot;icao&quot;: &quot;MAS9920&quot;, &quot;codeshared&quot;: {&quot;airline_name&quot;: &quot;british airways&quot;, &quot;airline_iata&quot;: &quot;ba&quot;, &quot;airline_icao&quot;: &quot;baw&quot;, &quot;flight_number&quot;: &quot;706&quot;, &quot;flight_iata&quot;: &quot;ba706&quot;, &quot;flight_icao&quot;: &quot;baw706&quot;}}, &quot;aircraft&quot;: null, &quot;live&quot;: null}, {&quot;flight_date&quot;: &quot;2023-08-28&quot;, &quot;flight_status&quot;: &quot;scheduled&quot;, &quot;departure&quot;: {&quot;airport&quot;: &quot;Heathrow&quot;, &quot;timezone&quot;: &quot;Europe/London&quot;, &quot;iata&quot;: &quot;LHR&quot;, &quot;icao&quot;: &quot;EGLL&quot;, &quot;terminal&quot;: &quot;5&quot;, &quot;gate&quot;: &quot;B45&quot;, &quot;delay&quot;: 85, &quot;scheduled&quot;: &quot;2023-08-28T20:30:00+00:00&quot;, &quot;estimated&quot;: &quot;2023-08-28T20:30:00+00:00&quot;, &quot;actual&quot;: &quot;2023-08-28T21:55:00+00:00&quot;, &quot;estimated_runway&quot;: &quot;2023-08-28T21:55:00+00:00&quot;, &quot;actual_runway&quot;: &quot;2023-08-28T21:55:00+00:00&quot;}, &quot;arrival&quot;: {&quot;airport&quot;: &quot;St-Exup\\u00e9ry&quot;, &quot;timezone&quot;: &quot;Europe/Paris&quot;, &quot;iata&quot;: &quot;LYS&quot;, &quot;icao&quot;: &quot;LFLL&quot;, &quot;terminal&quot;: &quot;1&quot;, &quot;gate&quot;: null, &quot;baggage&quot;: &quot;106&quot;, &quot;delay&quot;: 51, &quot;scheduled&quot;: &quot;2023-08-28T23:10:00+00:00&quot;, &quot;estimated&quot;: &quot;2023-08-28T23:10:00+00:00&quot;, &quot;actual&quot;: null, &quot;estimated_runway&quot;: null, &quot;actual_runway&quot;: null}, &quot;airline&quot;: {&quot;name&quot;: &quot;Malaysia Airlines&quot;, &quot;iata&quot;: &quot;MH&quot;, &quot;icao&quot;: &quot;MAS&quot;}, &quot;flight&quot;: {&quot;number&quot;: &quot;9874&quot;, &quot;iata&quot;: &quot;MH9874&quot;, &quot;icao&quot;: &quot;MAS9874&quot;, &quot;codeshared&quot;: {&quot;airline_name&quot;: &quot;british airways&quot;, &quot;airline_iata&quot;: &quot;ba&quot;, &quot;airline_icao&quot;: &quot;baw&quot;, &quot;flight_number&quot;: &quot;364&quot;, &quot;flight_iata&quot;: &quot;ba364&quot;, &quot;flight_icao&quot;: &quot;baw364&quot;}}, &quot;aircraft&quot;: null, &quot;live&quot;: null}, {&quot;flight_date&quot;: &quot;2023-08-28&quot;, &quot;flight_status&quot;: &quot;scheduled&quot;, &quot;departure&quot;: {&quot;airport&quot;: &quot;Charles De Gaulle&quot;, &quot;timezone&quot;: &quot;Europe/Paris&quot;, &quot;iata&quot;: &quot;CDG&quot;, &quot;icao&quot;: &quot;LFPG&quot;, &quot;terminal&quot;: &quot;1&quot;, &quot;gate&quot;: &quot;26&quot;, &quot;delay&quot;: 123, &quot;scheduled&quot;: &quot;2023-08-28T16:05:00+00:00&quot;, &quot;estimated&quot;: &quot;2023-08-28T16:05:00+00:00&quot;, &quot;actual&quot;: &quot;2023-08-28T18:08:00+00:00&quot;, &quot;estimated_runway&quot;: &quot;2023-08-28T18:08:00+00:00&quot;, &quot;actual_runway&quot;: &quot;2023-08-28T18:08:00+00:00&quot;}, &quot;arrival&quot;: {&quot;airport&quot;: &quot;Doha International&quot;, &quot;timezone&quot;: &quot;Asia/Qatar&quot;, &quot;iata&quot;: &quot;DOH&quot;, &quot;icao&quot;: &quot;OTHH&quot;, &quot;terminal&quot;: &quot;1&quot;, &quot;gate&quot;: null, &quot;baggage&quot;: &quot;3&quot;, &quot;delay&quot;: 93, &quot;scheduled&quot;: &quot;2023-08-28T23:25:00+00:00&quot;, &quot;estimated&quot;: &quot;2023-08-28T23:25:00+00:00&quot;, &quot;actual&quot;: null, &quot;estimated_runway&quot;: null, &quot;actual_runway&quot;: null}, &quot;airline&quot;: {&quot;name&quot;: &quot;Malaysia Airlines&quot;, &quot;iata&quot;: &quot;MH&quot;, &quot;icao&quot;: &quot;MAS&quot;}, &quot;flight&quot;: {&quot;number&quot;: &quot;9216&quot;, &quot;iata&quot;: &quot;MH9216&quot;, &quot;icao&quot;: &quot;MAS9216&quot;, &quot;codeshared&quot;: {&quot;airline_name&quot;: &quot;qatar airways&quot;, &quot;airline_iata&quot;: &quot;qr&quot;, &quot;airline_icao&quot;: &quot;qtr&quot;, &quot;flight_number&quot;: &quot;40&quot;, &quot;flight_iata&quot;: &quot;qr40&quot;, &quot;flight_icao&quot;: &quot;qtr40&quot;}}, &quot;aircraft&quot;: null, &quot;live&quot;: null}, {&quot;flight_date&quot;: &quot;2023-08-28&quot;, &quot;flight_status&quot;: &quot;landed&quot;, &quot;departure&quot;: {&quot;airport&quot;: &quot;Helsinki-vantaa&quot;, &quot;timezone&quot;: &quot;Europe/Helsinki&quot;, &quot;iata&quot;: &quot;HEL&quot;, &quot;icao&quot;: &quot;EFHK&quot;, &quot;terminal&quot;: &quot;2&quot;, &quot;gate&quot;: &quot;19&quot;, &quot;delay&quot;: 45, &quot;scheduled&quot;: &quot;2023-08-28T18:10:00+00:00&quot;, &quot;estimated&quot;: &quot;2023-08-28T18:10:00+00:00&quot;, &quot;actual&quot;: &quot;2023-08-28T18:55:00+00:00&quot;, &quot;estimated_runway&quot;: &quot;2023-08-28T18:55:00+00:00&quot;, &quot;actual_runway&quot;: &quot;2023-08-28T18:55:00+00:00&quot;}, &quot;arrival&quot;: {&quot;airport&quot;: &quot;Schiphol&quot;, &quot;timezone&quot;: &quot;Europe/Amsterdam&quot;, &quot;iata&quot;: &quot;AMS&quot;, &quot;icao&quot;: &quot;EHAM&quot;, &quot;terminal&quot;: &quot;2&quot;, &quot;gate&quot;: &quot;D85&quot;, &quot;baggage&quot;: &quot;009&quot;, &quot;delay&quot;: 33, &quot;scheduled&quot;: &quot;2023-08-28T19:40:00+00:00&quot;, &quot;estimated&quot;: &quot;2023-08-28T19:40:00+00:00&quot;, &quot;actual&quot;: &quot;2023-08-28T20:13:00+00:00&quot;, &quot;estimated_runway&quot;: &quot;2023-08-28T20:13:00+00:00&quot;, &quot;actual_runway&quot;: &quot;2023-08-28T20:13:00+00:00&quot;}, &quot;airline&quot;: {&quot;name&quot;: &quot;Malaysia Airlines&quot;, &quot;iata&quot;: &quot;MH&quot;, &quot;icao&quot;: &quot;MAS&quot;}, &quot;flight&quot;: {&quot;number&quot;: &quot;5674&quot;, &quot;iata&quot;: &quot;MH5674&quot;, &quot;icao&quot;: &quot;MAS5674&quot;, &quot;codeshared&quot;: {&quot;airline_name&quot;: &quot;klm&quot;, &quot;airline_iata&quot;: &quot;kl&quot;, &quot;airline_icao&quot;: &quot;klm&quot;, &quot;flight_number&quot;: &quot;1170&quot;, &quot;flight_iata&quot;: &quot;kl1170&quot;, &quot;flight_icao&quot;: &quot;klm1170&quot;}}, &quot;aircraft&quot;: null, &quot;live&quot;: null}, {&quot;flight_date&quot;: &quot;2023-08-28&quot;, &quot;flight_status&quot;: &quot;scheduled&quot;, &quot;departure&quot;: {&quot;airport&quot;: &quot;Leonardo Da Vinci (Fiumicino)&quot;, &quot;timezone&quot;: &quot;Europe/Rome&quot;, &quot;iata&quot;: &quot;FCO&quot;, &quot;icao&quot;: &quot;LIRF&quot;, &quot;terminal&quot;: &quot;1&quot;, &quot;gate&quot;: &quot;A61&quot;, &quot;delay&quot;: 98, &quot;scheduled&quot;: &quot;2023-08-28T17:25:00+00:00&quot;, &quot;estimated&quot;: &quot;2023-08-28T17:25:00+00:00&quot;, &quot;actual&quot;: &quot;2023-08-28T19:03:00+00:00&quot;, &quot;estimated_runway&quot;: &quot;2023-08-28T19:03:00+00:00&quot;, &quot;actual_runway&quot;: &quot;2023-08-28T19:03:00+00:00&quot;}, &quot;arrival&quot;: {&quot;airport&quot;: &quot;Schiphol&quot;, &quot;timezone&quot;: &quot;Europe/Amsterdam&quot;, &quot;iata&quot;: &quot;AMS&quot;, &quot;icao&quot;: &quot;EHAM&quot;, &quot;terminal&quot;: &quot;3&quot;, &quot;gate&quot;: &quot;C15&quot;, &quot;baggage&quot;: &quot;015&quot;, &quot;delay&quot;: 53, &quot;scheduled&quot;: &quot;2023-08-28T20:00:00+00:00&quot;, &quot;estimated&quot;: &quot;2023-08-28T20:00:00+00:00&quot;, &quot;actual&quot;: null, &quot;estimated_runway&quot;: null, &quot;actual_runway&quot;: null}, &quot;airline&quot;: {&quot;name&quot;: &quot;Malaysia Airlines&quot;, &quot;iata&quot;: &quot;MH&quot;, &quot;icao&quot;: &quot;MAS&quot;}, &quot;flight&quot;: {&quot;number&quot;: &quot;5680&quot;, &quot;iata&quot;: &quot;MH5680&quot;, &quot;icao&quot;: &quot;MAS5680&quot;, &quot;codeshared&quot;: {&quot;airline_name&quot;: &quot;klm&quot;, &quot;airline_iata&quot;: &quot;kl&quot;, &quot;airline_icao&quot;: &quot;klm&quot;, &quot;flight_number&quot;: &quot;1604&quot;, &quot;flight_iata&quot;: &quot;kl1604&quot;, &quot;flight_icao&quot;: &quot;klm1604&quot;}}, &quot;aircraft&quot;: null, &quot;live&quot;: null}, {&quot;flight_date&quot;: &quot;2023-08-28&quot;, &quot;flight_status&quot;: &quot;landed&quot;, &quot;departure&quot;: {&quot;airport&quot;: &quot;Heathrow&quot;, &quot;timezone&quot;: &quot;Europe/London&quot;, &quot;iata&quot;: &quot;LHR&quot;, &quot;icao&quot;: &quot;EGLL&quot;, &quot;terminal&quot;: &quot;5&quot;, &quot;gate&quot;: &quot;A21&quot;, &quot;delay&quot;: 63, &quot;scheduled&quot;: &quot;2023-08-28T19:55:00+00:00&quot;, &quot;estimated&quot;: &quot;2023-08-28T19:55:00+00:00&quot;, &quot;actual&quot;: &quot;2023-08-28T20:58:00+00:00&quot;, &quot;estimated_runway&quot;: &quot;2023-08-28T20:58:00+00:00&quot;, &quot;actual_runway&quot;: &quot;2023-08-28T20:58:00+00:00&quot;}, &quot;arrival&quot;: {&quot;airport&quot;: &quot;Kastrup&quot;, &quot;timezone&quot;: &quot;Europe/Copenhagen&quot;, &quot;iata&quot;: &quot;CPH&quot;, &quot;icao&quot;: &quot;EKCH&quot;, &quot;terminal&quot;: &quot;2&quot;, &quot;gate&quot;: &quot;C27&quot;, &quot;baggage&quot;: null, &quot;delay&quot;: 33, &quot;scheduled&quot;: &quot;2023-08-28T22:50:00+00:00&quot;, &quot;estimated&quot;: &quot;2023-08-28T22:50:00+00:00&quot;, &quot;actual&quot;: &quot;2023-08-28T23:23:00+00:00&quot;, &quot;estimated_runway&quot;: &quot;2023-08-28T23:23:00+00:00&quot;, &quot;actual_runway&quot;: &quot;2023-08-28T23:23:00+00:00&quot;}, &quot;airline&quot;: {&quot;name&quot;: &quot;Malaysia Airlines&quot;, &quot;iata&quot;: &quot;MH&quot;, &quot;icao&quot;: &quot;MAS&quot;}, &quot;flight&quot;: {&quot;number&quot;: &quot;9804&quot;, &quot;iata&quot;: &quot;MH9804&quot;, &quot;icao&quot;: &quot;MAS9804&quot;, &quot;codeshared&quot;: {&quot;airline_name&quot;: &quot;british airways&quot;, &quot;airline_iata&quot;: &quot;ba&quot;, &quot;airline_icao&quot;: &quot;baw&quot;, &quot;flight_number&quot;: &quot;822&quot;, &quot;flight_iata&quot;: &quot;ba822&quot;, &quot;flight_icao&quot;: &quot;baw822&quot;}}, &quot;aircraft&quot;: null, &quot;live&quot;: null}, {&quot;flight_date&quot;: &quot;2023-08-28&quot;, &quot;flight_status&quot;: &quot;scheduled&quot;, &quot;departure&quot;: {&quot;airport&quot;: &quot;Heathrow&quot;, &quot;timezone&quot;: &quot;Europe/London&quot;, &quot;iata&quot;: &quot;LHR&quot;, &quot;icao&quot;: &quot;EGLL&quot;, &quot;terminal&quot;: &quot;5&quot;, &quot;gate&quot;: &quot;A10&quot;, &quot;delay&quot;: 108, &quot;scheduled&quot;: &quot;2023-08-28T20:05:00+00:00&quot;, &quot;estimated&quot;: &quot;2023-08-28T20:05:00+00:00&quot;, &quot;actual&quot;: &quot;2023-08-28T21:53:00+00:00&quot;, &quot;estimated_runway&quot;: &quot;2023-08-28T21:53:00+00:00&quot;, &quot;actual_runway&quot;: &quot;2023-08-28T21:53:00+00:00&quot;}, &quot;arrival&quot;: {&quot;airport&quot;: &quot;Geneve-cointrin&quot;, &quot;timezone&quot;: &quot;Europe/Zurich&quot;, &quot;iata&quot;: &quot;GVA&quot;, &quot;icao&quot;: &quot;LSGG&quot;, &quot;terminal&quot;: &quot;1&quot;, &quot;gate&quot;: null, &quot;baggage&quot;: &quot;7&quot;, &quot;delay&quot;: 82, &quot;scheduled&quot;: &quot;2023-08-28T22:45:00+00:00&quot;, &quot;estimated&quot;: &quot;2023-08-28T22:45:00+00:00&quot;, &quot;actual&quot;: null, &quot;estimated_runway&quot;: null, &quot;actual_runway&quot;: null}, &quot;airline&quot;: {&quot;name&quot;: &quot;Malaysia Airlines&quot;, &quot;iata&quot;: &quot;MH&quot;, &quot;icao&quot;: &quot;MAS&quot;}, &quot;flight&quot;: {&quot;number&quot;: &quot;9860&quot;, &quot;iata&quot;: &quot;MH9860&quot;, &quot;icao&quot;: &quot;MAS9860&quot;, &quot;codeshared&quot;: {&quot;airline_name&quot;: &quot;british airways&quot;, &quot;airline_iata&quot;: &quot;ba&quot;, &quot;airline_icao&quot;: &quot;baw&quot;, &quot;flight_number&quot;: &quot;738&quot;, &quot;flight_iata&quot;: &quot;ba738&quot;, &quot;flight_icao&quot;: &quot;baw738&quot;}}, &quot;aircraft&quot;: null, &quot;live&quot;: null}, {&quot;flight_date&quot;: &quot;2023-08-28&quot;, &quot;flight_status&quot;: &quot;scheduled&quot;, &quot;departure&quot;: {&quot;airport&quot;: &quot;Heathrow&quot;, &quot;timezone&quot;: &quot;Europe/London&quot;, &quot;iata&quot;: &quot;LHR&quot;, &quot;icao&quot;: &quot;EGLL&quot;, &quot;terminal&quot;: &quot;5&quot;, &quot;gate&quot;: &quot;B45&quot;, &quot;delay&quot;: 153, &quot;scheduled&quot;: &quot;2023-08-28T13:30:00+00:00&quot;, &quot;estimated&quot;: &quot;2023-08-28T13:30:00+00:00&quot;, &quot;actual&quot;: &quot;2023-08-28T16:03:00+00:00&quot;, &quot;estimated_runway&quot;: &quot;2023-08-28T16:03:00+00:00&quot;, &quot;actual_runway&quot;: &quot;2023-08-28T16:03:00+00:00&quot;}, &quot;arrival&quot;: {&quot;airport&quot;: &quot;El Prat De Llobregat&quot;, &quot;timezone&quot;: &quot;Europe/Madrid&quot;, &quot;iata&quot;: &quot;BCN&quot;, &quot;icao&quot;: &quot;LEBL&quot;, &quot;terminal&quot;: &quot;1&quot;, &quot;gate&quot;: null, &quot;baggage&quot;: &quot;11&quot;, &quot;delay&quot;: 118, &quot;scheduled&quot;: &quot;2023-08-28T16:40:00+00:00&quot;, &quot;estimated&quot;: &quot;2023-08-28T16:40:00+00:00&quot;, &quot;actual&quot;: null, &quot;estimated_runway&quot;: null, &quot;actual_runway&quot;: null}, &quot;airline&quot;: {&quot;name&quot;: &quot;Malaysia Airlines&quot;, &quot;iata&quot;: &quot;MH&quot;, &quot;icao&quot;: &quot;MAS&quot;}, &quot;flight&quot;: {&quot;number&quot;: &quot;9700&quot;, &quot;iata&quot;: &quot;MH9700&quot;, &quot;icao&quot;: &quot;MAS9700&quot;, &quot;codeshared&quot;: {&quot;airline_name&quot;: &quot;british airways&quot;, &quot;airline_iata&quot;: &quot;ba&quot;, &quot;airline_icao&quot;: &quot;baw&quot;, &quot;flight_number&quot;: &quot;406&quot;, &quot;flight_iata&quot;: &quot;ba406&quot;, &quot;flight_icao&quot;: &quot;baw406&quot;}}, &quot;aircraft&quot;: null, &quot;live&quot;: null}, {&quot;flight_date&quot;: &quot;2023-08-28&quot;, &quot;flight_status&quot;: &quot;scheduled&quot;, &quot;departure&quot;: {&quot;airport&quot;: &quot;Heathrow&quot;, &quot;timezone&quot;: &quot;Europe/London&quot;, &quot;iata&quot;: &quot;LHR&quot;, &quot;icao&quot;: &quot;EGLL&quot;, &quot;terminal&quot;: &quot;5&quot;, &quot;gate&quot;: &quot;A13&quot;, &quot;delay&quot;: 127, &quot;scheduled&quot;: &quot;2023-08-28T13:20:00+00:00&quot;, &quot;estimated&quot;: &quot;2023-08-28T13:20:00+00:00&quot;, &quot;actual&quot;: &quot;2023-08-28T15:27:00+00:00&quot;, &quot;estimated_runway&quot;: &quot;2023-08-28T15:27:00+00:00&quot;, &quot;actual_runway&quot;: &quot;2023-08-28T15:27:00+00:00&quot;}, &quot;arrival&quot;: {&quot;airport&quot;: &quot;Charles De Gaulle&quot;, &quot;timezone&quot;: &quot;Europe/Paris&quot;, &quot;iata&quot;: &quot;CDG&quot;, &quot;icao&quot;: &quot;LFPG&quot;, &quot;terminal&quot;: &quot;2D&quot;, &quot;gate&quot;: null, &quot;baggage&quot;: null, &quot;delay&quot;: 93, &quot;scheduled&quot;: &quot;2023-08-28T15:35:00+00:00&quot;, &quot;estimated&quot;: &quot;2023-08-28T15:35:00+00:00&quot;, &quot;actual&quot;: null, &quot;estimated_runway&quot;: null, &quot;actual_runway&quot;: null}, &quot;airline&quot;: {&quot;name&quot;: &quot;Malaysia Airlines&quot;, &quot;iata&quot;: &quot;MH&quot;, &quot;icao&quot;: &quot;MAS&quot;}, &quot;flight&quot;: {&quot;number&quot;: &quot;9672&quot;, &quot;iata&quot;: &quot;MH9672&quot;, &quot;icao&quot;: &quot;MAS9672&quot;, &quot;codeshared&quot;: {&quot;airline_name&quot;: &quot;british airways&quot;, &quot;airline_iata&quot;: &quot;ba&quot;, &quot;airline_icao&quot;: &quot;baw&quot;, &quot;flight_number&quot;: &quot;314&quot;, &quot;flight_iata&quot;: &quot;ba314&quot;, &quot;flight_icao&quot;: &quot;baw314&quot;}}, &quot;aircraft&quot;: null, &quot;live&quot;: null}, {&quot;flight_date&quot;: &quot;2023-08-28&quot;, &quot;flight_status&quot;: &quot;scheduled&quot;, &quot;departure&quot;: {&quot;airport&quot;: &quot;Miami International Airport&quot;, &quot;timezone&quot;: &quot;America/New_York&quot;, &quot;iata&quot;: &quot;MIA&quot;, &quot;icao&quot;: &quot;KMIA&quot;, &quot;terminal&quot;: &quot;N&quot;, &quot;gate&quot;: &quot;D25&quot;, &quot;delay&quot;: 181, &quot;scheduled&quot;: &quot;2023-08-28T13:40:00+00:00&quot;, &quot;estimated&quot;: &quot;2023-08-28T13:40:00+00:00&quot;, &quot;actual&quot;: &quot;2023-08-28T16:41:00+00:00&quot;, &quot;estimated_runway&quot;: &quot;2023-08-28T16:41:00+00:00&quot;, &quot;actual_runway&quot;: &quot;2023-08-28T16:41:00+00:00&quot;}, &quot;arrival&quot;: {&quot;airport&quot;: &quot;Philadelphia International&quot;, &quot;timezone&quot;: &quot;America/New_York&quot;, &quot;iata&quot;: &quot;PHL&quot;, &quot;icao&quot;: &quot;KPHL&quot;, &quot;terminal&quot;: &quot;D&quot;, &quot;gate&quot;: &quot;B8&quot;, &quot;baggage&quot;: &quot;13&quot;, &quot;delay&quot;: 142, &quot;scheduled&quot;: &quot;2023-08-28T16:34:00+00:00&quot;, &quot;estimated&quot;: &quot;2023-08-28T16:34:00+00:00&quot;, &quot;actual&quot;: null, &quot;estimated_runway&quot;: null, &quot;actual_runway&quot;: null}, &quot;airline&quot;: {&quot;name&quot;: &quot;Malaysia Airlines&quot;, &quot;iata&quot;: &quot;MH&quot;, &quot;icao&quot;: &quot;MAS&quot;}, &quot;flight&quot;: {&quot;number&quot;: &quot;9489&quot;, &quot;iata&quot;: &quot;MH9489&quot;, &quot;icao&quot;: &quot;MAS9489&quot;, &quot;codeshared&quot;: {&quot;airline_name&quot;: &quot;american airlines&quot;, &quot;airline_iata&quot;: &quot;aa&quot;, &quot;airline_icao&quot;: &quot;aal&quot;, &quot;flight_number&quot;: &quot;581&quot;, &quot;flight_iata&quot;: &quot;aa581&quot;, &quot;flight_icao&quot;: &quot;aal581&quot;}}, &quot;aircraft&quot;: null, &quot;live&quot;: null}, {&quot;flight_date&quot;: &quot;2023-08-28&quot;, &quot;flight_status&quot;: &quot;scheduled&quot;, &quot;departure&quot;: {&quot;airport&quot;: &quot;Heathrow&quot;, &quot;timezone&quot;: &quot;Europe/London&quot;, &quot;iata&quot;: &quot;LHR&quot;, &quot;icao&quot;: &quot;EGLL&quot;, &quot;terminal&quot;: &quot;3&quot;, &quot;gate&quot;: &quot;30&quot;, &quot;delay&quot;: 165, &quot;scheduled&quot;: &quot;2023-08-28T13:00:00+00:00&quot;, &quot;estimated&quot;: &quot;2023-08-28T13:00:00+00:00&quot;, &quot;actual&quot;: &quot;2023-08-28T15:45:00+00:00&quot;, &quot;estimated_runway&quot;: &quot;2023-08-28T15:45:00+00:00&quot;, &quot;actual_runway&quot;: &quot;2023-08-28T15:45:00+00:00&quot;}, &quot;arrival&quot;: {&quot;airport&quot;: &quot;Philadelphia International&quot;, &quot;timezone&quot;: &quot;America/New_York&quot;, &quot;iata&quot;: &quot;PHL&quot;, &quot;icao&quot;: &quot;KPHL&quot;, &quot;terminal&quot;: &quot;A&quot;, &quot;gate&quot;: &quot;17&quot;, &quot;baggage&quot;: &quot;CUST&quot;, &quot;delay&quot;: 132, &quot;scheduled&quot;: &quot;2023-08-28T15:49:00+00:00&quot;, &quot;estimated&quot;: &quot;2023-08-28T15:49:00+00:00&quot;, &quot;actual&quot;: null, &quot;estimated_runway&quot;: null, &quot;actual_runway&quot;: null}, &quot;airline&quot;: {&quot;name&quot;: &quot;Malaysia Airlines&quot;, &quot;iata&quot;: &quot;MH&quot;, &quot;icao&quot;: &quot;MAS&quot;}, &quot;flight&quot;: {&quot;number&quot;: &quot;9535&quot;, &quot;iata&quot;: &quot;MH9535&quot;, &quot;icao&quot;: &quot;MAS9535&quot;, &quot;codeshared&quot;: {&quot;airline_name&quot;: &quot;american airlines&quot;, &quot;airline_iata&quot;: &quot;aa&quot;, &quot;airline_icao&quot;: &quot;aal&quot;, &quot;flight_number&quot;: &quot;737&quot;, &quot;flight_iata&quot;: &quot;aa737&quot;, &quot;flight_icao&quot;: &quot;aal737&quot;}}, &quot;aircraft&quot;: null, &quot;live&quot;: null}, {&quot;flight_date&quot;: &quot;2023-08-28&quot;, &quot;flight_status&quot;: &quot;scheduled&quot;, &quot;departure&quot;: {&quot;airport&quot;: &quot;Heathrow&quot;, &quot;timezone&quot;: &quot;Europe/London&quot;, &quot;iata&quot;: &quot;LHR&quot;, &quot;icao&quot;: &quot;EGLL&quot;, &quot;terminal&quot;: &quot;5&quot;, &quot;gate&quot;: &quot;A23&quot;, &quot;delay&quot;: 95, &quot;scheduled&quot;: &quot;2023-08-28T18:15:00+00:00&quot;, &quot;estimated&quot;: &quot;2023-08-28T18:15:00+00:00&quot;, &quot;actual&quot;: &quot;2023-08-28T19:49:00+00:00&quot;, &quot;estimated_runway&quot;: &quot;2023-08-28T19:49:00+00:00&quot;, &quot;actual_runway&quot;: &quot;2023-08-28T19:49:00+00:00&quot;}, &quot;arrival&quot;: {&quot;airport&quot;: &quot;Newcastle Airport&quot;, &quot;timezone&quot;: &quot;Europe/London&quot;, &quot;iata&quot;: &quot;NCL&quot;, &quot;icao&quot;: &quot;EGNT&quot;, &quot;terminal&quot;: &quot;1&quot;, &quot;gate&quot;: null, &quot;baggage&quot;: null, &quot;delay&quot;: 65, &quot;scheduled&quot;: &quot;2023-08-28T19:30:00+00:00&quot;, &quot;estimated&quot;: &quot;2023-08-28T19:30:00+00:00&quot;, &quot;actual&quot;: null, &quot;estimated_runway&quot;: null, &quot;actual_runway&quot;: null}, &quot;airline&quot;: {&quot;name&quot;: &quot;Malaysia Airlines&quot;, &quot;iata&quot;: &quot;MH&quot;, &quot;icao&quot;: &quot;MAS&quot;}, &quot;flight&quot;: {&quot;number&quot;: &quot;9936&quot;, &quot;iata&quot;: &quot;MH9936&quot;, &quot;icao&quot;: &quot;MAS9936&quot;, &quot;codeshared&quot;: {&quot;airline_name&quot;: &quot;british airways&quot;, &quot;airline_iata&quot;: &quot;ba&quot;, &quot;airline_icao&quot;: &quot;baw&quot;, &quot;flight_number&quot;: &quot;1336&quot;, &quot;flight_iata&quot;: &quot;ba1336&quot;, &quot;flight_icao&quot;: &quot;baw1336&quot;}}, &quot;aircraft&quot;: null, &quot;live&quot;: null}, {&quot;flight_date&quot;: &quot;2023-08-28&quot;, &quot;flight_status&quot;: &quot;landed&quot;, &quot;departure&quot;: {&quot;airport&quot;: &quot;Marco Polo&quot;, &quot;timezone&quot;: &quot;Europe/Rome&quot;, &quot;iata&quot;: &quot;VCE&quot;, &quot;icao&quot;: &quot;LIPZ&quot;, &quot;terminal&quot;: null, &quot;gate&quot;: &quot;63&quot;, &quot;delay&quot;: 55, &quot;scheduled&quot;: &quot;2023-08-28T20:15:00+00:00&quot;, &quot;estimated&quot;: &quot;2023-08-28T20:15:00+00:00&quot;, &quot;actual&quot;: &quot;2023-08-28T21:09:00+00:00&quot;, &quot;estimated_runway&quot;: &quot;2023-08-28T21:09:00+00:00&quot;, &quot;actual_runway&quot;: &quot;2023-08-28T21:09:00+00:00&quot;}, &quot;arrival&quot;: {&quot;airport&quot;: &quot;Istanbul Airport&quot;, &quot;timezone&quot;: &quot;Europe/Istanbul&quot;, &quot;iata&quot;: &quot;IST&quot;, &quot;icao&quot;: &quot;LTFM&quot;, &quot;terminal&quot;: &quot;1&quot;, &quot;gate&quot;: null, &quot;baggage&quot;: &quot;9&quot;, &quot;delay&quot;: 40, &quot;scheduled&quot;: &quot;2023-08-28T23:45:00+00:00&quot;, &quot;estimated&quot;: &quot;2023-08-28T23:45:00+00:00&quot;, &quot;actual&quot;: &quot;2023-08-29T00:25:00+00:00&quot;, &quot;estimated_runway&quot;: &quot;2023-08-29T00:25:00+00:00&quot;, &quot;actual_runway&quot;: &quot;2023-08-29T00:25:00+00:00&quot;}, &quot;airline&quot;: {&quot;name&quot;: &quot;Malaysia Airlines&quot;, &quot;iata&quot;: &quot;MH&quot;, &quot;icao&quot;: &quot;MAS&quot;}, &quot;flight&quot;: {&quot;number&quot;: &quot;4344&quot;, &quot;iata&quot;: &quot;MH4344&quot;, &quot;icao&quot;: &quot;MAS4344&quot;, &quot;codeshared&quot;: {&quot;airline_name&quot;: &quot;turkish airlines&quot;, &quot;airline_iata&quot;: &quot;tk&quot;, &quot;airline_icao&quot;: &quot;thy&quot;, &quot;flight_number&quot;: &quot;1870&quot;, &quot;flight_iata&quot;: &quot;tk1870&quot;, &quot;flight_icao&quot;: &quot;thy1870&quot;}}, &quot;aircraft&quot;: null, &quot;live&quot;: null}, {&quot;flight_date&quot;: &quot;2023-08-28&quot;, &quot;flight_status&quot;: &quot;scheduled&quot;, &quot;departure&quot;: {&quot;airport&quot;: &quot;St-Exup\\u00e9ry&quot;, &quot;timezone&quot;: &quot;Europe/Paris&quot;, &quot;iata&quot;: &quot;LYS&quot;, &quot;icao&quot;: &quot;LFLL&quot;, &quot;terminal&quot;: &quot;1&quot;, &quot;gate&quot;: null, &quot;delay&quot;: 78, &quot;scheduled&quot;: &quot;2023-08-28T19:15:00+00:00&quot;, &quot;estimated&quot;: &quot;2023-08-28T19:15:00+00:00&quot;, &quot;actual&quot;: &quot;2023-08-28T20:32:00+00:00&quot;, &quot;estimated_runway&quot;: &quot;2023-08-28T20:32:00+00:00&quot;, &quot;actual_runway&quot;: &quot;2023-08-28T20:32:00+00:00&quot;}, &quot;arrival&quot;: {&quot;airport&quot;: &quot;Istanbul Airport&quot;, &quot;timezone&quot;: &quot;Europe/Istanbul&quot;, &quot;iata&quot;: &quot;IST&quot;, &quot;icao&quot;: &quot;LTFM&quot;, &quot;terminal&quot;: &quot;1&quot;, &quot;gate&quot;: null, &quot;baggage&quot;: &quot;16&quot;, &quot;delay&quot;: 55, &quot;scheduled&quot;: &quot;2023-08-28T23:25:00+00:00&quot;, &quot;estimated&quot;: &quot;2023-08-28T23:25:00+00:00&quot;, &quot;actual&quot;: null, &quot;estimated_runway&quot;: null, &quot;actual_runway&quot;: null}, &quot;airline&quot;: {&quot;name&quot;: &quot;Malaysia Airlines&quot;, &quot;iata&quot;: &quot;MH&quot;, &quot;icao&quot;: &quot;MAS&quot;}, &quot;flight&quot;: {&quot;number&quot;: &quot;4340&quot;, &quot;iata&quot;: &quot;MH4340&quot;, &quot;icao&quot;: &quot;MAS4340&quot;, &quot;codeshared&quot;: {&quot;airline_name&quot;: &quot;turkish airlines&quot;, &quot;airline_iata&quot;: &quot;tk&quot;, &quot;airline_icao&quot;: &quot;thy&quot;, &quot;flight_number&quot;: &quot;1810&quot;, &quot;flight_iata&quot;: &quot;tk1810&quot;, &quot;flight_icao&quot;: &quot;thy1810&quot;}}, &quot;aircraft&quot;: null, &quot;live&quot;: null}, {&quot;flight_date&quot;: &quot;2023-08-28&quot;, &quot;flight_status&quot;: &quot;landed&quot;, &quot;departure&quot;: {&quot;airport&quot;: &quot;Heathrow&quot;, &quot;timezone&quot;: &quot;Europe/London&quot;, &quot;iata&quot;: &quot;LHR&quot;, &quot;icao&quot;: &quot;EGLL&quot;, &quot;terminal&quot;: &quot;2&quot;, &quot;gate&quot;: &quot;B42&quot;, &quot;delay&quot;: 51, &quot;scheduled&quot;: &quot;2023-08-28T11:25:00+00:00&quot;, &quot;estimated&quot;: &quot;2023-08-28T11:25:00+00:00&quot;, &quot;actual&quot;: &quot;2023-08-28T12:16:00+00:00&quot;, &quot;estimated_runway&quot;: &quot;2023-08-28T12:16:00+00:00&quot;, &quot;actual_runway&quot;: &quot;2023-08-28T12:16:00+00:00&quot;}, &quot;arrival&quot;: {&quot;airport&quot;: &quot;Singapore Changi&quot;, &quot;timezone&quot;: &quot;Asia/Singapore&quot;, &quot;iata&quot;: &quot;SIN&quot;, &quot;icao&quot;: &quot;WSSS&quot;, &quot;terminal&quot;: &quot;3&quot;, &quot;gate&quot;: null, &quot;baggage&quot;: &quot;42&quot;, &quot;delay&quot;: 38, &quot;scheduled&quot;: &quot;2023-08-29T07:30:00+00:00&quot;, &quot;estimated&quot;: &quot;2023-08-29T07:30:00+00:00&quot;, &quot;actual&quot;: &quot;2023-08-29T08:08:00+00:00&quot;, &quot;estimated_runway&quot;: &quot;2023-08-29T08:08:00+00:00&quot;, &quot;actual_runway&quot;: &quot;2023-08-29T08:08:00+00:00&quot;}, &quot;airline&quot;: {&quot;name&quot;: &quot;Malaysia Airlines&quot;, &quot;iata&quot;: &quot;MH&quot;, &quot;icao&quot;: &quot;MAS&quot;}, &quot;flight&quot;: {&quot;number&quot;: &quot;5719&quot;, &quot;iata&quot;: &quot;MH5719&quot;, &quot;icao&quot;: &quot;MAS5719&quot;, &quot;codeshared&quot;: {&quot;airline_name&quot;: &quot;singapore airlines&quot;, &quot;airline_iata&quot;: &quot;sq&quot;, &quot;airline_icao&quot;: &quot;sia&quot;, &quot;flight_number&quot;: &quot;317&quot;, &quot;flight_iata&quot;: &quot;sq317&quot;, &quot;flight_icao&quot;: &quot;sia317&quot;}}, &quot;aircraft&quot;: null, &quot;live&quot;: null}, {&quot;flight_date&quot;: &quot;2023-08-28&quot;, &quot;flight_status&quot;: &quot;landed&quot;, &quot;departure&quot;: {&quot;airport&quot;: &quot;Heathrow&quot;, &quot;timezone&quot;: &quot;Europe/London&quot;, &quot;iata&quot;: &quot;LHR&quot;, &quot;icao&quot;: &quot;EGLL&quot;, &quot;terminal&quot;: &quot;3&quot;, &quot;gate&quot;: &quot;32&quot;, &quot;delay&quot;: 61, &quot;scheduled&quot;: &quot;2023-08-28T10:30:00+00:00&quot;, &quot;estimated&quot;: &quot;2023-08-28T10:30:00+00:00&quot;, &quot;actual&quot;: &quot;2023-08-28T11:30:00+00:00&quot;, &quot;estimated_runway&quot;: &quot;2023-08-28T11:30:00+00:00&quot;, &quot;actual_runway&quot;: &quot;2023-08-28T11:30:00+00:00&quot;}, &quot;arrival&quot;: {&quot;airport&quot;: &quot;John F Kennedy International&quot;, &quot;timezone&quot;: &quot;America/New_York&quot;, &quot;iata&quot;: &quot;JFK&quot;, &quot;icao&quot;: &quot;KJFK&quot;, &quot;terminal&quot;: &quot;8&quot;, &quot;gate&quot;: &quot;12&quot;, &quot;baggage&quot;: &quot;3&quot;, &quot;delay&quot;: 30, &quot;scheduled&quot;: &quot;2023-08-28T13:26:00+00:00&quot;, &quot;estimated&quot;: &quot;2023-08-28T13:26:00+00:00&quot;, &quot;actual&quot;: &quot;2023-08-28T13:56:00+00:00&quot;, &quot;estimated_runway&quot;: &quot;2023-08-28T13:56:00+00:00&quot;, &quot;actual_runway&quot;: &quot;2023-08-28T13:56:00+00:00&quot;}, &quot;airline&quot;: {&quot;name&quot;: &quot;Malaysia Airlines&quot;, &quot;iata&quot;: &quot;MH&quot;, &quot;icao&quot;: &quot;MAS&quot;}, &quot;flight&quot;: {&quot;number&quot;: &quot;9393&quot;, &quot;iata&quot;: &quot;MH9393&quot;, &quot;icao&quot;: &quot;MAS9393&quot;, &quot;codeshared&quot;: {&quot;airline_name&quot;: &quot;american airlines&quot;, &quot;airline_iata&quot;: &quot;aa&quot;, &quot;airline_icao&quot;: &quot;aal&quot;, &quot;flight_number&quot;: &quot;101&quot;, &quot;flight_iata&quot;: &quot;aa101&quot;, &quot;flight_icao&quot;: &quot;aal101&quot;}}, &quot;aircraft&quot;: null, &quot;live&quot;: null}, {&quot;flight_date&quot;: &quot;2023-08-28&quot;, &quot;flight_status&quot;: &quot;scheduled&quot;, &quot;departure&quot;: {&quot;airport&quot;: &quot;Heathrow&quot;, &quot;timezone&quot;: &quot;Europe/London&quot;, &quot;iata&quot;: &quot;LHR&quot;, &quot;icao&quot;: &quot;EGLL&quot;, &quot;terminal&quot;: &quot;5&quot;, &quot;gate&quot;: &quot;A8&quot;, &quot;delay&quot;: 116, &quot;scheduled&quot;: &quot;2023-08-28T11:55:00+00:00&quot;, &quot;estimated&quot;: &quot;2023-08-28T11:55:00+00:00&quot;, &quot;actual&quot;: &quot;2023-08-28T13:51:00+00:00&quot;, &quot;estimated_runway&quot;: &quot;2023-08-28T13:51:00+00:00&quot;, &quot;actual_runway&quot;: &quot;2023-08-28T13:51:00+00:00&quot;}, &quot;arrival&quot;: {&quot;airport&quot;: &quot;Zurich&quot;, &quot;timezone&quot;: &quot;Europe/Zurich&quot;, &quot;iata&quot;: &quot;ZRH&quot;, &quot;icao&quot;: &quot;LSZH&quot;, &quot;terminal&quot;: &quot;2&quot;, &quot;gate&quot;: null, &quot;baggage&quot;: null, &quot;delay&quot;: 83, &quot;scheduled&quot;: &quot;2023-08-28T14:40:00+00:00&quot;, &quot;estimated&quot;: &quot;2023-08-28T14:40:00+00:00&quot;, &quot;actual&quot;: null, &quot;estimated_runway&quot;: null, &quot;actual_runway&quot;: null}, &quot;airline&quot;: {&quot;name&quot;: &quot;Malaysia Airlines&quot;, &quot;iata&quot;: &quot;MH&quot;, &quot;icao&quot;: &quot;MAS&quot;}, &quot;flight&quot;: {&quot;number&quot;: &quot;9930&quot;, &quot;iata&quot;: &quot;MH9930&quot;, &quot;icao&quot;: &quot;MAS9930&quot;, &quot;codeshared&quot;: {&quot;airline_name&quot;: &quot;british airways&quot;, &quot;airline_iata&quot;: &quot;ba&quot;, &quot;airline_icao&quot;: &quot;baw&quot;, &quot;flight_number&quot;: &quot;714&quot;, &quot;flight_iata&quot;: &quot;ba714&quot;, &quot;flight_icao&quot;: &quot;baw714&quot;}}, &quot;aircraft&quot;: null, &quot;live&quot;: null}, {&quot;flight_date&quot;: &quot;2023-08-28&quot;, &quot;flight_status&quot;: &quot;landed&quot;, &quot;departure&quot;: {&quot;airport&quot;: &quot;Istanbul Airport&quot;, &quot;timezone&quot;: &quot;Europe/Istanbul&quot;, &quot;iata&quot;: &quot;IST&quot;, &quot;icao&quot;: &quot;LTFM&quot;, &quot;terminal&quot;: null, &quot;gate&quot;: &quot;F7A&quot;, &quot;delay&quot;: 96, &quot;scheduled&quot;: &quot;2023-08-28T15:55:00+00:00&quot;, &quot;estimated&quot;: &quot;2023-08-28T15:55:00+00:00&quot;, &quot;actual&quot;: &quot;2023-08-28T17:31:00+00:00&quot;, &quot;estimated_runway&quot;: &quot;2023-08-28T17:31:00+00:00&quot;, &quot;actual_runway&quot;: &quot;2023-08-28T17:31:00+00:00&quot;}, &quot;arrival&quot;: {&quot;airport&quot;: &quot;St-Exup\\u00e9ry&quot;, &quot;timezone&quot;: &quot;Europe/Paris&quot;, &quot;iata&quot;: &quot;LYS&quot;, &quot;icao&quot;: &quot;LFLL&quot;, &quot;terminal&quot;: &quot;1&quot;, &quot;gate&quot;: null, &quot;baggage&quot;: &quot;106&quot;, &quot;delay&quot;: 50, &quot;scheduled&quot;: &quot;2023-08-28T18:25:00+00:00&quot;, &quot;estimated&quot;: &quot;2023-08-28T18:25:00+00:00&quot;, &quot;actual&quot;: &quot;2023-08-28T19:14:00+00:00&quot;, &quot;estimated_runway&quot;: &quot;2023-08-28T19:14:00+00:00&quot;, &quot;actual_runway&quot;: &quot;2023-08-28T19:14:00+00:00&quot;}, &quot;airline&quot;: {&quot;name&quot;: &quot;Malaysia Airlines&quot;, &quot;iata&quot;: &quot;MH&quot;, &quot;icao&quot;: &quot;MAS&quot;}, &quot;flight&quot;: {&quot;number&quot;: &quot;4351&quot;, &quot;iata&quot;: &quot;MH4351&quot;, &quot;icao&quot;: &quot;MAS4351&quot;, &quot;codeshared&quot;: {&quot;airline_name&quot;: &quot;turkish airlines&quot;, &quot;airline_iata&quot;: &quot;tk&quot;, &quot;airline_icao&quot;: &quot;thy&quot;, &quot;flight_number&quot;: &quot;1809&quot;, &quot;flight_iata&quot;: &quot;tk1809&quot;, &quot;flight_icao&quot;: &quot;thy1809&quot;}}, &quot;aircraft&quot;: null, &quot;live&quot;: null}, {&quot;flight_date&quot;: &quot;2023-08-28&quot;, &quot;flight_status&quot;: &quot;scheduled&quot;, &quot;departure&quot;: {&quot;airport&quot;: &quot;Yogyakarta International Airport&quot;, &quot;timezone&quot;: null, &quot;iata&quot;: &quot;YIA&quot;, &quot;icao&quot;: &quot;WAHI&quot;, &quot;terminal&quot;: null, &quot;gate&quot;: null, &quot;delay&quot;: 85, &quot;scheduled&quot;: &quot;2023-08-28T16:50:00+00:00&quot;, &quot;estimated&quot;: &quot;2023-08-28T16:50:00+00:00&quot;, &quot;actual&quot;: &quot;2023-08-28T18:14:00+00:00&quot;, &quot;estimated_runway&quot;: &quot;2023-08-28T18:14:00+00:00&quot;, &quot;actual_runway&quot;: &quot;2023-08-28T18:14:00+00:00&quot;}, &quot;arrival&quot;: {&quot;airport&quot;: &quot;Soekarno-Hatta International&quot;, &quot;timezone&quot;: &quot;Asia/Jakarta&quot;, &quot;iata&quot;: &quot;CGK&quot;, &quot;icao&quot;: &quot;WIII&quot;, &quot;terminal&quot;: &quot;3&quot;, &quot;gate&quot;: null, &quot;baggage&quot;: null, &quot;delay&quot;: 47, &quot;scheduled&quot;: &quot;2023-08-28T18:20:00+00:00&quot;, &quot;estimated&quot;: &quot;2023-08-28T18:20:00+00:00&quot;, &quot;actual&quot;: null, &quot;estimated_runway&quot;: null, &quot;actual_runway&quot;: null}, &quot;airline&quot;: {&quot;name&quot;: &quot;Malaysia Airlines&quot;, &quot;iata&quot;: &quot;MH&quot;, &quot;icao&quot;: &quot;MAS&quot;}, &quot;flight&quot;: {&quot;number&quot;: &quot;5877&quot;, &quot;iata&quot;: &quot;MH5877&quot;, &quot;icao&quot;: &quot;MAS5877&quot;, &quot;codeshared&quot;: {&quot;airline_name&quot;: &quot;garuda indonesia&quot;, &quot;airline_iata&quot;: &quot;ga&quot;, &quot;airline_icao&quot;: &quot;gia&quot;, &quot;flight_number&quot;: &quot;213&quot;, &quot;flight_iata&quot;: &quot;ga213&quot;, &quot;flight_icao&quot;: &quot;gia213&quot;}}, &quot;aircraft&quot;: null, &quot;live&quot;: null}, {&quot;flight_date&quot;: &quot;2023-08-28&quot;, &quot;flight_status&quot;: &quot;scheduled&quot;, &quot;departure&quot;: {&quot;airport&quot;: &quot;Kuala Lumpur International Airport (klia)&quot;, &quot;timezone&quot;: &quot;Asia/Kuala_Lumpur&quot;, &quot;iata&quot;: &quot;KUL&quot;, &quot;icao&quot;: &quot;WMKK&quot;, &quot;terminal&quot;: &quot;1&quot;, &quot;gate&quot;: null, &quot;delay&quot;: 391, &quot;scheduled&quot;: &quot;2023-08-28T23:30:00+00:00&quot;, &quot;estimated&quot;: &quot;2023-08-28T23:30:00+00:00&quot;, &quot;actual&quot;: &quot;2023-08-29T06:00:00+00:00&quot;, &quot;estimated_runway&quot;: &quot;2023-08-29T06:00:00+00:00&quot;, &quot;actual_runway&quot;: &quot;2023-08-29T06:00:00+00:00&quot;}, &quot;arrival&quot;: {&quot;airport&quot;: &quot;Seoul (Incheon)&quot;, &quot;timezone&quot;: &quot;Asia/Seoul&quot;, &quot;iata&quot;: &quot;ICN&quot;, &quot;icao&quot;: &quot;RKSI&quot;, &quot;terminal&quot;: &quot;1&quot;, &quot;gate&quot;: &quot;49&quot;, &quot;baggage&quot;: &quot;17&quot;, &quot;delay&quot;: 357, &quot;scheduled&quot;: &quot;2023-08-29T07:10:00+00:00&quot;, &quot;estimated&quot;: &quot;2023-08-29T07:10:00+00:00&quot;, &quot;actual&quot;: null, &quot;estimated_runway&quot;: null, &quot;actual_runway&quot;: null}, &quot;airline&quot;: {&quot;name&quot;: &quot;Malaysia Airlines&quot;, &quot;iata&quot;: &quot;MH&quot;, &quot;icao&quot;: &quot;MAS&quot;}, &quot;flight&quot;: {&quot;number&quot;: &quot;66&quot;, &quot;iata&quot;: &quot;MH66&quot;, &quot;icao&quot;: &quot;MAS66&quot;, &quot;codeshared&quot;: null}, &quot;aircraft&quot;: {&quot;registration&quot;: &quot;9M-MTB&quot;, &quot;iata&quot;: &quot;A333&quot;, &quot;icao&quot;: &quot;A333&quot;, &quot;icao24&quot;: &quot;750255&quot;}, &quot;live&quot;: {&quot;updated&quot;: &quot;2023-08-29T02:51:23+00:00&quot;, &quot;latitude&quot;: 28.2, &quot;longitude&quot;: 124.19, &quot;altitude&quot;: 11277.6, &quot;direction&quot;: 38, &quot;speed_horizontal&quot;: 853.772, &quot;speed_vertical&quot;: 0, &quot;is_ground&quot;: false}}, {&quot;flight_date&quot;: &quot;2023-08-28&quot;, &quot;flight_status&quot;: &quot;landed&quot;, &quot;departure&quot;: {&quot;airport&quot;: &quot;Heathrow&quot;, &quot;timezone&quot;: &quot;Europe/London&quot;, &quot;iata&quot;: &quot;LHR&quot;, &quot;icao&quot;: &quot;EGLL&quot;, &quot;terminal&quot;: &quot;5&quot;, &quot;gate&quot;: &quot;A8&quot;, &quot;delay&quot;: 65, &quot;scheduled&quot;: &quot;2023-08-28T08:45:00+00:00&quot;, &quot;estimated&quot;: &quot;2023-08-28T08:45:00+00:00&quot;, &quot;actual&quot;: &quot;2023-08-28T09:50:00+00:00&quot;, &quot;estimated_runway&quot;: &quot;2023-08-28T09:50:00+00:00&quot;, &quot;actual_runway&quot;: &quot;2023-08-28T09:50:00+00:00&quot;}, &quot;arrival&quot;: {&quot;airport&quot;: &quot;Brussels Airport&quot;, &quot;timezone&quot;: &quot;Europe/Brussels&quot;, &quot;iata&quot;: &quot;BRU&quot;, &quot;icao&quot;: &quot;EBBR&quot;, &quot;terminal&quot;: &quot;2&quot;, &quot;gate&quot;: null, &quot;baggage&quot;: &quot;5&quot;, &quot;delay&quot;: 34, &quot;scheduled&quot;: &quot;2023-08-28T10:55:00+00:00&quot;, &quot;estimated&quot;: &quot;2023-08-28T10:55:00+00:00&quot;, &quot;actual&quot;: &quot;2023-08-28T11:29:00+00:00&quot;, &quot;estimated_runway&quot;: &quot;2023-08-28T11:29:00+00:00&quot;, &quot;actual_runway&quot;: &quot;2023-08-28T11:29:00+00:00&quot;}, &quot;airline&quot;: {&quot;name&quot;: &quot;Malaysia Airlines&quot;, &quot;iata&quot;: &quot;MH&quot;, &quot;icao&quot;: &quot;MAS&quot;}, &quot;flight&quot;: {&quot;number&quot;: &quot;9718&quot;, &quot;iata&quot;: &quot;MH9718&quot;, &quot;icao&quot;: &quot;MAS9718&quot;, &quot;codeshared&quot;: {&quot;airline_name&quot;: &quot;british airways&quot;, &quot;airline_iata&quot;: &quot;ba&quot;, &quot;airline_icao&quot;: &quot;baw&quot;, &quot;flight_number&quot;: &quot;392&quot;, &quot;flight_iata&quot;: &quot;ba392&quot;, &quot;flight_icao&quot;: &quot;baw392&quot;}}, &quot;aircraft&quot;: null, &quot;live&quot;: null}, {&quot;flight_date&quot;: &quot;2023-08-28&quot;, &quot;flight_status&quot;: &quot;landed&quot;, &quot;departure&quot;: {&quot;airport&quot;: &quot;Suvarnabhumi International&quot;, &quot;timezone&quot;: &quot;Asia/Bangkok&quot;, &quot;iata&quot;: &quot;BKK&quot;, &quot;icao&quot;: &quot;VTBS&quot;, &quot;terminal&quot;: null, &quot;gate&quot;: null, &quot;delay&quot;: 56, &quot;scheduled&quot;: &quot;2023-08-28T19:40:00+00:00&quot;, &quot;estimated&quot;: &quot;2023-08-28T19:40:00+00:00&quot;, &quot;actual&quot;: &quot;2023-08-28T20:35:00+00:00&quot;, &quot;estimated_runway&quot;: &quot;2023-08-28T20:35:00+00:00&quot;, &quot;actual_runway&quot;: &quot;2023-08-28T20:35:00+00:00&quot;}, &quot;arrival&quot;: {&quot;airport&quot;: &quot;Kuala Lumpur International Airport (klia)&quot;, &quot;timezone&quot;: &quot;Asia/Kuala_Lumpur&quot;, &quot;iata&quot;: &quot;KUL&quot;, &quot;icao&quot;: &quot;WMKK&quot;, &quot;terminal&quot;: &quot;1&quot;, &quot;gate&quot;: null, &quot;baggage&quot;: null, &quot;delay&quot;: 30, &quot;scheduled&quot;: &quot;2023-08-28T22:50:00+00:00&quot;, &quot;estimated&quot;: &quot;2023-08-28T22:50:00+00:00&quot;, &quot;actual&quot;: &quot;2023-08-28T23:19:00+00:00&quot;, &quot;estimated_runway&quot;: &quot;2023-08-28T23:19:00+00:00&quot;, &quot;actual_runway&quot;: &quot;2023-08-28T23:19:00+00:00&quot;}, &quot;airline&quot;: {&quot;name&quot;: &quot;Malaysia Airlines&quot;, &quot;iata&quot;: &quot;MH&quot;, &quot;icao&quot;: &quot;MAS&quot;}, &quot;flight&quot;: {&quot;number&quot;: &quot;781&quot;, &quot;iata&quot;: &quot;MH781&quot;, &quot;icao&quot;: &quot;MAS781&quot;, &quot;codeshared&quot;: null}, &quot;aircraft&quot;: null, &quot;live&quot;: null}, {&quot;flight_date&quot;: &quot;2023-08-28&quot;, &quot;flight_status&quot;: &quot;scheduled&quot;, &quot;departure&quot;: {&quot;airport&quot;: &quot;Istanbul Airport&quot;, &quot;timezone&quot;: &quot;Europe/Istanbul&quot;, &quot;iata&quot;: &quot;IST&quot;, &quot;icao&quot;: &quot;LTFM&quot;, &quot;terminal&quot;: null, &quot;gate&quot;: &quot;D3&quot;, &quot;delay&quot;: 95, &quot;scheduled&quot;: &quot;2023-08-28T12:35:00+00:00&quot;, &quot;estimated&quot;: &quot;2023-08-28T12:35:00+00:00&quot;, &quot;actual&quot;: &quot;2023-08-28T14:09:00+00:00&quot;, &quot;estimated_runway&quot;: &quot;2023-08-28T14:09:00+00:00&quot;, &quot;actual_runway&quot;: &quot;2023-08-28T14:09:00+00:00&quot;}, &quot;arrival&quot;: {&quot;airport&quot;: &quot;Lisbon Portela&quot;, &quot;timezone&quot;: &quot;Europe/Lisbon&quot;, &quot;iata&quot;: &quot;LIS&quot;, &quot;icao&quot;: &quot;LPPT&quot;, &quot;terminal&quot;: &quot;1&quot;, &quot;gate&quot;: null, &quot;baggage&quot;: null, &quot;delay&quot;: 61, &quot;scheduled&quot;: &quot;2023-08-28T15:35:00+00:00&quot;, &quot;estimated&quot;: &quot;2023-08-28T15:35:00+00:00&quot;, &quot;actual&quot;: null, &quot;estimated_runway&quot;: null, &quot;actual_runway&quot;: null}, &quot;airline&quot;: {&quot;name&quot;: &quot;Malaysia Airlines&quot;, &quot;iata&quot;: &quot;MH&quot;, &quot;icao&quot;: &quot;MAS&quot;}, &quot;flight&quot;: {&quot;number&quot;: &quot;4327&quot;, &quot;iata&quot;: &quot;MH4327&quot;, &quot;icao&quot;: &quot;MAS4327&quot;, &quot;codeshared&quot;: {&quot;airline_name&quot;: &quot;turkish airlines&quot;, &quot;airline_iata&quot;: &quot;tk&quot;, &quot;airline_icao&quot;: &quot;thy&quot;, &quot;flight_number&quot;: &quot;1759&quot;, &quot;flight_iata&quot;: &quot;tk1759&quot;, &quot;flight_icao&quot;: &quot;thy1759&quot;}}, &quot;aircraft&quot;: null, &quot;live&quot;: null}, {&quot;flight_date&quot;: &quot;2023-08-28&quot;, &quot;flight_status&quot;: &quot;scheduled&quot;, &quot;departure&quot;: {&quot;airport&quot;: &quot;Heathrow&quot;, &quot;timezone&quot;: &quot;Europe/London&quot;, &quot;iata&quot;: &quot;LHR&quot;, &quot;icao&quot;: &quot;EGLL&quot;, &quot;terminal&quot;: &quot;5&quot;, &quot;gate&quot;: &quot;A4&quot;, &quot;delay&quot;: 123, &quot;scheduled&quot;: &quot;2023-08-28T13:10:00+00:00&quot;, &quot;estimated&quot;: &quot;2023-08-28T13:10:00+00:00&quot;, &quot;actual&quot;: &quot;2023-08-28T15:12:00+00:00&quot;, &quot;estimated_runway&quot;: &quot;2023-08-28T15:12:00+00:00&quot;, &quot;actual_runway&quot;: &quot;2023-08-28T15:12:00+00:00&quot;}, &quot;arrival&quot;: {&quot;airport&quot;: &quot;Glasgow International&quot;, &quot;timezone&quot;: &quot;Europe/London&quot;, &quot;iata&quot;: &quot;GLA&quot;, &quot;icao&quot;: &quot;EGPF&quot;, &quot;terminal&quot;: &quot;M&quot;, &quot;gate&quot;: null, &quot;baggage&quot;: null, &quot;delay&quot;: 92, &quot;scheduled&quot;: &quot;2023-08-28T14:35:00+00:00&quot;, &quot;estimated&quot;: &quot;2023-08-28T14:35:00+00:00&quot;, &quot;actual&quot;: null, &quot;estimated_runway&quot;: null, &quot;actual_runway&quot;: null}, &quot;airline&quot;: {&quot;name&quot;: &quot;Malaysia Airlines&quot;, &quot;iata&quot;: &quot;MH&quot;, &quot;icao&quot;: &quot;MAS&quot;}, &quot;flight&quot;: {&quot;number&quot;: &quot;9844&quot;, &quot;iata&quot;: &quot;MH9844&quot;, &quot;icao&quot;: &quot;MAS9844&quot;, &quot;codeshared&quot;: {&quot;airline_name&quot;: &quot;british airways&quot;, &quot;airline_iata&quot;: &quot;ba&quot;, &quot;airline_icao&quot;: &quot;baw&quot;, &quot;flight_number&quot;: &quot;1484&quot;, &quot;flight_iata&quot;: &quot;ba1484&quot;, &quot;flight_icao&quot;: &quot;baw1484&quot;}}, &quot;aircraft&quot;: null, &quot;live&quot;: null}, {&quot;flight_date&quot;: &quot;2023-08-28&quot;, &quot;flight_status&quot;: &quot;scheduled&quot;, &quot;departure&quot;: {&quot;airport&quot;: &quot;Edinburgh&quot;, &quot;timezone&quot;: &quot;Europe/London&quot;, &quot;iata&quot;: &quot;EDI&quot;, &quot;icao&quot;: &quot;EGPH&quot;, &quot;terminal&quot;: null, &quot;gate&quot;: null, &quot;delay&quot;: 155, &quot;scheduled&quot;: &quot;2023-08-28T14:45:00+00:00&quot;, &quot;estimated&quot;: &quot;2023-08-28T14:45:00+00:00&quot;, &quot;actual&quot;: &quot;2023-08-28T17:20:00+00:00&quot;, &quot;estimated_runway&quot;: &quot;2023-08-28T17:20:00+00:00&quot;, &quot;actual_runway&quot;: &quot;2023-08-28T17:20:00+00:00&quot;}, &quot;arrival&quot;: {&quot;airport&quot;: &quot;Doha International&quot;, &quot;timezone&quot;: &quot;Asia/Qatar&quot;, &quot;iata&quot;: &quot;DOH&quot;, &quot;icao&quot;: &quot;OTHH&quot;, &quot;terminal&quot;: &quot;1&quot;, &quot;gate&quot;: null, &quot;baggage&quot;: &quot;8&quot;, &quot;delay&quot;: 134, &quot;scheduled&quot;: &quot;2023-08-28T23:40:00+00:00&quot;, &quot;estimated&quot;: &quot;2023-08-28T23:40:00+00:00&quot;, &quot;actual&quot;: null, &quot;estimated_runway&quot;: null, &quot;actual_runway&quot;: null}, &quot;airline&quot;: {&quot;name&quot;: &quot;Malaysia Airlines&quot;, &quot;iata&quot;: &quot;MH&quot;, &quot;icao&quot;: &quot;MAS&quot;}, &quot;flight&quot;: {&quot;number&quot;: &quot;4175&quot;, &quot;iata&quot;: &quot;MH4175&quot;, &quot;icao&quot;: &quot;MAS4175&quot;, &quot;codeshared&quot;: {&quot;airline_name&quot;: &quot;qatar airways&quot;, &quot;airline_iata&quot;: &quot;qr&quot;, &quot;airline_icao&quot;: &quot;qtr&quot;, &quot;flight_number&quot;: &quot;30&quot;, &quot;flight_iata&quot;: &quot;qr30&quot;, &quot;flight_icao&quot;: &quot;qtr30&quot;}}, &quot;aircraft&quot;: null, &quot;live&quot;: null}, {&quot;flight_date&quot;: &quot;2023-08-28&quot;, &quot;flight_status&quot;: &quot;landed&quot;, &quot;departure&quot;: {&quot;airport&quot;: &quot;Gardermoen&quot;, &quot;timezone&quot;: &quot;Europe/Oslo&quot;, &quot;iata&quot;: &quot;OSL&quot;, &quot;icao&quot;: &quot;ENGM&quot;, &quot;terminal&quot;: null, &quot;gate&quot;: &quot;D3&quot;, &quot;delay&quot;: 53, &quot;scheduled&quot;: &quot;2023-08-28T11:50:00+00:00&quot;, &quot;estimated&quot;: &quot;2023-08-28T11:50:00+00:00&quot;, &quot;actual&quot;: &quot;2023-08-28T12:43:00+00:00&quot;, &quot;estimated_runway&quot;: &quot;2023-08-28T12:43:00+00:00&quot;, &quot;actual_runway&quot;: &quot;2023-08-28T12:43:00+00:00&quot;}, &quot;arrival&quot;: {&quot;airport&quot;: &quot;Schiphol&quot;, &quot;timezone&quot;: &quot;Europe/Amsterdam&quot;, &quot;iata&quot;: &quot;AMS&quot;, &quot;icao&quot;: &quot;EHAM&quot;, &quot;terminal&quot;: &quot;2&quot;, &quot;gate&quot;: &quot;C18&quot;, &quot;baggage&quot;: &quot;013&quot;, &quot;delay&quot;: 31, &quot;scheduled&quot;: &quot;2023-08-28T13:40:00+00:00&quot;, &quot;estimated&quot;: &quot;2023-08-28T13:40:00+00:00&quot;, &quot;actual&quot;: &quot;2023-08-28T14:10:00+00:00&quot;, &quot;estimated_runway&quot;: &quot;2023-08-28T14:10:00+00:00&quot;, &quot;actual_runway&quot;: &quot;2023-08-28T14:10:00+00:00&quot;}, &quot;airline&quot;: {&quot;name&quot;: &quot;Malaysia Airlines&quot;, &quot;iata&quot;: &quot;MH&quot;, &quot;icao&quot;: &quot;MAS&quot;}, &quot;flight&quot;: {&quot;number&quot;: &quot;5682&quot;, &quot;iata&quot;: &quot;MH5682&quot;, &quot;icao&quot;: &quot;MAS5682&quot;, &quot;codeshared&quot;: {&quot;airline_name&quot;: &quot;klm&quot;, &quot;airline_iata&quot;: &quot;kl&quot;, &quot;airline_icao&quot;: &quot;klm&quot;, &quot;flight_number&quot;: &quot;1144&quot;, &quot;flight_iata&quot;: &quot;kl1144&quot;, &quot;flight_icao&quot;: &quot;klm1144&quot;}}, &quot;aircraft&quot;: null, &quot;live&quot;: null}, {&quot;flight_date&quot;: &quot;2023-08-28&quot;, &quot;flight_status&quot;: &quot;scheduled&quot;, &quot;departure&quot;: {&quot;airport&quot;: &quot;Manchester Airport&quot;, &quot;timezone&quot;: &quot;Europe/London&quot;, &quot;iata&quot;: &quot;MAN&quot;, &quot;icao&quot;: &quot;EGCC&quot;, &quot;terminal&quot;: &quot;2&quot;, &quot;gate&quot;: &quot;206&quot;, &quot;delay&quot;: 108, &quot;scheduled&quot;: &quot;2023-08-28T14:55:00+00:00&quot;, &quot;estimated&quot;: &quot;2023-08-28T14:55:00+00:00&quot;, &quot;actual&quot;: &quot;2023-08-28T16:43:00+00:00&quot;, &quot;estimated_runway&quot;: &quot;2023-08-28T16:43:00+00:00&quot;, &quot;actual_runway&quot;: &quot;2023-08-28T16:43:00+00:00&quot;}, &quot;arrival&quot;: {&quot;airport&quot;: &quot;Doha International&quot;, &quot;timezone&quot;: &quot;Asia/Qatar&quot;, &quot;iata&quot;: &quot;DOH&quot;, &quot;icao&quot;: &quot;OTHH&quot;, &quot;terminal&quot;: &quot;1&quot;, &quot;gate&quot;: null, &quot;baggage&quot;: &quot;6&quot;, &quot;delay&quot;: 73, &quot;scheduled&quot;: &quot;2023-08-28T23:45:00+00:00&quot;, &quot;estimated&quot;: &quot;2023-08-28T23:45:00+00:00&quot;, &quot;actual&quot;: null, &quot;estimated_runway&quot;: null, &quot;actual_runway&quot;: null}, &quot;airline&quot;: {&quot;name&quot;: &quot;Malaysia Airlines&quot;, &quot;iata&quot;: &quot;MH&quot;, &quot;icao&quot;: &quot;MAS&quot;}, &quot;flight&quot;: {&quot;number&quot;: &quot;4105&quot;, &quot;iata&quot;: &quot;MH4105&quot;, &quot;icao&quot;: &quot;MAS4105&quot;, &quot;codeshared&quot;: {&quot;airline_name&quot;: &quot;qatar airways&quot;, &quot;airline_iata&quot;: &quot;qr&quot;, &quot;airline_icao&quot;: &quot;qtr&quot;, &quot;flight_number&quot;: &quot;28&quot;, &quot;flight_iata&quot;: &quot;qr28&quot;, &quot;flight_icao&quot;: &quot;qtr28&quot;}}, &quot;aircraft&quot;: null, &quot;live&quot;: null}, {&quot;flight_date&quot;: &quot;2023-08-28&quot;, &quot;flight_status&quot;: &quot;landed&quot;, &quot;departure&quot;: {&quot;airport&quot;: &quot;D\\u00fcsseldorf International Airport&quot;, &quot;timezone&quot;: &quot;Europe/Berlin&quot;, &quot;iata&quot;: &quot;DUS&quot;, &quot;icao&quot;: &quot;EDDL&quot;, &quot;terminal&quot;: null, &quot;gate&quot;: &quot;C37&quot;, &quot;delay&quot;: 60, &quot;scheduled&quot;: &quot;2023-08-28T15:25:00+00:00&quot;, &quot;estimated&quot;: &quot;2023-08-28T15:25:00+00:00&quot;, &quot;actual&quot;: &quot;2023-08-28T16:25:00+00:00&quot;, &quot;estimated_runway&quot;: &quot;2023-08-28T16:25:00+00:00&quot;, &quot;actual_runway&quot;: &quot;2023-08-28T16:25:00+00:00&quot;}, &quot;arrival&quot;: {&quot;airport&quot;: &quot;Doha International&quot;, &quot;timezone&quot;: &quot;Asia/Qatar&quot;, &quot;iata&quot;: &quot;DOH&quot;, &quot;icao&quot;: &quot;OTHH&quot;, &quot;terminal&quot;: &quot;2&quot;, &quot;gate&quot;: null, &quot;baggage&quot;: &quot;9&quot;, &quot;delay&quot;: 38, &quot;scheduled&quot;: &quot;2023-08-28T22:25:00+00:00&quot;, &quot;estimated&quot;: &quot;2023-08-28T22:25:00+00:00&quot;, &quot;actual&quot;: &quot;2023-08-28T23:02:00+00:00&quot;, &quot;estimated_runway&quot;: &quot;2023-08-28T23:02:00+00:00&quot;, &quot;actual_runway&quot;: &quot;2023-08-28T23:02:00+00:00&quot;}, &quot;airline&quot;: {&quot;name&quot;: &quot;Malaysia Airlines&quot;, &quot;iata&quot;: &quot;MH&quot;, &quot;icao&quot;: &quot;MAS&quot;}, &quot;flight&quot;: {&quot;number&quot;: &quot;4167&quot;, &quot;iata&quot;: &quot;MH4167&quot;, &quot;icao&quot;: &quot;MAS4167&quot;, &quot;codeshared&quot;: {&quot;airline_name&quot;: &quot;qatar airways&quot;, &quot;airline_iata&quot;: &quot;qr&quot;, &quot;airline_icao&quot;: &quot;qtr&quot;, &quot;flight_number&quot;: &quot;86&quot;, &quot;flight_iata&quot;: &quot;qr86&quot;, &quot;flight_icao&quot;: &quot;qtr86&quot;}}, &quot;aircraft&quot;: null, &quot;live&quot;: null}, {&quot;flight_date&quot;: &quot;2023-08-28&quot;, &quot;flight_status&quot;: &quot;landed&quot;, &quot;departure&quot;: {&quot;airport&quot;: &quot;Schiphol&quot;, &quot;timezone&quot;: &quot;Europe/Amsterdam&quot;, &quot;iata&quot;: &quot;AMS&quot;, &quot;icao&quot;: &quot;EHAM&quot;, &quot;terminal&quot;: &quot;1&quot;, &quot;gate&quot;: &quot;B24&quot;, &quot;delay&quot;: 68, &quot;scheduled&quot;: &quot;2023-08-28T09:40:00+00:00&quot;, &quot;estimated&quot;: &quot;2023-08-28T09:40:00+00:00&quot;, &quot;actual&quot;: &quot;2023-08-28T10:47:00+00:00&quot;, &quot;estimated_runway&quot;: &quot;2023-08-28T10:47:00+00:00&quot;, &quot;actual_runway&quot;: &quot;2023-08-28T10:47:00+00:00&quot;}, &quot;arrival&quot;: {&quot;airport&quot;: &quot;Geneve-cointrin&quot;, &quot;timezone&quot;: &quot;Europe/Zurich&quot;, &quot;iata&quot;: &quot;GVA&quot;, &quot;icao&quot;: &quot;LSGG&quot;, &quot;terminal&quot;: &quot;1&quot;, &quot;gate&quot;: null, &quot;baggage&quot;: &quot;7&quot;, &quot;delay&quot;: 52, &quot;scheduled&quot;: &quot;2023-08-28T11:10:00+00:00&quot;, &quot;estimated&quot;: &quot;2023-08-28T11:10:00+00:00&quot;, &quot;actual&quot;: &quot;2023-08-28T12:02:00+00:00&quot;, &quot;estimated_runway&quot;: &quot;2023-08-28T12:02:00+00:00&quot;, &quot;actual_runway&quot;: &quot;2023-08-28T12:02:00+00:00&quot;}, &quot;airline&quot;: {&quot;name&quot;: &quot;Malaysia Airlines&quot;, &quot;iata&quot;: &quot;MH&quot;, &quot;icao&quot;: &quot;MAS&quot;}, &quot;flight&quot;: {&quot;number&quot;: &quot;5661&quot;, &quot;iata&quot;: &quot;MH5661&quot;, &quot;icao&quot;: &quot;MAS5661&quot;, &quot;codeshared&quot;: {&quot;airline_name&quot;: &quot;klm&quot;, &quot;airline_iata&quot;: &quot;kl&quot;, &quot;airline_icao&quot;: &quot;klm&quot;, &quot;flight_number&quot;: &quot;1927&quot;, &quot;flight_iata&quot;: &quot;kl1927&quot;, &quot;flight_icao&quot;: &quot;klm1927&quot;}}, &quot;aircraft&quot;: null, &quot;live&quot;: null}, {&quot;flight_date&quot;: &quot;2023-08-28&quot;, &quot;flight_status&quot;: &quot;scheduled&quot;, &quot;departure&quot;: {&quot;airport&quot;: &quot;Heathrow&quot;, &quot;timezone&quot;: &quot;Europe/London&quot;, &quot;iata&quot;: &quot;LHR&quot;, &quot;icao&quot;: &quot;EGLL&quot;, &quot;terminal&quot;: &quot;5&quot;, &quot;gate&quot;: &quot;B45&quot;, &quot;delay&quot;: 94, &quot;scheduled&quot;: &quot;2023-08-28T12:05:00+00:00&quot;, &quot;estimated&quot;: &quot;2023-08-28T12:05:00+00:00&quot;, &quot;actual&quot;: &quot;2023-08-28T13:39:00+00:00&quot;, &quot;estimated_runway&quot;: &quot;2023-08-28T13:39:00+00:00&quot;, &quot;actual_runway&quot;: &quot;2023-08-28T13:39:00+00:00&quot;}, &quot;arrival&quot;: {&quot;airport&quot;: &quot;Glasgow International&quot;, &quot;timezone&quot;: &quot;Europe/London&quot;, &quot;iata&quot;: &quot;GLA&quot;, &quot;icao&quot;: &quot;EGPF&quot;, &quot;terminal&quot;: &quot;M&quot;, &quot;gate&quot;: null, &quot;baggage&quot;: null, &quot;delay&quot;: 63, &quot;scheduled&quot;: &quot;2023-08-28T13:30:00+00:00&quot;, &quot;estimated&quot;: &quot;2023-08-28T13:30:00+00:00&quot;, &quot;actual&quot;: null, &quot;estimated_runway&quot;: null, &quot;actual_runway&quot;: null}, &quot;airline&quot;: {&quot;name&quot;: &quot;Malaysia Airlines&quot;, &quot;iata&quot;: &quot;MH&quot;, &quot;icao&quot;: &quot;MAS&quot;}, &quot;flight&quot;: {&quot;number&quot;: &quot;9842&quot;, &quot;iata&quot;: &quot;MH9842&quot;, &quot;icao&quot;: &quot;MAS9842&quot;, &quot;codeshared&quot;: {&quot;airline_name&quot;: &quot;british airways&quot;, &quot;airline_iata&quot;: &quot;ba&quot;, &quot;airline_icao&quot;: &quot;baw&quot;, &quot;flight_number&quot;: &quot;1482&quot;, &quot;flight_iata&quot;: &quot;ba1482&quot;, &quot;flight_icao&quot;: &quot;baw1482&quot;}}, &quot;aircraft&quot;: null, &quot;live&quot;: null}, {&quot;flight_date&quot;: &quot;2023-08-28&quot;, &quot;flight_status&quot;: &quot;scheduled&quot;, &quot;departure&quot;: {&quot;airport&quot;: &quot;Heathrow&quot;, &quot;timezone&quot;: &quot;Europe/London&quot;, &quot;iata&quot;: &quot;LHR&quot;, &quot;icao&quot;: &quot;EGLL&quot;, &quot;terminal&quot;: &quot;5&quot;, &quot;gate&quot;: &quot;A11&quot;, &quot;delay&quot;: 89, &quot;scheduled&quot;: &quot;2023-08-28T11:35:00+00:00&quot;, &quot;estimated&quot;: &quot;2023-08-28T11:35:00+00:00&quot;, &quot;actual&quot;: &quot;2023-08-28T13:04:00+00:00&quot;, &quot;estimated_runway&quot;: &quot;2023-08-28T13:04:00+00:00&quot;, &quot;actual_runway&quot;: &quot;2023-08-28T13:04:00+00:00&quot;}, &quot;arrival&quot;: {&quot;airport&quot;: &quot;Geneve-cointrin&quot;, &quot;timezone&quot;: &quot;Europe/Zurich&quot;, &quot;iata&quot;: &quot;GVA&quot;, &quot;icao&quot;: &quot;LSGG&quot;, &quot;terminal&quot;: &quot;1&quot;, &quot;gate&quot;: null, &quot;baggage&quot;: &quot;2&quot;, &quot;delay&quot;: 59, &quot;scheduled&quot;: &quot;2023-08-28T14:15:00+00:00&quot;, &quot;estimated&quot;: &quot;2023-08-28T14:15:00+00:00&quot;, &quot;actual&quot;: null, &quot;estimated_runway&quot;: null, &quot;actual_runway&quot;: null}, &quot;airline&quot;: {&quot;name&quot;: &quot;Malaysia Airlines&quot;, &quot;iata&quot;: &quot;MH&quot;, &quot;icao&quot;: &quot;MAS&quot;}, &quot;flight&quot;: {&quot;number&quot;: &quot;9856&quot;, &quot;iata&quot;: &quot;MH9856&quot;, &quot;icao&quot;: &quot;MAS9856&quot;, &quot;codeshared&quot;: {&quot;airline_name&quot;: &quot;british airways&quot;, &quot;airline_iata&quot;: &quot;ba&quot;, &quot;airline_icao&quot;: &quot;baw&quot;, &quot;flight_number&quot;: &quot;730&quot;, &quot;flight_iata&quot;: &quot;ba730&quot;, &quot;flight_icao&quot;: &quot;baw730&quot;}}, &quot;aircraft&quot;: null, &quot;live&quot;: null}, {&quot;flight_date&quot;: &quot;2023-08-28&quot;, &quot;flight_status&quot;: &quot;scheduled&quot;, &quot;departure&quot;: {&quot;airport&quot;: &quot;Suvarnabhumi International&quot;, &quot;timezone&quot;: &quot;Asia/Bangkok&quot;, &quot;iata&quot;: &quot;BKK&quot;, &quot;icao&quot;: &quot;VTBS&quot;, &quot;terminal&quot;: null, &quot;gate&quot;: null, &quot;delay&quot;: 74, &quot;scheduled&quot;: &quot;2023-08-28T17:15:00+00:00&quot;, &quot;estimated&quot;: &quot;2023-08-28T17:15:00+00:00&quot;, &quot;actual&quot;: &quot;2023-08-28T18:29:00+00:00&quot;, &quot;estimated_runway&quot;: &quot;2023-08-28T18:29:00+00:00&quot;, &quot;actual_runway&quot;: &quot;2023-08-28T18:29:00+00:00&quot;}, &quot;arrival&quot;: {&quot;airport&quot;: &quot;Kuala Lumpur International Airport (klia)&quot;, &quot;timezone&quot;: &quot;Asia/Kuala_Lumpur&quot;, &quot;iata&quot;: &quot;KUL&quot;, &quot;icao&quot;: &quot;WMKK&quot;, &quot;terminal&quot;: &quot;1&quot;, &quot;gate&quot;: null, &quot;baggage&quot;: null, &quot;delay&quot;: 45, &quot;scheduled&quot;: &quot;2023-08-28T20:30:00+00:00&quot;, &quot;estimated&quot;: &quot;2023-08-28T20:30:00+00:00&quot;, &quot;actual&quot;: null, &quot;estimated_runway&quot;: null, &quot;actual_runway&quot;: null}, &quot;airline&quot;: {&quot;name&quot;: &quot;Malaysia Airlines&quot;, &quot;iata&quot;: &quot;MH&quot;, &quot;icao&quot;: &quot;MAS&quot;}, &quot;flight&quot;: {&quot;number&quot;: &quot;783&quot;, &quot;iata&quot;: &quot;MH783&quot;, &quot;icao&quot;: &quot;MAS783&quot;, &quot;codeshared&quot;: null}, &quot;aircraft&quot;: null, &quot;live&quot;: null}, {&quot;flight_date&quot;: &quot;2023-08-28&quot;, &quot;flight_status&quot;: &quot;scheduled&quot;, &quot;departure&quot;: {&quot;airport&quot;: &quot;Kuala Lumpur International Airport (klia)&quot;, &quot;timezone&quot;: &quot;Asia/Kuala_Lumpur&quot;, &quot;iata&quot;: &quot;KUL&quot;, &quot;icao&quot;: &quot;WMKK&quot;, &quot;terminal&quot;: &quot;1&quot;, &quot;gate&quot;: null, &quot;delay&quot;: 66, &quot;scheduled&quot;: &quot;2023-08-28T21:00:00+00:00&quot;, &quot;estimated&quot;: &quot;2023-08-28T21:00:00+00:00&quot;, &quot;actual&quot;: &quot;2023-08-28T22:05:00+00:00&quot;, &quot;estimated_runway&quot;: &quot;2023-08-28T22:05:00+00:00&quot;, &quot;actual_runway&quot;: &quot;2023-08-28T22:05:00+00:00&quot;}, &quot;arrival&quot;: {&quot;airport&quot;: &quot;Miri&quot;, &quot;timezone&quot;: &quot;Asia/Kuching&quot;, &quot;iata&quot;: &quot;MYY&quot;, &quot;icao&quot;: &quot;WBGR&quot;, &quot;terminal&quot;: &quot;2&quot;, &quot;gate&quot;: null, &quot;baggage&quot;: null, &quot;delay&quot;: 46, &quot;scheduled&quot;: &quot;2023-08-28T23:20:00+00:00&quot;, &quot;estimated&quot;: &quot;2023-08-28T23:20:00+00:00&quot;, &quot;actual&quot;: null, &quot;estimated_runway&quot;: null, &quot;actual_runway&quot;: null}, &quot;airline&quot;: {&quot;name&quot;: &quot;Malaysia Airlines&quot;, &quot;iata&quot;: &quot;MH&quot;, &quot;icao&quot;: &quot;MAS&quot;}, &quot;flight&quot;: {&quot;number&quot;: &quot;2598&quot;, &quot;iata&quot;: &quot;MH2598&quot;, &quot;icao&quot;: &quot;MAS2598&quot;, &quot;codeshared&quot;: null}, &quot;aircraft&quot;: null, &quot;live&quot;: null}, {&quot;flight_date&quot;: &quot;2023-08-28&quot;, &quot;flight_status&quot;: &quot;landed&quot;, &quot;departure&quot;: {&quot;airport&quot;: &quot;Kuala Lumpur International Airport (klia)&quot;, &quot;timezone&quot;: &quot;Asia/Kuala_Lumpur&quot;, &quot;iata&quot;: &quot;KUL&quot;, &quot;icao&quot;: &quot;WMKK&quot;, &quot;terminal&quot;: &quot;1&quot;, &quot;gate&quot;: null, &quot;delay&quot;: 44, &quot;scheduled&quot;: &quot;2023-08-28T14:30:00+00:00&quot;, &quot;estimated&quot;: &quot;2023-08-28T14:30:00+00:00&quot;, &quot;actual&quot;: &quot;2023-08-28T15:14:00+00:00&quot;, &quot;estimated_runway&quot;: &quot;2023-08-28T15:14:00+00:00&quot;, &quot;actual_runway&quot;: &quot;2023-08-28T15:14:00+00:00&quot;}, &quot;arrival&quot;: {&quot;airport&quot;: &quot;Singapore Changi&quot;, &quot;timezone&quot;: &quot;Asia/Singapore&quot;, &quot;iata&quot;: &quot;SIN&quot;, &quot;icao&quot;: &quot;WSSS&quot;, &quot;terminal&quot;: &quot;2&quot;, &quot;gate&quot;: null, &quot;baggage&quot;: &quot;38&quot;, &quot;delay&quot;: 37, &quot;scheduled&quot;: &quot;2023-08-28T15:30:00+00:00&quot;, &quot;estimated&quot;: &quot;2023-08-28T15:30:00+00:00&quot;, &quot;actual&quot;: &quot;2023-08-28T16:06:00+00:00&quot;, &quot;estimated_runway&quot;: &quot;2023-08-28T16:06:00+00:00&quot;, &quot;actual_runway&quot;: &quot;2023-08-28T16:06:00+00:00&quot;}, &quot;airline&quot;: {&quot;name&quot;: &quot;Malaysia Airlines&quot;, &quot;iata&quot;: &quot;MH&quot;, &quot;icao&quot;: &quot;MAS&quot;}, &quot;flight&quot;: {&quot;number&quot;: &quot;5729&quot;, &quot;iata&quot;: &quot;MH5729&quot;, &quot;icao&quot;: &quot;MAS5729&quot;, &quot;codeshared&quot;: {&quot;airline_name&quot;: &quot;singapore airlines&quot;, &quot;airline_iata&quot;: &quot;sq&quot;, &quot;airline_icao&quot;: &quot;sia&quot;, &quot;flight_number&quot;: &quot;113&quot;, &quot;flight_iata&quot;: &quot;sq113&quot;, &quot;flight_icao&quot;: &quot;sia113&quot;}}, &quot;aircraft&quot;: null, &quot;live&quot;: null}, {&quot;flight_date&quot;: &quot;2023-08-28&quot;, &quot;flight_status&quot;: &quot;landed&quot;, &quot;departure&quot;: {&quot;airport&quot;: &quot;Kuala Lumpur International Airport (klia)&quot;, &quot;timezone&quot;: &quot;Asia/Kuala_Lumpur&quot;, &quot;iata&quot;: &quot;KUL&quot;, &quot;icao&quot;: &quot;WMKK&quot;, &quot;terminal&quot;: &quot;1&quot;, &quot;gate&quot;: null, &quot;delay&quot;: 61, &quot;scheduled&quot;: &quot;2023-08-28T19:55:00+00:00&quot;, &quot;estimated&quot;: &quot;2023-08-28T19:55:00+00:00&quot;, &quot;actual&quot;: &quot;2023-08-28T20:55:00+00:00&quot;, &quot;estimated_runway&quot;: &quot;2023-08-28T20:55:00+00:00&quot;, &quot;actual_runway&quot;: &quot;2023-08-28T20:55:00+00:00&quot;}, &quot;arrival&quot;: {&quot;airport&quot;: &quot;Kota-Kinabalu International Airport&quot;, &quot;timezone&quot;: &quot;Asia/Kuching&quot;, &quot;iata&quot;: &quot;BKI&quot;, &quot;icao&quot;: &quot;WBKK&quot;, &quot;terminal&quot;: &quot;1&quot;, &quot;gate&quot;: null, &quot;baggage&quot;: null, &quot;delay&quot;: 30, &quot;scheduled&quot;: &quot;2023-08-28T22:40:00+00:00&quot;, &quot;estimated&quot;: &quot;2023-08-28T22:40:00+00:00&quot;, &quot;actual&quot;: &quot;2023-08-28T23:10:00+00:00&quot;, &quot;estimated_runway&quot;: &quot;2023-08-28T23:10:00+00:00&quot;, &quot;actual_runway&quot;: &quot;2023-08-28T23:10:00+00:00&quot;}, &quot;airline&quot;: {&quot;name&quot;: &quot;Malaysia Airlines&quot;, &quot;iata&quot;: &quot;MH&quot;, &quot;icao&quot;: &quot;MAS&quot;}, &quot;flight&quot;: {&quot;number&quot;: &quot;2606&quot;, &quot;iata&quot;: &quot;MH2606&quot;, &quot;icao&quot;: &quot;MAS2606&quot;, &quot;codeshared&quot;: null}, &quot;aircraft&quot;: null, &quot;live&quot;: null}, {&quot;flight_date&quot;: &quot;2023-08-28&quot;, &quot;flight_status&quot;: &quot;scheduled&quot;, &quot;departure&quot;: {&quot;airport&quot;: &quot;Milano Malpensa&quot;, &quot;timezone&quot;: &quot;Europe/Rome&quot;, &quot;iata&quot;: &quot;MXP&quot;, &quot;icao&quot;: &quot;LIMC&quot;, &quot;terminal&quot;: &quot;1&quot;, &quot;gate&quot;: &quot;B&quot;, &quot;delay&quot;: 104, &quot;scheduled&quot;: &quot;2023-08-28T13:50:00+00:00&quot;, &quot;estimated&quot;: &quot;2023-08-28T13:50:00+00:00&quot;, &quot;actual&quot;: &quot;2023-08-28T15:34:00+00:00&quot;, &quot;estimated_runway&quot;: &quot;2023-08-28T15:34:00+00:00&quot;, &quot;actual_runway&quot;: &quot;2023-08-28T15:34:00+00:00&quot;}, &quot;arrival&quot;: {&quot;airport&quot;: &quot;Singapore Changi&quot;, &quot;timezone&quot;: &quot;Asia/Singapore&quot;, &quot;iata&quot;: &quot;SIN&quot;, &quot;icao&quot;: &quot;WSSS&quot;, &quot;terminal&quot;: &quot;3&quot;, &quot;gate&quot;: null, &quot;baggage&quot;: &quot;47&quot;, &quot;delay&quot;: 76, &quot;scheduled&quot;: &quot;2023-08-29T08:05:00+00:00&quot;, &quot;estimated&quot;: &quot;2023-08-29T08:05:00+00:00&quot;, &quot;actual&quot;: null, &quot;estimated_runway&quot;: null, &quot;actual_runway&quot;: null}, &quot;airline&quot;: {&quot;name&quot;: &quot;Malaysia Airlines&quot;, &quot;iata&quot;: &quot;MH&quot;, &quot;icao&quot;: &quot;MAS&quot;}, &quot;flight&quot;: {&quot;number&quot;: &quot;5751&quot;, &quot;iata&quot;: &quot;MH5751&quot;, &quot;icao&quot;: &quot;MAS5751&quot;, &quot;codeshared&quot;: {&quot;airline_name&quot;: &quot;singapore airlines&quot;, &quot;airline_iata&quot;: &quot;sq&quot;, &quot;airline_icao&quot;: &quot;sia&quot;, &quot;flight_number&quot;: &quot;377&quot;, &quot;flight_iata&quot;: &quot;sq377&quot;, &quot;flight_icao&quot;: &quot;sia377&quot;}}, &quot;aircraft&quot;: null, &quot;live&quot;: null}, {&quot;flight_date&quot;: &quot;2023-08-28&quot;, &quot;flight_status&quot;: &quot;scheduled&quot;, &quot;departure&quot;: {&quot;airport&quot;: &quot;Sultan Abdul Aziz Shah&quot;, &quot;timezone&quot;: &quot;Asia/Kuala_Lumpur&quot;, &quot;iata&quot;: &quot;SZB&quot;, &quot;icao&quot;: &quot;WMSA&quot;, &quot;terminal&quot;: null, &quot;gate&quot;: null, &quot;delay&quot;: 37, &quot;scheduled&quot;: &quot;2023-08-28T19:30:00+00:00&quot;, &quot;estimated&quot;: &quot;2023-08-28T19:30:00+00:00&quot;, &quot;actual&quot;: &quot;2023-08-28T20:07:00+00:00&quot;, &quot;estimated_runway&quot;: &quot;2023-08-28T20:07:00+00:00&quot;, &quot;actual_runway&quot;: &quot;2023-08-28T20:07:00+00:00&quot;}, &quot;arrival&quot;: {&quot;airport&quot;: &quot;Sultan Ismail Petra&quot;, &quot;timezone&quot;: &quot;Asia/Kuala_Lumpur&quot;, &quot;iata&quot;: &quot;KBR&quot;, &quot;icao&quot;: &quot;WMKC&quot;, &quot;terminal&quot;: &quot;2&quot;, &quot;gate&quot;: null, &quot;baggage&quot;: null, &quot;delay&quot;: 32, &quot;scheduled&quot;: &quot;2023-08-28T20:35:00+00:00&quot;, &quot;estimated&quot;: &quot;2023-08-28T20:35:00+00:00&quot;, &quot;actual&quot;: null, &quot;estimated_runway&quot;: null, &quot;actual_runway&quot;: null}, &quot;airline&quot;: {&quot;name&quot;: &quot;Malaysia Airlines&quot;, &quot;iata&quot;: &quot;MH&quot;, &quot;icao&quot;: &quot;MAS&quot;}, &quot;flight&quot;: {&quot;number&quot;: &quot;5324&quot;, &quot;iata&quot;: &quot;MH5324&quot;, &quot;icao&quot;: &quot;MAS5324&quot;, &quot;codeshared&quot;: {&quot;airline_name&quot;: &quot;firefly&quot;, &quot;airline_iata&quot;: &quot;fy&quot;, &quot;airline_icao&quot;: &quot;ffm&quot;, &quot;flight_number&quot;: &quot;1154&quot;, &quot;flight_iata&quot;: &quot;fy1154&quot;, &quot;flight_icao&quot;: &quot;ffm1154&quot;}}, &quot;aircraft&quot;: null, &quot;live&quot;: null}, {&quot;flight_date&quot;: &quot;2023-08-28&quot;, &quot;flight_status&quot;: &quot;landed&quot;, &quot;departure&quot;: {&quot;airport&quot;: &quot;Los Angeles International&quot;, &quot;timezone&quot;: &quot;America/Los_Angeles&quot;, &quot;iata&quot;: &quot;LAX&quot;, &quot;icao&quot;: &quot;KLAX&quot;, &quot;terminal&quot;: &quot;4&quot;, &quot;gate&quot;: &quot;47B&quot;, &quot;delay&quot;: 77, &quot;scheduled&quot;: &quot;2023-08-28T01:30:00+00:00&quot;, &quot;estimated&quot;: &quot;2023-08-28T01:30:00+00:00&quot;, &quot;actual&quot;: &quot;2023-08-28T02:46:00+00:00&quot;, &quot;estimated_runway&quot;: &quot;2023-08-28T02:46:00+00:00&quot;, &quot;actual_runway&quot;: &quot;2023-08-28T02:46:00+00:00&quot;}, &quot;arrival&quot;: {&quot;airport&quot;: &quot;Dallas/Fort Worth International&quot;, &quot;timezone&quot;: &quot;America/Chicago&quot;, &quot;iata&quot;: &quot;DFW&quot;, &quot;icao&quot;: &quot;KDFW&quot;, &quot;terminal&quot;: &quot;C&quot;, &quot;gate&quot;: &quot;C15&quot;, &quot;baggage&quot;: &quot;C12&quot;, &quot;delay&quot;: 39, &quot;scheduled&quot;: &quot;2023-08-28T06:45:00+00:00&quot;, &quot;estimated&quot;: &quot;2023-08-28T06:45:00+00:00&quot;, &quot;actual&quot;: &quot;2023-08-28T07:23:00+00:00&quot;, &quot;estimated_runway&quot;: &quot;2023-08-28T07:23:00+00:00&quot;, &quot;actual_runway&quot;: &quot;2023-08-28T07:23:00+00:00&quot;}, &quot;airline&quot;: {&quot;name&quot;: &quot;Malaysia Airlines&quot;, &quot;iata&quot;: &quot;MH&quot;, &quot;icao&quot;: &quot;MAS&quot;}, &quot;flight&quot;: {&quot;number&quot;: &quot;9482&quot;, &quot;iata&quot;: &quot;MH9482&quot;, &quot;icao&quot;: &quot;MAS9482&quot;, &quot;codeshared&quot;: {&quot;airline_name&quot;: &quot;american airlines&quot;, &quot;airline_iata&quot;: &quot;aa&quot;, &quot;airline_icao&quot;: &quot;aal&quot;, &quot;flight_number&quot;: &quot;2781&quot;, &quot;flight_iata&quot;: &quot;aa2781&quot;, &quot;flight_icao&quot;: &quot;aal2781&quot;}}, &quot;aircraft&quot;: null, &quot;live&quot;: null}, {&quot;flight_date&quot;: &quot;2023-08-28&quot;, &quot;flight_status&quot;: &quot;scheduled&quot;, &quot;departure&quot;: {&quot;airport&quot;: &quot;Dallas/Fort Worth International&quot;, &quot;timezone&quot;: &quot;America/Chicago&quot;, &quot;iata&quot;: &quot;DFW&quot;, &quot;icao&quot;: &quot;KDFW&quot;, &quot;terminal&quot;: &quot;D&quot;, &quot;gate&quot;: &quot;D29&quot;, &quot;delay&quot;: 91, &quot;scheduled&quot;: &quot;2023-08-28T06:15:00+00:00&quot;, &quot;estimated&quot;: &quot;2023-08-28T06:15:00+00:00&quot;, &quot;actual&quot;: &quot;2023-08-28T07:46:00+00:00&quot;, &quot;estimated_runway&quot;: &quot;2023-08-28T07:46:00+00:00&quot;, &quot;actual_runway&quot;: &quot;2023-08-28T07:46:00+00:00&quot;}, &quot;arrival&quot;: {&quot;airport&quot;: &quot;Los Angeles International&quot;, &quot;timezone&quot;: &quot;America/Los_Angeles&quot;, &quot;iata&quot;: &quot;LAX&quot;, &quot;icao&quot;: &quot;KLAX&quot;, &quot;terminal&quot;: &quot;4&quot;, &quot;gate&quot;: &quot;45&quot;, &quot;baggage&quot;: &quot;T4A&quot;, &quot;delay&quot;: 55, &quot;scheduled&quot;: &quot;2023-08-28T07:31:00+00:00&quot;, &quot;estimated&quot;: &quot;2023-08-28T07:31:00+00:00&quot;, &quot;actual&quot;: null, &quot;estimated_runway&quot;: null, &quot;actual_runway&quot;: null}, &quot;airline&quot;: {&quot;name&quot;: &quot;Malaysia Airlines&quot;, &quot;iata&quot;: &quot;MH&quot;, &quot;icao&quot;: &quot;MAS&quot;}, &quot;flight&quot;: {&quot;number&quot;: &quot;9453&quot;, &quot;iata&quot;: &quot;MH9453&quot;, &quot;icao&quot;: &quot;MAS9453&quot;, &quot;codeshared&quot;: {&quot;airline_name&quot;: &quot;american airlines&quot;, &quot;airline_iata&quot;: &quot;aa&quot;, &quot;airline_icao&quot;: &quot;aal&quot;, &quot;flight_number&quot;: &quot;1980&quot;, &quot;flight_iata&quot;: &quot;aa1980&quot;, &quot;flight_icao&quot;: &quot;aal1980&quot;}}, &quot;aircraft&quot;: null, &quot;live&quot;: null}, {&quot;flight_date&quot;: &quot;2023-08-28&quot;, &quot;flight_status&quot;: &quot;scheduled&quot;, &quot;departure&quot;: {&quot;airport&quot;: &quot;El Prat De Llobregat&quot;, &quot;timezone&quot;: &quot;Europe/Madrid&quot;, &quot;iata&quot;: &quot;BCN&quot;, &quot;icao&quot;: &quot;LEBL&quot;, &quot;terminal&quot;: &quot;1&quot;, &quot;gate&quot;: &quot;D&quot;, &quot;delay&quot;: 78, &quot;scheduled&quot;: &quot;2023-08-28T10:40:00+00:00&quot;, &quot;estimated&quot;: &quot;2023-08-28T10:40:00+00:00&quot;, &quot;actual&quot;: &quot;2023-08-28T11:58:00+00:00&quot;, &quot;estimated_runway&quot;: &quot;2023-08-28T11:58:00+00:00&quot;, &quot;actual_runway&quot;: &quot;2023-08-28T11:58:00+00:00&quot;}, &quot;arrival&quot;: {&quot;airport&quot;: &quot;Milano Malpensa&quot;, &quot;timezone&quot;: &quot;Europe/Rome&quot;, &quot;iata&quot;: &quot;MXP&quot;, &quot;icao&quot;: &quot;LIMC&quot;, &quot;terminal&quot;: &quot;1&quot;, &quot;gate&quot;: &quot;B&quot;, &quot;baggage&quot;: &quot;8&quot;, &quot;delay&quot;: 57, &quot;scheduled&quot;: &quot;2023-08-28T12:20:00+00:00&quot;, &quot;estimated&quot;: &quot;2023-08-28T12:20:00+00:00&quot;, &quot;actual&quot;: null, &quot;estimated_runway&quot;: null, &quot;actual_runway&quot;: null}, &quot;airline&quot;: {&quot;name&quot;: &quot;Malaysia Airlines&quot;, &quot;iata&quot;: &quot;MH&quot;, &quot;icao&quot;: &quot;MAS&quot;}, &quot;flight&quot;: {&quot;number&quot;: &quot;5751&quot;, &quot;iata&quot;: &quot;MH5751&quot;, &quot;icao&quot;: &quot;MAS5751&quot;, &quot;codeshared&quot;: {&quot;airline_name&quot;: &quot;singapore airlines&quot;, &quot;airline_iata&quot;: &quot;sq&quot;, &quot;airline_icao&quot;: &quot;sia&quot;, &quot;flight_number&quot;: &quot;377&quot;, &quot;flight_iata&quot;: &quot;sq377&quot;, &quot;flight_icao&quot;: &quot;sia377&quot;}}, &quot;aircraft&quot;: null, &quot;live&quot;: null}, {&quot;flight_date&quot;: &quot;2023-08-28&quot;, &quot;flight_status&quot;: &quot;landed&quot;, &quot;departure&quot;: {&quot;airport&quot;: &quot;Heathrow&quot;, &quot;timezone&quot;: &quot;Europe/London&quot;, &quot;iata&quot;: &quot;LHR&quot;, &quot;icao&quot;: &quot;EGLL&quot;, &quot;terminal&quot;: &quot;5&quot;, &quot;gate&quot;: &quot;A5&quot;, &quot;delay&quot;: 81, &quot;scheduled&quot;: &quot;2023-08-28T10:30:00+00:00&quot;, &quot;estimated&quot;: &quot;2023-08-28T10:30:00+00:00&quot;, &quot;actual&quot;: &quot;2023-08-28T11:50:00+00:00&quot;, &quot;estimated_runway&quot;: &quot;2023-08-28T11:50:00+00:00&quot;, &quot;actual_runway&quot;: &quot;2023-08-28T11:50:00+00:00&quot;}, &quot;arrival&quot;: {&quot;airport&quot;: &quot;Dyce&quot;, &quot;timezone&quot;: &quot;Europe/London&quot;, &quot;iata&quot;: &quot;ABZ&quot;, &quot;icao&quot;: &quot;EGPD&quot;, &quot;terminal&quot;: &quot;3&quot;, &quot;gate&quot;: null, &quot;baggage&quot;: null, &quot;delay&quot;: 48, &quot;scheduled&quot;: &quot;2023-08-28T12:05:00+00:00&quot;, &quot;estimated&quot;: &quot;2023-08-28T12:05:00+00:00&quot;, &quot;actual&quot;: &quot;2023-08-28T12:53:00+00:00&quot;, &quot;estimated_runway&quot;: &quot;2023-08-28T12:53:00+00:00&quot;, &quot;actual_runway&quot;: &quot;2023-08-28T12:53:00+00:00&quot;}, &quot;airline&quot;: {&quot;name&quot;: &quot;Malaysia Airlines&quot;, &quot;iata&quot;: &quot;MH&quot;, &quot;icao&quot;: &quot;MAS&quot;}, &quot;flight&quot;: {&quot;number&quot;: &quot;9682&quot;, &quot;iata&quot;: &quot;MH9682&quot;, &quot;icao&quot;: &quot;MAS9682&quot;, &quot;codeshared&quot;: {&quot;airline_name&quot;: &quot;british airways&quot;, &quot;airline_iata&quot;: &quot;ba&quot;, &quot;airline_icao&quot;: &quot;baw&quot;, &quot;flight_number&quot;: &quot;1308&quot;, &quot;flight_iata&quot;: &quot;ba1308&quot;, &quot;flight_icao&quot;: &quot;baw1308&quot;}}, &quot;aircraft&quot;: null, &quot;live&quot;: null}, {&quot;flight_date&quot;: &quot;2023-08-28&quot;, &quot;flight_status&quot;: &quot;scheduled&quot;, &quot;departure&quot;: {&quot;airport&quot;: &quot;Kota-Kinabalu International Airport&quot;, &quot;timezone&quot;: &quot;Asia/Kuching&quot;, &quot;iata&quot;: &quot;BKI&quot;, &quot;icao&quot;: &quot;WBKK&quot;, &quot;terminal&quot;: null, &quot;gate&quot;: null, &quot;delay&quot;: 208, &quot;scheduled&quot;: &quot;2023-08-28T21:10:00+00:00&quot;, &quot;estimated&quot;: &quot;2023-08-28T21:10:00+00:00&quot;, &quot;actual&quot;: &quot;2023-08-29T00:37:00+00:00&quot;, &quot;estimated_runway&quot;: &quot;2023-08-29T00:37:00+00:00&quot;, &quot;actual_runway&quot;: &quot;2023-08-29T00:37:00+00:00&quot;}, &quot;arrival&quot;: {&quot;airport&quot;: &quot;Penang International&quot;, &quot;timezone&quot;: &quot;Asia/Kuala_Lumpur&quot;, &quot;iata&quot;: &quot;PEN&quot;, &quot;icao&quot;: &quot;WMKP&quot;, &quot;terminal&quot;: &quot;2&quot;, &quot;gate&quot;: null, &quot;baggage&quot;: null, &quot;delay&quot;: 177, &quot;scheduled&quot;: &quot;2023-08-29T00:00:00+00:00&quot;, &quot;estimated&quot;: &quot;2023-08-29T00:00:00+00:00&quot;, &quot;actual&quot;: null, &quot;estimated_runway&quot;: null, &quot;actual_runway&quot;: null}, &quot;airline&quot;: {&quot;name&quot;: &quot;Malaysia Airlines&quot;, &quot;iata&quot;: &quot;MH&quot;, &quot;icao&quot;: &quot;MAS&quot;}, &quot;flight&quot;: {&quot;number&quot;: &quot;4746&quot;, &quot;iata&quot;: &quot;MH4746&quot;, &quot;icao&quot;: &quot;MAS4746&quot;, &quot;codeshared&quot;: {&quot;airline_name&quot;: &quot;firefly&quot;, &quot;airline_iata&quot;: &quot;fy&quot;, &quot;airline_icao&quot;: &quot;ffm&quot;, &quot;flight_number&quot;: &quot;2855&quot;, &quot;flight_iata&quot;: &quot;fy2855&quot;, &quot;flight_icao&quot;: &quot;ffm2855&quot;}}, &quot;aircraft&quot;: null, &quot;live&quot;: null}, {&quot;flight_date&quot;: &quot;2023-08-28&quot;, &quot;flight_status&quot;: &quot;landed&quot;, &quot;departure&quot;: {&quot;airport&quot;: &quot;Miri&quot;, &quot;timezone&quot;: &quot;Asia/Kuching&quot;, &quot;iata&quot;: &quot;MYY&quot;, &quot;icao&quot;: &quot;WBGR&quot;, &quot;terminal&quot;: null, &quot;gate&quot;: null, &quot;delay&quot;: 55, &quot;scheduled&quot;: &quot;2023-08-28T17:25:00+00:00&quot;, &quot;estimated&quot;: &quot;2023-08-28T17:25:00+00:00&quot;, &quot;actual&quot;: &quot;2023-08-28T18:20:00+00:00&quot;, &quot;estimated_runway&quot;: &quot;2023-08-28T18:20:00+00:00&quot;, &quot;actual_runway&quot;: &quot;2023-08-28T18:20:00+00:00&quot;}, &quot;arrival&quot;: {&quot;airport&quot;: &quot;Kuala Lumpur International Airport (klia)&quot;, &quot;timezone&quot;: &quot;Asia/Kuala_Lumpur&quot;, &quot;iata&quot;: &quot;KUL&quot;, &quot;icao&quot;: &quot;WMKK&quot;, &quot;terminal&quot;: &quot;1&quot;, &quot;gate&quot;: null, &quot;baggage&quot;: null, &quot;delay&quot;: 39, &quot;scheduled&quot;: &quot;2023-08-28T19:40:00+00:00&quot;, &quot;estimated&quot;: &quot;2023-08-28T19:40:00+00:00&quot;, &quot;actual&quot;: &quot;2023-08-28T20:18:00+00:00&quot;, &quot;estimated_runway&quot;: &quot;2023-08-28T20:18:00+00:00&quot;, &quot;actual_runway&quot;: &quot;2023-08-28T20:18:00+00:00&quot;}, &quot;airline&quot;: {&quot;name&quot;: &quot;Malaysia Airlines&quot;, &quot;iata&quot;: &quot;MH&quot;, &quot;icao&quot;: &quot;MAS&quot;}, &quot;flight&quot;: {&quot;number&quot;: &quot;2593&quot;, &quot;iata&quot;: &quot;MH2593&quot;, &quot;icao&quot;: &quot;MAS2593&quot;, &quot;codeshared&quot;: null}, &quot;aircraft&quot;: null, &quot;live&quot;: null}, {&quot;flight_date&quot;: &quot;2023-08-28&quot;, &quot;flight_status&quot;: &quot;landed&quot;, &quot;departure&quot;: {&quot;airport&quot;: &quot;Kastrup&quot;, &quot;timezone&quot;: &quot;Europe/Copenhagen&quot;, &quot;iata&quot;: &quot;CPH&quot;, &quot;icao&quot;: &quot;EKCH&quot;, &quot;terminal&quot;: &quot;2&quot;, &quot;gate&quot;: &quot;A22&quot;, &quot;delay&quot;: 52, &quot;scheduled&quot;: &quot;2023-08-28T11:50:00+00:00&quot;, &quot;estimated&quot;: &quot;2023-08-28T11:50:00+00:00&quot;, &quot;actual&quot;: &quot;2023-08-28T12:42:00+00:00&quot;, &quot;estimated_runway&quot;: &quot;2023-08-28T12:42:00+00:00&quot;, &quot;actual_runway&quot;: &quot;2023-08-28T12:42:00+00:00&quot;}, &quot;arrival&quot;: {&quot;airport&quot;: &quot;Schiphol&quot;, &quot;timezone&quot;: &quot;Europe/Amsterdam&quot;, &quot;iata&quot;: &quot;AMS&quot;, &quot;icao&quot;: &quot;EHAM&quot;, &quot;terminal&quot;: &quot;2&quot;, &quot;gate&quot;: &quot;C12&quot;, &quot;baggage&quot;: &quot;012&quot;, &quot;delay&quot;: 31, &quot;scheduled&quot;: &quot;2023-08-28T13:15:00+00:00&quot;, &quot;estimated&quot;: &quot;2023-08-28T13:15:00+00:00&quot;, &quot;actual&quot;: &quot;2023-08-28T13:45:00+00:00&quot;, &quot;estimated_runway&quot;: &quot;2023-08-28T13:45:00+00:00&quot;, &quot;actual_runway&quot;: &quot;2023-08-28T13:45:00+00:00&quot;}, &quot;airline&quot;: {&quot;name&quot;: &quot;Malaysia Airlines&quot;, &quot;iata&quot;: &quot;MH&quot;, &quot;icao&quot;: &quot;MAS&quot;}, &quot;flight&quot;: {&quot;number&quot;: &quot;5668&quot;, &quot;iata&quot;: &quot;MH5668&quot;, &quot;icao&quot;: &quot;MAS5668&quot;, &quot;codeshared&quot;: {&quot;airline_name&quot;: &quot;klm&quot;, &quot;airline_iata&quot;: &quot;kl&quot;, &quot;airline_icao&quot;: &quot;klm&quot;, &quot;flight_number&quot;: &quot;1128&quot;, &quot;flight_iata&quot;: &quot;kl1128&quot;, &quot;flight_icao&quot;: &quot;klm1128&quot;}}, &quot;aircraft&quot;: null, &quot;live&quot;: null}, {&quot;flight_date&quot;: &quot;2023-08-28&quot;, &quot;flight_status&quot;: &quot;scheduled&quot;, &quot;departure&quot;: {&quot;airport&quot;: &quot;Kuching&quot;, &quot;timezone&quot;: &quot;Asia/Kuching&quot;, &quot;iata&quot;: &quot;KCH&quot;, &quot;icao&quot;: &quot;WBGG&quot;, &quot;terminal&quot;: null, &quot;gate&quot;: null, &quot;delay&quot;: 71, &quot;scheduled&quot;: &quot;2023-08-28T18:05:00+00:00&quot;, &quot;estimated&quot;: &quot;2023-08-28T18:05:00+00:00&quot;, &quot;actual&quot;: &quot;2023-08-28T19:16:00+00:00&quot;, &quot;estimated_runway&quot;: &quot;2023-08-28T19:16:00+00:00&quot;, &quot;actual_runway&quot;: &quot;2023-08-28T19:16:00+00:00&quot;}, &quot;arrival&quot;: {&quot;airport&quot;: &quot;Kota-Kinabalu International Airport&quot;, &quot;timezone&quot;: &quot;Asia/Kuching&quot;, &quot;iata&quot;: &quot;BKI&quot;, &quot;icao&quot;: &quot;WBKK&quot;, &quot;terminal&quot;: &quot;1&quot;, &quot;gate&quot;: null, &quot;baggage&quot;: null, &quot;delay&quot;: 61, &quot;scheduled&quot;: &quot;2023-08-28T19:35:00+00:00&quot;, &quot;estimated&quot;: &quot;2023-08-28T19:35:00+00:00&quot;, &quot;actual&quot;: null, &quot;estimated_runway&quot;: null, &quot;actual_runway&quot;: null}, &quot;airline&quot;: {&quot;name&quot;: &quot;Malaysia Airlines&quot;, &quot;iata&quot;: &quot;MH&quot;, &quot;icao&quot;: &quot;MAS&quot;}, &quot;flight&quot;: {&quot;number&quot;: &quot;4711&quot;, &quot;iata&quot;: &quot;MH4711&quot;, &quot;icao&quot;: &quot;MAS4711&quot;, &quot;codeshared&quot;: {&quot;airline_name&quot;: &quot;firefly&quot;, &quot;airline_iata&quot;: &quot;fy&quot;, &quot;airline_icao&quot;: &quot;ffm&quot;, &quot;flight_number&quot;: &quot;2563&quot;, &quot;flight_iata&quot;: &quot;fy2563&quot;, &quot;flight_icao&quot;: &quot;ffm2563&quot;}}, &quot;aircraft&quot;: null, &quot;live&quot;: null}, {&quot;flight_date&quot;: &quot;2023-08-28&quot;, &quot;flight_status&quot;: &quot;scheduled&quot;, &quot;departure&quot;: {&quot;airport&quot;: &quot;Kuching&quot;, &quot;timezone&quot;: &quot;Asia/Kuching&quot;, &quot;iata&quot;: &quot;KCH&quot;, &quot;icao&quot;: &quot;WBGG&quot;, &quot;terminal&quot;: null, &quot;gate&quot;: null, &quot;delay&quot;: 83, &quot;scheduled&quot;: &quot;2023-08-28T18:00:00+00:00&quot;, &quot;estimated&quot;: &quot;2023-08-28T18:00:00+00:00&quot;, &quot;actual&quot;: &quot;2023-08-28T19:23:00+00:00&quot;, &quot;estimated_runway&quot;: &quot;2023-08-28T19:23:00+00:00&quot;, &quot;actual_runway&quot;: &quot;2023-08-28T19:23:00+00:00&quot;}, &quot;arrival&quot;: {&quot;airport&quot;: &quot;Kuala Lumpur International Airport (klia)&quot;, &quot;timezone&quot;: &quot;Asia/Kuala_Lumpur&quot;, &quot;iata&quot;: &quot;KUL&quot;, &quot;icao&quot;: &quot;WMKK&quot;, &quot;terminal&quot;: &quot;1&quot;, &quot;gate&quot;: null, &quot;baggage&quot;: null, &quot;delay&quot;: 65, &quot;scheduled&quot;: &quot;2023-08-28T19:50:00+00:00&quot;, &quot;estimated&quot;: &quot;2023-08-28T19:50:00+00:00&quot;, &quot;actual&quot;: null, &quot;estimated_runway&quot;: null, &quot;actual_runway&quot;: null}, &quot;airline&quot;: {&quot;name&quot;: &quot;Malaysia Airlines&quot;, &quot;iata&quot;: &quot;MH&quot;, &quot;icao&quot;: &quot;MAS&quot;}, &quot;flight&quot;: {&quot;number&quot;: &quot;2545&quot;, &quot;iata&quot;: &quot;MH2545&quot;, &quot;icao&quot;: &quot;MAS2545&quot;, &quot;codeshared&quot;: null}, &quot;aircraft&quot;: null, &quot;live&quot;: null}, {&quot;flight_date&quot;: &quot;2023-08-28&quot;, &quot;flight_status&quot;: &quot;scheduled&quot;, &quot;departure&quot;: {&quot;airport&quot;: &quot;Kuching&quot;, &quot;timezone&quot;: &quot;Asia/Kuching&quot;, &quot;iata&quot;: &quot;KCH&quot;, &quot;icao&quot;: &quot;WBGG&quot;, &quot;terminal&quot;: null, &quot;gate&quot;: null, &quot;delay&quot;: 140, &quot;scheduled&quot;: &quot;2023-08-28T17:45:00+00:00&quot;, &quot;estimated&quot;: &quot;2023-08-28T17:45:00+00:00&quot;, &quot;actual&quot;: &quot;2023-08-28T20:04:00+00:00&quot;, &quot;estimated_runway&quot;: &quot;2023-08-28T20:04:00+00:00&quot;, &quot;actual_runway&quot;: &quot;2023-08-28T20:04:00+00:00&quot;}, &quot;arrival&quot;: {&quot;airport&quot;: &quot;Penang International&quot;, &quot;timezone&quot;: &quot;Asia/Kuala_Lumpur&quot;, &quot;iata&quot;: &quot;PEN&quot;, &quot;icao&quot;: &quot;WMKP&quot;, &quot;terminal&quot;: &quot;1&quot;, &quot;gate&quot;: null, &quot;baggage&quot;: null, &quot;delay&quot;: 101, &quot;scheduled&quot;: &quot;2023-08-28T20:00:00+00:00&quot;, &quot;estimated&quot;: &quot;2023-08-28T20:00:00+00:00&quot;, &quot;actual&quot;: null, &quot;estimated_runway&quot;: null, &quot;actual_runway&quot;: null}, &quot;airline&quot;: {&quot;name&quot;: &quot;Malaysia Airlines&quot;, &quot;iata&quot;: &quot;MH&quot;, &quot;icao&quot;: &quot;MAS&quot;}, &quot;flight&quot;: {&quot;number&quot;: &quot;4727&quot;, &quot;iata&quot;: &quot;MH4727&quot;, &quot;icao&quot;: &quot;MAS4727&quot;, &quot;codeshared&quot;: {&quot;airline_name&quot;: &quot;firefly&quot;, &quot;airline_iata&quot;: &quot;fy&quot;, &quot;airline_icao&quot;: &quot;ffm&quot;, &quot;flight_number&quot;: &quot;2753&quot;, &quot;flight_iata&quot;: &quot;fy2753&quot;, &quot;flight_icao&quot;: &quot;ffm2753&quot;}}, &quot;aircraft&quot;: null, &quot;live&quot;: null}, {&quot;flight_date&quot;: &quot;2023-08-28&quot;, &quot;flight_status&quot;: &quot;scheduled&quot;, &quot;departure&quot;: {&quot;airport&quot;: &quot;Penang International&quot;, &quot;timezone&quot;: &quot;Asia/Kuala_Lumpur&quot;, &quot;iata&quot;: &quot;PEN&quot;, &quot;icao&quot;: &quot;WMKP&quot;, &quot;terminal&quot;: null, &quot;gate&quot;: null, &quot;delay&quot;: 206, &quot;scheduled&quot;: &quot;2023-08-28T17:20:00+00:00&quot;, &quot;estimated&quot;: &quot;2023-08-28T17:20:00+00:00&quot;, &quot;actual&quot;: &quot;2023-08-28T20:45:00+00:00&quot;, &quot;estimated_runway&quot;: &quot;2023-08-28T20:45:00+00:00&quot;, &quot;actual_runway&quot;: &quot;2023-08-28T20:45:00+00:00&quot;}, &quot;arrival&quot;: {&quot;airport&quot;: &quot;Kota-Kinabalu International Airport&quot;, &quot;timezone&quot;: &quot;Asia/Kuching&quot;, &quot;iata&quot;: &quot;BKI&quot;, &quot;icao&quot;: &quot;WBKK&quot;, &quot;terminal&quot;: &quot;1&quot;, &quot;gate&quot;: null, &quot;baggage&quot;: null, &quot;delay&quot;: 187, &quot;scheduled&quot;: &quot;2023-08-28T20:10:00+00:00&quot;, &quot;estimated&quot;: &quot;2023-08-28T20:10:00+00:00&quot;, &quot;actual&quot;: null, &quot;estimated_runway&quot;: null, &quot;actual_runway&quot;: null}, &quot;airline&quot;: {&quot;name&quot;: &quot;Malaysia Airlines&quot;, &quot;iata&quot;: &quot;MH&quot;, &quot;icao&quot;: &quot;MAS&quot;}, &quot;flight&quot;: {&quot;number&quot;: &quot;4744&quot;, &quot;iata&quot;: &quot;MH4744&quot;, &quot;icao&quot;: &quot;MAS4744&quot;, &quot;codeshared&quot;: {&quot;airline_name&quot;: &quot;firefly&quot;, &quot;airline_iata&quot;: &quot;fy&quot;, &quot;airline_icao&quot;: &quot;ffm&quot;, &quot;flight_number&quot;: &quot;2854&quot;, &quot;flight_iata&quot;: &quot;fy2854&quot;, &quot;flight_icao&quot;: &quot;ffm2854&quot;}}, &quot;aircraft&quot;: null, &quot;live&quot;: null}, {&quot;flight_date&quot;: &quot;2023-08-28&quot;, &quot;flight_status&quot;: &quot;landed&quot;, &quot;departure&quot;: {&quot;airport&quot;: &quot;Yogyakarta International Airport&quot;, &quot;timezone&quot;: null, &quot;iata&quot;: &quot;YIA&quot;, &quot;icao&quot;: &quot;WAHI&quot;, &quot;terminal&quot;: null, &quot;gate&quot;: null, &quot;delay&quot;: 70, &quot;scheduled&quot;: &quot;2023-08-28T10:00:00+00:00&quot;, &quot;estimated&quot;: &quot;2023-08-28T10:00:00+00:00&quot;, &quot;actual&quot;: &quot;2023-08-28T11:09:00+00:00&quot;, &quot;estimated_runway&quot;: &quot;2023-08-28T11:09:00+00:00&quot;, &quot;actual_runway&quot;: &quot;2023-08-28T11:09:00+00:00&quot;}, &quot;arrival&quot;: {&quot;airport&quot;: &quot;Soekarno-Hatta International&quot;, &quot;timezone&quot;: &quot;Asia/Jakarta&quot;, &quot;iata&quot;: &quot;CGK&quot;, &quot;icao&quot;: &quot;WIII&quot;, &quot;terminal&quot;: &quot;3&quot;, &quot;gate&quot;: null, &quot;baggage&quot;: null, &quot;delay&quot;: 47, &quot;scheduled&quot;: &quot;2023-08-28T11:15:00+00:00&quot;, &quot;estimated&quot;: &quot;2023-08-28T11:15:00+00:00&quot;, &quot;actual&quot;: &quot;2023-08-28T12:01:00+00:00&quot;, &quot;estimated_runway&quot;: &quot;2023-08-28T12:01:00+00:00&quot;, &quot;actual_runway&quot;: &quot;2023-08-28T12:01:00+00:00&quot;}, &quot;airline&quot;: {&quot;name&quot;: &quot;Malaysia Airlines&quot;, &quot;iata&quot;: &quot;MH&quot;, &quot;icao&quot;: &quot;MAS&quot;}, &quot;flight&quot;: {&quot;number&quot;: &quot;5875&quot;, &quot;iata&quot;: &quot;MH5875&quot;, &quot;icao&quot;: &quot;MAS5875&quot;, &quot;codeshared&quot;: {&quot;airline_name&quot;: &quot;garuda indonesia&quot;, &quot;airline_iata&quot;: &quot;ga&quot;, &quot;airline_icao&quot;: &quot;gia&quot;, &quot;flight_number&quot;: &quot;205&quot;, &quot;flight_iata&quot;: &quot;ga205&quot;, &quot;flight_icao&quot;: &quot;gia205&quot;}}, &quot;aircraft&quot;: null, &quot;live&quot;: null}, {&quot;flight_date&quot;: &quot;2023-08-28&quot;, &quot;flight_status&quot;: &quot;landed&quot;, &quot;departure&quot;: {&quot;airport&quot;: &quot;Kuala Lumpur International Airport (klia)&quot;, &quot;timezone&quot;: &quot;Asia/Kuala_Lumpur&quot;, &quot;iata&quot;: &quot;KUL&quot;, &quot;icao&quot;: &quot;WMKK&quot;, &quot;terminal&quot;: &quot;1&quot;, &quot;gate&quot;: null, &quot;delay&quot;: 67, &quot;scheduled&quot;: &quot;2023-08-28T13:10:00+00:00&quot;, &quot;estimated&quot;: &quot;2023-08-28T13:10:00+00:00&quot;, &quot;actual&quot;: &quot;2023-08-28T14:16:00+00:00&quot;, &quot;estimated_runway&quot;: &quot;2023-08-28T14:16:00+00:00&quot;, &quot;actual_runway&quot;: &quot;2023-08-28T14:16:00+00:00&quot;}, &quot;arrival&quot;: {&quot;airport&quot;: &quot;Guangzhou Baiyun International&quot;, &quot;timezone&quot;: &quot;Asia/Shanghai&quot;, &quot;iata&quot;: &quot;CAN&quot;, &quot;icao&quot;: &quot;ZGGG&quot;, &quot;terminal&quot;: &quot;2&quot;, &quot;gate&quot;: null, &quot;baggage&quot;: &quot;46&quot;, &quot;delay&quot;: 42, &quot;scheduled&quot;: &quot;2023-08-28T17:45:00+00:00&quot;, &quot;estimated&quot;: &quot;2023-08-28T17:45:00+00:00&quot;, &quot;actual&quot;: &quot;2023-08-28T18:26:00+00:00&quot;, &quot;estimated_runway&quot;: &quot;2023-08-28T18:26:00+00:00&quot;, &quot;actual_runway&quot;: &quot;2023-08-28T18:26:00+00:00&quot;}, &quot;airline&quot;: {&quot;name&quot;: &quot;Malaysia Airlines&quot;, &quot;iata&quot;: &quot;MH&quot;, &quot;icao&quot;: &quot;MAS&quot;}, &quot;flight&quot;: {&quot;number&quot;: &quot;4480&quot;, &quot;iata&quot;: &quot;MH4480&quot;, &quot;icao&quot;: &quot;MAS4480&quot;, &quot;codeshared&quot;: {&quot;airline_name&quot;: &quot;china southern airlines&quot;, &quot;airline_iata&quot;: &quot;cz&quot;, &quot;airline_icao&quot;: &quot;csn&quot;, &quot;flight_number&quot;: &quot;350&quot;, &quot;flight_iata&quot;: &quot;cz350&quot;, &quot;flight_icao&quot;: &quot;csn350&quot;}}, &quot;aircraft&quot;: null, &quot;live&quot;: null}, {&quot;flight_date&quot;: &quot;2023-08-28&quot;, &quot;flight_status&quot;: &quot;scheduled&quot;, &quot;departure&quot;: {&quot;airport&quot;: &quot;Kuala Lumpur International Airport (klia)&quot;, &quot;timezone&quot;: &quot;Asia/Kuala_Lumpur&quot;, &quot;iata&quot;: &quot;KUL&quot;, &quot;icao&quot;: &quot;WMKK&quot;, &quot;terminal&quot;: &quot;1&quot;, &quot;gate&quot;: &quot;C35&quot;, &quot;delay&quot;: 98, &quot;scheduled&quot;: &quot;2023-08-28T13:10:00+00:00&quot;, &quot;estimated&quot;: &quot;2023-08-28T13:10:00+00:00&quot;, &quot;actual&quot;: &quot;2023-08-28T14:48:00+00:00&quot;, &quot;estimated_runway&quot;: &quot;2023-08-28T14:48:00+00:00&quot;, &quot;actual_runway&quot;: &quot;2023-08-28T14:48:00+00:00&quot;}, &quot;arrival&quot;: {&quot;airport&quot;: &quot;Hong Kong International&quot;, &quot;timezone&quot;: &quot;Asia/Hong_Kong&quot;, &quot;iata&quot;: &quot;HKG&quot;, &quot;icao&quot;: &quot;VHHH&quot;, &quot;terminal&quot;: &quot;1&quot;, &quot;gate&quot;: null, &quot;baggage&quot;: &quot;5&quot;, &quot;delay&quot;: 67, &quot;scheduled&quot;: &quot;2023-08-28T17:20:00+00:00&quot;, &quot;estimated&quot;: &quot;2023-08-28T17:20:00+00:00&quot;, &quot;actual&quot;: null, &quot;estimated_runway&quot;: null, &quot;actual_runway&quot;: null}, &quot;airline&quot;: {&quot;name&quot;: &quot;Malaysia Airlines&quot;, &quot;iata&quot;: &quot;MH&quot;, &quot;icao&quot;: &quot;MAS&quot;}, &quot;flight&quot;: {&quot;number&quot;: &quot;9196&quot;, &quot;iata&quot;: &quot;MH9196&quot;, &quot;icao&quot;: &quot;MAS9196&quot;, &quot;codeshared&quot;: {&quot;airline_name&quot;: &quot;cathay pacific&quot;, &quot;airline_iata&quot;: &quot;cx&quot;, &quot;airline_icao&quot;: &quot;cpa&quot;, &quot;flight_number&quot;: &quot;722&quot;, &quot;flight_iata&quot;: &quot;cx722&quot;, &quot;flight_icao&quot;: &quot;cpa722&quot;}}, &quot;aircraft&quot;: null, &quot;live&quot;: null}, {&quot;flight_date&quot;: &quot;2023-08-28&quot;, &quot;flight_status&quot;: &quot;landed&quot;, &quot;departure&quot;: {&quot;airport&quot;: &quot;Schiphol&quot;, &quot;timezone&quot;: &quot;Europe/Amsterdam&quot;, &quot;iata&quot;: &quot;AMS&quot;, &quot;icao&quot;: &quot;EHAM&quot;, &quot;terminal&quot;: &quot;1&quot;, &quot;gate&quot;: &quot;C7&quot;, &quot;delay&quot;: 62, &quot;scheduled&quot;: &quot;2023-08-28T09:20:00+00:00&quot;, &quot;estimated&quot;: &quot;2023-08-28T09:20:00+00:00&quot;, &quot;actual&quot;: &quot;2023-08-28T10:22:00+00:00&quot;, &quot;estimated_runway&quot;: &quot;2023-08-28T10:22:00+00:00&quot;, &quot;actual_runway&quot;: &quot;2023-08-28T10:22:00+00:00&quot;}, &quot;arrival&quot;: {&quot;airport&quot;: &quot;Gardermoen&quot;, &quot;timezone&quot;: &quot;Europe/Oslo&quot;, &quot;iata&quot;: &quot;OSL&quot;, &quot;icao&quot;: &quot;ENGM&quot;, &quot;terminal&quot;: &quot;A&quot;, &quot;gate&quot;: null, &quot;baggage&quot;: &quot;2&quot;, &quot;delay&quot;: 37, &quot;scheduled&quot;: &quot;2023-08-28T11:05:00+00:00&quot;, &quot;estimated&quot;: &quot;2023-08-28T11:05:00+00:00&quot;, &quot;actual&quot;: &quot;2023-08-28T11:41:00+00:00&quot;, &quot;estimated_runway&quot;: &quot;2023-08-28T11:41:00+00:00&quot;, &quot;actual_runway&quot;: &quot;2023-08-28T11:41:00+00:00&quot;}, &quot;airline&quot;: {&quot;name&quot;: &quot;Malaysia Airlines&quot;, &quot;iata&quot;: &quot;MH&quot;, &quot;icao&quot;: &quot;MAS&quot;}, &quot;flight&quot;: {&quot;number&quot;: &quot;5643&quot;, &quot;iata&quot;: &quot;MH5643&quot;, &quot;icao&quot;: &quot;MAS5643&quot;, &quot;codeshared&quot;: {&quot;airline_name&quot;: &quot;klm&quot;, &quot;airline_iata&quot;: &quot;kl&quot;, &quot;airline_icao&quot;: &quot;klm&quot;, &quot;flight_number&quot;: &quot;1143&quot;, &quot;flight_iata&quot;: &quot;kl1143&quot;, &quot;flight_icao&quot;: &quot;klm1143&quot;}}, &quot;aircraft&quot;: null, &quot;live&quot;: null}, {&quot;flight_date&quot;: &quot;2023-08-28&quot;, &quot;flight_status&quot;: &quot;landed&quot;, &quot;departure&quot;: {&quot;airport&quot;: &quot;Hamburg Airport&quot;, &quot;timezone&quot;: &quot;Europe/Berlin&quot;, &quot;iata&quot;: &quot;HAM&quot;, &quot;icao&quot;: &quot;EDDH&quot;, &quot;terminal&quot;: &quot;1&quot;, &quot;gate&quot;: &quot;B52&quot;, &quot;delay&quot;: 55, &quot;scheduled&quot;: &quot;2023-08-28T10:30:00+00:00&quot;, &quot;estimated&quot;: &quot;2023-08-28T10:30:00+00:00&quot;, &quot;actual&quot;: &quot;2023-08-28T11:25:00+00:00&quot;, &quot;estimated_runway&quot;: &quot;2023-08-28T11:25:00+00:00&quot;, &quot;actual_runway&quot;: &quot;2023-08-28T11:25:00+00:00&quot;}, &quot;arrival&quot;: {&quot;airport&quot;: &quot;Istanbul Airport&quot;, &quot;timezone&quot;: &quot;Europe/Istanbul&quot;, &quot;iata&quot;: &quot;IST&quot;, &quot;icao&quot;: &quot;LTFM&quot;, &quot;terminal&quot;: &quot;1&quot;, &quot;gate&quot;: null, &quot;baggage&quot;: &quot;23B&quot;, &quot;delay&quot;: 31, &quot;scheduled&quot;: &quot;2023-08-28T14:40:00+00:00&quot;, &quot;estimated&quot;: &quot;2023-08-28T14:40:00+00:00&quot;, &quot;actual&quot;: &quot;2023-08-28T15:11:00+00:00&quot;, &quot;estimated_runway&quot;: &quot;2023-08-28T15:11:00+00:00&quot;, &quot;actual_runway&quot;: &quot;2023-08-28T15:11:00+00:00&quot;}, &quot;airline&quot;: {&quot;name&quot;: &quot;Malaysia Airlines&quot;, &quot;iata&quot;: &quot;MH&quot;, &quot;icao&quot;: &quot;MAS&quot;}, &quot;flight&quot;: {&quot;number&quot;: &quot;4294&quot;, &quot;iata&quot;: &quot;MH4294&quot;, &quot;icao&quot;: &quot;MAS4294&quot;, &quot;codeshared&quot;: {&quot;airline_name&quot;: &quot;turkish airlines&quot;, &quot;airline_iata&quot;: &quot;tk&quot;, &quot;airline_icao&quot;: &quot;thy&quot;, &quot;flight_number&quot;: &quot;1662&quot;, &quot;flight_iata&quot;: &quot;tk1662&quot;, &quot;flight_icao&quot;: &quot;thy1662&quot;}}, &quot;aircraft&quot;: null, &quot;live&quot;: null}, {&quot;flight_date&quot;: &quot;2023-08-28&quot;, &quot;flight_status&quot;: &quot;landed&quot;, &quot;departure&quot;: {&quot;airport&quot;: &quot;Sultan Ismail Petra&quot;, &quot;timezone&quot;: &quot;Asia/Kuala_Lumpur&quot;, &quot;iata&quot;: &quot;KBR&quot;, &quot;icao&quot;: &quot;WMKC&quot;, &quot;terminal&quot;: null, &quot;gate&quot;: null, &quot;delay&quot;: 39, &quot;scheduled&quot;: &quot;2023-08-28T17:25:00+00:00&quot;, &quot;estimated&quot;: &quot;2023-08-28T17:25:00+00:00&quot;, &quot;actual&quot;: &quot;2023-08-28T18:04:00+00:00&quot;, &quot;estimated_runway&quot;: &quot;2023-08-28T18:04:00+00:00&quot;, &quot;actual_runway&quot;: &quot;2023-08-28T18:04:00+00:00&quot;}, &quot;arrival&quot;: {&quot;airport&quot;: &quot;Sultan Abdul Aziz Shah&quot;, &quot;timezone&quot;: &quot;Asia/Kuala_Lumpur&quot;, &quot;iata&quot;: &quot;SZB&quot;, &quot;icao&quot;: &quot;WMSA&quot;, &quot;terminal&quot;: null, &quot;gate&quot;: null, &quot;baggage&quot;: null, &quot;delay&quot;: 30, &quot;scheduled&quot;: &quot;2023-08-28T18:30:00+00:00&quot;, &quot;estimated&quot;: &quot;2023-08-28T18:30:00+00:00&quot;, &quot;actual&quot;: &quot;2023-08-28T19:00:00+00:00&quot;, &quot;estimated_runway&quot;: &quot;2023-08-28T19:00:00+00:00&quot;, &quot;actual_runway&quot;: &quot;2023-08-28T19:00:00+00:00&quot;}, &quot;airline&quot;: {&quot;name&quot;: &quot;Malaysia Airlines&quot;, &quot;iata&quot;: &quot;MH&quot;, &quot;icao&quot;: &quot;MAS&quot;}, &quot;flight&quot;: {&quot;number&quot;: &quot;5317&quot;, &quot;iata&quot;: &quot;MH5317&quot;, &quot;icao&quot;: &quot;MAS5317&quot;, &quot;codeshared&quot;: {&quot;airline_name&quot;: &quot;firefly&quot;, &quot;airline_iata&quot;: &quot;fy&quot;, &quot;airline_icao&quot;: &quot;ffm&quot;, &quot;flight_number&quot;: &quot;1151&quot;, &quot;flight_iata&quot;: &quot;fy1151&quot;, &quot;flight_icao&quot;: &quot;ffm1151&quot;}}, &quot;aircraft&quot;: null, &quot;live&quot;: null}, {&quot;flight_date&quot;: &quot;2023-08-28&quot;, &quot;flight_status&quot;: &quot;scheduled&quot;, &quot;departure&quot;: {&quot;airport&quot;: &quot;Polonia&quot;, &quot;timezone&quot;: &quot;Asia/Jakarta&quot;, &quot;iata&quot;: &quot;KNO&quot;, &quot;icao&quot;: &quot;WIMM&quot;, &quot;terminal&quot;: null, &quot;gate&quot;: null, &quot;delay&quot;: 59, &quot;scheduled&quot;: &quot;2023-08-28T15:45:00+00:00&quot;, &quot;estimated&quot;: &quot;2023-08-28T15:45:00+00:00&quot;, &quot;actual&quot;: &quot;2023-08-28T16:43:00+00:00&quot;, &quot;estimated_runway&quot;: &quot;2023-08-28T16:43:00+00:00&quot;, &quot;actual_runway&quot;: &quot;2023-08-28T16:43:00+00:00&quot;}, &quot;arrival&quot;: {&quot;airport&quot;: &quot;Kuala Lumpur International Airport (klia)&quot;, &quot;timezone&quot;: &quot;Asia/Kuala_Lumpur&quot;, &quot;iata&quot;: &quot;KUL&quot;, &quot;icao&quot;: &quot;WMKK&quot;, &quot;terminal&quot;: &quot;1&quot;, &quot;gate&quot;: null, &quot;baggage&quot;: null, &quot;delay&quot;: 43, &quot;scheduled&quot;: &quot;2023-08-28T17:50:00+00:00&quot;, &quot;estimated&quot;: &quot;2023-08-28T17:50:00+00:00&quot;, &quot;actual&quot;: null, &quot;estimated_runway&quot;: null, &quot;actual_runway&quot;: null}, &quot;airline&quot;: {&quot;name&quot;: &quot;Malaysia Airlines&quot;, &quot;iata&quot;: &quot;MH&quot;, &quot;icao&quot;: &quot;MAS&quot;}, &quot;flight&quot;: {&quot;number&quot;: &quot;865&quot;, &quot;iata&quot;: &quot;MH865&quot;, &quot;icao&quot;: &quot;MAS865&quot;, &quot;codeshared&quot;: null}, &quot;aircraft&quot;: null, &quot;live&quot;: null}, {&quot;flight_date&quot;: &quot;2023-08-28&quot;, &quot;flight_status&quot;: &quot;landed&quot;, &quot;departure&quot;: {&quot;airport&quot;: &quot;Miri&quot;, &quot;timezone&quot;: &quot;Asia/Kuching&quot;, &quot;iata&quot;: &quot;MYY&quot;, &quot;icao&quot;: &quot;WBGR&quot;, &quot;terminal&quot;: null, &quot;gate&quot;: null, &quot;delay&quot;: 59, &quot;scheduled&quot;: &quot;2023-08-28T16:25:00+00:00&quot;, &quot;estimated&quot;: &quot;2023-08-28T16:25:00+00:00&quot;, &quot;actual&quot;: &quot;2023-08-28T17:23:00+00:00&quot;, &quot;estimated_runway&quot;: &quot;2023-08-28T17:23:00+00:00&quot;, &quot;actual_runway&quot;: &quot;2023-08-28T17:23:00+00:00&quot;}, &quot;arrival&quot;: {&quot;airport&quot;: &quot;Kuching&quot;, &quot;timezone&quot;: &quot;Asia/Kuching&quot;, &quot;iata&quot;: &quot;KCH&quot;, &quot;icao&quot;: &quot;WBGG&quot;, &quot;terminal&quot;: &quot;2&quot;, &quot;gate&quot;: null, &quot;baggage&quot;: null, &quot;delay&quot;: 45, &quot;scheduled&quot;: &quot;2023-08-28T17:25:00+00:00&quot;, &quot;estimated&quot;: &quot;2023-08-28T17:25:00+00:00&quot;, &quot;actual&quot;: &quot;2023-08-28T18:10:00+00:00&quot;, &quot;estimated_runway&quot;: &quot;2023-08-28T18:10:00+00:00&quot;, &quot;actual_runway&quot;: &quot;2023-08-28T18:10:00+00:00&quot;}, &quot;airline&quot;: {&quot;name&quot;: &quot;Malaysia Airlines&quot;, &quot;iata&quot;: &quot;MH&quot;, &quot;icao&quot;: &quot;MAS&quot;}, &quot;flight&quot;: {&quot;number&quot;: &quot;4713&quot;, &quot;iata&quot;: &quot;MH4713&quot;, &quot;icao&quot;: &quot;MAS4713&quot;, &quot;codeshared&quot;: {&quot;airline_name&quot;: &quot;firefly&quot;, &quot;airline_iata&quot;: &quot;fy&quot;, &quot;airline_icao&quot;: &quot;ffm&quot;, &quot;flight_number&quot;: &quot;2681&quot;, &quot;flight_iata&quot;: &quot;fy2681&quot;, &quot;flight_icao&quot;: &quot;ffm2681&quot;}}, &quot;aircraft&quot;: null, &quot;live&quot;: null}, {&quot;flight_date&quot;: &quot;2023-08-28&quot;, &quot;flight_status&quot;: &quot;landed&quot;, &quot;departure&quot;: {&quot;airport&quot;: &quot;Kuala Lumpur International Airport (klia)&quot;, &quot;timezone&quot;: &quot;Asia/Kuala_Lumpur&quot;, &quot;iata&quot;: &quot;KUL&quot;, &quot;icao&quot;: &quot;WMKK&quot;, &quot;terminal&quot;: &quot;1&quot;, &quot;gate&quot;: null, &quot;delay&quot;: 58, &quot;scheduled&quot;: &quot;2023-08-28T15:55:00+00:00&quot;, &quot;estimated&quot;: &quot;2023-08-28T15:55:00+00:00&quot;, &quot;actual&quot;: &quot;2023-08-28T16:52:00+00:00&quot;, &quot;estimated_runway&quot;: &quot;2023-08-28T16:52:00+00:00&quot;, &quot;actual_runway&quot;: &quot;2023-08-28T16:52:00+00:00&quot;}, &quot;arrival&quot;: {&quot;airport&quot;: &quot;Langakawi International&quot;, &quot;timezone&quot;: &quot;Asia/Kuala_Lumpur&quot;, &quot;iata&quot;: &quot;LGK&quot;, &quot;icao&quot;: &quot;WMKL&quot;, &quot;terminal&quot;: &quot;2&quot;, &quot;gate&quot;: null, &quot;baggage&quot;: null, &quot;delay&quot;: 42, &quot;scheduled&quot;: &quot;2023-08-28T17:00:00+00:00&quot;, &quot;estimated&quot;: &quot;2023-08-28T17:00:00+00:00&quot;, &quot;actual&quot;: &quot;2023-08-28T17:41:00+00:00&quot;, &quot;estimated_runway&quot;: &quot;2023-08-28T17:41:00+00:00&quot;, &quot;actual_runway&quot;: &quot;2023-08-28T17:41:00+00:00&quot;}, &quot;airline&quot;: {&quot;name&quot;: &quot;Malaysia Airlines&quot;, &quot;iata&quot;: &quot;MH&quot;, &quot;icao&quot;: &quot;MAS&quot;}, &quot;flight&quot;: {&quot;number&quot;: &quot;1446&quot;, &quot;iata&quot;: &quot;MH1446&quot;, &quot;icao&quot;: &quot;MAS1446&quot;, &quot;codeshared&quot;: null}, &quot;aircraft&quot;: null, &quot;live&quot;: null}, {&quot;flight_date&quot;: &quot;2023-08-28&quot;, &quot;flight_status&quot;: &quot;scheduled&quot;, &quot;departure&quot;: {&quot;airport&quot;: &quot;Kuala Lumpur International Airport (klia)&quot;, &quot;timezone&quot;: &quot;Asia/Kuala_Lumpur&quot;, &quot;iata&quot;: &quot;KUL&quot;, &quot;icao&quot;: &quot;WMKK&quot;, &quot;terminal&quot;: &quot;1&quot;, &quot;gate&quot;: null, &quot;delay&quot;: 76, &quot;scheduled&quot;: &quot;2023-08-28T15:25:00+00:00&quot;, &quot;estimated&quot;: &quot;2023-08-28T15:25:00+00:00&quot;, &quot;actual&quot;: &quot;2023-08-28T16:40:00+00:00&quot;, &quot;estimated_runway&quot;: &quot;2023-08-28T16:40:00+00:00&quot;, &quot;actual_runway&quot;: &quot;2023-08-28T16:40:00+00:00&quot;}, &quot;arrival&quot;: {&quot;airport&quot;: &quot;Kuching&quot;, &quot;timezone&quot;: &quot;Asia/Kuching&quot;, &quot;iata&quot;: &quot;KCH&quot;, &quot;icao&quot;: &quot;WBGG&quot;, &quot;terminal&quot;: &quot;2&quot;, &quot;gate&quot;: null, &quot;baggage&quot;: null, &quot;delay&quot;: 60, &quot;scheduled&quot;: &quot;2023-08-28T17:15:00+00:00&quot;, &quot;estimated&quot;: &quot;2023-08-28T17:15:00+00:00&quot;, &quot;actual&quot;: null, &quot;estimated_runway&quot;: null, &quot;actual_runway&quot;: null}, &quot;airline&quot;: {&quot;name&quot;: &quot;Malaysia Airlines&quot;, &quot;iata&quot;: &quot;MH&quot;, &quot;icao&quot;: &quot;MAS&quot;}, &quot;flight&quot;: {&quot;number&quot;: &quot;2544&quot;, &quot;iata&quot;: &quot;MH2544&quot;, &quot;icao&quot;: &quot;MAS2544&quot;, &quot;codeshared&quot;: null}, &quot;aircraft&quot;: null, &quot;live&quot;: null}, {&quot;flight_date&quot;: &quot;2023-08-28&quot;, &quot;flight_status&quot;: &quot;scheduled&quot;, &quot;departure&quot;: {&quot;airport&quot;: &quot;Kuala Lumpur International Airport (klia)&quot;, &quot;timezone&quot;: &quot;Asia/Kuala_Lumpur&quot;, &quot;iata&quot;: &quot;KUL&quot;, &quot;icao&quot;: &quot;WMKK&quot;, &quot;terminal&quot;: &quot;1&quot;, &quot;gate&quot;: null, &quot;delay&quot;: 93, &quot;scheduled&quot;: &quot;2023-08-28T15:10:00+00:00&quot;, &quot;estimated&quot;: &quot;2023-08-28T15:10:00+00:00&quot;, &quot;actual&quot;: &quot;2023-08-28T16:42:00+00:00&quot;, &quot;estimated_runway&quot;: &quot;2023-08-28T16:42:00+00:00&quot;, &quot;actual_runway&quot;: &quot;2023-08-28T16:42:00+00:00&quot;}, &quot;arrival&quot;: {&quot;airport&quot;: &quot;King Abdulaziz International&quot;, &quot;timezone&quot;: &quot;Asia/Riyadh&quot;, &quot;iata&quot;: &quot;JED&quot;, &quot;icao&quot;: &quot;OEJN&quot;, &quot;terminal&quot;: &quot;1&quot;, &quot;gate&quot;: null, &quot;baggage&quot;: null, &quot;delay&quot;: 65, &quot;scheduled&quot;: &quot;2023-08-28T19:00:00+00:00&quot;, &quot;estimated&quot;: &quot;2023-08-28T19:00:00+00:00&quot;, &quot;actual&quot;: null, &quot;estimated_runway&quot;: null, &quot;actual_runway&quot;: null}, &quot;airline&quot;: {&quot;name&quot;: &quot;Malaysia Airlines&quot;, &quot;iata&quot;: &quot;MH&quot;, &quot;icao&quot;: &quot;MAS&quot;}, &quot;flight&quot;: {&quot;number&quot;: &quot;156&quot;, &quot;iata&quot;: &quot;MH156&quot;, &quot;icao&quot;: &quot;MAS156&quot;, &quot;codeshared&quot;: null}, &quot;aircraft&quot;: {&quot;registration&quot;: &quot;9M-MTJ&quot;, &quot;iata&quot;: &quot;A333&quot;, &quot;icao&quot;: &quot;A333&quot;, &quot;icao24&quot;: &quot;75025D&quot;}, &quot;live&quot;: {&quot;updated&quot;: &quot;2023-08-28T14:06:49+00:00&quot;, &quot;latitude&quot;: 19.2, &quot;longitude&quot;: 61.27, &quot;altitude&quot;: 12192, &quot;direction&quot;: 281, &quot;speed_horizontal&quot;: 898.22, &quot;speed_vertical&quot;: 0, &quot;is_ground&quot;: false}}, {&quot;flight_date&quot;: &quot;2023-08-28&quot;, &quot;flight_status&quot;: &quot;scheduled&quot;, &quot;departure&quot;: {&quot;airport&quot;: &quot;Penang International&quot;, &quot;timezone&quot;: &quot;Asia/Kuala_Lumpur&quot;, &quot;iata&quot;: &quot;PEN&quot;, &quot;icao&quot;: &quot;WMKP&quot;, &quot;terminal&quot;: null, &quot;gate&quot;: null, &quot;delay&quot;: 74, &quot;scheduled&quot;: &quot;2023-08-28T15:30:00+00:00&quot;, &quot;estimated&quot;: &quot;2023-08-28T15:30:00+00:00&quot;, &quot;actual&quot;: &quot;2023-08-28T16:43:00+00:00&quot;, &quot;estimated_runway&quot;: &quot;2023-08-28T16:43:00+00:00&quot;, &quot;actual_runway&quot;: &quot;2023-08-28T16:43:00+00:00&quot;}, &quot;arrival&quot;: {&quot;airport&quot;: &quot;Kuala Lumpur International Airport (klia)&quot;, &quot;timezone&quot;: &quot;Asia/Kuala_Lumpur&quot;, &quot;iata&quot;: &quot;KUL&quot;, &quot;icao&quot;: &quot;WMKK&quot;, &quot;terminal&quot;: &quot;1&quot;, &quot;gate&quot;: null, &quot;baggage&quot;: null, &quot;delay&quot;: 56, &quot;scheduled&quot;: &quot;2023-08-28T16:35:00+00:00&quot;, &quot;estimated&quot;: &quot;2023-08-28T16:35:00+00:00&quot;, &quot;actual&quot;: null, &quot;estimated_runway&quot;: null, &quot;actual_runway&quot;: null}, &quot;airline&quot;: {&quot;name&quot;: &quot;Malaysia Airlines&quot;, &quot;iata&quot;: &quot;MH&quot;, &quot;icao&quot;: &quot;MAS&quot;}, &quot;flight&quot;: {&quot;number&quot;: &quot;1149&quot;, &quot;iata&quot;: &quot;MH1149&quot;, &quot;icao&quot;: &quot;MAS1149&quot;, &quot;codeshared&quot;: null}, &quot;aircraft&quot;: null, &quot;live&quot;: null}, {&quot;flight_date&quot;: &quot;2023-08-28&quot;, &quot;flight_status&quot;: &quot;landed&quot;, &quot;departure&quot;: {&quot;airport&quot;: &quot;Sultan Ismail Petra&quot;, &quot;timezone&quot;: &quot;Asia/Kuala_Lumpur&quot;, &quot;iata&quot;: &quot;KBR&quot;, &quot;icao&quot;: &quot;WMKC&quot;, &quot;terminal&quot;: null, &quot;gate&quot;: null, &quot;delay&quot;: 49, &quot;scheduled&quot;: &quot;2023-08-28T20:55:00+00:00&quot;, &quot;estimated&quot;: &quot;2023-08-28T20:55:00+00:00&quot;, &quot;actual&quot;: &quot;2023-08-28T21:43:00+00:00&quot;, &quot;estimated_runway&quot;: &quot;2023-08-28T21:43:00+00:00&quot;, &quot;actual_runway&quot;: &quot;2023-08-28T21:43:00+00:00&quot;}, &quot;arrival&quot;: {&quot;airport&quot;: &quot;Sultan Abdul Aziz Shah&quot;, &quot;timezone&quot;: &quot;Asia/Kuala_Lumpur&quot;, &quot;iata&quot;: &quot;SZB&quot;, &quot;icao&quot;: &quot;WMSA&quot;, &quot;terminal&quot;: null, &quot;gate&quot;: null, &quot;baggage&quot;: null, &quot;delay&quot;: 37, &quot;scheduled&quot;: &quot;2023-08-28T22:00:00+00:00&quot;, &quot;estimated&quot;: &quot;2023-08-28T22:00:00+00:00&quot;, &quot;actual&quot;: &quot;2023-08-28T22:36:00+00:00&quot;, &quot;estimated_runway&quot;: &quot;2023-08-28T22:36:00+00:00&quot;, &quot;actual_runway&quot;: &quot;2023-08-28T22:36:00+00:00&quot;}, &quot;airline&quot;: {&quot;name&quot;: &quot;Malaysia Airlines&quot;, &quot;iata&quot;: &quot;MH&quot;, &quot;icao&quot;: &quot;MAS&quot;}, &quot;flight&quot;: {&quot;number&quot;: &quot;5325&quot;, &quot;iata&quot;: &quot;MH5325&quot;, &quot;icao&quot;: &quot;MAS5325&quot;, &quot;codeshared&quot;: {&quot;airline_name&quot;: &quot;firefly&quot;, &quot;airline_iata&quot;: &quot;fy&quot;, &quot;airline_icao&quot;: &quot;ffm&quot;, &quot;flight_number&quot;: &quot;1153&quot;, &quot;flight_iata&quot;: &quot;fy1153&quot;, &quot;flight_icao&quot;: &quot;ffm1153&quot;}}, &quot;aircraft&quot;: null, &quot;live&quot;: null}, {&quot;flight_date&quot;: &quot;2023-08-28&quot;, &quot;flight_status&quot;: &quot;scheduled&quot;, &quot;departure&quot;: {&quot;airport&quot;: &quot;Singapore Changi&quot;, &quot;timezone&quot;: &quot;Asia/Singapore&quot;, &quot;iata&quot;: &quot;SIN&quot;, &quot;icao&quot;: &quot;WSSS&quot;, &quot;terminal&quot;: &quot;2&quot;, &quot;gate&quot;: &quot;E1&quot;, &quot;delay&quot;: 50, &quot;scheduled&quot;: &quot;2023-08-28T15:35:00+00:00&quot;, &quot;estimated&quot;: &quot;2023-08-28T15:35:00+00:00&quot;, &quot;actual&quot;: &quot;2023-08-28T16:25:00+00:00&quot;, &quot;estimated_runway&quot;: &quot;2023-08-28T16:25:00+00:00&quot;, &quot;actual_runway&quot;: &quot;2023-08-28T16:25:00+00:00&quot;}, &quot;arrival&quot;: {&quot;airport&quot;: &quot;Kuala Lumpur International Airport (klia)&quot;, &quot;timezone&quot;: &quot;Asia/Kuala_Lumpur&quot;, &quot;iata&quot;: &quot;KUL&quot;, &quot;icao&quot;: &quot;WMKK&quot;, &quot;terminal&quot;: &quot;1&quot;, &quot;gate&quot;: null, &quot;baggage&quot;: null, &quot;delay&quot;: 40, &quot;scheduled&quot;: &quot;2023-08-28T16:35:00+00:00&quot;, &quot;estimated&quot;: &quot;2023-08-28T16:35:00+00:00&quot;, &quot;actual&quot;: null, &quot;estimated_runway&quot;: null, &quot;actual_runway&quot;: null}, &quot;airline&quot;: {&quot;name&quot;: &quot;Malaysia Airlines&quot;, &quot;iata&quot;: &quot;MH&quot;, &quot;icao&quot;: &quot;MAS&quot;}, &quot;flight&quot;: {&quot;number&quot;: &quot;624&quot;, &quot;iata&quot;: &quot;MH624&quot;, &quot;icao&quot;: &quot;MAS624&quot;, &quot;codeshared&quot;: null}, &quot;aircraft&quot;: null, &quot;live&quot;: null}, {&quot;flight_date&quot;: &quot;2023-08-28&quot;, &quot;flight_status&quot;: &quot;scheduled&quot;, &quot;departure&quot;: {&quot;airport&quot;: &quot;Kota-Kinabalu International Airport&quot;, &quot;timezone&quot;: &quot;Asia/Kuching&quot;, &quot;iata&quot;: &quot;BKI&quot;, &quot;icao&quot;: &quot;WBKK&quot;, &quot;terminal&quot;: &quot;1&quot;, &quot;gate&quot;: null, &quot;delay&quot;: 29, &quot;scheduled&quot;: &quot;2023-08-28T15:30:00+00:00&quot;, &quot;estimated&quot;: &quot;2023-08-28T15:30:00+00:00&quot;, &quot;actual&quot;: &quot;2023-08-28T15:59:00+00:00&quot;, &quot;estimated_runway&quot;: &quot;2023-08-28T15:59:00+00:00&quot;, &quot;actual_runway&quot;: &quot;2023-08-28T15:59:00+00:00&quot;}, &quot;arrival&quot;: {&quot;airport&quot;: &quot;Kuala Lumpur International Airport (klia)&quot;, &quot;timezone&quot;: &quot;Asia/Kuala_Lumpur&quot;, &quot;iata&quot;: &quot;KUL&quot;, &quot;icao&quot;: &quot;WMKK&quot;, &quot;terminal&quot;: &quot;1&quot;, &quot;gate&quot;: null, &quot;baggage&quot;: null, &quot;delay&quot;: 31, &quot;scheduled&quot;: &quot;2023-08-28T18:05:00+00:00&quot;, &quot;estimated&quot;: &quot;2023-08-28T18:05:00+00:00&quot;, &quot;actual&quot;: null, &quot;estimated_runway&quot;: null, &quot;actual_runway&quot;: null}, &quot;airline&quot;: {&quot;name&quot;: &quot;Malaysia Airlines&quot;, &quot;iata&quot;: &quot;MH&quot;, &quot;icao&quot;: &quot;MAS&quot;}, &quot;flight&quot;: {&quot;number&quot;: &quot;2641&quot;, &quot;iata&quot;: &quot;MH2641&quot;, &quot;icao&quot;: &quot;MAS2641&quot;, &quot;codeshared&quot;: null}, &quot;aircraft&quot;: {&quot;registration&quot;: &quot;9M-MXR&quot;, &quot;iata&quot;: &quot;B738&quot;, &quot;icao&quot;: &quot;B738&quot;, &quot;icao24&quot;: &quot;75021C&quot;}, &quot;live&quot;: {&quot;updated&quot;: &quot;2023-08-28T08:03:02+00:00&quot;, &quot;latitude&quot;: 5.79, &quot;longitude&quot;: 115.9, &quot;altitude&quot;: 2240.28, &quot;direction&quot;: 256, &quot;speed_horizontal&quot;: 483.372, &quot;speed_vertical&quot;: 0, &quot;is_ground&quot;: false}}, {&quot;flight_date&quot;: &quot;2023-08-28&quot;, &quot;flight_status&quot;: &quot;scheduled&quot;, &quot;departure&quot;: {&quot;airport&quot;: &quot;Sydney Kingsford Smith Airport&quot;, &quot;timezone&quot;: &quot;Australia/Sydney&quot;, &quot;iata&quot;: &quot;SYD&quot;, &quot;icao&quot;: &quot;YSSY&quot;, &quot;terminal&quot;: null, &quot;gate&quot;: null, &quot;delay&quot;: 336, &quot;scheduled&quot;: &quot;2023-08-28T16:40:00+00:00&quot;, &quot;estimated&quot;: &quot;2023-08-28T16:40:00+00:00&quot;, &quot;actual&quot;: &quot;2023-08-28T22:16:00+00:00&quot;, &quot;estimated_runway&quot;: &quot;2023-08-28T22:16:00+00:00&quot;, &quot;actual_runway&quot;: &quot;2023-08-28T22:16:00+00:00&quot;}, &quot;arrival&quot;: {&quot;airport&quot;: &quot;Kuala Lumpur International Airport (klia)&quot;, &quot;timezone&quot;: &quot;Asia/Kuala_Lumpur&quot;, &quot;iata&quot;: &quot;KUL&quot;, &quot;icao&quot;: &quot;WMKK&quot;, &quot;terminal&quot;: &quot;2&quot;, &quot;gate&quot;: null, &quot;baggage&quot;: null, &quot;delay&quot;: 390, &quot;scheduled&quot;: &quot;2023-08-28T22:05:00+00:00&quot;, &quot;estimated&quot;: &quot;2023-08-28T22:05:00+00:00&quot;, &quot;actual&quot;: null, &quot;estimated_runway&quot;: null, &quot;actual_runway&quot;: null}, &quot;airline&quot;: {&quot;name&quot;: &quot;Malaysia Airlines&quot;, &quot;iata&quot;: &quot;MH&quot;, &quot;icao&quot;: &quot;MAS&quot;}, &quot;flight&quot;: {&quot;number&quot;: &quot;6204&quot;, &quot;iata&quot;: &quot;MH6204&quot;, &quot;icao&quot;: &quot;MAS6204&quot;, &quot;codeshared&quot;: null}, &quot;aircraft&quot;: {&quot;registration&quot;: &quot;9M-MUA&quot;, &quot;iata&quot;: &quot;A332&quot;, &quot;icao&quot;: &quot;A332&quot;, &quot;icao24&quot;: &quot;750263&quot;}, &quot;live&quot;: {&quot;updated&quot;: &quot;2023-08-28T12:36:20+00:00&quot;, &quot;latitude&quot;: -33.31, &quot;longitude&quot;: 148.87, &quot;altitude&quot;: 11201.4, &quot;direction&quot;: 288, &quot;speed_horizontal&quot;: 859.328, &quot;speed_vertical&quot;: 0, &quot;is_ground&quot;: false}}, {&quot;flight_date&quot;: &quot;2023-08-28&quot;, &quot;flight_status&quot;: &quot;landed&quot;, &quot;departure&quot;: {&quot;airport&quot;: &quot;Kuching&quot;, &quot;timezone&quot;: &quot;Asia/Kuching&quot;, &quot;iata&quot;: &quot;KCH&quot;, &quot;icao&quot;: &quot;WBGG&quot;, &quot;terminal&quot;: null, &quot;gate&quot;: null, &quot;delay&quot;: 51, &quot;scheduled&quot;: &quot;2023-08-28T14:45:00+00:00&quot;, &quot;estimated&quot;: &quot;2023-08-28T14:45:00+00:00&quot;, &quot;actual&quot;: &quot;2023-08-28T15:35:00+00:00&quot;, &quot;estimated_runway&quot;: &quot;2023-08-28T15:35:00+00:00&quot;, &quot;actual_runway&quot;: &quot;2023-08-28T15:35:00+00:00&quot;}, &quot;arrival&quot;: {&quot;airport&quot;: &quot;Miri&quot;, &quot;timezone&quot;: &quot;Asia/Kuching&quot;, &quot;iata&quot;: &quot;MYY&quot;, &quot;icao&quot;: &quot;WBGR&quot;, &quot;terminal&quot;: &quot;1&quot;, &quot;gate&quot;: null, &quot;baggage&quot;: null, &quot;delay&quot;: 41, &quot;scheduled&quot;: &quot;2023-08-28T15:45:00+00:00&quot;, &quot;estimated&quot;: &quot;2023-08-28T15:45:00+00:00&quot;, &quot;actual&quot;: &quot;2023-08-28T16:26:00+00:00&quot;, &quot;estimated_runway&quot;: &quot;2023-08-28T16:26:00+00:00&quot;, &quot;actual_runway&quot;: &quot;2023-08-28T16:26:00+00:00&quot;}, &quot;airline&quot;: {&quot;name&quot;: &quot;Malaysia Airlines&quot;, &quot;iata&quot;: &quot;MH&quot;, &quot;icao&quot;: &quot;MAS&quot;}, &quot;flight&quot;: {&quot;number&quot;: &quot;4712&quot;, &quot;iata&quot;: &quot;MH4712&quot;, &quot;icao&quot;: &quot;MAS4712&quot;, &quot;codeshared&quot;: {&quot;airline_name&quot;: &quot;firefly&quot;, &quot;airline_iata&quot;: &quot;fy&quot;, &quot;airline_icao&quot;: &quot;ffm&quot;, &quot;flight_number&quot;: &quot;2680&quot;, &quot;flight_iata&quot;: &quot;fy2680&quot;, &quot;flight_icao&quot;: &quot;ffm2680&quot;}}, &quot;aircraft&quot;: null, &quot;live&quot;: null}, {&quot;flight_date&quot;: &quot;2023-08-28&quot;, &quot;flight_status&quot;: &quot;landed&quot;, &quot;departure&quot;: {&quot;airport&quot;: &quot;Kuala Lumpur International Airport (klia)&quot;, &quot;timezone&quot;: &quot;Asia/Kuala_Lumpur&quot;, &quot;iata&quot;: &quot;KUL&quot;, &quot;icao&quot;: &quot;WMKK&quot;, &quot;terminal&quot;: &quot;1&quot;, &quot;gate&quot;: null, &quot;delay&quot;: 82, &quot;scheduled&quot;: &quot;2023-08-28T15:05:00+00:00&quot;, &quot;estimated&quot;: &quot;2023-08-28T15:05:00+00:00&quot;, &quot;actual&quot;: &quot;2023-08-28T16:26:00+00:00&quot;, &quot;estimated_runway&quot;: &quot;2023-08-28T16:26:00+00:00&quot;, &quot;actual_runway&quot;: &quot;2023-08-28T16:26:00+00:00&quot;}, &quot;arrival&quot;: {&quot;airport&quot;: &quot;Suvarnabhumi International&quot;, &quot;timezone&quot;: &quot;Asia/Bangkok&quot;, &quot;iata&quot;: &quot;BKK&quot;, &quot;icao&quot;: &quot;VTBS&quot;, &quot;terminal&quot;: &quot;2&quot;, &quot;gate&quot;: null, &quot;baggage&quot;: null, &quot;delay&quot;: 55, &quot;scheduled&quot;: &quot;2023-08-28T16:20:00+00:00&quot;, &quot;estimated&quot;: &quot;2023-08-28T16:20:00+00:00&quot;, &quot;actual&quot;: &quot;2023-08-28T17:15:00+00:00&quot;, &quot;estimated_runway&quot;: &quot;2023-08-28T17:15:00+00:00&quot;, &quot;actual_runway&quot;: &quot;2023-08-28T17:15:00+00:00&quot;}, &quot;airline&quot;: {&quot;name&quot;: &quot;Malaysia Airlines&quot;, &quot;iata&quot;: &quot;MH&quot;, &quot;icao&quot;: &quot;MAS&quot;}, &quot;flight&quot;: {&quot;number&quot;: &quot;782&quot;, &quot;iata&quot;: &quot;MH782&quot;, &quot;icao&quot;: &quot;MAS782&quot;, &quot;codeshared&quot;: null}, &quot;aircraft&quot;: null, &quot;live&quot;: null}, {&quot;flight_date&quot;: &quot;2023-08-28&quot;, &quot;flight_status&quot;: &quot;scheduled&quot;, &quot;departure&quot;: {&quot;airport&quot;: &quot;Kuala Lumpur International Airport (klia)&quot;, &quot;timezone&quot;: &quot;Asia/Kuala_Lumpur&quot;, &quot;iata&quot;: &quot;KUL&quot;, &quot;icao&quot;: &quot;WMKK&quot;, &quot;terminal&quot;: &quot;1&quot;, &quot;gate&quot;: null, &quot;delay&quot;: 65, &quot;scheduled&quot;: &quot;2023-08-28T14:55:00+00:00&quot;, &quot;estimated&quot;: &quot;2023-08-28T14:55:00+00:00&quot;, &quot;actual&quot;: &quot;2023-08-28T15:59:00+00:00&quot;, &quot;estimated_runway&quot;: &quot;2023-08-28T15:59:00+00:00&quot;, &quot;actual_runway&quot;: &quot;2023-08-28T15:59:00+00:00&quot;}, &quot;arrival&quot;: {&quot;airport&quot;: null, &quot;timezone&quot;: null, &quot;iata&quot;: &quot;KNO&quot;, &quot;icao&quot;: &quot;WIMM&quot;, &quot;terminal&quot;: &quot;1&quot;, &quot;gate&quot;: null, &quot;baggage&quot;: null, &quot;delay&quot;: 40, &quot;scheduled&quot;: &quot;2023-08-28T15:00:00+00:00&quot;, &quot;estimated&quot;: &quot;2023-08-28T15:00:00+00:00&quot;, &quot;actual&quot;: null, &quot;estimated_runway&quot;: null, &quot;actual_runway&quot;: null}, &quot;airline&quot;: {&quot;name&quot;: &quot;Malaysia Airlines&quot;, &quot;iata&quot;: &quot;MH&quot;, &quot;icao&quot;: &quot;MAS&quot;}, &quot;flight&quot;: {&quot;number&quot;: &quot;864&quot;, &quot;iata&quot;: &quot;MH864&quot;, &quot;icao&quot;: &quot;MAS864&quot;, &quot;codeshared&quot;: null}, &quot;aircraft&quot;: null, &quot;live&quot;: null}, {&quot;flight_date&quot;: &quot;2023-08-28&quot;, &quot;flight_status&quot;: &quot;landed&quot;, &quot;departure&quot;: {&quot;airport&quot;: &quot;Kuala Lumpur International Airport (klia)&quot;, &quot;timezone&quot;: &quot;Asia/Kuala_Lumpur&quot;, &quot;iata&quot;: &quot;KUL&quot;, &quot;icao&quot;: &quot;WMKK&quot;, &quot;terminal&quot;: &quot;1&quot;, &quot;gate&quot;: null, &quot;delay&quot;: 58, &quot;scheduled&quot;: &quot;2023-08-28T14:40:00+00:00&quot;, &quot;estimated&quot;: &quot;2023-08-28T14:40:00+00:00&quot;, &quot;actual&quot;: &quot;2023-08-28T15:37:00+00:00&quot;, &quot;estimated_runway&quot;: &quot;2023-08-28T15:37:00+00:00&quot;, &quot;actual_runway&quot;: &quot;2023-08-28T15:37:00+00:00&quot;}, &quot;arrival&quot;: {&quot;airport&quot;: &quot;Labuan&quot;, &quot;timezone&quot;: &quot;Asia/Kuching&quot;, &quot;iata&quot;: &quot;LBU&quot;, &quot;icao&quot;: &quot;WBKL&quot;, &quot;terminal&quot;: &quot;1&quot;, &quot;gate&quot;: null, &quot;baggage&quot;: null, &quot;delay&quot;: 32, &quot;scheduled&quot;: &quot;2023-08-28T17:10:00+00:00&quot;, &quot;estimated&quot;: &quot;2023-08-28T17:10:00+00:00&quot;, &quot;actual&quot;: &quot;2023-08-28T17:41:00+00:00&quot;, &quot;estimated_runway&quot;: &quot;2023-08-28T17:41:00+00:00&quot;, &quot;actual_runway&quot;: &quot;2023-08-28T17:41:00+00:00&quot;}, &quot;airline&quot;: {&quot;name&quot;: &quot;Malaysia Airlines&quot;, &quot;iata&quot;: &quot;MH&quot;, &quot;icao&quot;: &quot;MAS&quot;}, &quot;flight&quot;: {&quot;number&quot;: &quot;2634&quot;, &quot;iata&quot;: &quot;MH2634&quot;, &quot;icao&quot;: &quot;MAS2634&quot;, &quot;codeshared&quot;: null}, &quot;aircraft&quot;: null, &quot;live&quot;: null}]}</td>\n",
       "        </tr>\n",
       "    </tbody>\n",
       "</table>"
      ],
      "text/plain": [
       "[('{\"pagination\": {\"limit\": 100, \"offset\": 0, \"count\": 100, \"total\": 130}, \"data\": [{\"flight_date\": \"2023-08-29\", \"flight_status\": \"scheduled\", \"departu ... (108636 characters truncated) ... iata\": \"MH\", \"icao\": \"MAS\"}, \"flight\": {\"number\": \"2634\", \"iata\": \"MH2634\", \"icao\": \"MAS2634\", \"codeshared\": null}, \"aircraft\": null, \"live\": null}]}',)]"
      ]
     },
     "execution_count": 6,
     "metadata": {},
     "output_type": "execute_result"
    }
   ],
   "source": [
    "%%sql\n",
    "select * from flights_json limit 1;"
   ]
  },
  {
   "cell_type": "markdown",
   "metadata": {},
   "source": [
    "## generating DDL from json schema"
   ]
  },
  {
   "cell_type": "code",
   "execution_count": 3,
   "metadata": {
    "collapsed": true,
    "jupyter": {
     "outputs_hidden": true
    }
   },
   "outputs": [
    {
     "name": "stdout",
     "output_type": "stream",
     "text": [
      "{'aircraft': None,\n",
      " 'airline': {'iata': 'MH', 'icao': 'MAS', 'name': 'Malaysia Airlines'},\n",
      " 'arrival': {'actual': None,\n",
      "             'actual_runway': None,\n",
      "             'airport': 'Cape Town International',\n",
      "             'baggage': '1.4',\n",
      "             'delay': 31,\n",
      "             'estimated': '2023-08-29T10:50:00+00:00',\n",
      "             'estimated_runway': None,\n",
      "             'gate': 'A5',\n",
      "             'iata': 'CPT',\n",
      "             'icao': 'FACT',\n",
      "             'scheduled': '2023-08-29T10:50:00+00:00',\n",
      "             'terminal': 'B',\n",
      "             'timezone': 'Africa/Johannesburg'},\n",
      " 'departure': {'actual': '2023-08-29T03:10:00+00:00',\n",
      "               'actual_runway': '2023-08-29T03:10:00+00:00',\n",
      "               'airport': 'Doha International',\n",
      "               'delay': 25,\n",
      "               'estimated': '2023-08-29T02:05:00+00:00',\n",
      "               'estimated_runway': '2023-08-29T03:10:00+00:00',\n",
      "               'gate': 'C37',\n",
      "               'iata': 'DOH',\n",
      "               'icao': 'OTHH',\n",
      "               'scheduled': '2023-08-29T02:05:00+00:00',\n",
      "               'terminal': None,\n",
      "               'timezone': 'Asia/Qatar'},\n",
      " 'flight': {'codeshared': {'airline_iata': 'qr',\n",
      "                           'airline_icao': 'qtr',\n",
      "                           'airline_name': 'qatar airways',\n",
      "                           'flight_iata': 'qr1369',\n",
      "                           'flight_icao': 'qtr1369',\n",
      "                           'flight_number': '1369'},\n",
      "            'iata': 'MH9305',\n",
      "            'icao': 'MAS9305',\n",
      "            'number': '9305'},\n",
      " 'flight_date': '2023-08-29',\n",
      " 'flight_status': 'scheduled',\n",
      " 'live': None}\n"
     ]
    }
   ],
   "source": [
    "sample_data = response[\"data\"][0]\n",
    "pprint(sample_data)"
   ]
  },
  {
   "cell_type": "markdown",
   "metadata": {
    "jupyter": {
     "source_hidden": true
    }
   },
   "source": [
    "I expect the generator to collect all possible keys in this json, and group them as required, e.g. arrival_actual, flight_codeshared_airline_iata for nested data.\n",
    "\n",
    "Naive approach - depth first search\n",
    "\n",
    "- store `key1`\n",
    "- check type of `data[key1]`\n",
    "    - if not `dict`, return `key1` and proceed to `key2`\n",
    "    - if `dict`, search through `data[key1][key11]`\n",
    "        - if not `dict`, return `key1_key11` and proceed to `key1_key12`\n",
    "        - if `dict`, search through `data[key1][key11][key111]`\n",
    "     \n",
    "Framed as a recursion problem:\n",
    "\n",
    "base:\n",
    "\n",
    "- if `data[key]` is `not dict`: return `key`\n",
    "\n",
    "All others:\n",
    "\n",
    "- if `data[key]` is `dict`: pass `data[key]` into the function again"
   ]
  },
  {
   "cell_type": "code",
   "execution_count": 9,
   "metadata": {},
   "outputs": [],
   "source": [
    "from collections.abc import MutableMapping\n",
    "\n",
    "\n",
    "def json_flatten(data: dict, parent_key=\"\", sep=\"_\"):\n",
    "    \"\"\"\n",
    "    Normalizes json, if nested\n",
    "    \"\"\"\n",
    "    items = []\n",
    "    for key, val in data.items():\n",
    "        new_key = parent_key + sep + key if parent_key else key\n",
    "        if isinstance(val, MutableMapping):\n",
    "            items.extend(json_flatten(val, parent_key=new_key, sep=sep).items())\n",
    "        else:\n",
    "            items.append((new_key, val))\n",
    "\n",
    "    # creates {key: val} from (key, val) tuple\n",
    "    return dict(items)"
   ]
  },
  {
   "cell_type": "code",
   "execution_count": 10,
   "metadata": {
    "collapsed": true,
    "jupyter": {
     "outputs_hidden": true
    }
   },
   "outputs": [
    {
     "data": {
      "text/plain": [
       "{'flight_date': '2023-08-29',\n",
       " 'flight_status': 'scheduled',\n",
       " 'departure__airport': 'Doha International',\n",
       " 'departure__timezone': 'Asia/Qatar',\n",
       " 'departure__iata': 'DOH',\n",
       " 'departure__icao': 'OTHH',\n",
       " 'departure__terminal': None,\n",
       " 'departure__gate': 'C37',\n",
       " 'departure__delay': 25,\n",
       " 'departure__scheduled': '2023-08-29T02:05:00+00:00',\n",
       " 'departure__estimated': '2023-08-29T02:05:00+00:00',\n",
       " 'departure__actual': '2023-08-29T03:10:00+00:00',\n",
       " 'departure__estimated_runway': '2023-08-29T03:10:00+00:00',\n",
       " 'departure__actual_runway': '2023-08-29T03:10:00+00:00',\n",
       " 'arrival__airport': 'Cape Town International',\n",
       " 'arrival__timezone': 'Africa/Johannesburg',\n",
       " 'arrival__iata': 'CPT',\n",
       " 'arrival__icao': 'FACT',\n",
       " 'arrival__terminal': 'B',\n",
       " 'arrival__gate': 'A5',\n",
       " 'arrival__baggage': '1.4',\n",
       " 'arrival__delay': 31,\n",
       " 'arrival__scheduled': '2023-08-29T10:50:00+00:00',\n",
       " 'arrival__estimated': '2023-08-29T10:50:00+00:00',\n",
       " 'arrival__actual': None,\n",
       " 'arrival__estimated_runway': None,\n",
       " 'arrival__actual_runway': None,\n",
       " 'airline__name': 'Malaysia Airlines',\n",
       " 'airline__iata': 'MH',\n",
       " 'airline__icao': 'MAS',\n",
       " 'flight__number': '9305',\n",
       " 'flight__iata': 'MH9305',\n",
       " 'flight__icao': 'MAS9305',\n",
       " 'flight__codeshared__airline_name': 'qatar airways',\n",
       " 'flight__codeshared__airline_iata': 'qr',\n",
       " 'flight__codeshared__airline_icao': 'qtr',\n",
       " 'flight__codeshared__flight_number': '1369',\n",
       " 'flight__codeshared__flight_iata': 'qr1369',\n",
       " 'flight__codeshared__flight_icao': 'qtr1369',\n",
       " 'aircraft': None,\n",
       " 'live': None}"
      ]
     },
     "execution_count": 10,
     "metadata": {},
     "output_type": "execute_result"
    }
   ],
   "source": [
    "flat = json_flatten(sample_data, sep=\"__\")\n",
    "flat"
   ]
  },
  {
   "cell_type": "code",
   "execution_count": 7,
   "metadata": {},
   "outputs": [
    {
     "data": {
      "text/plain": [
       "dict_keys(['flight_date', 'flight_status', 'departure_airport', 'departure_timezone', 'departure_iata', 'departure_icao', 'departure_terminal', 'departure_gate', 'departure_delay', 'departure_scheduled', 'departure_estimated', 'departure_actual', 'departure_estimated_runway', 'departure_actual_runway', 'arrival_airport', 'arrival_timezone', 'arrival_iata', 'arrival_icao', 'arrival_terminal', 'arrival_gate', 'arrival_baggage', 'arrival_delay', 'arrival_scheduled', 'arrival_estimated', 'arrival_actual', 'arrival_estimated_runway', 'arrival_actual_runway', 'airline_name', 'airline_iata', 'airline_icao', 'flight_number', 'flight_iata', 'flight_icao', 'flight_codeshared_airline_name', 'flight_codeshared_airline_iata', 'flight_codeshared_airline_icao', 'flight_codeshared_flight_number', 'flight_codeshared_flight_iata', 'flight_codeshared_flight_icao', 'aircraft', 'live'])"
      ]
     },
     "execution_count": 7,
     "metadata": {},
     "output_type": "execute_result"
    }
   ],
   "source": [
    "flat.keys()"
   ]
  },
  {
   "cell_type": "markdown",
   "metadata": {},
   "source": [
    "For each key, create a `TEXT` field in the import table"
   ]
  },
  {
   "cell_type": "code",
   "execution_count": 23,
   "metadata": {},
   "outputs": [],
   "source": [
    "fields_sql = \", \".join([f\"{field} TEXT\" for field in flat.keys()])\n",
    "create_sql = f\"CREATE TABLE import_flights_response ({fields_sql})\""
   ]
  },
  {
   "cell_type": "code",
   "execution_count": 24,
   "metadata": {},
   "outputs": [
    {
     "data": {
      "text/plain": [
       "'CREATE TABLE import_flights_response (flight_date TEXT, flight_status TEXT, departure__airport TEXT, departure__timezone TEXT, departure__iata TEXT, departure__icao TEXT, departure__terminal TEXT, departure__gate TEXT, departure__delay TEXT, departure__scheduled TEXT, departure__estimated TEXT, departure__actual TEXT, departure__estimated_runway TEXT, departure__actual_runway TEXT, arrival__airport TEXT, arrival__timezone TEXT, arrival__iata TEXT, arrival__icao TEXT, arrival__terminal TEXT, arrival__gate TEXT, arrival__baggage TEXT, arrival__delay TEXT, arrival__scheduled TEXT, arrival__estimated TEXT, arrival__actual TEXT, arrival__estimated_runway TEXT, arrival__actual_runway TEXT, airline__name TEXT, airline__iata TEXT, airline__icao TEXT, flight__number TEXT, flight__iata TEXT, flight__icao TEXT, flight__codeshared__airline_name TEXT, flight__codeshared__airline_iata TEXT, flight__codeshared__airline_icao TEXT, flight__codeshared__flight_number TEXT, flight__codeshared__flight_iata TEXT, flight__codeshared__flight_icao TEXT, aircraft TEXT, live TEXT)'"
      ]
     },
     "execution_count": 24,
     "metadata": {},
     "output_type": "execute_result"
    }
   ],
   "source": [
    "create_sql"
   ]
  },
  {
   "cell_type": "code",
   "execution_count": 26,
   "metadata": {},
   "outputs": [
    {
     "data": {
      "text/plain": [
       "<sqlite3.Cursor at 0x7f4589f0ac40>"
      ]
     },
     "execution_count": 26,
     "metadata": {},
     "output_type": "execute_result"
    }
   ],
   "source": [
    "con = sqlite3.connect(\"../tests/data/tutorial.db\")\n",
    "curs = con.cursor()\n",
    "curs.execute(create_sql)"
   ]
  },
  {
   "cell_type": "code",
   "execution_count": 28,
   "metadata": {},
   "outputs": [
    {
     "data": {
      "text/plain": [
       "[('flights',), ('flights_json',), ('import_flights_response',)]"
      ]
     },
     "execution_count": 28,
     "metadata": {},
     "output_type": "execute_result"
    }
   ],
   "source": [
    "curs.execute(\"select name from sqlite_master\")\n",
    "curs.fetchall()"
   ]
  },
  {
   "cell_type": "code",
   "execution_count": 31,
   "metadata": {
    "collapsed": true,
    "jupyter": {
     "outputs_hidden": true
    }
   },
   "outputs": [
    {
     "name": "stdout",
     "output_type": "stream",
     "text": [
      " * sqlite:///../tests/data/tutorial.db\n",
      "Done.\n"
     ]
    },
    {
     "data": {
      "text/html": [
       "<table>\n",
       "    <thead>\n",
       "        <tr>\n",
       "            <th>type</th>\n",
       "            <th>name</th>\n",
       "            <th>tbl_name</th>\n",
       "            <th>rootpage</th>\n",
       "            <th>sql</th>\n",
       "        </tr>\n",
       "    </thead>\n",
       "    <tbody>\n",
       "        <tr>\n",
       "            <td>table</td>\n",
       "            <td>import_flights_response</td>\n",
       "            <td>import_flights_response</td>\n",
       "            <td>64</td>\n",
       "            <td>CREATE TABLE import_flights_response (flight_date TEXT, flight_status TEXT, departure__airport TEXT, departure__timezone TEXT, departure__iata TEXT, departure__icao TEXT, departure__terminal TEXT, departure__gate TEXT, departure__delay TEXT, departure__scheduled TEXT, departure__estimated TEXT, departure__actual TEXT, departure__estimated_runway TEXT, departure__actual_runway TEXT, arrival__airport TEXT, arrival__timezone TEXT, arrival__iata TEXT, arrival__icao TEXT, arrival__terminal TEXT, arrival__gate TEXT, arrival__baggage TEXT, arrival__delay TEXT, arrival__scheduled TEXT, arrival__estimated TEXT, arrival__actual TEXT, arrival__estimated_runway TEXT, arrival__actual_runway TEXT, airline__name TEXT, airline__iata TEXT, airline__icao TEXT, flight__number TEXT, flight__iata TEXT, flight__icao TEXT, flight__codeshared__airline_name TEXT, flight__codeshared__airline_iata TEXT, flight__codeshared__airline_icao TEXT, flight__codeshared__flight_number TEXT, flight__codeshared__flight_iata TEXT, flight__codeshared__flight_icao TEXT, aircraft TEXT, live TEXT)</td>\n",
       "        </tr>\n",
       "    </tbody>\n",
       "</table>"
      ],
      "text/plain": [
       "[('table', 'import_flights_response', 'import_flights_response', 64, 'CREATE TABLE import_flights_response (flight_date TEXT, flight_status TEXT, departure__airport TEXT, departure__timezone TEXT, departure__iata TEXT,  ... (772 characters truncated) ... o TEXT, flight__codeshared__flight_number TEXT, flight__codeshared__flight_iata TEXT, flight__codeshared__flight_icao TEXT, aircraft TEXT, live TEXT)')]"
      ]
     },
     "execution_count": 31,
     "metadata": {},
     "output_type": "execute_result"
    }
   ],
   "source": [
    "%%sql\n",
    "select * from sqlite_master\n",
    "where name = 'import_flights_response';"
   ]
  },
  {
   "cell_type": "code",
   "execution_count": 38,
   "metadata": {},
   "outputs": [],
   "source": [
    "vals = [list(json_flatten(entry, sep=\"__\").values()) for entry in response[\"data\"]]"
   ]
  },
  {
   "cell_type": "code",
   "execution_count": 39,
   "metadata": {
    "collapsed": true,
    "jupyter": {
     "outputs_hidden": true
    }
   },
   "outputs": [
    {
     "data": {
      "text/plain": [
       "['2023-08-29',\n",
       " 'scheduled',\n",
       " 'Doha International',\n",
       " 'Asia/Qatar',\n",
       " 'DOH',\n",
       " 'OTHH',\n",
       " None,\n",
       " 'C36',\n",
       " 22,\n",
       " '2023-08-29T02:10:00+00:00',\n",
       " '2023-08-29T02:10:00+00:00',\n",
       " '2023-08-29T05:18:00+00:00',\n",
       " '2023-08-29T05:18:00+00:00',\n",
       " '2023-08-29T05:18:00+00:00',\n",
       " 'Leonardo Da Vinci (Fiumicino)',\n",
       " 'Europe/Rome',\n",
       " 'FCO',\n",
       " 'LIRF',\n",
       " '3',\n",
       " None,\n",
       " '12',\n",
       " 131,\n",
       " '2023-08-29T07:15:00+00:00',\n",
       " '2023-08-29T07:15:00+00:00',\n",
       " None,\n",
       " None,\n",
       " None,\n",
       " 'Malaysia Airlines',\n",
       " 'MH',\n",
       " 'MAS',\n",
       " '9237',\n",
       " 'MH9237',\n",
       " 'MAS9237',\n",
       " 'qatar airways',\n",
       " 'qr',\n",
       " 'qtr',\n",
       " '115',\n",
       " 'qr115',\n",
       " 'qtr115',\n",
       " None,\n",
       " None]"
      ]
     },
     "execution_count": 39,
     "metadata": {},
     "output_type": "execute_result"
    }
   ],
   "source": [
    "vals[3]"
   ]
  },
  {
   "cell_type": "code",
   "execution_count": 37,
   "metadata": {},
   "outputs": [
    {
     "data": {
      "text/plain": [
       "'INSERT INTO import_flights_response VALUES(?, ?, ?, ?, ?, ?, ?, ?, ?, ?, ?, ?, ?, ?, ?, ?, ?, ?, ?, ?, ?, ?, ?, ?, ?, ?, ?, ?, ?, ?, ?, ?, ?, ?, ?, ?, ?, ?, ?, ?, ?)'"
      ]
     },
     "execution_count": 37,
     "metadata": {},
     "output_type": "execute_result"
    }
   ],
   "source": [
    "f\"INSERT INTO import_flights_response VALUES({vals_placeholder})\""
   ]
  },
  {
   "cell_type": "code",
   "execution_count": 42,
   "metadata": {},
   "outputs": [
    {
     "data": {
      "text/plain": [
       "41"
      ]
     },
     "execution_count": 42,
     "metadata": {},
     "output_type": "execute_result"
    }
   ],
   "source": [
    "len(vals[0])"
   ]
  },
  {
   "cell_type": "code",
   "execution_count": 89,
   "metadata": {
    "scrolled": true
   },
   "outputs": [
    {
     "name": "stdout",
     "output_type": "stream",
     "text": [
      "Incorrect number of bindings supplied. The current statement uses 41, and there are 36 supplied.\n"
     ]
    }
   ],
   "source": [
    "from sqlite3 import ProgrammingError\n",
    "\n",
    "vals_placeholder = \", \".join(len(vals[0]) * \"?\")\n",
    "try:\n",
    "    curs.executemany(\n",
    "        f\"INSERT INTO import_flights_response VALUES({vals_placeholder})\", vals\n",
    "    )\n",
    "except ProgrammingError as e:\n",
    "    print(e)"
   ]
  },
  {
   "cell_type": "markdown",
   "metadata": {},
   "source": [
    "Can't just use the first entry as the field guide for all entries.\n",
    "\n",
    "Collect fields from all entries, and take the union as the table schema.\n",
    "\n",
    "For cases with insufficient entries, need to map the available entry to the superset, and default `None` for empty fields"
   ]
  },
  {
   "cell_type": "code",
   "execution_count": 60,
   "metadata": {},
   "outputs": [],
   "source": [
    "def compare_first(l):\n",
    "    \"\"\"\n",
    "    compares all elements of iterable, l, vs the first\n",
    "    It doesn't answer which elems are different, only\n",
    "    if all are equal; if all are equal to 1st, then they're all equal\n",
    "    \"\"\"\n",
    "    cmps = [elem == l[0] for elem in l]\n",
    "    return all(cmps)"
   ]
  },
  {
   "cell_type": "code",
   "execution_count": 61,
   "metadata": {},
   "outputs": [
    {
     "data": {
      "text/plain": [
       "[True, True, True]"
      ]
     },
     "execution_count": 61,
     "metadata": {},
     "output_type": "execute_result"
    }
   ],
   "source": [
    "[compare_first(l) for l in [fa, fb, fc]]"
   ]
  },
  {
   "cell_type": "code",
   "execution_count": 67,
   "metadata": {},
   "outputs": [],
   "source": [
    "from itertools import groupby\n",
    "\n",
    "\n",
    "def all_equal(l):\n",
    "    \"\"\"\n",
    "    If all elements in l are equal, g should only have 1 element,\n",
    "    thus, the first next(g, True) should return True, and\n",
    "    the second next(g, False) should return StopIteration, and\n",
    "    default to False; True && not False equates to True\n",
    "    If there are multiple elements in g (not all in l are equal)\n",
    "    the second next(g, False) will return an actual element,\n",
    "    evaluating to True; thus True && not True equates to False\n",
    "    \"\"\"\n",
    "    g = groupby(l)\n",
    "    return next(g, True) and not next(g, False)"
   ]
  },
  {
   "cell_type": "code",
   "execution_count": 70,
   "metadata": {},
   "outputs": [],
   "source": [
    "g = groupby(fields)"
   ]
  },
  {
   "cell_type": "code",
   "execution_count": 81,
   "metadata": {},
   "outputs": [
    {
     "data": {
      "text/plain": [
       "27"
      ]
     },
     "execution_count": 81,
     "metadata": {},
     "output_type": "execute_result"
    }
   ],
   "source": [
    "len(list(g))"
   ]
  },
  {
   "cell_type": "code",
   "execution_count": 82,
   "metadata": {},
   "outputs": [
    {
     "data": {
      "text/plain": [
       "dict_keys(['pagination', 'data'])"
      ]
     },
     "execution_count": 82,
     "metadata": {},
     "output_type": "execute_result"
    }
   ],
   "source": [
    "with open(\"../tests/data/sample_flights_api_response.json\") as j:\n",
    "    sample_resp = json.load(j)\n",
    "\n",
    "sample_resp.keys()"
   ]
  },
  {
   "cell_type": "code",
   "execution_count": 85,
   "metadata": {},
   "outputs": [
    {
     "data": {
      "text/plain": [
       "46"
      ]
     },
     "execution_count": 85,
     "metadata": {},
     "output_type": "execute_result"
    }
   ],
   "source": [
    "sample_flat = json_flatten(sample_resp[\"data\"][0], sep=\"__\")\n",
    "len(sample_flat)"
   ]
  },
  {
   "cell_type": "code",
   "execution_count": 87,
   "metadata": {},
   "outputs": [
    {
     "data": {
      "text/plain": [
       "{'bar', 'baz', 'boo', 'foo', 'fuu'}"
      ]
     },
     "execution_count": 87,
     "metadata": {},
     "output_type": "execute_result"
    }
   ],
   "source": [
    "a = [\"foo\", \"bar\", \"boo\"]\n",
    "b = [\"foo\", \"baz\"]\n",
    "c = [\"bar\", \"fuu\"]\n",
    "abc = set()\n",
    "for names in [a, b, c]:\n",
    "    abc |= set(names)\n",
    "\n",
    "abc"
   ]
  },
  {
   "cell_type": "code",
   "execution_count": 97,
   "metadata": {},
   "outputs": [],
   "source": [
    "a = list(sample_data[0].keys())\n",
    "b = list(sample_data[44].keys())"
   ]
  },
  {
   "cell_type": "code",
   "execution_count": 105,
   "metadata": {},
   "outputs": [],
   "source": [
    "set(a).update(sample_data[44].keys())"
   ]
  },
  {
   "cell_type": "code",
   "execution_count": 108,
   "metadata": {},
   "outputs": [],
   "source": [
    "sample_data = [json_flatten(entry, sep=\"__\") for entry in response[\"data\"]]"
   ]
  },
  {
   "cell_type": "code",
   "execution_count": 109,
   "metadata": {
    "collapsed": true,
    "jupyter": {
     "outputs_hidden": true
    }
   },
   "outputs": [
    {
     "data": {
      "text/plain": [
       "{'aircraft',\n",
       " 'aircraft__iata',\n",
       " 'aircraft__icao',\n",
       " 'aircraft__icao24',\n",
       " 'aircraft__registration',\n",
       " 'airline__iata',\n",
       " 'airline__icao',\n",
       " 'airline__name',\n",
       " 'arrival__actual',\n",
       " 'arrival__actual_runway',\n",
       " 'arrival__airport',\n",
       " 'arrival__baggage',\n",
       " 'arrival__delay',\n",
       " 'arrival__estimated',\n",
       " 'arrival__estimated_runway',\n",
       " 'arrival__gate',\n",
       " 'arrival__iata',\n",
       " 'arrival__icao',\n",
       " 'arrival__scheduled',\n",
       " 'arrival__terminal',\n",
       " 'arrival__timezone',\n",
       " 'departure__actual',\n",
       " 'departure__actual_runway',\n",
       " 'departure__airport',\n",
       " 'departure__delay',\n",
       " 'departure__estimated',\n",
       " 'departure__estimated_runway',\n",
       " 'departure__gate',\n",
       " 'departure__iata',\n",
       " 'departure__icao',\n",
       " 'departure__scheduled',\n",
       " 'departure__terminal',\n",
       " 'departure__timezone',\n",
       " 'flight__codeshared',\n",
       " 'flight__codeshared__airline_iata',\n",
       " 'flight__codeshared__airline_icao',\n",
       " 'flight__codeshared__airline_name',\n",
       " 'flight__codeshared__flight_iata',\n",
       " 'flight__codeshared__flight_icao',\n",
       " 'flight__codeshared__flight_number',\n",
       " 'flight__iata',\n",
       " 'flight__icao',\n",
       " 'flight__number',\n",
       " 'flight_date',\n",
       " 'flight_status',\n",
       " 'live',\n",
       " 'live__altitude',\n",
       " 'live__direction',\n",
       " 'live__is_ground',\n",
       " 'live__latitude',\n",
       " 'live__longitude',\n",
       " 'live__speed_horizontal',\n",
       " 'live__speed_vertical',\n",
       " 'live__updated'}"
      ]
     },
     "execution_count": 109,
     "metadata": {},
     "output_type": "execute_result"
    }
   ],
   "source": [
    "fields = set()\n",
    "for entry in sample_data:\n",
    "    fields.update(entry.keys())\n",
    "\n",
    "fields"
   ]
  },
  {
   "cell_type": "code",
   "execution_count": 110,
   "metadata": {},
   "outputs": [
    {
     "data": {
      "text/plain": [
       "54"
      ]
     },
     "execution_count": 110,
     "metadata": {},
     "output_type": "execute_result"
    }
   ],
   "source": [
    "len(fields)"
   ]
  },
  {
   "cell_type": "code",
   "execution_count": 112,
   "metadata": {},
   "outputs": [
    {
     "data": {
      "text/plain": [
       "{'aircraft',\n",
       " 'flight__codeshared__airline_iata',\n",
       " 'flight__codeshared__airline_icao',\n",
       " 'flight__codeshared__airline_name',\n",
       " 'flight__codeshared__flight_iata',\n",
       " 'flight__codeshared__flight_icao',\n",
       " 'flight__codeshared__flight_number',\n",
       " 'live'}"
      ]
     },
     "execution_count": 112,
     "metadata": {},
     "output_type": "execute_result"
    }
   ],
   "source": [
    "fields.difference(sample_flat.keys())"
   ]
  },
  {
   "cell_type": "code",
   "execution_count": 128,
   "metadata": {},
   "outputs": [],
   "source": [
    "def issubstring(text: str, checklist, sep=\"__\") -> bool:\n",
    "    \"\"\"\n",
    "    Returns True for overlapped keys\n",
    "    \"\"\"\n",
    "    for check in checklist:\n",
    "        if text + sep in check:\n",
    "            return True\n",
    "    return False\n",
    "\n",
    "\n",
    "fields_uniq = [field for field in fields if not issubstring(field, fields)]"
   ]
  },
  {
   "cell_type": "code",
   "execution_count": 129,
   "metadata": {
    "scrolled": true
   },
   "outputs": [
    {
     "data": {
      "text/plain": [
       "['aircraft__iata',\n",
       " 'aircraft__icao',\n",
       " 'aircraft__icao24',\n",
       " 'aircraft__registration',\n",
       " 'airline__iata',\n",
       " 'airline__icao',\n",
       " 'airline__name',\n",
       " 'arrival__actual',\n",
       " 'arrival__actual_runway',\n",
       " 'arrival__airport',\n",
       " 'arrival__baggage',\n",
       " 'arrival__delay',\n",
       " 'arrival__estimated',\n",
       " 'arrival__estimated_runway',\n",
       " 'arrival__gate',\n",
       " 'arrival__iata',\n",
       " 'arrival__icao',\n",
       " 'arrival__scheduled',\n",
       " 'arrival__terminal',\n",
       " 'arrival__timezone',\n",
       " 'departure__actual',\n",
       " 'departure__actual_runway',\n",
       " 'departure__airport',\n",
       " 'departure__delay',\n",
       " 'departure__estimated',\n",
       " 'departure__estimated_runway',\n",
       " 'departure__gate',\n",
       " 'departure__iata',\n",
       " 'departure__icao',\n",
       " 'departure__scheduled',\n",
       " 'departure__terminal',\n",
       " 'departure__timezone',\n",
       " 'flight__codeshared__airline_iata',\n",
       " 'flight__codeshared__airline_icao',\n",
       " 'flight__codeshared__airline_name',\n",
       " 'flight__codeshared__flight_iata',\n",
       " 'flight__codeshared__flight_icao',\n",
       " 'flight__codeshared__flight_number',\n",
       " 'flight__iata',\n",
       " 'flight__icao',\n",
       " 'flight__number',\n",
       " 'flight_date',\n",
       " 'flight_status',\n",
       " 'live__altitude',\n",
       " 'live__direction',\n",
       " 'live__is_ground',\n",
       " 'live__latitude',\n",
       " 'live__longitude',\n",
       " 'live__speed_horizontal',\n",
       " 'live__speed_vertical',\n",
       " 'live__updated']"
      ]
     },
     "execution_count": 129,
     "metadata": {},
     "output_type": "execute_result"
    }
   ],
   "source": [
    "sorted(fields_uniq)"
   ]
  },
  {
   "cell_type": "code",
   "execution_count": 127,
   "metadata": {
    "collapsed": true,
    "jupyter": {
     "outputs_hidden": true
    }
   },
   "outputs": [
    {
     "name": "stdout",
     "output_type": "stream",
     "text": [
      "{'aircraft__iata': None,\n",
      " 'aircraft__icao': None,\n",
      " 'aircraft__icao24': None,\n",
      " 'aircraft__registration': None,\n",
      " 'airline__iata': 'MH',\n",
      " 'airline__icao': 'MAS',\n",
      " 'airline__name': 'Malaysia Airlines',\n",
      " 'arrival__actual': None,\n",
      " 'arrival__actual_runway': None,\n",
      " 'arrival__airport': 'Cape Town International',\n",
      " 'arrival__baggage': '1.4',\n",
      " 'arrival__delay': 31,\n",
      " 'arrival__estimated': '2023-08-29T10:50:00+00:00',\n",
      " 'arrival__estimated_runway': None,\n",
      " 'arrival__gate': 'A5',\n",
      " 'arrival__iata': 'CPT',\n",
      " 'arrival__icao': 'FACT',\n",
      " 'arrival__scheduled': '2023-08-29T10:50:00+00:00',\n",
      " 'arrival__terminal': 'B',\n",
      " 'arrival__timezone': 'Africa/Johannesburg',\n",
      " 'departure__actual': '2023-08-29T03:10:00+00:00',\n",
      " 'departure__actual_runway': '2023-08-29T03:10:00+00:00',\n",
      " 'departure__airport': 'Doha International',\n",
      " 'departure__delay': 25,\n",
      " 'departure__estimated': '2023-08-29T02:05:00+00:00',\n",
      " 'departure__estimated_runway': '2023-08-29T03:10:00+00:00',\n",
      " 'departure__gate': 'C37',\n",
      " 'departure__iata': 'DOH',\n",
      " 'departure__icao': 'OTHH',\n",
      " 'departure__scheduled': '2023-08-29T02:05:00+00:00',\n",
      " 'departure__terminal': None,\n",
      " 'departure__timezone': 'Asia/Qatar',\n",
      " 'flight__codeshared__airline_iata': 'qr',\n",
      " 'flight__codeshared__airline_icao': 'qtr',\n",
      " 'flight__codeshared__airline_name': 'qatar airways',\n",
      " 'flight__codeshared__flight_iata': 'qr1369',\n",
      " 'flight__codeshared__flight_icao': 'qtr1369',\n",
      " 'flight__codeshared__flight_number': '1369',\n",
      " 'flight__iata': 'MH9305',\n",
      " 'flight__icao': 'MAS9305',\n",
      " 'flight__number': '9305',\n",
      " 'flight_date': '2023-08-29',\n",
      " 'flight_status': 'scheduled',\n",
      " 'live__altitude': None,\n",
      " 'live__direction': None,\n",
      " 'live__is_ground': None,\n",
      " 'live__latitude': None,\n",
      " 'live__longitude': None,\n",
      " 'live__speed_horizontal': None,\n",
      " 'live__speed_vertical': None,\n",
      " 'live__updated': None}\n"
     ]
    }
   ],
   "source": [
    "# using .get() avoids KeyError for missing keys; defaults None\n",
    "sample_entry = sample_data[0]\n",
    "expanded_entry = {field: sample_entry.get(field) for field in fields_uniq}\n",
    "pprint(expanded_entry)"
   ]
  },
  {
   "cell_type": "code",
   "execution_count": 130,
   "metadata": {},
   "outputs": [],
   "source": [
    "sample_data_exp = [\n",
    "    {field: entry.get(field) for field in fields_uniq} for entry in sample_data\n",
    "]"
   ]
  },
  {
   "cell_type": "code",
   "execution_count": 133,
   "metadata": {},
   "outputs": [
    {
     "data": {
      "text/plain": [
       "<sqlite3.Cursor at 0x7f4589f0ac40>"
      ]
     },
     "execution_count": 133,
     "metadata": {},
     "output_type": "execute_result"
    }
   ],
   "source": [
    "curs.execute(\"drop table if exists import_flights_response\")"
   ]
  },
  {
   "cell_type": "code",
   "execution_count": 134,
   "metadata": {},
   "outputs": [],
   "source": [
    "fields_sql = \", \".join([f\"{field} TEXT DEFAULT NULL\" for field in fields_uniq])\n",
    "create_sql = f\"CREATE TABLE import_flights_response ({fields_sql})\""
   ]
  },
  {
   "cell_type": "code",
   "execution_count": 135,
   "metadata": {},
   "outputs": [
    {
     "data": {
      "text/plain": [
       "<sqlite3.Cursor at 0x7f4589f0ac40>"
      ]
     },
     "execution_count": 135,
     "metadata": {},
     "output_type": "execute_result"
    }
   ],
   "source": [
    "curs.execute(create_sql)"
   ]
  },
  {
   "cell_type": "code",
   "execution_count": 136,
   "metadata": {
    "collapsed": true,
    "jupyter": {
     "outputs_hidden": true
    },
    "scrolled": true
   },
   "outputs": [
    {
     "name": "stdout",
     "output_type": "stream",
     "text": [
      " * sqlite:///../tests/data/tutorial.db\n",
      "Done.\n"
     ]
    },
    {
     "data": {
      "text/html": [
       "<table>\n",
       "    <thead>\n",
       "        <tr>\n",
       "            <th>type</th>\n",
       "            <th>name</th>\n",
       "            <th>tbl_name</th>\n",
       "            <th>rootpage</th>\n",
       "            <th>sql</th>\n",
       "        </tr>\n",
       "    </thead>\n",
       "    <tbody>\n",
       "        <tr>\n",
       "            <td>table</td>\n",
       "            <td>import_flights_response</td>\n",
       "            <td>import_flights_response</td>\n",
       "            <td>64</td>\n",
       "            <td>CREATE TABLE import_flights_response (flight_date TEXT, flight_status TEXT, departure__airport TEXT, departure__timezone TEXT, departure__iata TEXT, departure__icao TEXT, departure__terminal TEXT, departure__gate TEXT, departure__delay TEXT, departure__scheduled TEXT, departure__estimated TEXT, departure__actual TEXT, departure__estimated_runway TEXT, departure__actual_runway TEXT, arrival__airport TEXT, arrival__timezone TEXT, arrival__iata TEXT, arrival__icao TEXT, arrival__terminal TEXT, arrival__gate TEXT, arrival__baggage TEXT, arrival__delay TEXT, arrival__scheduled TEXT, arrival__estimated TEXT, arrival__actual TEXT, arrival__estimated_runway TEXT, arrival__actual_runway TEXT, airline__name TEXT, airline__iata TEXT, airline__icao TEXT, flight__number TEXT, flight__iata TEXT, flight__icao TEXT, flight__codeshared__airline_name TEXT, flight__codeshared__airline_iata TEXT, flight__codeshared__airline_icao TEXT, flight__codeshared__flight_number TEXT, flight__codeshared__flight_iata TEXT, flight__codeshared__flight_icao TEXT, aircraft TEXT, live TEXT)</td>\n",
       "        </tr>\n",
       "    </tbody>\n",
       "</table>"
      ],
      "text/plain": [
       "[('table', 'import_flights_response', 'import_flights_response', 64, 'CREATE TABLE import_flights_response (flight_date TEXT, flight_status TEXT, departure__airport TEXT, departure__timezone TEXT, departure__iata TEXT,  ... (772 characters truncated) ... o TEXT, flight__codeshared__flight_number TEXT, flight__codeshared__flight_iata TEXT, flight__codeshared__flight_icao TEXT, aircraft TEXT, live TEXT)')]"
      ]
     },
     "execution_count": 136,
     "metadata": {},
     "output_type": "execute_result"
    }
   ],
   "source": [
    "%%sql\n",
    "select * from sqlite_master\n",
    "where name = 'import_flights_response';"
   ]
  },
  {
   "cell_type": "code",
   "execution_count": 139,
   "metadata": {},
   "outputs": [],
   "source": [
    "vals = [list(map(str, entry.values())) for entry in sample_data_exp]\n",
    "vals_placeholder = \", \".join(len(vals[0]) * \"?\")\n",
    "try:\n",
    "    curs.executemany(\n",
    "        f\"INSERT INTO import_flights_response VALUES({vals_placeholder})\", vals\n",
    "    )\n",
    "except ProgrammingError as e:\n",
    "    print(e)"
   ]
  },
  {
   "cell_type": "code",
   "execution_count": 151,
   "metadata": {},
   "outputs": [],
   "source": [
    "con.commit()"
   ]
  },
  {
   "cell_type": "code",
   "execution_count": 155,
   "metadata": {
    "scrolled": true
   },
   "outputs": [
    {
     "name": "stdout",
     "output_type": "stream",
     "text": [
      " * sqlite:///../tests/data/tutorial.db\n",
      "Done.\n"
     ]
    },
    {
     "data": {
      "text/html": [
       "<table>\n",
       "    <thead>\n",
       "        <tr>\n",
       "            <th>arrival__iata</th>\n",
       "            <th>departure__iata</th>\n",
       "            <th>delay</th>\n",
       "        </tr>\n",
       "    </thead>\n",
       "    <tbody>\n",
       "        <tr>\n",
       "            <td>ICN</td>\n",
       "            <td>KUL</td>\n",
       "            <td>391</td>\n",
       "        </tr>\n",
       "        <tr>\n",
       "            <td>KUL</td>\n",
       "            <td>SYD</td>\n",
       "            <td>336</td>\n",
       "        </tr>\n",
       "        <tr>\n",
       "            <td>PEN</td>\n",
       "            <td>BKI</td>\n",
       "            <td>208</td>\n",
       "        </tr>\n",
       "        <tr>\n",
       "            <td>BKI</td>\n",
       "            <td>PEN</td>\n",
       "            <td>206</td>\n",
       "        </tr>\n",
       "        <tr>\n",
       "            <td>PHL</td>\n",
       "            <td>MIA</td>\n",
       "            <td>181</td>\n",
       "        </tr>\n",
       "        <tr>\n",
       "            <td>PHL</td>\n",
       "            <td>LHR</td>\n",
       "            <td>165</td>\n",
       "        </tr>\n",
       "        <tr>\n",
       "            <td>LAX</td>\n",
       "            <td>ORD</td>\n",
       "            <td>164</td>\n",
       "        </tr>\n",
       "        <tr>\n",
       "            <td>DOH</td>\n",
       "            <td>EDI</td>\n",
       "            <td>155</td>\n",
       "        </tr>\n",
       "        <tr>\n",
       "            <td>BCN</td>\n",
       "            <td>LHR</td>\n",
       "            <td>153</td>\n",
       "        </tr>\n",
       "        <tr>\n",
       "            <td>MIA</td>\n",
       "            <td>JFK</td>\n",
       "            <td>150</td>\n",
       "        </tr>\n",
       "        <tr>\n",
       "            <td>PEN</td>\n",
       "            <td>KCH</td>\n",
       "            <td>140</td>\n",
       "        </tr>\n",
       "        <tr>\n",
       "            <td>DFW</td>\n",
       "            <td>CLT</td>\n",
       "            <td>133</td>\n",
       "        </tr>\n",
       "        <tr>\n",
       "            <td>ORD</td>\n",
       "            <td>ATL</td>\n",
       "            <td>133</td>\n",
       "        </tr>\n",
       "        <tr>\n",
       "            <td>BCN</td>\n",
       "            <td>LHR</td>\n",
       "            <td>130</td>\n",
       "        </tr>\n",
       "        <tr>\n",
       "            <td>CDG</td>\n",
       "            <td>LHR</td>\n",
       "            <td>127</td>\n",
       "        </tr>\n",
       "        <tr>\n",
       "            <td>BOS</td>\n",
       "            <td>CLT</td>\n",
       "            <td>126</td>\n",
       "        </tr>\n",
       "        <tr>\n",
       "            <td>DOH</td>\n",
       "            <td>CDG</td>\n",
       "            <td>123</td>\n",
       "        </tr>\n",
       "        <tr>\n",
       "            <td>GLA</td>\n",
       "            <td>LHR</td>\n",
       "            <td>123</td>\n",
       "        </tr>\n",
       "        <tr>\n",
       "            <td>KUL</td>\n",
       "            <td>AKL</td>\n",
       "            <td>123</td>\n",
       "        </tr>\n",
       "        <tr>\n",
       "            <td>ZRH</td>\n",
       "            <td>LHR</td>\n",
       "            <td>116</td>\n",
       "        </tr>\n",
       "        <tr>\n",
       "            <td>LAX</td>\n",
       "            <td>MIA</td>\n",
       "            <td>115</td>\n",
       "        </tr>\n",
       "        <tr>\n",
       "            <td>PPS</td>\n",
       "            <td>MNL</td>\n",
       "            <td>110</td>\n",
       "        </tr>\n",
       "        <tr>\n",
       "            <td>DOH</td>\n",
       "            <td>MAN</td>\n",
       "            <td>108</td>\n",
       "        </tr>\n",
       "        <tr>\n",
       "            <td>GVA</td>\n",
       "            <td>LHR</td>\n",
       "            <td>108</td>\n",
       "        </tr>\n",
       "        <tr>\n",
       "            <td>MNL</td>\n",
       "            <td>PPS</td>\n",
       "            <td>108</td>\n",
       "        </tr>\n",
       "        <tr>\n",
       "            <td>DOH</td>\n",
       "            <td>KUL</td>\n",
       "            <td>105</td>\n",
       "        </tr>\n",
       "        <tr>\n",
       "            <td>SIN</td>\n",
       "            <td>MXP</td>\n",
       "            <td>104</td>\n",
       "        </tr>\n",
       "        <tr>\n",
       "            <td>AMS</td>\n",
       "            <td>FCO</td>\n",
       "            <td>98</td>\n",
       "        </tr>\n",
       "        <tr>\n",
       "            <td>HKG</td>\n",
       "            <td>KUL</td>\n",
       "            <td>98</td>\n",
       "        </tr>\n",
       "        <tr>\n",
       "            <td>LGA</td>\n",
       "            <td>CLT</td>\n",
       "            <td>96</td>\n",
       "        </tr>\n",
       "        <tr>\n",
       "            <td>LYS</td>\n",
       "            <td>IST</td>\n",
       "            <td>96</td>\n",
       "        </tr>\n",
       "        <tr>\n",
       "            <td>BKK</td>\n",
       "            <td>KUL</td>\n",
       "            <td>95</td>\n",
       "        </tr>\n",
       "        <tr>\n",
       "            <td>LIS</td>\n",
       "            <td>IST</td>\n",
       "            <td>95</td>\n",
       "        </tr>\n",
       "        <tr>\n",
       "            <td>NCL</td>\n",
       "            <td>LHR</td>\n",
       "            <td>95</td>\n",
       "        </tr>\n",
       "        <tr>\n",
       "            <td>GLA</td>\n",
       "            <td>LHR</td>\n",
       "            <td>94</td>\n",
       "        </tr>\n",
       "        <tr>\n",
       "            <td>JED</td>\n",
       "            <td>KUL</td>\n",
       "            <td>93</td>\n",
       "        </tr>\n",
       "        <tr>\n",
       "            <td>DFW</td>\n",
       "            <td>CLT</td>\n",
       "            <td>92</td>\n",
       "        </tr>\n",
       "        <tr>\n",
       "            <td>LAX</td>\n",
       "            <td>DFW</td>\n",
       "            <td>91</td>\n",
       "        </tr>\n",
       "        <tr>\n",
       "            <td>GVA</td>\n",
       "            <td>LHR</td>\n",
       "            <td>89</td>\n",
       "        </tr>\n",
       "        <tr>\n",
       "            <td>VIE</td>\n",
       "            <td>LHR</td>\n",
       "            <td>89</td>\n",
       "        </tr>\n",
       "        <tr>\n",
       "            <td>BNA</td>\n",
       "            <td>LAX</td>\n",
       "            <td>87</td>\n",
       "        </tr>\n",
       "        <tr>\n",
       "            <td>DAC</td>\n",
       "            <td>KUL</td>\n",
       "            <td>87</td>\n",
       "        </tr>\n",
       "        <tr>\n",
       "            <td>CGK</td>\n",
       "            <td>YIA</td>\n",
       "            <td>85</td>\n",
       "        </tr>\n",
       "        <tr>\n",
       "            <td>LYS</td>\n",
       "            <td>LHR</td>\n",
       "            <td>85</td>\n",
       "        </tr>\n",
       "        <tr>\n",
       "            <td>SIN</td>\n",
       "            <td>KUL</td>\n",
       "            <td>85</td>\n",
       "        </tr>\n",
       "        <tr>\n",
       "            <td>TPE</td>\n",
       "            <td>KUL</td>\n",
       "            <td>84</td>\n",
       "        </tr>\n",
       "        <tr>\n",
       "            <td>KUL</td>\n",
       "            <td>KCH</td>\n",
       "            <td>83</td>\n",
       "        </tr>\n",
       "        <tr>\n",
       "            <td>BKK</td>\n",
       "            <td>KUL</td>\n",
       "            <td>82</td>\n",
       "        </tr>\n",
       "        <tr>\n",
       "            <td>ABZ</td>\n",
       "            <td>LHR</td>\n",
       "            <td>81</td>\n",
       "        </tr>\n",
       "        <tr>\n",
       "            <td>JFK</td>\n",
       "            <td>BOS</td>\n",
       "            <td>81</td>\n",
       "        </tr>\n",
       "        <tr>\n",
       "            <td>IST</td>\n",
       "            <td>LYS</td>\n",
       "            <td>78</td>\n",
       "        </tr>\n",
       "        <tr>\n",
       "            <td>MXP</td>\n",
       "            <td>BCN</td>\n",
       "            <td>78</td>\n",
       "        </tr>\n",
       "        <tr>\n",
       "            <td>DFW</td>\n",
       "            <td>LAX</td>\n",
       "            <td>77</td>\n",
       "        </tr>\n",
       "        <tr>\n",
       "            <td>MAA</td>\n",
       "            <td>KUL</td>\n",
       "            <td>77</td>\n",
       "        </tr>\n",
       "        <tr>\n",
       "            <td>BKI</td>\n",
       "            <td>KUL</td>\n",
       "            <td>76</td>\n",
       "        </tr>\n",
       "        <tr>\n",
       "            <td>KCH</td>\n",
       "            <td>KUL</td>\n",
       "            <td>76</td>\n",
       "        </tr>\n",
       "        <tr>\n",
       "            <td>KUL</td>\n",
       "            <td>BKK</td>\n",
       "            <td>74</td>\n",
       "        </tr>\n",
       "        <tr>\n",
       "            <td>KUL</td>\n",
       "            <td>PEN</td>\n",
       "            <td>74</td>\n",
       "        </tr>\n",
       "        <tr>\n",
       "            <td>BKI</td>\n",
       "            <td>KCH</td>\n",
       "            <td>71</td>\n",
       "        </tr>\n",
       "        <tr>\n",
       "            <td>BOS</td>\n",
       "            <td>CLT</td>\n",
       "            <td>70</td>\n",
       "        </tr>\n",
       "        <tr>\n",
       "            <td>CGK</td>\n",
       "            <td>YIA</td>\n",
       "            <td>70</td>\n",
       "        </tr>\n",
       "        <tr>\n",
       "            <td>BWI</td>\n",
       "            <td>CLT</td>\n",
       "            <td>69</td>\n",
       "        </tr>\n",
       "        <tr>\n",
       "            <td>GVA</td>\n",
       "            <td>AMS</td>\n",
       "            <td>68</td>\n",
       "        </tr>\n",
       "        <tr>\n",
       "            <td>CAN</td>\n",
       "            <td>KUL</td>\n",
       "            <td>67</td>\n",
       "        </tr>\n",
       "        <tr>\n",
       "            <td>MYY</td>\n",
       "            <td>KUL</td>\n",
       "            <td>66</td>\n",
       "        </tr>\n",
       "        <tr>\n",
       "            <td>BRU</td>\n",
       "            <td>LHR</td>\n",
       "            <td>65</td>\n",
       "        </tr>\n",
       "        <tr>\n",
       "            <td>KNO</td>\n",
       "            <td>KUL</td>\n",
       "            <td>65</td>\n",
       "        </tr>\n",
       "        <tr>\n",
       "            <td>CLT</td>\n",
       "            <td>BWI</td>\n",
       "            <td>63</td>\n",
       "        </tr>\n",
       "        <tr>\n",
       "            <td>CPH</td>\n",
       "            <td>LHR</td>\n",
       "            <td>63</td>\n",
       "        </tr>\n",
       "        <tr>\n",
       "            <td>OSL</td>\n",
       "            <td>AMS</td>\n",
       "            <td>62</td>\n",
       "        </tr>\n",
       "        <tr>\n",
       "            <td>BKI</td>\n",
       "            <td>KUL</td>\n",
       "            <td>61</td>\n",
       "        </tr>\n",
       "        <tr>\n",
       "            <td>JFK</td>\n",
       "            <td>LHR</td>\n",
       "            <td>61</td>\n",
       "        </tr>\n",
       "        <tr>\n",
       "            <td>DOH</td>\n",
       "            <td>DUS</td>\n",
       "            <td>60</td>\n",
       "        </tr>\n",
       "        <tr>\n",
       "            <td>KCH</td>\n",
       "            <td>MYY</td>\n",
       "            <td>59</td>\n",
       "        </tr>\n",
       "        <tr>\n",
       "            <td>KUL</td>\n",
       "            <td>KNO</td>\n",
       "            <td>59</td>\n",
       "        </tr>\n",
       "        <tr>\n",
       "            <td>LBU</td>\n",
       "            <td>KUL</td>\n",
       "            <td>58</td>\n",
       "        </tr>\n",
       "        <tr>\n",
       "            <td>LGK</td>\n",
       "            <td>KUL</td>\n",
       "            <td>58</td>\n",
       "        </tr>\n",
       "        <tr>\n",
       "            <td>KUL</td>\n",
       "            <td>BKK</td>\n",
       "            <td>56</td>\n",
       "        </tr>\n",
       "        <tr>\n",
       "            <td>IST</td>\n",
       "            <td>HAM</td>\n",
       "            <td>55</td>\n",
       "        </tr>\n",
       "        <tr>\n",
       "            <td>IST</td>\n",
       "            <td>VCE</td>\n",
       "            <td>55</td>\n",
       "        </tr>\n",
       "        <tr>\n",
       "            <td>KUL</td>\n",
       "            <td>MYY</td>\n",
       "            <td>55</td>\n",
       "        </tr>\n",
       "        <tr>\n",
       "            <td>AMS</td>\n",
       "            <td>OSL</td>\n",
       "            <td>53</td>\n",
       "        </tr>\n",
       "        <tr>\n",
       "            <td>AMS</td>\n",
       "            <td>CPH</td>\n",
       "            <td>52</td>\n",
       "        </tr>\n",
       "        <tr>\n",
       "            <td>MYY</td>\n",
       "            <td>KCH</td>\n",
       "            <td>51</td>\n",
       "        </tr>\n",
       "        <tr>\n",
       "            <td>SIN</td>\n",
       "            <td>LHR</td>\n",
       "            <td>51</td>\n",
       "        </tr>\n",
       "    </tbody>\n",
       "</table>"
      ],
      "text/plain": [
       "[('ICN', 'KUL', 391),\n",
       " ('KUL', 'SYD', 336),\n",
       " ('PEN', 'BKI', 208),\n",
       " ('BKI', 'PEN', 206),\n",
       " ('PHL', 'MIA', 181),\n",
       " ('PHL', 'LHR', 165),\n",
       " ('LAX', 'ORD', 164),\n",
       " ('DOH', 'EDI', 155),\n",
       " ('BCN', 'LHR', 153),\n",
       " ('MIA', 'JFK', 150),\n",
       " ('PEN', 'KCH', 140),\n",
       " ('DFW', 'CLT', 133),\n",
       " ('ORD', 'ATL', 133),\n",
       " ('BCN', 'LHR', 130),\n",
       " ('CDG', 'LHR', 127),\n",
       " ('BOS', 'CLT', 126),\n",
       " ('DOH', 'CDG', 123),\n",
       " ('GLA', 'LHR', 123),\n",
       " ('KUL', 'AKL', 123),\n",
       " ('ZRH', 'LHR', 116),\n",
       " ('LAX', 'MIA', 115),\n",
       " ('PPS', 'MNL', 110),\n",
       " ('DOH', 'MAN', 108),\n",
       " ('GVA', 'LHR', 108),\n",
       " ('MNL', 'PPS', 108),\n",
       " ('DOH', 'KUL', 105),\n",
       " ('SIN', 'MXP', 104),\n",
       " ('AMS', 'FCO', 98),\n",
       " ('HKG', 'KUL', 98),\n",
       " ('LGA', 'CLT', 96),\n",
       " ('LYS', 'IST', 96),\n",
       " ('BKK', 'KUL', 95),\n",
       " ('LIS', 'IST', 95),\n",
       " ('NCL', 'LHR', 95),\n",
       " ('GLA', 'LHR', 94),\n",
       " ('JED', 'KUL', 93),\n",
       " ('DFW', 'CLT', 92),\n",
       " ('LAX', 'DFW', 91),\n",
       " ('GVA', 'LHR', 89),\n",
       " ('VIE', 'LHR', 89),\n",
       " ('BNA', 'LAX', 87),\n",
       " ('DAC', 'KUL', 87),\n",
       " ('CGK', 'YIA', 85),\n",
       " ('LYS', 'LHR', 85),\n",
       " ('SIN', 'KUL', 85),\n",
       " ('TPE', 'KUL', 84),\n",
       " ('KUL', 'KCH', 83),\n",
       " ('BKK', 'KUL', 82),\n",
       " ('ABZ', 'LHR', 81),\n",
       " ('JFK', 'BOS', 81),\n",
       " ('IST', 'LYS', 78),\n",
       " ('MXP', 'BCN', 78),\n",
       " ('DFW', 'LAX', 77),\n",
       " ('MAA', 'KUL', 77),\n",
       " ('BKI', 'KUL', 76),\n",
       " ('KCH', 'KUL', 76),\n",
       " ('KUL', 'BKK', 74),\n",
       " ('KUL', 'PEN', 74),\n",
       " ('BKI', 'KCH', 71),\n",
       " ('BOS', 'CLT', 70),\n",
       " ('CGK', 'YIA', 70),\n",
       " ('BWI', 'CLT', 69),\n",
       " ('GVA', 'AMS', 68),\n",
       " ('CAN', 'KUL', 67),\n",
       " ('MYY', 'KUL', 66),\n",
       " ('BRU', 'LHR', 65),\n",
       " ('KNO', 'KUL', 65),\n",
       " ('CLT', 'BWI', 63),\n",
       " ('CPH', 'LHR', 63),\n",
       " ('OSL', 'AMS', 62),\n",
       " ('BKI', 'KUL', 61),\n",
       " ('JFK', 'LHR', 61),\n",
       " ('DOH', 'DUS', 60),\n",
       " ('KCH', 'MYY', 59),\n",
       " ('KUL', 'KNO', 59),\n",
       " ('LBU', 'KUL', 58),\n",
       " ('LGK', 'KUL', 58),\n",
       " ('KUL', 'BKK', 56),\n",
       " ('IST', 'HAM', 55),\n",
       " ('IST', 'VCE', 55),\n",
       " ('KUL', 'MYY', 55),\n",
       " ('AMS', 'OSL', 53),\n",
       " ('AMS', 'CPH', 52),\n",
       " ('MYY', 'KCH', 51),\n",
       " ('SIN', 'LHR', 51)]"
      ]
     },
     "execution_count": 155,
     "metadata": {},
     "output_type": "execute_result"
    }
   ],
   "source": [
    "%%sql\n",
    "select\n",
    "    arrival__iata,\n",
    "    departure__iata,\n",
    "    CAST(departure__delay AS INTEGER) AS delay\n",
    "from import_flights_response\n",
    "where delay > 50\n",
    "ORDER BY delay DESC, arrival__iata, departure__iata;"
   ]
  },
  {
   "cell_type": "code",
   "execution_count": 146,
   "metadata": {},
   "outputs": [
    {
     "data": {
      "text/plain": [
       "51"
      ]
     },
     "execution_count": 146,
     "metadata": {},
     "output_type": "execute_result"
    }
   ],
   "source": [
    "len(vals[0])"
   ]
  },
  {
   "cell_type": "code",
   "execution_count": null,
   "metadata": {},
   "outputs": [],
   "source": [
    "len(vals_placeholder.split(\"?\"))"
   ]
  },
  {
   "cell_type": "markdown",
   "metadata": {},
   "source": [
    "### Inserting data using named placeholder\n",
    "\n",
    "sqlite uses this format for named placeholders\n",
    "\n",
    "```py\n",
    "# This is the named style used with executemany():\r\n",
    "data = (\r\n",
    "    {\"name\": \"C\", \"year\": 1972},\r\n",
    "    {\"name\": \"Fortran\", \"year\": 1957},\r\n",
    "    {\"name\": \"Python\", \"year\": 1991},\r\n",
    "    {\"name\": \"Go\", \"year\": 2009},\r\n",
    ")\r\n",
    "cur.executemany(\"INSERT INTO lang VALUES(:name, :year)\"\n",
    "```\n",
    "\n",
    "However the order in which we reference the columns in `VALUES(...)` is still important because SQL does not inherently recognize column tables. If for example the `lang` table was created thus:\n",
    "\n",
    "```sql\n",
    "CREATE TABLE lang (\n",
    "    year integer,\n",
    "    name text\n",
    ")\n",
    "```\n",
    "\n",
    "the `.executemany()` statement would actually insert `name` into `year` and vice versa, because the order of `INSERT` does not match order of `CREATE TABLE`. The naming in `.executemany()` allows the statement to retreive the correct value from `data` only, and does not bind to the correct column name.\n",
    "\n",
    "Use `PRAGMA table_info('tbl_name');` to retrieve the order of the columns, data)"
   ]
  },
  {
   "cell_type": "code",
   "execution_count": 2,
   "metadata": {},
   "outputs": [],
   "source": [
    "%sql sqlite:///../data/flights.db"
   ]
  },
  {
   "cell_type": "code",
   "execution_count": 5,
   "metadata": {
    "scrolled": true
   },
   "outputs": [
    {
     "name": "stdout",
     "output_type": "stream",
     "text": [
      " * sqlite:///../data/flights.db\n",
      "Done.\n"
     ]
    },
    {
     "data": {
      "text/html": [
       "<table>\n",
       "    <thead>\n",
       "        <tr>\n",
       "            <th>type</th>\n",
       "            <th>name</th>\n",
       "            <th>tbl_name</th>\n",
       "            <th>rootpage</th>\n",
       "            <th>sql</th>\n",
       "        </tr>\n",
       "    </thead>\n",
       "    <tbody>\n",
       "        <tr>\n",
       "            <td>table</td>\n",
       "            <td>import_flight_records</td>\n",
       "            <td>import_flight_records</td>\n",
       "            <td>2</td>\n",
       "            <td>CREATE TABLE import_flight_records (<br>        arrival__terminal TEXT DEFAULT NULL, departure__actual TEXT DEFAULT NULL, arrival__baggage TEXT DEFAULT NULL, departure__actual_runway TEXT DEFAULT NULL, arrival__actual TEXT DEFAULT NULL, flight__codeshared__flight_icao TEXT DEFAULT NULL, flight__number TEXT DEFAULT NULL, live TEXT DEFAULT NULL, arrival__estimated TEXT DEFAULT NULL, arrival__scheduled TEXT DEFAULT NULL, airline__iata TEXT DEFAULT NULL, airline__name TEXT DEFAULT NULL, flight__iata TEXT DEFAULT NULL, departure__terminal TEXT DEFAULT NULL, flight__codeshared__airline_iata TEXT DEFAULT NULL, flight_date TEXT DEFAULT NULL, departure__scheduled TEXT DEFAULT NULL, arrival__delay TEXT DEFAULT NULL, arrival__gate TEXT DEFAULT NULL, flight_status TEXT DEFAULT NULL, arrival__airport TEXT DEFAULT NULL, departure__timezone TEXT DEFAULT NULL, departure__airport TEXT DEFAULT NULL, flight__codeshared__flight_iata TEXT DEFAULT NULL, arrival__iata TEXT DEFAULT NULL, departure__delay TEXT DEFAULT NULL, arrival__estimated_runway TEXT DEFAULT NULL, departure__icao TEXT DEFAULT NULL, flight__codeshared__airline_icao TEXT DEFAULT NULL, arrival__icao TEXT DEFAULT NULL, flight__codeshared__airline_name TEXT DEFAULT NULL, arrival__actual_runway TEXT DEFAULT NULL, arrival__timezone TEXT DEFAULT NULL, departure__estimated TEXT DEFAULT NULL, airline__icao TEXT DEFAULT NULL, departure__iata TEXT DEFAULT NULL, flight__codeshared__flight_number TEXT DEFAULT NULL, flight__icao TEXT DEFAULT NULL, aircraft TEXT DEFAULT NULL, departure__gate TEXT DEFAULT NULL, departure__estimated_runway TEXT DEFAULT NULL,<br>        PRIMARY KEY (flight__iata, departure__iata, departure__scheduled, arrival__iata)<br>    )</td>\n",
       "        </tr>\n",
       "        <tr>\n",
       "            <td>index</td>\n",
       "            <td>sqlite_autoindex_import_flight_records_1</td>\n",
       "            <td>import_flight_records</td>\n",
       "            <td>3</td>\n",
       "            <td>None</td>\n",
       "        </tr>\n",
       "    </tbody>\n",
       "</table>"
      ],
      "text/plain": [
       "[('table', 'import_flight_records', 'import_flight_records', 2, 'CREATE TABLE import_flight_records (\\n        arrival__terminal TEXT DEFAULT NULL, departure__actual TEXT DEFAULT NULL, arrival__baggage TEXT DEFAULT ... (1410 characters truncated) ... NULL, departure__estimated_runway TEXT DEFAULT NULL,\\n        PRIMARY KEY (flight__iata, departure__iata, departure__scheduled, arrival__iata)\\n    )'),\n",
       " ('index', 'sqlite_autoindex_import_flight_records_1', 'import_flight_records', 3, None)]"
      ]
     },
     "execution_count": 5,
     "metadata": {},
     "output_type": "execute_result"
    }
   ],
   "source": [
    "%%sql\n",
    "select * from sqlite_master"
   ]
  },
  {
   "cell_type": "code",
   "execution_count": 3,
   "metadata": {},
   "outputs": [
    {
     "name": "stdout",
     "output_type": "stream",
     "text": [
      " * sqlite:///../data/flights.db\n",
      "Done.\n"
     ]
    },
    {
     "data": {
      "text/html": [
       "<table>\n",
       "    <thead>\n",
       "        <tr>\n",
       "            <th>avg(arrival__delay)</th>\n",
       "        </tr>\n",
       "    </thead>\n",
       "    <tbody>\n",
       "        <tr>\n",
       "            <td>17.91304347826087</td>\n",
       "        </tr>\n",
       "    </tbody>\n",
       "</table>"
      ],
      "text/plain": [
       "[(17.91304347826087,)]"
      ]
     },
     "execution_count": 3,
     "metadata": {},
     "output_type": "execute_result"
    }
   ],
   "source": [
    "%%sql\n",
    "select avg(arrival__delay)\n",
    "from import_flight_records\n",
    "where flight_date = '2023-10-12';"
   ]
  },
  {
   "cell_type": "code",
   "execution_count": 16,
   "metadata": {},
   "outputs": [
    {
     "name": "stdout",
     "output_type": "stream",
     "text": [
      " * sqlite:///../data/flights.db\n",
      "Done.\n"
     ]
    },
    {
     "data": {
      "text/html": [
       "<table>\n",
       "    <thead>\n",
       "        <tr>\n",
       "            <th>arrival__iata</th>\n",
       "            <th>departure__iata</th>\n",
       "            <th>arrival__delay</th>\n",
       "            <th>delay_rank</th>\n",
       "        </tr>\n",
       "    </thead>\n",
       "    <tbody>\n",
       "        <tr>\n",
       "            <td>KUL</td>\n",
       "            <td>COK</td>\n",
       "            <td>None</td>\n",
       "            <td>1</td>\n",
       "        </tr>\n",
       "        <tr>\n",
       "            <td>KUL</td>\n",
       "            <td>MEL</td>\n",
       "            <td>None</td>\n",
       "            <td>2</td>\n",
       "        </tr>\n",
       "        <tr>\n",
       "            <td>MNL</td>\n",
       "            <td>CEB</td>\n",
       "            <td>None</td>\n",
       "            <td>3</td>\n",
       "        </tr>\n",
       "        <tr>\n",
       "            <td>KUL</td>\n",
       "            <td>AKL</td>\n",
       "            <td>None</td>\n",
       "            <td>4</td>\n",
       "        </tr>\n",
       "        <tr>\n",
       "            <td>KUL</td>\n",
       "            <td>PER</td>\n",
       "            <td>None</td>\n",
       "            <td>5</td>\n",
       "        </tr>\n",
       "        <tr>\n",
       "            <td>MNL</td>\n",
       "            <td>DVO</td>\n",
       "            <td>None</td>\n",
       "            <td>6</td>\n",
       "        </tr>\n",
       "        <tr>\n",
       "            <td>KUL</td>\n",
       "            <td>BLR</td>\n",
       "            <td>None</td>\n",
       "            <td>7</td>\n",
       "        </tr>\n",
       "        <tr>\n",
       "            <td>DOH</td>\n",
       "            <td>KUL</td>\n",
       "            <td>None</td>\n",
       "            <td>8</td>\n",
       "        </tr>\n",
       "        <tr>\n",
       "            <td>KUL</td>\n",
       "            <td>HYD</td>\n",
       "            <td>None</td>\n",
       "            <td>9</td>\n",
       "        </tr>\n",
       "        <tr>\n",
       "            <td>JFK</td>\n",
       "            <td>HKG</td>\n",
       "            <td>None</td>\n",
       "            <td>10</td>\n",
       "        </tr>\n",
       "    </tbody>\n",
       "</table>"
      ],
      "text/plain": [
       "[('KUL', 'COK', None, 1),\n",
       " ('KUL', 'MEL', None, 2),\n",
       " ('MNL', 'CEB', None, 3),\n",
       " ('KUL', 'AKL', None, 4),\n",
       " ('KUL', 'PER', None, 5),\n",
       " ('MNL', 'DVO', None, 6),\n",
       " ('KUL', 'BLR', None, 7),\n",
       " ('DOH', 'KUL', None, 8),\n",
       " ('KUL', 'HYD', None, 9),\n",
       " ('JFK', 'HKG', None, 10)]"
      ]
     },
     "execution_count": 16,
     "metadata": {},
     "output_type": "execute_result"
    }
   ],
   "source": [
    "%%sql\n",
    "select\n",
    "    arrival__iata,\n",
    "    departure__iata,\n",
    "    arrival__delay,\n",
    "    row_number() over (partition by flight_date order by CAST(arrival__delay AS INTEGER) desc) delay_rank\n",
    "from import_flight_records\n",
    "where flight_date = '2023-10-13'\n",
    "order by CAST(arrival__delay AS INTEGER) desc\n",
    "limit 10"
   ]
  },
  {
   "cell_type": "code",
   "execution_count": 15,
   "metadata": {},
   "outputs": [
    {
     "name": "stdout",
     "output_type": "stream",
     "text": [
      " * sqlite:///../data/flights.db\n",
      "Done.\n"
     ]
    },
    {
     "data": {
      "text/html": [
       "<table>\n",
       "    <thead>\n",
       "        <tr>\n",
       "            <th>delay_rank</th>\n",
       "            <th>flight__iata</th>\n",
       "            <th>arrival__airport</th>\n",
       "            <th>departure__airport</th>\n",
       "            <th>arrival__delay</th>\n",
       "        </tr>\n",
       "    </thead>\n",
       "    <tbody>\n",
       "        <tr>\n",
       "            <td>1</td>\n",
       "            <td>MH9789</td>\n",
       "            <td>Washington Dulles</td>\n",
       "            <td>Doha</td>\n",
       "            <td>258</td>\n",
       "        </tr>\n",
       "        <tr>\n",
       "            <td>2</td>\n",
       "            <td>MH9014</td>\n",
       "            <td>Kuala Lumpur (klia)</td>\n",
       "            <td>Bandaranaike</td>\n",
       "            <td>232</td>\n",
       "        </tr>\n",
       "        <tr>\n",
       "            <td>3</td>\n",
       "            <td>MH5735</td>\n",
       "            <td>Singapore Changi</td>\n",
       "            <td>Kuala Lumpur (klia)</td>\n",
       "            <td>66</td>\n",
       "        </tr>\n",
       "    </tbody>\n",
       "</table>"
      ],
      "text/plain": [
       "[(1, 'MH9789', 'Washington Dulles', 'Doha', '258'),\n",
       " (2, 'MH9014', 'Kuala Lumpur (klia)', 'Bandaranaike', '232'),\n",
       " (3, 'MH5735', 'Singapore Changi', 'Kuala Lumpur (klia)', '66')]"
      ]
     },
     "execution_count": 15,
     "metadata": {},
     "output_type": "execute_result"
    }
   ],
   "source": [
    "%%sql\n",
    "SELECT\n",
    "     ROW_NUMBER() OVER (ORDER BY CAST(arrival__delay AS INTEGER) DESC) delay_rank,\n",
    "     flight__iata,\n",
    "     REPLACE(\n",
    "     REPLACE(\n",
    "     REPLACE(arrival__airport, ' International Airport', ''),\n",
    "     ' International', ''),\n",
    "     ' Airport', '') AS arrival__airport,\n",
    "     REPLACE(\n",
    "     REPLACE(\n",
    "     REPLACE(departure__airport, ' International Airport', ''),\n",
    "     ' International', ''),\n",
    "     ' Airport', '') AS departure__airport,\n",
    "     arrival__delay\n",
    " FROM import_flight_records\n",
    " WHERE DATE(arrival__scheduled) = '2023-10-12'\n",
    " AND arrival__delay IS NOT NULL\n",
    " ORDER BY delay_rank\n",
    " LIMIT 3;"
   ]
  },
  {
   "cell_type": "markdown",
   "metadata": {},
   "source": [
    "## JSON in sqlite\n",
    "\n",
    "Insert\n",
    "\n",
    "```sql\n",
    "INSERT INTO users (id, data) VALUES (1, json_encode({\r\n",
    "  \"name\": \"Alice\",\r\n",
    "  \"age\": 25,\r\n",
    "  \"email\": \"alice@example.com\"\r\n",
    "\n",
    "```\n",
    "\n",
    "Query:\n",
    "\n",
    "```sql\n",
    "SELECT json_extract(data, '$.email') AS email\r\n",
    "FROM users\r\n",
    "WHERE id = 1```;\r\n",
    "}));"
   ]
  },
  {
   "cell_type": "code",
   "execution_count": 52,
   "metadata": {},
   "outputs": [],
   "source": [
    "sample_entry = json.dumps(response['data'][2])\n",
    "sample_entry = f\"'{sample_entry}'\"\n",
    "# print(sample_entry)"
   ]
  },
  {
   "cell_type": "code",
   "execution_count": 56,
   "metadata": {},
   "outputs": [],
   "source": [
    "conn = sqlite3.connect(\"../tests/sample.db\")\n",
    "drop_sql = \"DROP TABLE IF EXISTS json_flights;\"\n",
    "create_sql = \"\"\"\n",
    "CREATE TABLE json_flights (\n",
    "    id INTEGER PRIMARY KEY,\n",
    "    flights JSON\n",
    ");\n",
    "\"\"\"\n",
    "with conn:\n",
    "    conn.execute(drop_sql)\n",
    "    conn.execute(create_sql)"
   ]
  },
  {
   "cell_type": "code",
   "execution_count": null,
   "metadata": {},
   "outputs": [],
   "source": [
    "insert_sql = f\"\"\"\n",
    "INSERT INTO json_flights(flights)\n",
    "VALUES("
   ]
  },
  {
   "cell_type": "code",
   "execution_count": 17,
   "metadata": {},
   "outputs": [],
   "source": [
    "%sql sqlite:///../tests/sample.db"
   ]
  },
  {
   "cell_type": "code",
   "execution_count": 43,
   "metadata": {},
   "outputs": [
    {
     "name": "stdout",
     "output_type": "stream",
     "text": [
      "   sqlite:///../data/flights.db\n",
      " * sqlite:///../tests/sample.db\n",
      "Done.\n",
      "Done.\n"
     ]
    },
    {
     "data": {
      "text/plain": [
       "[]"
      ]
     },
     "execution_count": 43,
     "metadata": {},
     "output_type": "execute_result"
    }
   ],
   "source": [
    "%%sql\n",
    "DROP TABLE IF EXISTS json_flights;\n",
    "CREATE TABLE json_flights (\n",
    "    id INTEGER PRIMARY KEY,\n",
    "    flights JSON\n",
    ");"
   ]
  },
  {
   "cell_type": "markdown",
   "metadata": {},
   "source": [
    "Need the `''` around the python variable"
   ]
  },
  {
   "cell_type": "code",
   "execution_count": 53,
   "metadata": {
    "scrolled": true
   },
   "outputs": [
    {
     "name": "stdout",
     "output_type": "stream",
     "text": [
      "   sqlite:///../data/flights.db\n",
      " * sqlite:///../tests/sample.db\n",
      "(sqlite3.OperationalError) incomplete input\n",
      "[SQL: VALUES(json_encode('{\"flight_date\": \"2023-08-29\", \"flight_status\": \"scheduled\", \"departure\": {\"airport\": \"Guangzhou Baiyun International\", \"timezone\": \"Asia/Shanghai\", \"iata\": \"CAN\", \"icao\": \"ZGGG\", \"terminal\": \"2\", \"gate\": null, \"delay\": 45, \"scheduled\": \"2023-08-29T08:15:00+00:00\", \"estimated\": \"2023-08-29T08:15:00+00:00\", \"actual\": \"2023-08-29T09:36:00+00:00\", \"estimated_runway\": \"2023-08-29T09:36:00+00:00\", \"actual_runway\": \"2023-08-29T09:36:00+00:00\"}, \"arrival\": {\"airport\": \"Kuala Lumpur International Airport (klia)\", \"timezone\": \"Asia/Kuala_Lumpur\", \"iata\": \"KUL\", \"icao\": \"WMKK\", \"terminal\": \"1\", \"gate\": null, \"baggage\": null, \"delay\": 54, \"scheduled\": \"2023-08-29T12:00:00+00:00\", \"estimated\": \"2023-08-29T12:00:00+00:00\", \"actual\": null, \"estimated_runway\": null, \"actual_runway\": null}, \"airline\": {\"name\": \"Malaysia Airlines\", \"iata\": \"MH\", \"icao\": \"MAS\"}, \"flight\": {\"number\": \"4481\", \"iata\": \"MH4481\", \"icao\": \"MAS4481\", \"codeshared\": {\"airline_name\": \"china southern airlines\", \"airline_iata\": \"cz\", \"airline_icao\": \"csn\", \"flight_number\": \"349\", \"flight_iata\": \"cz349\", \"flight_icao\": \"csn349\"}}, \"aircraft\": null, \"live\": null}')]\n",
      "(Background on this error at: https://sqlalche.me/e/20/e3q8)\n"
     ]
    }
   ],
   "source": [
    "%%sql\n",
    "INSERT INTO json_flights(flights) \n",
    "VALUES(json_encode($sample_entry)"
   ]
  },
  {
   "cell_type": "markdown",
   "metadata": {},
   "source": [
    "Extracting from the json fields using `->` and `->>`. These operators are compatible with postgres and mysql"
   ]
  },
  {
   "cell_type": "code",
   "execution_count": 38,
   "metadata": {},
   "outputs": [
    {
     "name": "stdout",
     "output_type": "stream",
     "text": [
      "   sqlite:///../data/flights.db\n",
      " * sqlite:///../tests/sample.db\n",
      "(sqlite3.OperationalError) near \">>\": syntax error\n",
      "[SQL: SELECT\n",
      "    flights ->> '$.flight_date' as flight_date\n",
      "from json_flights;]\n",
      "(Background on this error at: https://sqlalche.me/e/20/e3q8)\n"
     ]
    }
   ],
   "source": [
    "%%sql\n",
    "SELECT\n",
    "    flights ->> '$.flight_date' as flight_date\n",
    "from json_flights;"
   ]
  },
  {
   "cell_type": "markdown",
   "metadata": {},
   "source": [
    "Alternatively, use `json_extract`"
   ]
  },
  {
   "cell_type": "code",
   "execution_count": 37,
   "metadata": {},
   "outputs": [
    {
     "name": "stdout",
     "output_type": "stream",
     "text": [
      "   sqlite:///../data/flights.db\n",
      " * sqlite:///../tests/sample.db\n",
      "Done.\n",
      "(sqlite3.OperationalError) malformed JSON\n",
      "(Background on this error at: https://sqlalche.me/e/20/e3q8)\n"
     ]
    }
   ],
   "source": [
    "%%sql\n",
    "SELECT\n",
    "    json_extract(flights,'$.flight_date') as flight_date\n",
    "from json_flights;"
   ]
  },
  {
   "cell_type": "code",
   "execution_count": 39,
   "metadata": {},
   "outputs": [
    {
     "name": "stdout",
     "output_type": "stream",
     "text": [
      "   sqlite:///../data/flights.db\n",
      " * sqlite:///../tests/sample.db\n",
      "Done.\n"
     ]
    },
    {
     "data": {
      "text/html": [
       "<table>\n",
       "    <thead>\n",
       "        <tr>\n",
       "            <th>id</th>\n",
       "            <th>flights</th>\n",
       "        </tr>\n",
       "    </thead>\n",
       "    <tbody>\n",
       "        <tr>\n",
       "            <td>1</td>\n",
       "            <td>{&quot;flight_date&quot;:&quot;2023-08-29&quot;,&quot;flight_status&quot;:&quot;scheduled&quot;,&quot;departure&quot;:{&quot;airport&quot;:&quot;Doha International&quot;,&quot;timezone&quot;:&quot;Asia/Qatar&quot;,&quot;iata&quot;:&quot;DOH&quot;,&quot;icao&quot;:&quot;OTHH&quot;,&quot;terminal&quot;:null,&quot;gate&quot;:&quot;C37&quot;,&quot;delay&quot;:25,&quot;scheduled&quot;:&quot;2023-08-29T02:05:00+00:00&quot;,&quot;estimated&quot;:&quot;2023-08-29T02:05:00+00:00&quot;,&quot;actual&quot;:&quot;2023-08-29T03:10:00+00:00&quot;,&quot;estimated_runway&quot;:&quot;2023-08-29T03:10:00+00:00&quot;,&quot;actual_runway&quot;:&quot;2023-08-29T03:10:00+00:00&quot;},&quot;arrival&quot;:{&quot;airport&quot;:&quot;Cape Town International&quot;,&quot;timezone&quot;:&quot;Africa/Johannesburg&quot;,&quot;iata&quot;:&quot;CPT&quot;,&quot;icao&quot;:&quot;FACT&quot;,&quot;terminal&quot;:&quot;B&quot;,&quot;gate&quot;:&quot;A5&quot;,&quot;baggage&quot;:&quot;1.4&quot;,&quot;delay&quot;:31,&quot;scheduled&quot;:&quot;2023-08-29T10:50:00+00:00&quot;,&quot;estimated&quot;:&quot;2023-08-29T10:50:00+00:00&quot;,&quot;actual&quot;:null,&quot;estimated_runway&quot;:null,&quot;actual_runway&quot;:null},&quot;airline&quot;:{&quot;name&quot;:&quot;Malaysia Airlines&quot;,&quot;iata&quot;:&quot;MH&quot;,&quot;icao&quot;:&quot;MAS&quot;},&quot;flight&quot;:{&quot;number&quot;:&quot;9305&quot;,&quot;iata&quot;:&quot;MH9305&quot;,&quot;icao&quot;:&quot;MAS9305&quot;,&quot;codeshared&quot;:{&quot;airline_name&quot;:&quot;qatar airways&quot;,&quot;airline_iata&quot;:&quot;qr&quot;,&quot;airline_icao&quot;:&quot;qtr&quot;,&quot;flight_number&quot;:&quot;1369&quot;,&quot;flight_iata&quot;:&quot;qr1369&quot;,&quot;flight_icao&quot;:&quot;qtr1369&quot;}},&quot;aircraft&quot;:null,&quot;live&quot;:null}</td>\n",
       "        </tr>\n",
       "        <tr>\n",
       "            <td>2</td>\n",
       "            <td>$sample_entry</td>\n",
       "        </tr>\n",
       "    </tbody>\n",
       "</table>"
      ],
      "text/plain": [
       "[(1, '{\"flight_date\":\"2023-08-29\",\"flight_status\":\"scheduled\",\"departure\":{\"airport\":\"Doha International\",\"timezone\":\"Asia/Qatar\",\"iata\":\"DOH\",\"icao\":\"OTHH ... (712 characters truncated) ... irways\",\"airline_iata\":\"qr\",\"airline_icao\":\"qtr\",\"flight_number\":\"1369\",\"flight_iata\":\"qr1369\",\"flight_icao\":\"qtr1369\"}},\"aircraft\":null,\"live\":null}'),\n",
       " (2, '$sample_entry')]"
      ]
     },
     "execution_count": 39,
     "metadata": {},
     "output_type": "execute_result"
    }
   ],
   "source": [
    "%%sql\n",
    "select *\n",
    "from json_flights;"
   ]
  },
  {
   "cell_type": "code",
   "execution_count": null,
   "metadata": {},
   "outputs": [],
   "source": []
  }
 ],
 "metadata": {
  "kernelspec": {
   "display_name": "Python 3 (ipykernel)",
   "language": "python",
   "name": "python3"
  },
  "language_info": {
   "codemirror_mode": {
    "name": "ipython",
    "version": 3
   },
   "file_extension": ".py",
   "mimetype": "text/x-python",
   "name": "python",
   "nbconvert_exporter": "python",
   "pygments_lexer": "ipython3",
   "version": "3.11.4"
  }
 },
 "nbformat": 4,
 "nbformat_minor": 4
}
