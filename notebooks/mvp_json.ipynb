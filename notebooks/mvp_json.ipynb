{
 "cells": [
  {
   "cell_type": "markdown",
   "id": "798784dc-1bf2-49d5-ab0e-0452c791ff5b",
   "metadata": {},
   "source": [
    "# MVP - JSON in sqlite\n",
    "\n",
    "Instead of shoehorning JSONs into a traditional relational DB, store as-is, and leverage the JSON features to get our delay data\n",
    "\n",
    "1. call aviationstack API\n",
    "2. save json response to sqlite3 db\n",
    "3. extract data from response\n",
    "4. tweet data"
   ]
  },
  {
   "cell_type": "code",
   "execution_count": 1,
   "id": "c65f5415-659d-4853-b431-c60bb308d4ea",
   "metadata": {},
   "outputs": [],
   "source": [
    "import os\n",
    "import requests\n",
    "from urllib3.util import Retry\n",
    "from requests import Session, HTTPError\n",
    "from requests.adapters import HTTPAdapter\n",
    "from requests.exceptions import ReadTimeout\n",
    "import sqlite3\n",
    "import json\n",
    "from pathlib import Path\n",
    "from dotenv import load_dotenv\n",
    "from datetime import datetime, timezone\n",
    "from time import sleep\n",
    "import logging\n",
    "from sys import stdout"
   ]
  },
  {
   "cell_type": "code",
   "execution_count": 2,
   "id": "45a23814-56ab-4667-9bda-fb86f9745c18",
   "metadata": {},
   "outputs": [],
   "source": [
    "logging.basicConfig(\n",
    "    format=\"%(asctime)s [%(levelname)s] %(funcName)s: %(message)s\",\n",
    "    datefmt=\"%Y/%m/%d %H:%M:%S\",\n",
    "    handlers=[logging.StreamHandler(stdout)],\n",
    ")\n",
    "logger = logging.getLogger(__name__)"
   ]
  },
  {
   "cell_type": "code",
   "execution_count": 3,
   "id": "adcd7f56-aad9-417e-abd4-2588713b8f2b",
   "metadata": {},
   "outputs": [],
   "source": [
    "env_path = Path(\"../.env\")\n",
    "load_dotenv(env_path)\n",
    "AV_API_KEY = os.getenv(\"AVIATION_API_KEY\", \"\")\n",
    "AV_API_URL = \"http://api.aviationstack.com/v1/\"\n",
    "FLIGHT_API_URL = AV_API_URL + \"flights\""
   ]
  },
  {
   "cell_type": "code",
   "execution_count": 15,
   "id": "8d356601-f436-4d15-a11d-e859031648a1",
   "metadata": {},
   "outputs": [],
   "source": [
    "def write_local_json(\n",
    "    api_response: dict,\n",
    "    json_dir: Path,\n",
    "    str_date: str = str(datetime.now(tz=timezone.utc).date()),\n",
    "    offset: int = 0,\n",
    "    limit: int = 100,\n",
    "):\n",
    "    \"\"\"\n",
    "    Saves the flight api response as json, to be uploaded to a data lake\n",
    "    json will be named according to the UTC date of when it was retrieved\n",
    "    \"\"\"\n",
    "    if not json_dir.exists():\n",
    "        json_dir.mkdir(parents=True)\n",
    "    local_json_path = json_dir / f\"flight-{str_date}-{offset}-{offset+limit}.json\"\n",
    "    logger.info(f\"saving to {local_json_path}\")\n",
    "    with open(local_json_path, \"w\") as j:\n",
    "        json.dump(api_response, j)\n",
    "        logger.debug(f\"saved to {local_json_path}\")\n",
    "    return local_json_path"
   ]
  },
  {
   "cell_type": "code",
   "execution_count": 20,
   "id": "77d3db28-054b-4562-b9ee-455362ce6b13",
   "metadata": {},
   "outputs": [],
   "source": [
    "def get_all_delays(\n",
    "    json_dir: str,\n",
    "    limit: int = 100,\n",
    "    airline: str = \"Malaysia Airlines\",\n",
    "    min_delay: int = 1,\n",
    "    str_date: str = str(datetime.now(tz=timezone.utc).date()),\n",
    "):\n",
    "    sesh = Session()\n",
    "    adapter = HTTPAdapter(\n",
    "        max_retries=Retry(\n",
    "            total=3,\n",
    "            backoff_factor=0.1,\n",
    "            status_forcelist=[500, 502, 503, 504],\n",
    "            # allowed_methods={\"POST\"},\n",
    "        )\n",
    "    )\n",
    "    sesh.mount(AV_API_URL, adapter)\n",
    "    responses = []\n",
    "    retrieved = total = 0\n",
    "    while not total or retrieved < total:\n",
    "        sleep(0.5)\n",
    "        logger.info(f\"retrieving {retrieved}th to {retrieved + limit}th\")\n",
    "        params = {\n",
    "            \"access_key\": AV_API_KEY,  # retrieved from .env, global scope\n",
    "            \"offset\": retrieved,\n",
    "            \"limit\": limit,\n",
    "            \"airline_name\": airline,\n",
    "            \"min_delay_arr\": min_delay,\n",
    "        }\n",
    "        try:\n",
    "            response = sesh.get(\n",
    "                    url=FLIGHT_API_URL,\n",
    "                    params=params,\n",
    "                    timeout=30.0,\n",
    "                )\n",
    "            response.raise_for_status()\n",
    "        except HTTPError as exc:\n",
    "            logger.error(f\"HTTP Error: \\n{exc}\")\n",
    "            \n",
    "        except ReadTimeout as e:\n",
    "            logger.error(f\"Timeout retrieving {retrieved}th to {retrieved + limit}th:\\n{e}\")\n",
    "        # save response\n",
    "        logger.debug(f\"retrieved {retrieved}th to {retrieved + limit}th\")\n",
    "        responses.append(response.json())\n",
    "        json_path = write_local_json(\n",
    "            responses[-1], json_dir=json_dir, str_date=str_date, offset=retrieved\n",
    "        )\n",
    "        retrieved += responses[-1][\"pagination\"][\"count\"]\n",
    "        if not total:\n",
    "            total = responses[0][\"pagination\"][\"total\"]\n",
    "            logger.info(f\"Total records count: {total}\")\n",
    "            if total == 0:\n",
    "                # prevent infinite loop\n",
    "                logger.error(\"Zero records retrieved; exiting\")\n",
    "                break\n",
    "                #raise ValueError(\"Zero records retrieved; exiting\")\n",
    "    return responses"
   ]
  },
  {
   "attachments": {},
   "cell_type": "markdown",
   "id": "2b34a41a-335c-4a35-be73-4a211e0b7860",
   "metadata": {},
   "source": [
    "## 1. Fetch the responses"
   ]
  },
  {
   "cell_type": "code",
   "execution_count": 21,
   "id": "ca3a866f-d66f-44a4-be9f-548a818cb8cc",
   "metadata": {},
   "outputs": [
    {
     "name": "stdout",
     "output_type": "stream",
     "text": [
      "2023/10/15 23:21:11 [ERROR] get_all_delays: Zero records retrieved; exiting\n"
     ]
    }
   ],
   "source": [
    "responses = get_all_delays(Path(\"../data/responses/\"))"
   ]
  },
  {
   "cell_type": "code",
   "execution_count": null,
   "id": "7b57ecf2-4fe7-4137-b88a-584a6f7126f4",
   "metadata": {},
   "outputs": [],
   "source": [
    "def create_json_table(\n",
    "    db_conn: sqlite3.Connection,\n",
    "    tbl_name: str = \"import_flight_records\",\n",
    "):\n",
    "    \"\"\"\n",
    "    Create sqlite db and table if not already exists\n",
    "    \"\"\"\n",
    "    create_sql = f\"\"\"\n",
    "    CREATE TABLE {tblname_json}(\n",
    "        {colname_json} JSON,\n",
    "        flight_num TEXT GENERATED ALWAYS AS (JSON_EXTRACT({colname_json}, '$.flight.iata')) VIRTUAL,\n",
    "        start TEXT GENERATED ALWAYS AS (JSON_EXTRACT({colname_json}, '$.departure.iata')) VIRTUAL,\n",
    "        dest TEXT GENERATED ALWAYS AS (JSON_EXTRACT({colname_json}, '$.arrival.iata')) VIRTUAL,\n",
    "        ts_takeoff TEXT GENERATED ALWAYS AS (JSON_EXTRACT({colname_json}, '$.arrival.iata')) VIRTUAL\n",
    "    );\n",
    "    \"\"\""
   ]
  }
 ],
 "metadata": {
  "kernelspec": {
   "display_name": "Python 3 (ipykernel)",
   "language": "python",
   "name": "python3"
  },
  "language_info": {
   "codemirror_mode": {
    "name": "ipython",
    "version": 3
   },
   "file_extension": ".py",
   "mimetype": "text/x-python",
   "name": "python",
   "nbconvert_exporter": "python",
   "pygments_lexer": "ipython3",
   "version": "3.11.4"
  }
 },
 "nbformat": 4,
 "nbformat_minor": 5
}
