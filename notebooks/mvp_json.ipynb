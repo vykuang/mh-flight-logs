{
 "cells": [
  {
   "cell_type": "markdown",
   "id": "798784dc-1bf2-49d5-ab0e-0452c791ff5b",
   "metadata": {},
   "source": [
    "# MVP - JSON in sqlite\n",
    "\n",
    "Instead of shoehorning JSONs into a traditional relational DB, store as-is, and leverage the JSON features to get our delay data\n",
    "\n",
    "1. call aviationstack API\n",
    "2. save json response to sqlite3 db\n",
    "3. extract data from response\n",
    "4. tweet data"
   ]
  },
  {
   "cell_type": "code",
   "execution_count": 30,
   "id": "c65f5415-659d-4853-b431-c60bb308d4ea",
   "metadata": {},
   "outputs": [],
   "source": [
    "import os\n",
    "import requests\n",
    "from urllib3.util import Retry\n",
    "from requests import Session, HTTPError\n",
    "from requests.adapters import HTTPAdapter\n",
    "from requests.exceptions import ReadTimeout\n",
    "import sqlite3\n",
    "import json\n",
    "from pathlib import Path\n",
    "from dotenv import load_dotenv\n",
    "from datetime import datetime, timezone, timedelta\n",
    "from time import sleep\n",
    "import logging\n",
    "from sys import stdout\n",
    "import tomllib\n",
    "import jinja2"
   ]
  },
  {
   "cell_type": "code",
   "execution_count": 33,
   "id": "45a23814-56ab-4667-9bda-fb86f9745c18",
   "metadata": {},
   "outputs": [],
   "source": [
    "logging.basicConfig(\n",
    "    format=\"%(asctime)s [%(levelname)s] %(funcName)s: %(message)s\",\n",
    "    datefmt=\"%Y/%m/%d %H:%M:%S\",\n",
    "    handlers=[logging.StreamHandler(stdout)],\n",
    ")\n",
    "logger = logging.getLogger(__name__)\n",
    "logger.setLevel(logging.DEBUG)"
   ]
  },
  {
   "cell_type": "code",
   "execution_count": 3,
   "id": "adcd7f56-aad9-417e-abd4-2588713b8f2b",
   "metadata": {},
   "outputs": [],
   "source": [
    "env_path = Path(\"../.env\")\n",
    "load_dotenv(env_path)\n",
    "AV_API_KEY = os.getenv(\"AVIATION_API_KEY\", \"\")\n",
    "AV_API_URL = \"http://api.aviationstack.com/v1/\"\n",
    "FLIGHT_API_URL = AV_API_URL + \"flights\""
   ]
  },
  {
   "cell_type": "code",
   "execution_count": 21,
   "id": "684b9528-912c-4a98-a64f-bb2c60aba930",
   "metadata": {},
   "outputs": [],
   "source": [
    "toml_path = Path(\"../pyproject.toml\")\n",
    "with open(toml_path, \"rb\") as f:\n",
    "    config = tomllib.load(f)\n",
    "\n",
    "DB_NAME = config[\"sqlite\"][\"db_name\"]\n",
    "TBL_NAME = config[\"sqlite\"][\"tbl_name\"]\n",
    "JSON_COL = config[\"sqlite\"][\"json_col\"]"
   ]
  },
  {
   "cell_type": "code",
   "execution_count": 4,
   "id": "8d356601-f436-4d15-a11d-e859031648a1",
   "metadata": {},
   "outputs": [],
   "source": [
    "def write_local_json(\n",
    "    api_response: dict,\n",
    "    json_dir: Path,\n",
    "    str_date: str = str(datetime.now(tz=timezone.utc).date()),\n",
    "    offset: int = 0,\n",
    "    limit: int = 100,\n",
    "):\n",
    "    \"\"\"\n",
    "    Saves the flight api response as json, to be uploaded to a data lake\n",
    "    json will be named according to the UTC date of when it was retrieved\n",
    "    \"\"\"\n",
    "    if not json_dir.exists():\n",
    "        json_dir.mkdir(parents=True)\n",
    "    local_json_path = json_dir / f\"flight-{str_date}-{offset}-{offset+limit}.json\"\n",
    "    logger.info(f\"saving to {local_json_path}\")\n",
    "    with open(local_json_path, \"w\") as j:\n",
    "        json.dump(api_response, j)\n",
    "        logger.debug(f\"saved to {local_json_path}\")\n",
    "    return local_json_path"
   ]
  },
  {
   "cell_type": "code",
   "execution_count": 12,
   "id": "77d3db28-054b-4562-b9ee-455362ce6b13",
   "metadata": {},
   "outputs": [],
   "source": [
    "def get_all_delays(\n",
    "    json_dir: str,\n",
    "    limit: int = 100,\n",
    "    airline: str = \"Malaysia Airlines\",\n",
    "    min_delay: int = 1,\n",
    "    str_date: str = str(datetime.now(tz=timezone.utc).date() - timedelta(days=1)),\n",
    "):\n",
    "    sesh = Session()\n",
    "    adapter = HTTPAdapter(\n",
    "        max_retries=Retry(\n",
    "            total=3,\n",
    "            backoff_factor=0.1,\n",
    "            status_forcelist=[500, 502, 503, 504],\n",
    "            # allowed_methods={\"POST\"},\n",
    "        )\n",
    "    )\n",
    "    sesh.mount(AV_API_URL, adapter)\n",
    "    responses = []\n",
    "    retrieved = total = 0\n",
    "    logger.info(f\"Retrieving delayed flights for {str_date}\")\n",
    "    while not total or retrieved < total:\n",
    "        sleep(0.5)\n",
    "        logger.info(f\"retrieving {retrieved}th to {retrieved + limit}th\")\n",
    "        params = {\n",
    "            \"access_key\": AV_API_KEY,  # retrieved from .env, global scope\n",
    "            \"offset\": retrieved,\n",
    "            \"limit\": limit,\n",
    "            \"airline_name\": airline,\n",
    "            \"min_delay_arr\": min_delay,\n",
    "        }\n",
    "        try:\n",
    "            response = sesh.get(\n",
    "                url=FLIGHT_API_URL,\n",
    "                params=params,\n",
    "                timeout=30.0,\n",
    "            )\n",
    "            response.raise_for_status()\n",
    "        except HTTPError as exc:\n",
    "            logger.error(f\"HTTP Error: \\n{exc}\")\n",
    "\n",
    "        except ReadTimeout as e:\n",
    "            logger.error(\n",
    "                f\"Timeout retrieving {retrieved}th to {retrieved + limit}th:\\n{e}\"\n",
    "            )\n",
    "        # save response\n",
    "        logger.debug(f\"retrieved {retrieved}th to {retrieved + limit}th\")\n",
    "        responses.append(response.json())\n",
    "        json_path = write_local_json(\n",
    "            responses[-1], json_dir=json_dir, str_date=str_date, offset=retrieved\n",
    "        )\n",
    "        retrieved += responses[-1][\"pagination\"][\"count\"]\n",
    "        if not total:\n",
    "            # First request; get total count\n",
    "            total = responses[0][\"pagination\"][\"total\"]\n",
    "            logger.info(f\"Total records count: {total}\")\n",
    "            if total == 0:\n",
    "                # prevent infinite loop if there are no records retrieved\n",
    "                logger.error(\"Zero records retrieved; exiting\")\n",
    "                break\n",
    "    return responses"
   ]
  },
  {
   "attachments": {},
   "cell_type": "markdown",
   "id": "2b34a41a-335c-4a35-be73-4a211e0b7860",
   "metadata": {},
   "source": [
    "## 1. Fetch the responses"
   ]
  },
  {
   "cell_type": "code",
   "execution_count": 14,
   "id": "ca3a866f-d66f-44a4-be9f-548a818cb8cc",
   "metadata": {},
   "outputs": [
    {
     "name": "stdout",
     "output_type": "stream",
     "text": [
      "2023/10/16 13:17:25 [ERROR] get_all_delays: Zero records retrieved; exiting\n"
     ]
    }
   ],
   "source": [
    "responses = get_all_delays(Path(\"../data/responses/\"))"
   ]
  },
  {
   "cell_type": "code",
   "execution_count": 32,
   "id": "ce3e0b08-f014-463d-a7a7-e5d3d198cd30",
   "metadata": {},
   "outputs": [],
   "source": [
    "def execute_template_sql(\n",
    "    db_conn: sqlite3.Connection,\n",
    "    env: jinja2.Environment,\n",
    "    template: str,\n",
    "    params: dict,\n",
    "):\n",
    "    \"\"\"\n",
    "    Renders the jinja templated sql and executes,\n",
    "    returning results if any\n",
    "    \"\"\"\n",
    "    sql = env.get_template(template).render(params)\n",
    "    with db_conn:\n",
    "        curs = db_conn.executescript(sql)\n",
    "\n",
    "    return curs.fetchall()"
   ]
  },
  {
   "cell_type": "code",
   "execution_count": null,
   "id": "3326e5c0-989a-400f-a49e-08cc9d4b7908",
   "metadata": {},
   "outputs": [],
   "source": []
  },
  {
   "cell_type": "markdown",
   "id": "4436d99f-3565-4f15-abe8-29d0d6376d93",
   "metadata": {},
   "source": [
    "## 2. Insert JSON to sqlite"
   ]
  },
  {
   "cell_type": "code",
   "execution_count": null,
   "id": "195edea2-316e-44d2-8923-eb29c09078ee",
   "metadata": {},
   "outputs": [],
   "source": [
    "# app args\n",
    "data_dir = \"../data\"\n",
    "template_dir = \"../templates\"\n",
    "params = dict(\n",
    "    tbl_name=TBL_NAME,\n",
    "    json_col=JSON_COL,\n",
    ")\n",
    "# instantiate db conn and jinja env\n",
    "env = jinja2.Environment(loader=jinja2.FileSystemLoader(template_dir))\n",
    "# search for existing db\n",
    "db_path = data_dir / f\"{DB_NAME}.db\"\n",
    "db_conn = sqlite3.connect(db_path)\n",
    "if not db_path.exists():\n",
    "    logger.info(f\"{db_path} does not exist, initializing...\")\n",
    "    execute_template_sql(db_conn, env, \"create.sql\", params)\n",
    "else:\n",
    "    logger.info(f\"Using existing db @ {db_path}\")\n",
    "\n",
    "# UPSERT data\n",
    "flights = [(json.dumps(flight),) for flight in response[\"data\"]]\n",
    "cur.executemany(f\"INSERT OR REPLACE INTO {tbl_name} ({json_col}) VALUES( ? )\", flights)\n",
    "con.commit()"
   ]
  },
  {
   "cell_type": "code",
   "execution_count": null,
   "id": "f0784e89-9086-468b-ae1b-e8989d9d9f3b",
   "metadata": {},
   "outputs": [],
   "source": []
  }
 ],
 "metadata": {
  "kernelspec": {
   "display_name": "Python 3 (ipykernel)",
   "language": "python",
   "name": "python3"
  },
  "language_info": {
   "codemirror_mode": {
    "name": "ipython",
    "version": 3
   },
   "file_extension": ".py",
   "mimetype": "text/x-python",
   "name": "python",
   "nbconvert_exporter": "python",
   "pygments_lexer": "ipython3",
   "version": "3.11.4"
  }
 },
 "nbformat": 4,
 "nbformat_minor": 5
}
