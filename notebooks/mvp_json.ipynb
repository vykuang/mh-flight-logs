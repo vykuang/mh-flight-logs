{
 "cells": [
  {
   "cell_type": "markdown",
   "id": "798784dc-1bf2-49d5-ab0e-0452c791ff5b",
   "metadata": {},
   "source": [
    "# MVP - JSON in sqlite\n",
    "\n",
    "Instead of shoehorning JSONs into a traditional relational DB, store as-is, and leverage the JSON features to get our delay data\n",
    "\n",
    "1. call aviationstack API\n",
    "2. save json response to sqlite3 db\n",
    "3. extract data from response\n",
    "4. tweet data"
   ]
  },
  {
   "cell_type": "code",
   "execution_count": 1,
   "id": "c65f5415-659d-4853-b431-c60bb308d4ea",
   "metadata": {},
   "outputs": [],
   "source": [
    "import os\n",
    "import requests\n",
    "from urllib3.util import Retry\n",
    "from requests import Session, HTTPError\n",
    "from requests.adapters import HTTPAdapter\n",
    "from requests.exceptions import ReadTimeout\n",
    "import sqlite3\n",
    "import json\n",
    "from pathlib import Path\n",
    "from dotenv import load_dotenv\n",
    "from datetime import datetime, timezone, timedelta\n",
    "from time import sleep\n",
    "import logging\n",
    "from sys import stdout\n",
    "import tomllib\n",
    "import jinja2"
   ]
  },
  {
   "cell_type": "code",
   "execution_count": 2,
   "id": "45a23814-56ab-4667-9bda-fb86f9745c18",
   "metadata": {},
   "outputs": [],
   "source": [
    "logging.basicConfig(\n",
    "    format=\"%(asctime)s [%(levelname)s] %(funcName)s: %(message)s\",\n",
    "    datefmt=\"%Y/%m/%d %H:%M:%S\",\n",
    "    handlers=[logging.StreamHandler(stdout)],\n",
    ")\n",
    "logger = logging.getLogger(__name__)\n",
    "logger.setLevel(logging.DEBUG)"
   ]
  },
  {
   "cell_type": "code",
   "execution_count": 3,
   "id": "adcd7f56-aad9-417e-abd4-2588713b8f2b",
   "metadata": {},
   "outputs": [],
   "source": [
    "env_path = Path(\"../.env\")\n",
    "load_dotenv(env_path)\n",
    "AV_API_KEY = os.getenv(\"AVIATION_API_KEY\", \"\")\n",
    "AV_API_URL = \"http://api.aviationstack.com/v1/\"\n",
    "FLIGHT_API_URL = AV_API_URL + \"flights\""
   ]
  },
  {
   "cell_type": "code",
   "execution_count": 4,
   "id": "684b9528-912c-4a98-a64f-bb2c60aba930",
   "metadata": {},
   "outputs": [],
   "source": [
    "toml_path = Path(\"../pyproject.toml\")\n",
    "with open(toml_path, \"rb\") as f:\n",
    "    config = tomllib.load(f)\n",
    "\n",
    "DB_NAME = config[\"sqlite\"][\"db_name\"]\n",
    "TBL_NAME = config[\"sqlite\"][\"tbl_name\"]\n",
    "JSON_COL = config[\"sqlite\"][\"json_col\"]"
   ]
  },
  {
   "cell_type": "code",
   "execution_count": 5,
   "id": "8d356601-f436-4d15-a11d-e859031648a1",
   "metadata": {},
   "outputs": [],
   "source": [
    "def write_local_json(\n",
    "    api_response: dict,\n",
    "    json_dir: Path,\n",
    "    str_date: str = str(datetime.now(tz=timezone.utc).date()),\n",
    "    offset: int = 0,\n",
    "    limit: int = 100,\n",
    "):\n",
    "    \"\"\"\n",
    "    Saves the flight api response as json, to be uploaded to a data lake\n",
    "    json will be named according to the UTC date of when it was retrieved\n",
    "    \"\"\"\n",
    "    if not json_dir.exists():\n",
    "        json_dir.mkdir(parents=True)\n",
    "    local_json_path = json_dir / f\"flight-{str_date}-{offset}-{offset+limit}.json\"\n",
    "    logger.info(f\"saving to {local_json_path}\")\n",
    "    with open(local_json_path, \"w\") as j:\n",
    "        json.dump(api_response, j)\n",
    "        logger.debug(f\"saved to {local_json_path}\")\n",
    "    return local_json_path"
   ]
  },
  {
   "cell_type": "code",
   "execution_count": 6,
   "id": "77d3db28-054b-4562-b9ee-455362ce6b13",
   "metadata": {},
   "outputs": [],
   "source": [
    "def get_all_delays(\n",
    "    json_dir: str,\n",
    "    limit: int = 100,\n",
    "    airline: str = \"Malaysia Airlines\",\n",
    "    min_delay: int = 1,\n",
    "    str_date: str = str(datetime.now(tz=timezone.utc).date() - timedelta(days=1)),\n",
    "):\n",
    "    sesh = Session()\n",
    "    adapter = HTTPAdapter(\n",
    "        max_retries=Retry(\n",
    "            total=3,\n",
    "            backoff_factor=0.1,\n",
    "            status_forcelist=[500, 502, 503, 504],\n",
    "            # allowed_methods={\"POST\"},\n",
    "        )\n",
    "    )\n",
    "    sesh.mount(AV_API_URL, adapter)\n",
    "    responses = []\n",
    "    retrieved = total = 0\n",
    "    logger.info(f\"Retrieving delayed flights for {str_date}\")\n",
    "    while not total or retrieved < total:\n",
    "        sleep(0.5)\n",
    "        logger.info(f\"retrieving {retrieved}th to {retrieved + limit}th\")\n",
    "        params = {\n",
    "            \"access_key\": AV_API_KEY,  # retrieved from .env, global scope\n",
    "            \"offset\": retrieved,\n",
    "            \"limit\": limit,\n",
    "            \"airline_name\": airline,\n",
    "            \"min_delay_arr\": min_delay,\n",
    "        }\n",
    "        try:\n",
    "            response = sesh.get(\n",
    "                url=FLIGHT_API_URL,\n",
    "                params=params,\n",
    "                timeout=30.0,\n",
    "            )\n",
    "            response.raise_for_status()\n",
    "        except HTTPError as exc:\n",
    "            logger.error(f\"HTTP Error: \\n{exc}\")\n",
    "\n",
    "        except ReadTimeout as e:\n",
    "            logger.error(\n",
    "                f\"Timeout retrieving {retrieved}th to {retrieved + limit}th:\\n{e}\"\n",
    "            )\n",
    "        # save response\n",
    "        logger.debug(f\"retrieved {retrieved}th to {retrieved + limit}th\")\n",
    "        responses.append(response.json())\n",
    "        json_path = write_local_json(\n",
    "            responses[-1], json_dir=json_dir, str_date=str_date, offset=retrieved\n",
    "        )\n",
    "        retrieved += responses[-1][\"pagination\"][\"count\"]\n",
    "        if not total:\n",
    "            # First request; get total count\n",
    "            total = responses[0][\"pagination\"][\"total\"]\n",
    "            logger.info(f\"Total records count: {total}\")\n",
    "            if total == 0:\n",
    "                # prevent infinite loop if there are no records retrieved\n",
    "                logger.error(\"Zero records retrieved; exiting\")\n",
    "                break\n",
    "    return responses"
   ]
  },
  {
   "attachments": {},
   "cell_type": "markdown",
   "id": "2b34a41a-335c-4a35-be73-4a211e0b7860",
   "metadata": {},
   "source": [
    "## 1. Fetch the responses"
   ]
  },
  {
   "cell_type": "code",
   "execution_count": 8,
   "id": "ca3a866f-d66f-44a4-be9f-548a818cb8cc",
   "metadata": {},
   "outputs": [
    {
     "name": "stdout",
     "output_type": "stream",
     "text": [
      "2023/10/17 09:47:22 [INFO] get_all_delays: Retrieving delayed flights for 2023-10-16\n",
      "2023/10/17 09:47:23 [INFO] get_all_delays: retrieving 0th to 100th\n",
      "2023/10/17 09:47:27 [DEBUG] get_all_delays: retrieved 0th to 100th\n",
      "2023/10/17 09:47:33 [INFO] write_local_json: saving to ../data/responses/flight-2023-10-16-0-100.json\n",
      "2023/10/17 09:47:33 [DEBUG] write_local_json: saved to ../data/responses/flight-2023-10-16-0-100.json\n",
      "2023/10/17 09:47:33 [INFO] get_all_delays: Total records count: 0\n",
      "2023/10/17 09:47:33 [ERROR] get_all_delays: Zero records retrieved; exiting\n"
     ]
    }
   ],
   "source": [
    "responses = get_all_delays(Path(\"../data/responses/\"))"
   ]
  },
  {
   "cell_type": "code",
   "execution_count": 12,
   "id": "f431fcae-2e30-486f-96ea-0d0ceb905eb8",
   "metadata": {},
   "outputs": [
    {
     "name": "stdout",
     "output_type": "stream",
     "text": [
      "2023/10/17 10:09:16 [DEBUG] <module>: looking for ../data/responses/flight-2023-10-13-700-800.json\n",
      "2023/10/17 10:09:19 [DEBUG] <module>: looking for ../data/responses/flight-2023-10-13-800-900.json\n",
      "2023/10/17 10:09:19 [DEBUG] <module>: looking for ../data/responses/flight-2023-10-13-400-500.json\n",
      "2023/10/17 10:09:19 [DEBUG] <module>: looking for ../data/responses/flight-2023-10-13-100-200.json\n",
      "2023/10/17 10:09:19 [DEBUG] <module>: looking for ../data/responses/flight-2023-10-13-300-400.json\n",
      "2023/10/17 10:09:19 [DEBUG] <module>: looking for ../data/responses/flight-2023-10-13-600-700.json\n",
      "2023/10/17 10:09:19 [DEBUG] <module>: looking for ../data/responses/flight-2023-10-13-200-300.json\n",
      "2023/10/17 10:09:19 [DEBUG] <module>: looking for ../data/responses/flight-2023-10-13-0-100.json\n",
      "2023/10/17 10:09:19 [DEBUG] <module>: looking for ../data/responses/flight-2023-10-13-500-600.json\n",
      "2023/10/17 10:09:19 [INFO] <module>: 819 entries on 2023-10-13\n"
     ]
    }
   ],
   "source": [
    "# get existing json, for testing\n",
    "responses = []\n",
    "str_date = \"2023-10-13\"\n",
    "json_dir = Path(\"../data/responses\")\n",
    "json_paths = json_dir.glob(f\"flight-{str_date}-*.json\")\n",
    "for json_file in json_paths:\n",
    "    logger.debug(f\"looking for {json_file}\")\n",
    "    with open(json_file) as j:\n",
    "        flight_page = json.load(j)\n",
    "        responses.extend(flight_page[\"data\"])\n",
    "\n",
    "logger.info(f\"{len(responses)} entries on {str_date}\")"
   ]
  },
  {
   "cell_type": "code",
   "execution_count": 52,
   "id": "ce3e0b08-f014-463d-a7a7-e5d3d198cd30",
   "metadata": {},
   "outputs": [],
   "source": [
    "def execute_template_sql(\n",
    "    db_conn: sqlite3.Connection,\n",
    "    env: jinja2.Environment,\n",
    "    template: str,\n",
    "    params: dict,\n",
    "    data: list,\n",
    "):\n",
    "    \"\"\"\n",
    "    Renders the jinja templated sql and executes,\n",
    "    returning results if any\n",
    "    \"\"\"\n",
    "    sql = env.get_template(template).render(params)\n",
    "    logger.debug(f\"rendered SQL:\\n{sql}\")\n",
    "    with db_conn:\n",
    "        if data:\n",
    "            db_conn.executemany(sql, data)\n",
    "            return None\n",
    "        else:\n",
    "            return db_conn.executescript(sql)"
   ]
  },
  {
   "cell_type": "code",
   "execution_count": null,
   "id": "3326e5c0-989a-400f-a49e-08cc9d4b7908",
   "metadata": {},
   "outputs": [],
   "source": []
  },
  {
   "cell_type": "markdown",
   "id": "4436d99f-3565-4f15-abe8-29d0d6376d93",
   "metadata": {},
   "source": [
    "## 2. Insert JSON to sqlite"
   ]
  },
  {
   "cell_type": "code",
   "execution_count": 54,
   "id": "195edea2-316e-44d2-8923-eb29c09078ee",
   "metadata": {
    "scrolled": true
   },
   "outputs": [
    {
     "name": "stdout",
     "output_type": "stream",
     "text": [
      "2023/10/17 14:59:05 [DEBUG] execute_template_sql: rendered SQL:\n",
      "INSERT OR REPLACE INTO import_flight_records (flights_json) VALUES ( ? );\n"
     ]
    }
   ],
   "source": [
    "# app args\n",
    "data_dir = Path(\"../data\")\n",
    "template_dir = Path(\"../templates\")\n",
    "params = dict(\n",
    "    tbl_name=TBL_NAME,\n",
    "    json_col=JSON_COL,\n",
    ")\n",
    "# instantiate db conn and jinja env\n",
    "env = jinja2.Environment(loader=jinja2.FileSystemLoader(template_dir))\n",
    "# search for existing db\n",
    "# db_path = data_dir / f\"{DB_NAME}.db\"db_path = data_dir / \"sample.db\"\n",
    "# check before connecting, which implicitly create\n",
    "db_exists = db_path.exists()\n",
    "db_conn = sqlite3.connect(db_path)\n",
    "if not db_exists:\n",
    "    logger.info(f\"{db_path} does not exist, initializing...\")\n",
    "    execute_template_sql(db_conn, env, \"create.sql\", params)\n",
    "\n",
    "# UPSERT data\n",
    "flights = [(json.dumps(flight),) for flight in responses]\n",
    "# db_conn.executemany(f\"INSERT OR REPLACE INTO {TBL_NAME} ({JSON_COL}) VALUES( ? )\", flights)\n",
    "execute_template_sql(db_conn, env, \"insert.sql\", params, flights)"
   ]
  },
  {
   "cell_type": "markdown",
   "id": "a9ba9207-72d9-4628-afec-b03dee219809",
   "metadata": {},
   "source": [
    "Testing if the transaction was successful"
   ]
  },
  {
   "cell_type": "code",
   "execution_count": 60,
   "id": "c02b0428-f06f-489e-9bae-01aaa4c9f2e5",
   "metadata": {
    "scrolled": true
   },
   "outputs": [
    {
     "name": "stdout",
     "output_type": "stream",
     "text": [
      "('{\"flight_date\": \"2023-10-12\", \"flight_status\": \"active\", \"departure\": {\"airport\": \"Seoul (Incheon)\", \"timezone\": \"Asia/Seoul\", \"iata\": \"ICN\", \"icao\": \"RKSI\", \"terminal\": \"2\", \"gate\": \"235\", \"delay\": 25, \"scheduled\": \"2023-10-12T16:35:00+00:00\", \"estimated\": \"2023-10-12T16:35:00+00:00\", \"actual\": \"2023-10-12T17:00:00+00:00\", \"estimated_runway\": \"2023-10-12T17:00:00+00:00\", \"actual_runway\": \"2023-10-12T17:00:00+00:00\"}, \"arrival\": {\"airport\": \"Kuala Lumpur International Airport (klia)\", \"timezone\": \"Asia/Kuala_Lumpur\", \"iata\": \"KUL\", \"icao\": \"WMKK\", \"terminal\": \"1\", \"gate\": null, \"baggage\": null, \"delay\": 1, \"scheduled\": \"2023-10-12T21:55:00+00:00\", \"estimated\": \"2023-10-12T21:55:00+00:00\", \"actual\": null, \"estimated_runway\": null, \"actual_runway\": null}, \"airline\": {\"name\": \"Malaysia Airlines\", \"iata\": \"MH\", \"icao\": \"MAS\"}, \"flight\": {\"number\": \"5621\", \"iata\": \"MH5621\", \"icao\": \"MAS5621\", \"codeshared\": {\"airline_name\": \"korean air\", \"airline_iata\": \"ke\", \"airline_icao\": \"kal\", \"flight_number\": \"671\", \"flight_iata\": \"ke671\", \"flight_icao\": \"kal671\"}}, \"aircraft\": null, \"live\": null}', 'MH5621', 'ICN', 'KUL', '2023-10-12T21:55:00+00:00')\n",
      "('{\"flight_date\": \"2023-10-12\", \"flight_status\": \"landed\", \"departure\": {\"airport\": \"Tan Son Nhat International\", \"timezone\": \"Asia/Ho_Chi_Minh\", \"iata\": \"SGN\", \"icao\": \"VVTS\", \"terminal\": \"2\", \"gate\": null, \"delay\": 34, \"scheduled\": \"2023-10-12T16:40:00+00:00\", \"estimated\": \"2023-10-12T16:40:00+00:00\", \"actual\": \"2023-10-12T17:14:00+00:00\", \"estimated_runway\": \"2023-10-12T17:14:00+00:00\", \"actual_runway\": \"2023-10-12T17:14:00+00:00\"}, \"arrival\": {\"airport\": \"Kuala Lumpur International Airport (klia)\", \"timezone\": \"Asia/Kuala_Lumpur\", \"iata\": \"KUL\", \"icao\": \"WMKK\", \"terminal\": \"1\", \"gate\": null, \"baggage\": null, \"delay\": 10, \"scheduled\": \"2023-10-12T19:40:00+00:00\", \"estimated\": \"2023-10-12T19:40:00+00:00\", \"actual\": \"2023-10-12T19:50:00+00:00\", \"estimated_runway\": \"2023-10-12T19:50:00+00:00\", \"actual_runway\": \"2023-10-12T19:50:00+00:00\"}, \"airline\": {\"name\": \"Malaysia Airlines\", \"iata\": \"MH\", \"icao\": \"MAS\"}, \"flight\": {\"number\": \"759\", \"iata\": \"MH759\", \"icao\": \"MAS759\", \"codeshared\": null}, \"aircraft\": null, \"live\": null}', 'MH759', 'SGN', 'KUL', '2023-10-12T19:40:00+00:00')\n",
      "('{\"flight_date\": \"2023-10-12\", \"flight_status\": \"landed\", \"departure\": {\"airport\": \"Ninoy Aquino International\", \"timezone\": \"Asia/Manila\", \"iata\": \"MNL\", \"icao\": \"RPLL\", \"terminal\": \"1\", \"gate\": null, \"delay\": 27, \"scheduled\": \"2023-10-12T15:05:00+00:00\", \"estimated\": \"2023-10-12T15:05:00+00:00\", \"actual\": \"2023-10-12T15:31:00+00:00\", \"estimated_runway\": \"2023-10-12T15:31:00+00:00\", \"actual_runway\": \"2023-10-12T15:31:00+00:00\"}, \"arrival\": {\"airport\": \"Kuala Lumpur International Airport (klia)\", \"timezone\": \"Asia/Kuala_Lumpur\", \"iata\": \"KUL\", \"icao\": \"WMKK\", \"terminal\": \"1\", \"gate\": null, \"baggage\": null, \"delay\": null, \"scheduled\": \"2023-10-12T19:00:00+00:00\", \"estimated\": \"2023-10-12T19:00:00+00:00\", \"actual\": \"2023-10-12T18:52:00+00:00\", \"estimated_runway\": \"2023-10-12T18:52:00+00:00\", \"actual_runway\": \"2023-10-12T18:52:00+00:00\"}, \"airline\": {\"name\": \"Malaysia Airlines\", \"iata\": \"MH\", \"icao\": \"MAS\"}, \"flight\": {\"number\": \"705\", \"iata\": \"MH705\", \"icao\": \"MAS705\", \"codeshared\": null}, \"aircraft\": null, \"live\": null}', 'MH705', 'MNL', 'KUL', '2023-10-12T19:00:00+00:00')\n"
     ]
    }
   ],
   "source": [
    "db_conn = sqlite3.connect(db_path)\n",
    "for row in db_conn.execute(\n",
    "    f\"select * from {TBL_NAME} where arr_airport_code = 'KUL' LIMIT 3\"\n",
    "):\n",
    "    print(row)"
   ]
  },
  {
   "cell_type": "markdown",
   "id": "a285f638-6409-40f2-8e98-3304e4e9e401",
   "metadata": {},
   "source": [
    "## Tweeting it out"
   ]
  },
  {
   "cell_type": "code",
   "execution_count": 61,
   "id": "2e7d3c26-5320-4ec7-b3c8-04743d6221ba",
   "metadata": {},
   "outputs": [],
   "source": [
    "def dict_factory(cursor, row):\n",
    "    \"\"\"\n",
    "    cursor: sqlite3 cursor object\n",
    "    row: tuple from query result\n",
    "    returns the tuple row as dict\n",
    "    \"\"\"\n",
    "    # .description attr returns a 7-tuple; only 1st is the col name\n",
    "    fields = [descr[0] for descr in cursor.description]\n",
    "    return {field: val for field, val in zip(fields, row)}"
   ]
  },
  {
   "cell_type": "code",
   "execution_count": 77,
   "id": "3f6f4890-dd63-493a-a194-a03ab0070390",
   "metadata": {},
   "outputs": [
    {
     "name": "stdout",
     "output_type": "stream",
     "text": [
      "{'date': '2023-10-12', 'leave': '2023-10-12', 'arrive': '2023-10-13'}\n",
      "{'date': '2023-10-12', 'leave': '2023-10-12', 'arrive': '2023-10-13'}\n",
      "{'date': '2023-10-12', 'leave': '2023-10-12', 'arrive': '2023-10-13'}\n",
      "{'date': '2023-10-12', 'leave': '2023-10-12', 'arrive': '2023-10-13'}\n",
      "{'date': '2023-10-13', 'leave': '2023-10-13', 'arrive': '2023-10-12'}\n"
     ]
    }
   ],
   "source": [
    "db_conn.row_factory = dict_factory\n",
    "sql = f\"\"\"\n",
    "SELECT\n",
    "    json_extract({JSON_COL},'$.flight_date') as date,\n",
    "    DATE(json_extract({JSON_COL},'$.departure.scheduled')) as leave,\n",
    "    DATE(json_extract({JSON_COL},'$.arrival.scheduled')) as arrive\n",
    "FROM {TBL_NAME}\n",
    "--WHERE CAST(leave AS DATE) != CAST(arrive AS DATE)\n",
    "WHERE leave != arrive\n",
    "LIMIT 5;\n",
    "\"\"\"\n",
    "for res in db_conn.execute(sql):\n",
    "    print(res)"
   ]
  },
  {
   "cell_type": "code",
   "execution_count": 78,
   "id": "55306b66-d448-473b-a281-a4fe8628715d",
   "metadata": {},
   "outputs": [],
   "source": [
    "def write_flight_tweet(\n",
    "    db_conn: sqlite3.Connection,\n",
    "    env: jinja2.Environment,\n",
    "    str_date: str,\n",
    "    tbl_name: str = TBL_NAME,\n",
    "    num_delay: int = 3,\n",
    "    template_dir: Path = Path(\"templates\"),\n",
    ") -> str:\n",
    "    \"\"\"\n",
    "    Queries the flight records database to write the tweet\n",
    "    Prepared queries makes some assumption about the table schema\n",
    "    - follows aviationstack flights endpoint\n",
    "    - flattened, with the same sep character\n",
    "\n",
    "    Returns a string populated with the query result\n",
    "    \"\"\"\n",
    "    # defining column names inside db for populating the tweet\n",
    "    flight_num = f\"flight{sep}iata\"\n",
    "    a_port = f\"arrival{sep}airport\"\n",
    "    a_delay = f\"arrival{sep}delay\"\n",
    "    a_sched = f\"arrival{sep}scheduled\"\n",
    "    d_port = f\"departure{sep}airport\"\n",
    "\n",
    "    # params to render the query template\n",
    "    params = dict(\n",
    "        flight_num=flight_num,\n",
    "        a_port=a_port,\n",
    "        a_delay=a_delay,\n",
    "        a_sched=a_sched,\n",
    "        d_port=d_port,\n",
    "        num_delay=3,\n",
    "        str_date=str_date,\n",
    "        tbl_name=tbl_name,\n",
    "    )\n",
    "    # agg_sql = env.get_template(\"agg.sql\").render(params)\n",
    "    # logger.debug(f\"rendered agg_sql:\\n{agg_sql}\")\n",
    "    # delayed_sql = env.get_template(\"delayed.sql\").render(params)\n",
    "    # logger.debug(f\"rendered delayed_sql:\\n{delayed_sql}\")\n",
    "    logger.debug(\"Querying database...\")\n",
    "    agg_res = execute_template_sql(db_conn, env, \"agg.sql\", params)\n",
    "    num_delay, avg_delay = agg_res[0].values()\n",
    "    delays = execute_template(db_conn, env, \"delayed.sql\", params)\n",
    "    logger.info(\"DB query executed\")\n",
    "    logger.debug(\"Query result:\\n\", delays)\n",
    "    delays_in_sentences = \"\\n\" + \"\\n\".join(\n",
    "        [\n",
    "            f\"{i+1} {d[flight_num]}: {d[d_port]} to {d[a_port]}, {int(d[a_delay])} min\"\n",
    "            for i, d in enumerate(delays)\n",
    "        ]\n",
    "    )\n",
    "    pt1 = f\"{num_delay} MH flights were late on {str_date}\"\n",
    "    pt2 = f\"by an average of {avg_delay:.0f} min.\"\n",
    "    tweet = \" \".join([pt1, pt2, delays_in_sentences])\n",
    "    if (tweet_chars := len(tweet)) > 280:\n",
    "        logging.warning(f\"Truncating tweet from {tweet_chars} to 280 chars\")\n",
    "        tweet = tweet[:280]\n",
    "    logger.debug(f\"tweet length: {len(tweet)}\")\n",
    "    return tweet"
   ]
  },
  {
   "cell_type": "markdown",
   "id": "d88c74e3-58f4-4256-b066-9316683e4ae7",
   "metadata": {},
   "source": [
    "## 3. Tweet"
   ]
  },
  {
   "cell_type": "code",
   "execution_count": null,
   "id": "04d6b2ec-d411-4162-9d27-7087999bfec8",
   "metadata": {},
   "outputs": [],
   "source": [
    "# tweet\n",
    "oauth1_client = tweepy.Client(\n",
    "    consumer_key=TWITTER_API_KEY,\n",
    "    consumer_secret=TWITTER_API_SECRET,\n",
    "    access_token=TWITTER_ACCESS_TOKEN,\n",
    "    access_token_secret=TWITTER_ACCESS_SECRET,\n",
    ")\n",
    "payload = write_flight_tweet(db_conn, str_date=str_date, template_dir=template_dir)\n",
    "if local_tweet:\n",
    "    logger.info(f\"offline tweet:\\n{payload}\")\n",
    "else:\n",
    "    try:\n",
    "        t_response = oauth1_client.create_tweet(text=payload, user_auth=True)\n",
    "        logger.info(f\"link: https://twitter.com/user/status/{t_response.data['id']}\")\n",
    "        logger.info(f\"text: {t_response.data['text']}\")\n",
    "    except Exception as e:\n",
    "        logger.error(f\"Tweet failed: {e}\")"
   ]
  }
 ],
 "metadata": {
  "kernelspec": {
   "display_name": "Python 3 (ipykernel)",
   "language": "python",
   "name": "python3"
  },
  "language_info": {
   "codemirror_mode": {
    "name": "ipython",
    "version": 3
   },
   "file_extension": ".py",
   "mimetype": "text/x-python",
   "name": "python",
   "nbconvert_exporter": "python",
   "pygments_lexer": "ipython3",
   "version": "3.11.4"
  }
 },
 "nbformat": 4,
 "nbformat_minor": 5
}
