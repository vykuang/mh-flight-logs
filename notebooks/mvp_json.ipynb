{
 "cells": [
  {
   "attachments": {},
   "cell_type": "markdown",
   "id": "798784dc-1bf2-49d5-ab0e-0452c791ff5b",
   "metadata": {},
   "source": [
    "# MVP - JSON in sqlite\n",
    "\n",
    "Instead of shoehorning JSONs into a traditional relational DB, store as-is, and leverage the JSON features to get our delay data\n",
    "\n",
    "1. call aviationstack API\n",
    "2. save json response to sqlite3 db\n",
    "3. extract data from response\n",
    "4. tweet data"
   ]
  },
  {
   "cell_type": "code",
   "execution_count": 11,
   "id": "c65f5415-659d-4853-b431-c60bb308d4ea",
   "metadata": {},
   "outputs": [],
   "source": [
    "import os\n",
    "import requests\n",
    "from urllib3.util import Retry\n",
    "from requests import Session, HTTPError\n",
    "from requests.adapters import HTTPAdapter\n",
    "from requests.exceptions import ReadTimeout\n",
    "import sqlite3\n",
    "import json\n",
    "from pathlib import Path\n",
    "from dotenv import load_dotenv\n",
    "from datetime import datetime, timezone, timedelta\n",
    "from time import sleep\n",
    "import tweepy\n",
    "import logging\n",
    "from sys import stdout\n",
    "import tomllib\n",
    "import jinja2"
   ]
  },
  {
   "cell_type": "code",
   "execution_count": 12,
   "id": "45a23814-56ab-4667-9bda-fb86f9745c18",
   "metadata": {},
   "outputs": [],
   "source": [
    "logging.basicConfig(\n",
    "    format=\"%(asctime)s [%(levelname)s] %(funcName)s: %(message)s\",\n",
    "    datefmt=\"%Y/%m/%d %H:%M:%S\",\n",
    "    handlers=[logging.StreamHandler(stdout)],\n",
    ")\n",
    "logger = logging.getLogger(__name__)\n",
    "logger.setLevel(logging.DEBUG)"
   ]
  },
  {
   "cell_type": "code",
   "execution_count": 18,
   "id": "adcd7f56-aad9-417e-abd4-2588713b8f2b",
   "metadata": {},
   "outputs": [],
   "source": [
    "secrets = Path(\"../secrets\")\n",
    "avi_env = secrets / \"av1_api\"\n",
    "twitter_env = secrets / \"twitter_api\"\n",
    "load_dotenv(avi_env)\n",
    "load_dotenv(twitter_env)\n",
    "AV_API_KEY = os.getenv(\"AVIATION_API_KEY\", \"\")\n",
    "AV_API_URL = \"http://api.aviationstack.com/v1/\"\n",
    "FLIGHT_API_URL = AV_API_URL + \"flights\"\n",
    "TWITTER_API_KEY = os.getenv(\"TWITTER_API_KEY\", \"\")\n",
    "TWITTER_API_SECRET = os.getenv(\"TWITTER_API_SECRET\", \"\")\n",
    "TWITTER_ACCESS_TOKEN = os.getenv(\"TWITTER_ACCESS_TOKEN\", \"\")\n",
    "TWITTER_ACCESS_SECRET = os.getenv(\"TWITTER_ACCESS_SECRET\", \"\")"
   ]
  },
  {
   "cell_type": "code",
   "execution_count": 14,
   "id": "684b9528-912c-4a98-a64f-bb2c60aba930",
   "metadata": {},
   "outputs": [],
   "source": [
    "toml_path = Path(\"../pyproject.toml\")\n",
    "with open(toml_path, \"rb\") as f:\n",
    "    config = tomllib.load(f)\n",
    "\n",
    "DB_NAME = config[\"sqlite\"][\"db_name\"]\n",
    "TBL_NAME = config[\"sqlite\"][\"tbl_name\"]\n",
    "JSON_COL = config[\"sqlite\"][\"json_col\"]"
   ]
  },
  {
   "cell_type": "code",
   "execution_count": 15,
   "id": "8d356601-f436-4d15-a11d-e859031648a1",
   "metadata": {},
   "outputs": [],
   "source": [
    "def write_local_json(\n",
    "    api_response: dict,\n",
    "    json_dir: Path,\n",
    "    str_date: str = str(\n",
    "        datetime.now(tz=timezone.utc).date() - timedelta(days=1)\n",
    "    ),\n",
    "    offset: int = 0,\n",
    "    limit: int = 100,\n",
    "):\n",
    "    \"\"\"\n",
    "    Saves the flight api response as json, to be uploaded to a data lake\n",
    "    json will be named according to the UTC date of when it was retrieved\n",
    "    \"\"\"\n",
    "    if not json_dir.exists():\n",
    "        json_dir.mkdir(parents=True)\n",
    "    local_json_path = (\n",
    "        json_dir / f\"flight-{str_date}-{offset}-{offset+limit}.json\"\n",
    "    )\n",
    "    logger.info(f\"saving to {local_json_path}\")\n",
    "    with open(local_json_path, \"w\") as j:\n",
    "        json.dump(api_response, j)\n",
    "        logger.debug(f\"saved to {local_json_path}\")\n",
    "    return local_json_path"
   ]
  },
  {
   "cell_type": "code",
   "execution_count": 19,
   "id": "77d3db28-054b-4562-b9ee-455362ce6b13",
   "metadata": {},
   "outputs": [],
   "source": [
    "def get_all_delays(\n",
    "    str_date: str,\n",
    "    json_dir: str,\n",
    "    limit: int = 100,\n",
    "    airline_iata: str = \"MH\",\n",
    "):\n",
    "    sesh = Session()\n",
    "    adapter = HTTPAdapter(\n",
    "        max_retries=Retry(\n",
    "            total=3,\n",
    "            backoff_factor=0.1,\n",
    "            status_forcelist=[500, 502, 503, 504, 404],\n",
    "            # allowed_methods={\"POST\"},\n",
    "        )\n",
    "    )\n",
    "    sesh.mount(AV_API_URL, adapter)\n",
    "    responses = []\n",
    "    retrieved = total = 0\n",
    "    logger.info(f\"Retrieving delayed flights for {str_date}\")\n",
    "    while not total or retrieved < total:\n",
    "        sleep(0.5)\n",
    "        logger.info(f\"retrieving {retrieved}th to {retrieved + limit}th\")\n",
    "        params = {\n",
    "            \"access_key\": AV_API_KEY,  # retrieved from .env, global scope\n",
    "            \"airline_iata\": airline_iata,\n",
    "            \"offset\": retrieved,\n",
    "            \"limit\": limit,\n",
    "            # \"min_delay_arr\": min_delay,\n",
    "        }\n",
    "        try:\n",
    "            response = sesh.get(\n",
    "                url=FLIGHT_API_URL,\n",
    "                params=params,\n",
    "                timeout=30.0,\n",
    "            )\n",
    "            response.raise_for_status()\n",
    "        # except HTTPError as exc:\n",
    "        #     logger.error(f\"HTTP Error: \\n{exc}\")\n",
    "\n",
    "        except ReadTimeout as e:\n",
    "            logger.error(\n",
    "                f\"Timeout retrieving {retrieved}th to {retrieved + limit}th:\\n{e}\"\n",
    "            )\n",
    "        # save response\n",
    "        response = response.json()\n",
    "        logger.debug(f\"retrieved {retrieved}th to {retrieved + limit}th\")\n",
    "        json_path = write_local_json(\n",
    "            response, json_dir=json_dir, str_date=str_date, offset=retrieved\n",
    "        )\n",
    "        responses.extend(response[\"data\"])\n",
    "        retrieved += response[\"pagination\"][\"count\"]\n",
    "        if not total:\n",
    "            # First request; get total count\n",
    "            total = response[\"pagination\"][\"total\"]\n",
    "            logger.info(f\"Total records count: {total}\")\n",
    "            if total == 0:\n",
    "                # prevent infinite loop if there are no records retrieved\n",
    "                logger.error(\"Zero records retrieved; exiting\")\n",
    "                break\n",
    "    return responses"
   ]
  },
  {
   "attachments": {},
   "cell_type": "markdown",
   "id": "2b34a41a-335c-4a35-be73-4a211e0b7860",
   "metadata": {},
   "source": [
    "## 1. Fetch the responses"
   ]
  },
  {
   "cell_type": "code",
   "execution_count": 21,
   "id": "ca3a866f-d66f-44a4-be9f-548a818cb8cc",
   "metadata": {
    "scrolled": true
   },
   "outputs": [
    {
     "name": "stdout",
     "output_type": "stream",
     "text": [
      "2024/01/04 22:12:44 [INFO] get_all_delays: Retrieving delayed flights for 2024-01-03\n",
      "2024/01/04 22:12:44 [INFO] get_all_delays: retrieving 0th to 100th\n",
      "2024/01/04 22:12:48 [DEBUG] get_all_delays: retrieved 0th to 100th\n",
      "2024/01/04 22:12:48 [INFO] write_local_json: saving to ../tests/data/responses/mh/flight-2024-01-03-0-100.json\n",
      "2024/01/04 22:12:48 [DEBUG] write_local_json: saved to ../tests/data/responses/mh/flight-2024-01-03-0-100.json\n",
      "2024/01/04 22:12:48 [INFO] get_all_delays: Total records count: 2663\n",
      "2024/01/04 22:12:48 [INFO] get_all_delays: retrieving 100th to 200th\n",
      "2024/01/04 22:12:52 [DEBUG] get_all_delays: retrieved 100th to 200th\n",
      "2024/01/04 22:12:52 [INFO] write_local_json: saving to ../tests/data/responses/mh/flight-2024-01-03-100-200.json\n",
      "2024/01/04 22:12:52 [DEBUG] write_local_json: saved to ../tests/data/responses/mh/flight-2024-01-03-100-200.json\n",
      "2024/01/04 22:12:53 [INFO] get_all_delays: retrieving 200th to 300th\n",
      "2024/01/04 22:12:55 [DEBUG] get_all_delays: retrieved 200th to 300th\n",
      "2024/01/04 22:12:55 [INFO] write_local_json: saving to ../tests/data/responses/mh/flight-2024-01-03-200-300.json\n",
      "2024/01/04 22:12:55 [DEBUG] write_local_json: saved to ../tests/data/responses/mh/flight-2024-01-03-200-300.json\n",
      "2024/01/04 22:12:56 [INFO] get_all_delays: retrieving 300th to 400th\n",
      "2024/01/04 22:13:00 [DEBUG] get_all_delays: retrieved 300th to 400th\n",
      "2024/01/04 22:13:00 [INFO] write_local_json: saving to ../tests/data/responses/mh/flight-2024-01-03-300-400.json\n",
      "2024/01/04 22:13:00 [DEBUG] write_local_json: saved to ../tests/data/responses/mh/flight-2024-01-03-300-400.json\n",
      "2024/01/04 22:13:00 [INFO] get_all_delays: retrieving 400th to 500th\n",
      "2024/01/04 22:13:03 [DEBUG] get_all_delays: retrieved 400th to 500th\n",
      "2024/01/04 22:13:03 [INFO] write_local_json: saving to ../tests/data/responses/mh/flight-2024-01-03-400-500.json\n",
      "2024/01/04 22:13:03 [DEBUG] write_local_json: saved to ../tests/data/responses/mh/flight-2024-01-03-400-500.json\n",
      "2024/01/04 22:13:03 [INFO] get_all_delays: retrieving 500th to 600th\n",
      "2024/01/04 22:13:08 [DEBUG] get_all_delays: retrieved 500th to 600th\n",
      "2024/01/04 22:13:08 [INFO] write_local_json: saving to ../tests/data/responses/mh/flight-2024-01-03-500-600.json\n",
      "2024/01/04 22:13:08 [DEBUG] write_local_json: saved to ../tests/data/responses/mh/flight-2024-01-03-500-600.json\n",
      "2024/01/04 22:13:08 [INFO] get_all_delays: retrieving 600th to 700th\n",
      "2024/01/04 22:13:11 [DEBUG] get_all_delays: retrieved 600th to 700th\n",
      "2024/01/04 22:13:11 [INFO] write_local_json: saving to ../tests/data/responses/mh/flight-2024-01-03-600-700.json\n",
      "2024/01/04 22:13:11 [DEBUG] write_local_json: saved to ../tests/data/responses/mh/flight-2024-01-03-600-700.json\n",
      "2024/01/04 22:13:11 [INFO] get_all_delays: retrieving 700th to 800th\n",
      "2024/01/04 22:13:16 [DEBUG] get_all_delays: retrieved 700th to 800th\n",
      "2024/01/04 22:13:16 [INFO] write_local_json: saving to ../tests/data/responses/mh/flight-2024-01-03-700-800.json\n",
      "2024/01/04 22:13:16 [DEBUG] write_local_json: saved to ../tests/data/responses/mh/flight-2024-01-03-700-800.json\n",
      "2024/01/04 22:13:17 [INFO] get_all_delays: retrieving 800th to 900th\n",
      "2024/01/04 22:13:21 [DEBUG] get_all_delays: retrieved 800th to 900th\n",
      "2024/01/04 22:13:21 [INFO] write_local_json: saving to ../tests/data/responses/mh/flight-2024-01-03-800-900.json\n",
      "2024/01/04 22:13:21 [DEBUG] write_local_json: saved to ../tests/data/responses/mh/flight-2024-01-03-800-900.json\n",
      "2024/01/04 22:13:22 [INFO] get_all_delays: retrieving 900th to 1000th\n",
      "2024/01/04 22:13:24 [DEBUG] get_all_delays: retrieved 900th to 1000th\n",
      "2024/01/04 22:13:24 [INFO] write_local_json: saving to ../tests/data/responses/mh/flight-2024-01-03-900-1000.json\n",
      "2024/01/04 22:13:24 [DEBUG] write_local_json: saved to ../tests/data/responses/mh/flight-2024-01-03-900-1000.json\n",
      "2024/01/04 22:13:25 [INFO] get_all_delays: retrieving 1000th to 1100th\n",
      "2024/01/04 22:13:28 [DEBUG] get_all_delays: retrieved 1000th to 1100th\n",
      "2024/01/04 22:13:28 [INFO] write_local_json: saving to ../tests/data/responses/mh/flight-2024-01-03-1000-1100.json\n",
      "2024/01/04 22:13:28 [DEBUG] write_local_json: saved to ../tests/data/responses/mh/flight-2024-01-03-1000-1100.json\n",
      "2024/01/04 22:13:28 [INFO] get_all_delays: retrieving 1100th to 1200th\n",
      "2024/01/04 22:13:31 [DEBUG] get_all_delays: retrieved 1100th to 1200th\n",
      "2024/01/04 22:13:31 [INFO] write_local_json: saving to ../tests/data/responses/mh/flight-2024-01-03-1100-1200.json\n",
      "2024/01/04 22:13:31 [DEBUG] write_local_json: saved to ../tests/data/responses/mh/flight-2024-01-03-1100-1200.json\n",
      "2024/01/04 22:13:31 [INFO] get_all_delays: retrieving 1200th to 1300th\n",
      "2024/01/04 22:13:34 [DEBUG] get_all_delays: retrieved 1200th to 1300th\n",
      "2024/01/04 22:13:34 [INFO] write_local_json: saving to ../tests/data/responses/mh/flight-2024-01-03-1200-1300.json\n",
      "2024/01/04 22:13:34 [DEBUG] write_local_json: saved to ../tests/data/responses/mh/flight-2024-01-03-1200-1300.json\n",
      "2024/01/04 22:13:34 [INFO] get_all_delays: retrieving 1300th to 1400th\n",
      "2024/01/04 22:13:39 [DEBUG] get_all_delays: retrieved 1300th to 1400th\n",
      "2024/01/04 22:13:39 [INFO] write_local_json: saving to ../tests/data/responses/mh/flight-2024-01-03-1300-1400.json\n",
      "2024/01/04 22:13:39 [DEBUG] write_local_json: saved to ../tests/data/responses/mh/flight-2024-01-03-1300-1400.json\n",
      "2024/01/04 22:13:39 [INFO] get_all_delays: retrieving 1400th to 1500th\n",
      "2024/01/04 22:13:45 [DEBUG] get_all_delays: retrieved 1400th to 1500th\n",
      "2024/01/04 22:13:45 [INFO] write_local_json: saving to ../tests/data/responses/mh/flight-2024-01-03-1400-1500.json\n",
      "2024/01/04 22:13:45 [DEBUG] write_local_json: saved to ../tests/data/responses/mh/flight-2024-01-03-1400-1500.json\n",
      "2024/01/04 22:13:46 [INFO] get_all_delays: retrieving 1500th to 1600th\n",
      "2024/01/04 22:13:51 [DEBUG] get_all_delays: retrieved 1500th to 1600th\n",
      "2024/01/04 22:13:51 [INFO] write_local_json: saving to ../tests/data/responses/mh/flight-2024-01-03-1500-1600.json\n",
      "2024/01/04 22:13:51 [DEBUG] write_local_json: saved to ../tests/data/responses/mh/flight-2024-01-03-1500-1600.json\n",
      "2024/01/04 22:13:51 [INFO] get_all_delays: retrieving 1600th to 1700th\n",
      "2024/01/04 22:13:54 [DEBUG] get_all_delays: retrieved 1600th to 1700th\n",
      "2024/01/04 22:13:54 [INFO] write_local_json: saving to ../tests/data/responses/mh/flight-2024-01-03-1600-1700.json\n",
      "2024/01/04 22:13:54 [DEBUG] write_local_json: saved to ../tests/data/responses/mh/flight-2024-01-03-1600-1700.json\n",
      "2024/01/04 22:13:54 [INFO] get_all_delays: retrieving 1700th to 1800th\n",
      "2024/01/04 22:14:01 [DEBUG] get_all_delays: retrieved 1700th to 1800th\n",
      "2024/01/04 22:14:01 [INFO] write_local_json: saving to ../tests/data/responses/mh/flight-2024-01-03-1700-1800.json\n",
      "2024/01/04 22:14:01 [DEBUG] write_local_json: saved to ../tests/data/responses/mh/flight-2024-01-03-1700-1800.json\n",
      "2024/01/04 22:14:02 [INFO] get_all_delays: retrieving 1800th to 1900th\n",
      "2024/01/04 22:14:04 [DEBUG] get_all_delays: retrieved 1800th to 1900th\n",
      "2024/01/04 22:14:04 [INFO] write_local_json: saving to ../tests/data/responses/mh/flight-2024-01-03-1800-1900.json\n",
      "2024/01/04 22:14:04 [DEBUG] write_local_json: saved to ../tests/data/responses/mh/flight-2024-01-03-1800-1900.json\n",
      "2024/01/04 22:14:05 [INFO] get_all_delays: retrieving 1900th to 2000th\n",
      "2024/01/04 22:14:09 [DEBUG] get_all_delays: retrieved 1900th to 2000th\n",
      "2024/01/04 22:14:09 [INFO] write_local_json: saving to ../tests/data/responses/mh/flight-2024-01-03-1900-2000.json\n",
      "2024/01/04 22:14:09 [DEBUG] write_local_json: saved to ../tests/data/responses/mh/flight-2024-01-03-1900-2000.json\n",
      "2024/01/04 22:14:09 [INFO] get_all_delays: retrieving 2000th to 2100th\n",
      "2024/01/04 22:14:13 [DEBUG] get_all_delays: retrieved 2000th to 2100th\n",
      "2024/01/04 22:14:13 [INFO] write_local_json: saving to ../tests/data/responses/mh/flight-2024-01-03-2000-2100.json\n",
      "2024/01/04 22:14:13 [DEBUG] write_local_json: saved to ../tests/data/responses/mh/flight-2024-01-03-2000-2100.json\n",
      "2024/01/04 22:14:14 [INFO] get_all_delays: retrieving 2100th to 2200th\n",
      "2024/01/04 22:14:20 [DEBUG] get_all_delays: retrieved 2100th to 2200th\n",
      "2024/01/04 22:14:20 [INFO] write_local_json: saving to ../tests/data/responses/mh/flight-2024-01-03-2100-2200.json\n",
      "2024/01/04 22:14:21 [DEBUG] write_local_json: saved to ../tests/data/responses/mh/flight-2024-01-03-2100-2200.json\n",
      "2024/01/04 22:14:21 [INFO] get_all_delays: retrieving 2200th to 2300th\n",
      "2024/01/04 22:14:26 [DEBUG] get_all_delays: retrieved 2200th to 2300th\n",
      "2024/01/04 22:14:26 [INFO] write_local_json: saving to ../tests/data/responses/mh/flight-2024-01-03-2200-2300.json\n",
      "2024/01/04 22:14:26 [DEBUG] write_local_json: saved to ../tests/data/responses/mh/flight-2024-01-03-2200-2300.json\n",
      "2024/01/04 22:14:26 [INFO] get_all_delays: retrieving 2300th to 2400th\n",
      "2024/01/04 22:14:29 [DEBUG] get_all_delays: retrieved 2300th to 2400th\n",
      "2024/01/04 22:14:29 [INFO] write_local_json: saving to ../tests/data/responses/mh/flight-2024-01-03-2300-2400.json\n",
      "2024/01/04 22:14:29 [DEBUG] write_local_json: saved to ../tests/data/responses/mh/flight-2024-01-03-2300-2400.json\n",
      "2024/01/04 22:14:30 [INFO] get_all_delays: retrieving 2400th to 2500th\n",
      "2024/01/04 22:14:33 [DEBUG] get_all_delays: retrieved 2400th to 2500th\n",
      "2024/01/04 22:14:33 [INFO] write_local_json: saving to ../tests/data/responses/mh/flight-2024-01-03-2400-2500.json\n",
      "2024/01/04 22:14:33 [DEBUG] write_local_json: saved to ../tests/data/responses/mh/flight-2024-01-03-2400-2500.json\n",
      "2024/01/04 22:14:33 [INFO] get_all_delays: retrieving 2500th to 2600th\n",
      "2024/01/04 22:14:36 [DEBUG] get_all_delays: retrieved 2500th to 2600th\n",
      "2024/01/04 22:14:36 [INFO] write_local_json: saving to ../tests/data/responses/mh/flight-2024-01-03-2500-2600.json\n",
      "2024/01/04 22:14:36 [DEBUG] write_local_json: saved to ../tests/data/responses/mh/flight-2024-01-03-2500-2600.json\n",
      "2024/01/04 22:14:36 [INFO] get_all_delays: retrieving 2600th to 2700th\n",
      "2024/01/04 22:14:40 [DEBUG] get_all_delays: retrieved 2600th to 2700th\n",
      "2024/01/04 22:14:40 [INFO] write_local_json: saving to ../tests/data/responses/mh/flight-2024-01-03-2600-2700.json\n",
      "2024/01/04 22:14:40 [DEBUG] write_local_json: saved to ../tests/data/responses/mh/flight-2024-01-03-2600-2700.json\n"
     ]
    }
   ],
   "source": [
    "str_date = \"2024-01-03\"\n",
    "responses = get_all_delays(\n",
    "    str_date=str_date, json_dir=Path(\"../tests/data/responses/mh/\")\n",
    ")"
   ]
  },
  {
   "cell_type": "code",
   "execution_count": 12,
   "id": "4d53be57-38b9-4520-9669-9f91ddcc522b",
   "metadata": {
    "scrolled": true
   },
   "outputs": [
    {
     "data": {
      "text/plain": [
       "{'flight_date': '2023-10-23',\n",
       " 'flight_status': 'landed',\n",
       " 'departure': {'airport': 'Dallas/Fort Worth International',\n",
       "  'timezone': 'America/Chicago',\n",
       "  'iata': 'DFW',\n",
       "  'icao': 'KDFW',\n",
       "  'terminal': 'C',\n",
       "  'gate': 'C19',\n",
       "  'delay': 19,\n",
       "  'scheduled': '2023-10-23T18:39:00+00:00',\n",
       "  'estimated': '2023-10-23T18:39:00+00:00',\n",
       "  'actual': '2023-10-23T18:57:00+00:00',\n",
       "  'estimated_runway': '2023-10-23T18:57:00+00:00',\n",
       "  'actual_runway': '2023-10-23T18:57:00+00:00'},\n",
       " 'arrival': {'airport': 'Charlotte Douglas',\n",
       "  'timezone': 'America/New_York',\n",
       "  'iata': 'CLT',\n",
       "  'icao': 'KCLT',\n",
       "  'terminal': '3',\n",
       "  'gate': 'D8',\n",
       "  'baggage': 'E',\n",
       "  'delay': None,\n",
       "  'scheduled': '2023-10-23T22:13:00+00:00',\n",
       "  'estimated': '2023-10-23T22:13:00+00:00',\n",
       "  'actual': '2023-10-23T21:55:00+00:00',\n",
       "  'estimated_runway': '2023-10-23T21:55:00+00:00',\n",
       "  'actual_runway': '2023-10-23T21:55:00+00:00'},\n",
       " 'airline': {'name': 'Malaysia Airlines', 'iata': 'MH', 'icao': 'MAS'},\n",
       " 'flight': {'number': '9527',\n",
       "  'iata': 'MH9527',\n",
       "  'icao': 'MAS9527',\n",
       "  'codeshared': {'airline_name': 'american airlines',\n",
       "   'airline_iata': 'aa',\n",
       "   'airline_icao': 'aal',\n",
       "   'flight_number': '522',\n",
       "   'flight_iata': 'aa522',\n",
       "   'flight_icao': 'aal522'}},\n",
       " 'aircraft': None,\n",
       " 'live': None}"
      ]
     },
     "execution_count": 12,
     "metadata": {},
     "output_type": "execute_result"
    }
   ],
   "source": [
    "responses[-1]"
   ]
  },
  {
   "cell_type": "code",
   "execution_count": 7,
   "id": "f431fcae-2e30-486f-96ea-0d0ceb905eb8",
   "metadata": {
    "scrolled": true
   },
   "outputs": [
    {
     "name": "stdout",
     "output_type": "stream",
     "text": [
      "2023/10/18 10:37:34 [DEBUG] <module>: looking for ../data/responses/flight-2023-10-13-700-800.json\n",
      "2023/10/18 10:37:35 [DEBUG] <module>: looking for ../data/responses/flight-2023-10-13-800-900.json\n",
      "2023/10/18 10:37:35 [DEBUG] <module>: looking for ../data/responses/flight-2023-10-13-400-500.json\n",
      "2023/10/18 10:37:35 [DEBUG] <module>: looking for ../data/responses/flight-2023-10-13-100-200.json\n",
      "2023/10/18 10:37:35 [DEBUG] <module>: looking for ../data/responses/flight-2023-10-13-300-400.json\n",
      "2023/10/18 10:37:35 [DEBUG] <module>: looking for ../data/responses/flight-2023-10-13-600-700.json\n",
      "2023/10/18 10:37:35 [DEBUG] <module>: looking for ../data/responses/flight-2023-10-13-200-300.json\n",
      "2023/10/18 10:37:35 [DEBUG] <module>: looking for ../data/responses/flight-2023-10-13-0-100.json\n",
      "2023/10/18 10:37:35 [DEBUG] <module>: looking for ../data/responses/flight-2023-10-13-500-600.json\n",
      "2023/10/18 10:37:35 [INFO] <module>: 819 entries on 2023-10-13\n"
     ]
    }
   ],
   "source": [
    "# get existing json, for testing\n",
    "responses = []\n",
    "str_date = \"2023-10-13\"\n",
    "json_dir = Path(\"../data/responses\")\n",
    "json_paths = json_dir.glob(f\"flight-{str_date}-*.json\")\n",
    "for json_file in json_paths:\n",
    "    logger.debug(f\"looking for {json_file}\")\n",
    "    with open(json_file) as j:\n",
    "        flight_page = json.load(j)\n",
    "        responses.extend(flight_page[\"data\"])\n",
    "\n",
    "logger.info(f\"{len(responses)} entries on {str_date}\")"
   ]
  },
  {
   "cell_type": "code",
   "execution_count": 13,
   "id": "ce3e0b08-f014-463d-a7a7-e5d3d198cd30",
   "metadata": {},
   "outputs": [],
   "source": [
    "def execute_template_sql(\n",
    "    db_conn: sqlite3.Connection,\n",
    "    env: jinja2.Environment,\n",
    "    template: str,\n",
    "    params: dict,\n",
    "    data: list = None,\n",
    "):\n",
    "    \"\"\"\n",
    "    Renders the jinja templated sql and executes,\n",
    "    returning results if any\n",
    "    \"\"\"\n",
    "    sql = env.get_template(template).render(params)\n",
    "    logger.debug(f\"rendered SQL:\\n{sql}\")\n",
    "    with db_conn:\n",
    "        if data:\n",
    "            db_conn.executemany(sql, data)\n",
    "            return None\n",
    "        else:\n",
    "            # executescript did not return any results\n",
    "            if \"CREATE\" in sql or \"INSERT INTO\" in sql:\n",
    "                db_conn.executescript(sql)\n",
    "            else:\n",
    "                return db_conn.execute(sql)"
   ]
  },
  {
   "attachments": {},
   "cell_type": "markdown",
   "id": "4436d99f-3565-4f15-abe8-29d0d6376d93",
   "metadata": {},
   "source": [
    "## 2. Insert JSON to sqlite"
   ]
  },
  {
   "cell_type": "code",
   "execution_count": 14,
   "id": "195edea2-316e-44d2-8923-eb29c09078ee",
   "metadata": {
    "scrolled": true
   },
   "outputs": [
    {
     "name": "stdout",
     "output_type": "stream",
     "text": [
      "2023/10/24 10:51:32 [DEBUG] execute_template_sql: rendered SQL:\n",
      "INSERT OR REPLACE INTO import_flight_records (flights_json) VALUES ( ? );\n"
     ]
    }
   ],
   "source": [
    "# app args\n",
    "data_dir = Path(\"../data\")\n",
    "template_dir = Path(\"../templates\")\n",
    "params = dict(\n",
    "    tbl_name=TBL_NAME,\n",
    "    json_col=JSON_COL,\n",
    ")\n",
    "# instantiate db conn and jinja env\n",
    "env = jinja2.Environment(loader=jinja2.FileSystemLoader(template_dir))\n",
    "# search for existing db\n",
    "# db_path = data_dir / f\"{DB_NAME}.db\"\n",
    "db_path = data_dir / \"sample.db\"\n",
    "# check before connecting, which implicitly create\n",
    "db_exists = db_path.exists()\n",
    "db_conn = sqlite3.connect(db_path)\n",
    "if not db_exists:\n",
    "    logger.info(f\"{db_path} does not exist, initializing...\")\n",
    "    execute_template_sql(db_conn, env, \"create.sql\", params)\n",
    "\n",
    "# UPSERT data\n",
    "# restructure as list of tuples\n",
    "flights = [(json.dumps(flight),) for flight in responses]\n",
    "# db_conn.executemany(f\"INSERT OR REPLACE INTO {TBL_NAME} ({JSON_COL}) VALUES( ? )\", flights)\n",
    "execute_template_sql(db_conn, env, \"insert.sql\", params, flights)"
   ]
  },
  {
   "attachments": {},
   "cell_type": "markdown",
   "id": "a9ba9207-72d9-4628-afec-b03dee219809",
   "metadata": {},
   "source": [
    "Testing if the transaction was successful"
   ]
  },
  {
   "cell_type": "code",
   "execution_count": 16,
   "id": "8f138de8-d13c-454c-b0e1-1fc094194e17",
   "metadata": {
    "scrolled": true
   },
   "outputs": [
    {
     "name": "stdout",
     "output_type": "stream",
     "text": [
      "(1204, 21.625)\n"
     ]
    }
   ],
   "source": [
    "str_date = \"2023-10-23\"\n",
    "with db_conn:\n",
    "    res = db_conn.execute(\n",
    "        f\"\"\"\n",
    "        select count(*) num_flight, avg(arr_delay) avg_delay \n",
    "        from import_flight_records \n",
    "        where date(datetime(arr_time)) = '{str_date}'\n",
    "        \"\"\"\n",
    "    )\n",
    "\n",
    "# cannot subscript the returned cursor\n",
    "print(next(res))"
   ]
  },
  {
   "attachments": {},
   "cell_type": "markdown",
   "id": "a285f638-6409-40f2-8e98-3304e4e9e401",
   "metadata": {},
   "source": [
    "## Tweeting it out"
   ]
  },
  {
   "cell_type": "code",
   "execution_count": 17,
   "id": "2e7d3c26-5320-4ec7-b3c8-04743d6221ba",
   "metadata": {},
   "outputs": [],
   "source": [
    "def dict_factory(cursor, row):\n",
    "    \"\"\"\n",
    "    cursor: sqlite3 cursor object\n",
    "    row: tuple from query result\n",
    "    returns the tuple row as dict\n",
    "    \"\"\"\n",
    "    # .description attr returns a 7-tuple; only 1st is the col name\n",
    "    fields = [descr[0] for descr in cursor.description]\n",
    "    return {field: val for field, val in zip(fields, row)}\n",
    "\n",
    "\n",
    "db_conn.row_factory = dict_factory"
   ]
  },
  {
   "cell_type": "code",
   "execution_count": 21,
   "id": "d1a9ed9f-fadb-4e01-946e-dbed956e2823",
   "metadata": {
    "scrolled": true
   },
   "outputs": [
    {
     "name": "stdout",
     "output_type": "stream",
     "text": [
      "2023/10/24 11:56:46 [DEBUG] <module>: Querying database...\n",
      "2023/10/24 11:56:46 [DEBUG] execute_template_sql: rendered SQL:\n",
      "WITH RECURSIVE \n",
      "    t(flight_date, total) AS (\n",
      "        SELECT \n",
      "            DATE(DATETIME(arr_time)) flight_date,\n",
      "            COUNT(*) total \n",
      "        FROM import_flight_records\n",
      "        WHERE flight_date = '2023-10-23')\n",
      "SELECT \n",
      "    t.total total,\n",
      "    COUNT(arr_delay) num_delayed,\n",
      "    AVG(CAST(arr_delay AS INTEGER)) avg_delay\n",
      "FROM import_flight_records d LEFT JOIN t\n",
      "WHERE DATE(d.arr_time) = t.flight_date\n",
      "AND arr_delay > 0;\n",
      "2023/10/24 11:56:46 [DEBUG] execute_template_sql: rendered SQL:\n",
      "WITH RECURSIVE \n",
      "delays(flight_num, start, dest, delay) as (\n",
      "    SELECT\n",
      "        flight_iata_number as flight_num,\n",
      "        json_extract(flights_json,'$.departure.airport') as start,\n",
      "        json_extract(flights_json,'$.arrival.airport') as dest,\n",
      "        CAST(arr_delay AS INTEGER) as delay\n",
      "    FROM import_flight_records\n",
      "    WHERE json_extract(flights_json,'$.flight_date') = '2023-10-23'\n",
      ")\n",
      "SELECT\n",
      "    flight_num,\n",
      "    REPLACE(\n",
      "    REPLACE(\n",
      "    REPLACE(start, ' International Airport', ''), \n",
      "    ' International', ''),\n",
      "    ' Airport', '') AS start,\n",
      "    REPLACE(\n",
      "    REPLACE(\n",
      "    REPLACE(dest, ' International Airport', ''), \n",
      "    ' International', ''),\n",
      "    ' Airport', '') AS dest,\n",
      "    delay\n",
      "FROM delays\n",
      "ORDER BY delay DESC\n",
      "LIMIT 3;\n"
     ]
    }
   ],
   "source": [
    "logger.debug(\"Querying database...\")\n",
    "params = dict(tbl_name=TBL_NAME, json_col=JSON_COL, str_date=str_date)\n",
    "agg = execute_template_sql(db_conn, env, \"agg.sql\", params)\n",
    "delays = execute_template_sql(db_conn, env, \"delayed_json.sql\", params)"
   ]
  },
  {
   "cell_type": "code",
   "execution_count": 19,
   "id": "cceb1e3c-7c14-4acf-97b7-00e3cd1111f0",
   "metadata": {},
   "outputs": [
    {
     "name": "stdout",
     "output_type": "stream",
     "text": [
      "dict_values([1204, 504, 21.625])\n"
     ]
    }
   ],
   "source": [
    "print(next(agg).values())"
   ]
  },
  {
   "cell_type": "code",
   "execution_count": 20,
   "id": "5e786258-8365-4b93-bcd9-45e6fbd459aa",
   "metadata": {},
   "outputs": [
    {
     "name": "stdout",
     "output_type": "stream",
     "text": [
      "{'flight_num': 'MH6204', 'start': 'Sydney Kingsford Smith', 'dest': 'Kuala Lumpur (klia)', 'delay': 288}\n",
      "{'flight_num': 'MH5656', 'start': 'Kuala Lumpur (klia)', 'dest': 'Schiphol', 'delay': 221}\n",
      "{'flight_num': 'MH377', 'start': 'Guangzhou Baiyun', 'dest': 'Kuala Lumpur (klia)', 'delay': 186}\n"
     ]
    }
   ],
   "source": [
    "for d in delays:\n",
    "    print(d)"
   ]
  },
  {
   "cell_type": "code",
   "execution_count": 36,
   "id": "0a5024e0-bb1c-43e3-a00c-c9e2013b3f44",
   "metadata": {},
   "outputs": [],
   "source": [
    "%load_ext sql"
   ]
  },
  {
   "cell_type": "code",
   "execution_count": 37,
   "id": "9e95ed7a-128e-4805-ac28-be1ba2ec84ec",
   "metadata": {},
   "outputs": [],
   "source": [
    "%sql sqlite:///../data/sample.db"
   ]
  },
  {
   "cell_type": "code",
   "execution_count": 39,
   "id": "fa646e4d-ca5d-4ae9-b055-b8d280a8425c",
   "metadata": {},
   "outputs": [
    {
     "name": "stdout",
     "output_type": "stream",
     "text": [
      " * sqlite:///../data/sample.db\n",
      "Done.\n"
     ]
    },
    {
     "data": {
      "text/html": [
       "<table>\n",
       "    <thead>\n",
       "        <tr>\n",
       "            <th>num_flights</th>\n",
       "            <th>avgdelay</th>\n",
       "        </tr>\n",
       "    </thead>\n",
       "    <tbody>\n",
       "        <tr>\n",
       "            <td>246</td>\n",
       "            <td>20.109756097560975</td>\n",
       "        </tr>\n",
       "    </tbody>\n",
       "</table>"
      ],
      "text/plain": [
       "[(246, 20.109756097560975)]"
      ]
     },
     "execution_count": 39,
     "metadata": {},
     "output_type": "execute_result"
    }
   ],
   "source": [
    "%%sql\n",
    "select\n",
    "    count(*) num_flights,\n",
    "    avg(cast(arr_delay as integer)) as avgdelay\n",
    "from import_flight_records\n",
    "where date(arr_time) = '2023-10-22'\n",
    "and arr_delay is not null\n"
   ]
  },
  {
   "attachments": {},
   "cell_type": "markdown",
   "id": "d88c74e3-58f4-4256-b066-9316683e4ae7",
   "metadata": {},
   "source": [
    "## 3. Tweet"
   ]
  },
  {
   "cell_type": "code",
   "execution_count": 22,
   "id": "04d6b2ec-d411-4162-9d27-7087999bfec8",
   "metadata": {},
   "outputs": [
    {
     "name": "stdout",
     "output_type": "stream",
     "text": [
      "2023/10/24 11:57:09 [DEBUG] <module>: tweet length: 243\n"
     ]
    }
   ],
   "source": [
    "total, num_delay, avg_delay = next(agg).values()\n",
    "pt1 = f\"{num_delay}/{total} MH flights were late on {str_date}\"\n",
    "pt2 = f\"by an average of {avg_delay:.0f} min.\"\n",
    "delays_in_sentences = \"\\n\" + \"\\n\".join(\n",
    "    [\n",
    "        f\"{i+1} {d['flight_num']}: {d['start']} to {d['dest']}, {d['delay']} min\"\n",
    "        for i, d in enumerate(delays)\n",
    "    ]\n",
    ")\n",
    "tweet = \" \".join([pt1, pt2, delays_in_sentences])\n",
    "if (tweet_chars := len(tweet)) > 280:\n",
    "    logging.warning(f\"Truncating tweet from {tweet_chars} to 280 chars\")\n",
    "    tweet = tweet[:280]\n",
    "logger.debug(f\"tweet length: {len(tweet)}\")\n",
    "# payload = write_flight_tweet(db_conn, str_date=str_date, template_dir=template_dir)"
   ]
  },
  {
   "cell_type": "code",
   "execution_count": 23,
   "id": "9e23e1ca-72c4-437e-bdda-4a2d64be629d",
   "metadata": {},
   "outputs": [
    {
     "name": "stdout",
     "output_type": "stream",
     "text": [
      "2023/10/24 11:57:49 [INFO] <module>: offline tweet:\n",
      "504/1204 MH flights were late on 2023-10-23 by an average of 22 min. \n",
      "1 MH6204: Sydney Kingsford Smith to Kuala Lumpur (klia), 288 min\n",
      "2 MH5656: Kuala Lumpur (klia) to Schiphol, 221 min\n",
      "3 MH377: Guangzhou Baiyun to Kuala Lumpur (klia), 186 min\n"
     ]
    }
   ],
   "source": [
    "# tweet\n",
    "oauth1_client = tweepy.Client(\n",
    "    consumer_key=TWITTER_API_KEY,\n",
    "    consumer_secret=TWITTER_API_SECRET,\n",
    "    access_token=TWITTER_ACCESS_TOKEN,\n",
    "    access_token_secret=TWITTER_ACCESS_SECRET,\n",
    ")\n",
    "local_tweet = True\n",
    "if local_tweet:\n",
    "    logger.info(f\"offline tweet:\\n{tweet}\")\n",
    "else:\n",
    "    try:\n",
    "        t_response = oauth1_client.create_tweet(text=tweet, user_auth=True)\n",
    "        logger.info(\n",
    "            f\"link: https://twitter.com/user/status/{t_response.data['id']}\"\n",
    "        )\n",
    "        logger.info(f\"text: {t_response.data['text']}\")\n",
    "    except Exception as e:\n",
    "        logger.error(f\"Tweet failed: {e}\")"
   ]
  },
  {
   "attachments": {},
   "cell_type": "markdown",
   "id": "4f480954-fca4-44d7-b328-284b3e2bcdd5",
   "metadata": {},
   "source": [
    "## Flight dates and Scheduling\n",
    "\n",
    "1. Schedule the script to execute at midnight UTC\n",
    "2. Request API\n",
    "3. Look for entries from yesterday, i.e. `flight_date = date.today - 1`; this will include all flights that have left already, but will also include those that have not yet landed, or even some that have not yet departed if it was delayed. Assuming those are the minority, the script will only use results from this set"
   ]
  },
  {
   "cell_type": "code",
   "execution_count": 25,
   "id": "b9d2d6f2-0a68-420a-83c1-2489449fb60d",
   "metadata": {},
   "outputs": [
    {
     "name": "stdout",
     "output_type": "stream",
     "text": [
      "2023/11/22 11:08:55 [INFO] main: main: 1\n",
      "2023/11/22 11:08:55 [INFO] main: {'b': 2, 'c': 3}\n",
      "2023/11/22 11:08:55 [INFO] sub: sub: 2 and 3\n"
     ]
    }
   ],
   "source": [
    "def sub(**kwargs):\n",
    "    \"\"\"\n",
    "    sub will use all other args passed from main\n",
    "    \"\"\"\n",
    "    b = kwargs[\"b\"]\n",
    "    c = kwargs[\"c\"]\n",
    "    logger.info(f\"sub: {b} and {c}\")\n",
    "\n",
    "\n",
    "def main(a, *args, **kwargs):\n",
    "    \"\"\"\n",
    "    main will only use a, pass on rest of inner funcs\n",
    "    \"\"\"\n",
    "    logger.info(f\"main: {a}\")\n",
    "    logger.info(f\"{kwargs}\")\n",
    "    sub(**kwargs)\n",
    "\n",
    "\n",
    "main(1, \"foo\", \"bar\", b=2, c=3)"
   ]
  }
 ],
 "metadata": {
  "kernelspec": {
   "display_name": "Python 3 (ipykernel)",
   "language": "python",
   "name": "python3"
  },
  "language_info": {
   "codemirror_mode": {
    "name": "ipython",
    "version": 3
   },
   "file_extension": ".py",
   "mimetype": "text/x-python",
   "name": "python",
   "nbconvert_exporter": "python",
   "pygments_lexer": "ipython3",
   "version": "3.11.6"
  }
 },
 "nbformat": 4,
 "nbformat_minor": 5
}
