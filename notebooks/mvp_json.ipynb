{
 "cells": [
  {
   "cell_type": "markdown",
   "id": "798784dc-1bf2-49d5-ab0e-0452c791ff5b",
   "metadata": {},
   "source": [
    "# MVP - JSON in sqlite\n",
    "\n",
    "Instead of shoehorning JSONs into a traditional relational DB, store as-is, and leverage the JSON features to get our delay data\n",
    "\n",
    "1. call aviationstack API\n",
    "2. save json response to sqlite3 db\n",
    "3. extract data from response\n",
    "4. tweet data"
   ]
  },
  {
   "cell_type": "code",
   "execution_count": 1,
   "id": "c65f5415-659d-4853-b431-c60bb308d4ea",
   "metadata": {},
   "outputs": [],
   "source": [
    "import os\n",
    "import requests\n",
    "from urllib3.util import Retry\n",
    "from requests import Session, HTTPError\n",
    "from requests.adapters import HTTPAdapter\n",
    "from requests.exceptions import ReadTimeout\n",
    "import sqlite3\n",
    "import json\n",
    "from pathlib import Path\n",
    "from dotenv import load_dotenv\n",
    "from datetime import datetime, timezone, timedelta\n",
    "from time import sleep\n",
    "import tweepy\n",
    "import logging\n",
    "from sys import stdout\n",
    "import tomllib\n",
    "import jinja2"
   ]
  },
  {
   "cell_type": "code",
   "execution_count": 2,
   "id": "45a23814-56ab-4667-9bda-fb86f9745c18",
   "metadata": {},
   "outputs": [],
   "source": [
    "logging.basicConfig(\n",
    "    format=\"%(asctime)s [%(levelname)s] %(funcName)s: %(message)s\",\n",
    "    datefmt=\"%Y/%m/%d %H:%M:%S\",\n",
    "    handlers=[logging.StreamHandler(stdout)],\n",
    ")\n",
    "logger = logging.getLogger(__name__)\n",
    "logger.setLevel(logging.DEBUG)"
   ]
  },
  {
   "cell_type": "code",
   "execution_count": 3,
   "id": "adcd7f56-aad9-417e-abd4-2588713b8f2b",
   "metadata": {},
   "outputs": [],
   "source": [
    "env_path = Path(\"../.env\")\n",
    "load_dotenv(env_path)\n",
    "AV_API_KEY = os.getenv(\"AVIATION_API_KEY\", \"\")\n",
    "AV_API_URL = \"http://api.aviationstack.com/v1/\"\n",
    "FLIGHT_API_URL = AV_API_URL + \"flights\"\n",
    "TWITTER_API_KEY = os.getenv(\"TWITTER_API_KEY\", \"\")\n",
    "TWITTER_API_SECRET = os.getenv(\"TWITTER_API_SECRET\", \"\")\n",
    "TWITTER_ACCESS_TOKEN = os.getenv(\"TWITTER_ACCESS_TOKEN\", \"\")\n",
    "TWITTER_ACCESS_SECRET = os.getenv(\"TWITTER_ACCESS_SECRET\", \"\")"
   ]
  },
  {
   "cell_type": "code",
   "execution_count": 4,
   "id": "684b9528-912c-4a98-a64f-bb2c60aba930",
   "metadata": {},
   "outputs": [],
   "source": [
    "toml_path = Path(\"../pyproject.toml\")\n",
    "with open(toml_path, \"rb\") as f:\n",
    "    config = tomllib.load(f)\n",
    "\n",
    "DB_NAME = config[\"sqlite\"][\"db_name\"]\n",
    "TBL_NAME = config[\"sqlite\"][\"tbl_name\"]\n",
    "JSON_COL = config[\"sqlite\"][\"json_col\"]"
   ]
  },
  {
   "cell_type": "code",
   "execution_count": 5,
   "id": "8d356601-f436-4d15-a11d-e859031648a1",
   "metadata": {},
   "outputs": [],
   "source": [
    "def write_local_json(\n",
    "    api_response: dict,\n",
    "    json_dir: Path,\n",
    "    str_date: str = str(datetime.now(tz=timezone.utc).date() - timedelta(days=1)),\n",
    "    offset: int = 0,\n",
    "    limit: int = 100,\n",
    "):\n",
    "    \"\"\"\n",
    "    Saves the flight api response as json, to be uploaded to a data lake\n",
    "    json will be named according to the UTC date of when it was retrieved\n",
    "    \"\"\"\n",
    "    if not json_dir.exists():\n",
    "        json_dir.mkdir(parents=True)\n",
    "    local_json_path = json_dir / f\"flight-{str_date}-{offset}-{offset+limit}.json\"\n",
    "    logger.info(f\"saving to {local_json_path}\")\n",
    "    with open(local_json_path, \"w\") as j:\n",
    "        json.dump(api_response, j)\n",
    "        logger.debug(f\"saved to {local_json_path}\")\n",
    "    return local_json_path"
   ]
  },
  {
   "cell_type": "code",
   "execution_count": 6,
   "id": "77d3db28-054b-4562-b9ee-455362ce6b13",
   "metadata": {},
   "outputs": [],
   "source": [
    "def get_all_delays(\n",
    "    json_dir: str,\n",
    "    limit: int = 100,\n",
    "    airline: str = \"Malaysia Airlines\",\n",
    "    min_delay: int = 1,\n",
    "    str_date: str = str(datetime.now(tz=timezone.utc).date() - timedelta(days=1)),\n",
    "):\n",
    "    sesh = Session()\n",
    "    adapter = HTTPAdapter(\n",
    "        max_retries=Retry(\n",
    "            total=3,\n",
    "            backoff_factor=0.1,\n",
    "            status_forcelist=[500, 502, 503, 504],\n",
    "            # allowed_methods={\"POST\"},\n",
    "        )\n",
    "    )\n",
    "    sesh.mount(AV_API_URL, adapter)\n",
    "    responses = []\n",
    "    retrieved = total = 0\n",
    "    logger.info(f\"Retrieving delayed flights for {str_date}\")\n",
    "    while not total or retrieved < total:\n",
    "        sleep(0.5)\n",
    "        logger.info(f\"retrieving {retrieved}th to {retrieved + limit}th\")\n",
    "        params = {\n",
    "            \"access_key\": AV_API_KEY,  # retrieved from .env, global scope\n",
    "            \"offset\": retrieved,\n",
    "            \"limit\": limit,\n",
    "            \"airline_name\": airline,\n",
    "            \"min_delay_arr\": min_delay,\n",
    "        }\n",
    "        try:\n",
    "            response = sesh.get(\n",
    "                url=FLIGHT_API_URL,\n",
    "                params=params,\n",
    "                timeout=30.0,\n",
    "            )\n",
    "            response.raise_for_status()\n",
    "        except HTTPError as exc:\n",
    "            logger.error(f\"HTTP Error: \\n{exc}\")\n",
    "\n",
    "        except ReadTimeout as e:\n",
    "            logger.error(\n",
    "                f\"Timeout retrieving {retrieved}th to {retrieved + limit}th:\\n{e}\"\n",
    "            )\n",
    "        # save response\n",
    "        response = response.json()\n",
    "        logger.debug(f\"retrieved {retrieved}th to {retrieved + limit}th\")\n",
    "        json_path = write_local_json(\n",
    "            response, json_dir=json_dir, str_date=str_date, offset=retrieved\n",
    "        )\n",
    "        responses.extend(response[\"data\"])\n",
    "        retrieved += response[\"pagination\"][\"count\"]\n",
    "        if not total:\n",
    "            # First request; get total count\n",
    "            total = response[\"pagination\"][\"total\"]\n",
    "            logger.info(f\"Total records count: {total}\")\n",
    "            if total == 0:\n",
    "                # prevent infinite loop if there are no records retrieved\n",
    "                logger.error(\"Zero records retrieved; exiting\")\n",
    "                break\n",
    "    return responses"
   ]
  },
  {
   "attachments": {},
   "cell_type": "markdown",
   "id": "2b34a41a-335c-4a35-be73-4a211e0b7860",
   "metadata": {},
   "source": [
    "## 1. Fetch the responses"
   ]
  },
  {
   "cell_type": "code",
   "execution_count": 7,
   "id": "ca3a866f-d66f-44a4-be9f-548a818cb8cc",
   "metadata": {
    "scrolled": true
   },
   "outputs": [
    {
     "name": "stdout",
     "output_type": "stream",
     "text": [
      "2023/10/23 14:37:41 [INFO] get_all_delays: Retrieving delayed flights for 2023-10-22\n",
      "2023/10/23 14:37:41 [INFO] get_all_delays: retrieving 0th to 100th\n",
      "2023/10/23 14:37:54 [DEBUG] get_all_delays: retrieved 0th to 100th\n",
      "2023/10/23 14:37:54 [INFO] write_local_json: saving to ../data/responses/flight-2023-10-22-0-100.json\n",
      "2023/10/23 14:37:54 [DEBUG] write_local_json: saved to ../data/responses/flight-2023-10-22-0-100.json\n",
      "2023/10/23 14:37:54 [INFO] get_all_delays: Total records count: 466\n",
      "2023/10/23 14:37:54 [INFO] get_all_delays: retrieving 100th to 200th\n",
      "2023/10/23 14:37:57 [DEBUG] get_all_delays: retrieved 100th to 200th\n",
      "2023/10/23 14:37:57 [INFO] write_local_json: saving to ../data/responses/flight-2023-10-22-100-200.json\n",
      "2023/10/23 14:37:57 [DEBUG] write_local_json: saved to ../data/responses/flight-2023-10-22-100-200.json\n",
      "2023/10/23 14:37:58 [INFO] get_all_delays: retrieving 200th to 300th\n",
      "2023/10/23 14:38:02 [DEBUG] get_all_delays: retrieved 200th to 300th\n",
      "2023/10/23 14:38:02 [INFO] write_local_json: saving to ../data/responses/flight-2023-10-22-200-300.json\n",
      "2023/10/23 14:38:02 [DEBUG] write_local_json: saved to ../data/responses/flight-2023-10-22-200-300.json\n",
      "2023/10/23 14:38:03 [INFO] get_all_delays: retrieving 300th to 400th\n",
      "2023/10/23 14:38:12 [DEBUG] get_all_delays: retrieved 300th to 400th\n",
      "2023/10/23 14:38:12 [INFO] write_local_json: saving to ../data/responses/flight-2023-10-22-300-400.json\n",
      "2023/10/23 14:38:12 [DEBUG] write_local_json: saved to ../data/responses/flight-2023-10-22-300-400.json\n",
      "2023/10/23 14:38:12 [INFO] get_all_delays: retrieving 400th to 500th\n",
      "2023/10/23 14:38:16 [DEBUG] get_all_delays: retrieved 400th to 500th\n",
      "2023/10/23 14:38:16 [INFO] write_local_json: saving to ../data/responses/flight-2023-10-22-400-500.json\n",
      "2023/10/23 14:38:16 [DEBUG] write_local_json: saved to ../data/responses/flight-2023-10-22-400-500.json\n"
     ]
    }
   ],
   "source": [
    "responses = get_all_delays(Path(\"../data/responses/\"))"
   ]
  },
  {
   "cell_type": "code",
   "execution_count": 9,
   "id": "4d53be57-38b9-4520-9669-9f91ddcc522b",
   "metadata": {
    "collapsed": true,
    "jupyter": {
     "outputs_hidden": true
    },
    "scrolled": true
   },
   "outputs": [
    {
     "data": {
      "text/plain": [
       "{'flight_date': '2023-10-23',\n",
       " 'flight_status': 'active',\n",
       " 'departure': {'airport': 'Suvarnabhumi International',\n",
       "  'timezone': 'Asia/Bangkok',\n",
       "  'iata': 'BKK',\n",
       "  'icao': 'VTBS',\n",
       "  'terminal': None,\n",
       "  'gate': None,\n",
       "  'delay': 19,\n",
       "  'scheduled': '2023-10-23T12:15:00+00:00',\n",
       "  'estimated': '2023-10-23T12:15:00+00:00',\n",
       "  'actual': '2023-10-23T12:33:00+00:00',\n",
       "  'estimated_runway': '2023-10-23T12:33:00+00:00',\n",
       "  'actual_runway': '2023-10-23T12:33:00+00:00'},\n",
       " 'arrival': {'airport': 'Koh Samui',\n",
       "  'timezone': 'Asia/Bangkok',\n",
       "  'iata': 'USM',\n",
       "  'icao': 'VTSM',\n",
       "  'terminal': 'D',\n",
       "  'gate': None,\n",
       "  'baggage': None,\n",
       "  'delay': 6,\n",
       "  'scheduled': '2023-10-23T13:20:00+00:00',\n",
       "  'estimated': '2023-10-23T13:20:00+00:00',\n",
       "  'actual': None,\n",
       "  'estimated_runway': None,\n",
       "  'actual_runway': None},\n",
       " 'airline': {'name': 'Malaysia Airlines', 'iata': 'MH', 'icao': 'MAS'},\n",
       " 'flight': {'number': '4879',\n",
       "  'iata': 'MH4879',\n",
       "  'icao': 'MAS4879',\n",
       "  'codeshared': {'airline_name': 'bangkok airways',\n",
       "   'airline_iata': 'pg',\n",
       "   'airline_icao': 'bkp',\n",
       "   'flight_number': '131',\n",
       "   'flight_iata': 'pg131',\n",
       "   'flight_icao': 'bkp131'}},\n",
       " 'aircraft': None,\n",
       " 'live': None}"
      ]
     },
     "execution_count": 9,
     "metadata": {},
     "output_type": "execute_result"
    }
   ],
   "source": [
    "responses[0]"
   ]
  },
  {
   "cell_type": "code",
   "execution_count": 7,
   "id": "f431fcae-2e30-486f-96ea-0d0ceb905eb8",
   "metadata": {
    "scrolled": true
   },
   "outputs": [
    {
     "name": "stdout",
     "output_type": "stream",
     "text": [
      "2023/10/18 10:37:34 [DEBUG] <module>: looking for ../data/responses/flight-2023-10-13-700-800.json\n",
      "2023/10/18 10:37:35 [DEBUG] <module>: looking for ../data/responses/flight-2023-10-13-800-900.json\n",
      "2023/10/18 10:37:35 [DEBUG] <module>: looking for ../data/responses/flight-2023-10-13-400-500.json\n",
      "2023/10/18 10:37:35 [DEBUG] <module>: looking for ../data/responses/flight-2023-10-13-100-200.json\n",
      "2023/10/18 10:37:35 [DEBUG] <module>: looking for ../data/responses/flight-2023-10-13-300-400.json\n",
      "2023/10/18 10:37:35 [DEBUG] <module>: looking for ../data/responses/flight-2023-10-13-600-700.json\n",
      "2023/10/18 10:37:35 [DEBUG] <module>: looking for ../data/responses/flight-2023-10-13-200-300.json\n",
      "2023/10/18 10:37:35 [DEBUG] <module>: looking for ../data/responses/flight-2023-10-13-0-100.json\n",
      "2023/10/18 10:37:35 [DEBUG] <module>: looking for ../data/responses/flight-2023-10-13-500-600.json\n",
      "2023/10/18 10:37:35 [INFO] <module>: 819 entries on 2023-10-13\n"
     ]
    }
   ],
   "source": [
    "# get existing json, for testing\n",
    "responses = []\n",
    "str_date = \"2023-10-13\"\n",
    "json_dir = Path(\"../data/responses\")\n",
    "json_paths = json_dir.glob(f\"flight-{str_date}-*.json\")\n",
    "for json_file in json_paths:\n",
    "    logger.debug(f\"looking for {json_file}\")\n",
    "    with open(json_file) as j:\n",
    "        flight_page = json.load(j)\n",
    "        responses.extend(flight_page[\"data\"])\n",
    "\n",
    "logger.info(f\"{len(responses)} entries on {str_date}\")"
   ]
  },
  {
   "cell_type": "code",
   "execution_count": 10,
   "id": "ce3e0b08-f014-463d-a7a7-e5d3d198cd30",
   "metadata": {},
   "outputs": [],
   "source": [
    "def execute_template_sql(\n",
    "    db_conn: sqlite3.Connection,\n",
    "    env: jinja2.Environment,\n",
    "    template: str,\n",
    "    params: dict,\n",
    "    data: list = None,\n",
    "):\n",
    "    \"\"\"\n",
    "    Renders the jinja templated sql and executes,\n",
    "    returning results if any\n",
    "    \"\"\"\n",
    "    sql = env.get_template(template).render(params)\n",
    "    logger.debug(f\"rendered SQL:\\n{sql}\")\n",
    "    with db_conn:\n",
    "        if data:\n",
    "            db_conn.executemany(sql, data)\n",
    "            return None\n",
    "        else:\n",
    "            # executescript did not return any results\n",
    "            if \"CREATE\" in sql or \"INSERT INTO\" in sql:\n",
    "                db_conn.executescript(sql)\n",
    "            else:\n",
    "                return db_conn.execute(sql)"
   ]
  },
  {
   "cell_type": "markdown",
   "id": "4436d99f-3565-4f15-abe8-29d0d6376d93",
   "metadata": {},
   "source": [
    "## 2. Insert JSON to sqlite"
   ]
  },
  {
   "cell_type": "code",
   "execution_count": 11,
   "id": "195edea2-316e-44d2-8923-eb29c09078ee",
   "metadata": {
    "scrolled": true
   },
   "outputs": [
    {
     "name": "stdout",
     "output_type": "stream",
     "text": [
      "2023/10/23 14:48:04 [DEBUG] execute_template_sql: rendered SQL:\n",
      "INSERT OR REPLACE INTO import_flight_records (flights_json) VALUES ( ? );\n"
     ]
    }
   ],
   "source": [
    "# app args\n",
    "data_dir = Path(\"../data\")\n",
    "template_dir = Path(\"../templates\")\n",
    "params = dict(\n",
    "    tbl_name=TBL_NAME,\n",
    "    json_col=JSON_COL,\n",
    ")\n",
    "# instantiate db conn and jinja env\n",
    "env = jinja2.Environment(loader=jinja2.FileSystemLoader(template_dir))\n",
    "# search for existing db\n",
    "# db_path = data_dir / f\"{DB_NAME}.db\"\n",
    "db_path = data_dir / \"sample.db\"\n",
    "# check before connecting, which implicitly create\n",
    "db_exists = db_path.exists()\n",
    "db_conn = sqlite3.connect(db_path)\n",
    "if not db_exists:\n",
    "    logger.info(f\"{db_path} does not exist, initializing...\")\n",
    "    execute_template_sql(db_conn, env, \"create.sql\", params)\n",
    "\n",
    "# UPSERT data\n",
    "# restructure as list of tuples\n",
    "flights = [(json.dumps(flight),) for flight in responses]\n",
    "# db_conn.executemany(f\"INSERT OR REPLACE INTO {TBL_NAME} ({JSON_COL}) VALUES( ? )\", flights)\n",
    "execute_template_sql(db_conn, env, \"insert.sql\", params, flights)"
   ]
  },
  {
   "cell_type": "markdown",
   "id": "a9ba9207-72d9-4628-afec-b03dee219809",
   "metadata": {},
   "source": [
    "Testing if the transaction was successful"
   ]
  },
  {
   "cell_type": "code",
   "execution_count": 20,
   "id": "8f138de8-d13c-454c-b0e1-1fc094194e17",
   "metadata": {
    "scrolled": true
   },
   "outputs": [
    {
     "name": "stdout",
     "output_type": "stream",
     "text": [
      "(246, 20.109756097560975)\n"
     ]
    }
   ],
   "source": [
    "str_date = \"2023-10-22\"\n",
    "with db_conn:\n",
    "    res = db_conn.execute(\n",
    "        f\"\"\"\n",
    "        select count(*) num_flight, avg(arr_delay) avg_delay \n",
    "        from import_flight_records \n",
    "        where date(datetime(arr_time)) = '{str_date}'\n",
    "        \"\"\"\n",
    "    )\n",
    "\n",
    "# cannot subscript the returned cursor\n",
    "print(next(res))"
   ]
  },
  {
   "cell_type": "markdown",
   "id": "a285f638-6409-40f2-8e98-3304e4e9e401",
   "metadata": {},
   "source": [
    "## Tweeting it out"
   ]
  },
  {
   "cell_type": "code",
   "execution_count": 21,
   "id": "2e7d3c26-5320-4ec7-b3c8-04743d6221ba",
   "metadata": {},
   "outputs": [],
   "source": [
    "def dict_factory(cursor, row):\n",
    "    \"\"\"\n",
    "    cursor: sqlite3 cursor object\n",
    "    row: tuple from query result\n",
    "    returns the tuple row as dict\n",
    "    \"\"\"\n",
    "    # .description attr returns a 7-tuple; only 1st is the col name\n",
    "    fields = [descr[0] for descr in cursor.description]\n",
    "    return {field: val for field, val in zip(fields, row)}\n",
    "\n",
    "\n",
    "db_conn.row_factory = dict_factory"
   ]
  },
  {
   "cell_type": "code",
   "execution_count": 33,
   "id": "d1a9ed9f-fadb-4e01-946e-dbed956e2823",
   "metadata": {
    "scrolled": true
   },
   "outputs": [
    {
     "name": "stdout",
     "output_type": "stream",
     "text": [
      "2023/10/23 15:57:13 [DEBUG] <module>: Querying database...\n",
      "2023/10/23 15:57:13 [DEBUG] execute_template_sql: rendered SQL:\n",
      "WITH RECURSIVE \n",
      "    t(flight_date, total) AS (\n",
      "        SELECT \n",
      "            DATE(DATETIME(arr_time)) flight_date,\n",
      "            COUNT(*) total \n",
      "        FROM import_flight_records\n",
      "        WHERE flight_date = '2023-10-22')\n",
      "SELECT \n",
      "    t.total total,\n",
      "    COUNT(arr_delay) num_delayed,\n",
      "    AVG(CAST(arr_delay AS INTEGER)) avg_delay\n",
      "FROM import_flight_records d LEFT JOIN t\n",
      "WHERE DATE(d.arr_time) = t.flight_date\n",
      "AND arr_delay > 0;\n",
      "2023/10/23 15:57:13 [DEBUG] execute_template_sql: rendered SQL:\n",
      "WITH RECURSIVE \n",
      "delays(flight_num, start, dest, delay) as (\n",
      "    SELECT\n",
      "        flight_iata_number as flight_num,\n",
      "        json_extract(flights_json,'$.departure.airport') as start,\n",
      "        json_extract(flights_json,'$.arrival.airport') as dest,\n",
      "        CAST(arr_delay AS INTEGER) as delay\n",
      "    FROM import_flight_records\n",
      "    WHERE json_extract(flights_json,'$.flight_date') = '2023-10-22'\n",
      ")\n",
      "SELECT\n",
      "    flight_num,\n",
      "    REPLACE(\n",
      "    REPLACE(\n",
      "    REPLACE(start, ' International Airport', ''), \n",
      "    ' International', ''),\n",
      "    ' Airport', '') AS start,\n",
      "    REPLACE(\n",
      "    REPLACE(\n",
      "    REPLACE(dest, ' International Airport', ''), \n",
      "    ' International', ''),\n",
      "    ' Airport', '') AS dest,\n",
      "    delay\n",
      "FROM delays\n",
      "ORDER BY delay DESC\n",
      "LIMIT 3;\n"
     ]
    }
   ],
   "source": [
    "logger.debug(\"Querying database...\")\n",
    "params = dict(tbl_name=TBL_NAME, json_col=JSON_COL, str_date=str_date)\n",
    "agg = execute_template_sql(db_conn, env, \"agg.sql\", params)\n",
    "delays = execute_template_sql(db_conn, env, \"delayed_json.sql\", params)"
   ]
  },
  {
   "cell_type": "code",
   "execution_count": 35,
   "id": "cceb1e3c-7c14-4acf-97b7-00e3cd1111f0",
   "metadata": {},
   "outputs": [
    {
     "name": "stdout",
     "output_type": "stream",
     "text": [
      "dict_values([246, 246, 20.109756097560975])\n"
     ]
    }
   ],
   "source": [
    "print(next(agg).values())"
   ]
  },
  {
   "cell_type": "code",
   "execution_count": 34,
   "id": "5e786258-8365-4b93-bcd9-45e6fbd459aa",
   "metadata": {},
   "outputs": [
    {
     "name": "stdout",
     "output_type": "stream",
     "text": [
      "{'flight_num': 'MH129', 'start': 'Kuala Lumpur (klia)', 'dest': 'Melbourne - Tullamarine', 'delay': 260}\n",
      "{'flight_num': 'MH9730', 'start': 'Dallas/Fort Worth', 'dest': 'Doha', 'delay': 138}\n",
      "{'flight_num': 'MH4316', 'start': 'Düsseldorf', 'dest': 'Istanbul', 'delay': 105}\n"
     ]
    }
   ],
   "source": [
    "for d in delays:\n",
    "    print(d)"
   ]
  },
  {
   "cell_type": "code",
   "execution_count": 36,
   "id": "0a5024e0-bb1c-43e3-a00c-c9e2013b3f44",
   "metadata": {},
   "outputs": [],
   "source": [
    "%load_ext sql"
   ]
  },
  {
   "cell_type": "code",
   "execution_count": 37,
   "id": "9e95ed7a-128e-4805-ac28-be1ba2ec84ec",
   "metadata": {},
   "outputs": [],
   "source": [
    "%sql sqlite:///../data/sample.db"
   ]
  },
  {
   "cell_type": "code",
   "execution_count": 39,
   "id": "fa646e4d-ca5d-4ae9-b055-b8d280a8425c",
   "metadata": {},
   "outputs": [
    {
     "name": "stdout",
     "output_type": "stream",
     "text": [
      " * sqlite:///../data/sample.db\n",
      "Done.\n"
     ]
    },
    {
     "data": {
      "text/html": [
       "<table>\n",
       "    <thead>\n",
       "        <tr>\n",
       "            <th>num_flights</th>\n",
       "            <th>avgdelay</th>\n",
       "        </tr>\n",
       "    </thead>\n",
       "    <tbody>\n",
       "        <tr>\n",
       "            <td>246</td>\n",
       "            <td>20.109756097560975</td>\n",
       "        </tr>\n",
       "    </tbody>\n",
       "</table>"
      ],
      "text/plain": [
       "[(246, 20.109756097560975)]"
      ]
     },
     "execution_count": 39,
     "metadata": {},
     "output_type": "execute_result"
    }
   ],
   "source": [
    "%%sql\n",
    "select\n",
    "    count(*) num_flights,\n",
    "    avg(cast(arr_delay as integer)) as avgdelay\n",
    "from import_flight_records\n",
    "where date(arr_time) = '2023-10-22'\n",
    "and arr_delay is not null\n"
   ]
  },
  {
   "cell_type": "code",
   "execution_count": 78,
   "id": "55306b66-d448-473b-a281-a4fe8628715d",
   "metadata": {},
   "outputs": [],
   "source": [
    "def write_flight_tweet(\n",
    "    db_conn: sqlite3.Connection,\n",
    "    env: jinja2.Environment,\n",
    "    str_date: str,\n",
    "    tbl_name: str = TBL_NAME,\n",
    "    num_delay: int = 3,\n",
    "    template_dir: Path = Path(\"templates\"),\n",
    ") -> str:\n",
    "    \"\"\"\n",
    "    Queries the flight records database to write the tweet\n",
    "    Prepared queries makes some assumption about the table schema\n",
    "    - follows aviationstack flights endpoint\n",
    "    - flattened, with the same sep character\n",
    "\n",
    "    Returns a string populated with the query result\n",
    "    \"\"\"\n",
    "    # defining column names inside db for populating the tweet\n",
    "    flight_num = f\"flight{sep}iata\"\n",
    "    a_port = f\"arrival{sep}airport\"\n",
    "    a_delay = f\"arrival{sep}delay\"\n",
    "    a_sched = f\"arrival{sep}scheduled\"\n",
    "    d_port = f\"departure{sep}airport\"\n",
    "\n",
    "    # params to render the query template\n",
    "    params = dict(\n",
    "        flight_num=flight_num,\n",
    "        a_port=a_port,\n",
    "        a_delay=a_delay,\n",
    "        a_sched=a_sched,\n",
    "        d_port=d_port,\n",
    "        num_delay=3,\n",
    "        str_date=str_date,\n",
    "        tbl_name=tbl_name,\n",
    "    )\n",
    "    # agg_sql = env.get_template(\"agg.sql\").render(params)\n",
    "    # logger.debug(f\"rendered agg_sql:\\n{agg_sql}\")\n",
    "    # delayed_sql = env.get_template(\"delayed.sql\").render(params)\n",
    "    # logger.debug(f\"rendered delayed_sql:\\n{delayed_sql}\")\n",
    "    logger.debug(\"Querying database...\")\n",
    "    agg_res = execute_template_sql(db_conn, env, \"agg.sql\", params)\n",
    "    num_delay, avg_delay = agg_res[0].values()\n",
    "    delays = execute_template(db_conn, env, \"delayed.sql\", params)\n",
    "    logger.info(\"DB query executed\")\n",
    "    logger.debug(\"Query result:\\n\", delays)\n",
    "    delays_in_sentences = \"\\n\" + \"\\n\".join(\n",
    "        [\n",
    "            f\"{i+1} {d[flight_num]}: {d[d_port]} to {d[a_port]}, {int(d[a_delay])} min\"\n",
    "            for i, d in enumerate(delays)\n",
    "        ]\n",
    "    )\n",
    "    pt1 = f\"{num_delay} MH flights were late on {str_date}\"\n",
    "    pt2 = f\"by an average of {avg_delay:.0f} min.\"\n",
    "    tweet = \" \".join([pt1, pt2, delays_in_sentences])\n",
    "    if (tweet_chars := len(tweet)) > 280:\n",
    "        logging.warning(f\"Truncating tweet from {tweet_chars} to 280 chars\")\n",
    "        tweet = tweet[:280]\n",
    "    logger.debug(f\"tweet length: {len(tweet)}\")\n",
    "    return tweet"
   ]
  },
  {
   "cell_type": "markdown",
   "id": "d88c74e3-58f4-4256-b066-9316683e4ae7",
   "metadata": {},
   "source": [
    "## 3. Tweet"
   ]
  },
  {
   "cell_type": "code",
   "execution_count": 28,
   "id": "04d6b2ec-d411-4162-9d27-7087999bfec8",
   "metadata": {},
   "outputs": [
    {
     "name": "stdout",
     "output_type": "stream",
     "text": [
      "2023/10/23 15:47:22 [DEBUG] <module>: tweet length: 233\n"
     ]
    }
   ],
   "source": [
    "total, num_delay, avg_delay = next(agg).values()\n",
    "pt1 = f\"{num_delay}/{total} MH flights were late on {str_date}\"\n",
    "pt2 = f\"by an average of {avg_delay:.0f} min.\"\n",
    "delays_in_sentences = \"\\n\" + \"\\n\".join(\n",
    "    [\n",
    "        f\"{i+1} {d['flight_num']}: {d['start']} to {d['dest']}, {d['delay']} min\"\n",
    "        for i, d in enumerate(delays)\n",
    "    ]\n",
    ")\n",
    "tweet = \" \".join([pt1, pt2, delays_in_sentences])\n",
    "if (tweet_chars := len(tweet)) > 280:\n",
    "    logging.warning(f\"Truncating tweet from {tweet_chars} to 280 chars\")\n",
    "    tweet = tweet[:280]\n",
    "logger.debug(f\"tweet length: {len(tweet)}\")\n",
    "# payload = write_flight_tweet(db_conn, str_date=str_date, template_dir=template_dir)"
   ]
  },
  {
   "cell_type": "code",
   "execution_count": 29,
   "id": "9e23e1ca-72c4-437e-bdda-4a2d64be629d",
   "metadata": {},
   "outputs": [
    {
     "name": "stdout",
     "output_type": "stream",
     "text": [
      "2023/10/23 15:47:32 [INFO] <module>: offline tweet:\n",
      "246/246 MH flights were late on 2023-10-22 by an average of 20 min. \n",
      "1 MH129: Kuala Lumpur (klia) to Melbourne - Tullamarine, 260 min\n",
      "2 MH9789: Doha to Washington Dulles, 258 min\n",
      "3 MH9014: Bandaranaike to Kuala Lumpur (klia), 232 min\n"
     ]
    }
   ],
   "source": [
    "# tweet\n",
    "oauth1_client = tweepy.Client(\n",
    "    consumer_key=TWITTER_API_KEY,\n",
    "    consumer_secret=TWITTER_API_SECRET,\n",
    "    access_token=TWITTER_ACCESS_TOKEN,\n",
    "    access_token_secret=TWITTER_ACCESS_SECRET,\n",
    ")\n",
    "local_tweet = True\n",
    "if local_tweet:\n",
    "    logger.info(f\"offline tweet:\\n{tweet}\")\n",
    "else:\n",
    "    try:\n",
    "        t_response = oauth1_client.create_tweet(text=tweet, user_auth=True)\n",
    "        logger.info(f\"link: https://twitter.com/user/status/{t_response.data['id']}\")\n",
    "        logger.info(f\"text: {t_response.data['text']}\")\n",
    "    except Exception as e:\n",
    "        logger.error(f\"Tweet failed: {e}\")"
   ]
  },
  {
   "cell_type": "code",
   "execution_count": null,
   "id": "5fa1fef1-c054-473b-8e23-1ee1c17ef6a4",
   "metadata": {},
   "outputs": [],
   "source": []
  }
 ],
 "metadata": {
  "kernelspec": {
   "display_name": "Python 3 (ipykernel)",
   "language": "python",
   "name": "python3"
  },
  "language_info": {
   "codemirror_mode": {
    "name": "ipython",
    "version": 3
   },
   "file_extension": ".py",
   "mimetype": "text/x-python",
   "name": "python",
   "nbconvert_exporter": "python",
   "pygments_lexer": "ipython3",
   "version": "3.11.4"
  }
 },
 "nbformat": 4,
 "nbformat_minor": 5
}
